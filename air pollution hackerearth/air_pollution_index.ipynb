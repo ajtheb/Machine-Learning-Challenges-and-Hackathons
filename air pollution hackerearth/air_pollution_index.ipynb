{
  "nbformat": 4,
  "nbformat_minor": 0,
  "metadata": {
    "colab": {
      "name": "air_pollution_index.ipynb",
      "provenance": [],
      "collapsed_sections": [],
      "toc_visible": true
    },
    "kernelspec": {
      "name": "python3",
      "display_name": "Python 3"
    }
  },
  "cells": [
    {
      "cell_type": "code",
      "metadata": {
        "id": "9dCX7NaM7E1G",
        "colab_type": "code",
        "colab": {}
      },
      "source": [
        "# Importing Libraries(Technologies)\n",
        "from math import sqrt\n",
        "from pandas_datareader import data \n",
        "import matplotlib.pyplot as plt\n",
        "import scipy\n",
        "import pandas as pd\n",
        "import datetime as dt\n",
        "import urllib.request,json\n",
        "import os\n",
        "import numpy as np\n",
        "import tensorflow as tf\n",
        "from sklearn.preprocessing import MinMaxScaler\n",
        "from sklearn.metrics import mean_squared_error\n",
        "#import sweetviz as sv\n",
        "from keras.models import Sequential\n",
        "from keras.layers import Dense,LSTM"
      ],
      "execution_count": null,
      "outputs": []
    },
    {
      "cell_type": "code",
      "metadata": {
        "id": "qIWdWS2v65l1",
        "colab_type": "code",
        "colab": {
          "base_uri": "https://localhost:8080/",
          "height": 558
        },
        "outputId": "210ebd83-41f7-448d-a2e8-fb0344069fda"
      },
      "source": [
        "!pip install sweetviz"
      ],
      "execution_count": null,
      "outputs": [
        {
          "output_type": "stream",
          "text": [
            "Collecting sweetviz\n",
            "\u001b[?25l  Downloading https://files.pythonhosted.org/packages/8f/bd/f4454adfe1d3bbd04892d6172348ca215fa62d59fb09c1ac6b8a233341d3/sweetviz-1.0a7-py3-none-any.whl (323kB)\n",
            "\r\u001b[K     |█                               | 10kB 18.6MB/s eta 0:00:01\r\u001b[K     |██                              | 20kB 1.9MB/s eta 0:00:01\r\u001b[K     |███                             | 30kB 2.2MB/s eta 0:00:01\r\u001b[K     |████                            | 40kB 2.6MB/s eta 0:00:01\r\u001b[K     |█████                           | 51kB 2.5MB/s eta 0:00:01\r\u001b[K     |██████                          | 61kB 2.8MB/s eta 0:00:01\r\u001b[K     |███████                         | 71kB 3.0MB/s eta 0:00:01\r\u001b[K     |████████                        | 81kB 3.1MB/s eta 0:00:01\r\u001b[K     |█████████▏                      | 92kB 3.1MB/s eta 0:00:01\r\u001b[K     |██████████▏                     | 102kB 3.2MB/s eta 0:00:01\r\u001b[K     |███████████▏                    | 112kB 3.2MB/s eta 0:00:01\r\u001b[K     |████████████▏                   | 122kB 3.2MB/s eta 0:00:01\r\u001b[K     |█████████████▏                  | 133kB 3.2MB/s eta 0:00:01\r\u001b[K     |██████████████▏                 | 143kB 3.2MB/s eta 0:00:01\r\u001b[K     |███████████████▏                | 153kB 3.2MB/s eta 0:00:01\r\u001b[K     |████████████████▏               | 163kB 3.2MB/s eta 0:00:01\r\u001b[K     |█████████████████▎              | 174kB 3.2MB/s eta 0:00:01\r\u001b[K     |██████████████████▎             | 184kB 3.2MB/s eta 0:00:01\r\u001b[K     |███████████████████▎            | 194kB 3.2MB/s eta 0:00:01\r\u001b[K     |████████████████████▎           | 204kB 3.2MB/s eta 0:00:01\r\u001b[K     |█████████████████████▎          | 215kB 3.2MB/s eta 0:00:01\r\u001b[K     |██████████████████████▎         | 225kB 3.2MB/s eta 0:00:01\r\u001b[K     |███████████████████████▎        | 235kB 3.2MB/s eta 0:00:01\r\u001b[K     |████████████████████████▎       | 245kB 3.2MB/s eta 0:00:01\r\u001b[K     |█████████████████████████▍      | 256kB 3.2MB/s eta 0:00:01\r\u001b[K     |██████████████████████████▍     | 266kB 3.2MB/s eta 0:00:01\r\u001b[K     |███████████████████████████▍    | 276kB 3.2MB/s eta 0:00:01\r\u001b[K     |████████████████████████████▍   | 286kB 3.2MB/s eta 0:00:01\r\u001b[K     |█████████████████████████████▍  | 296kB 3.2MB/s eta 0:00:01\r\u001b[K     |██████████████████████████████▍ | 307kB 3.2MB/s eta 0:00:01\r\u001b[K     |███████████████████████████████▍| 317kB 3.2MB/s eta 0:00:01\r\u001b[K     |████████████████████████████████| 327kB 3.2MB/s \n",
            "\u001b[?25hCollecting importlib-resources>=1.2.0\n",
            "  Downloading https://files.pythonhosted.org/packages/ba/03/0f9595c0c2ef12590877f3c47e5f579759ce5caf817f8256d5dcbd8a1177/importlib_resources-3.0.0-py2.py3-none-any.whl\n",
            "Requirement already satisfied: numpy>=1.16.0 in /usr/local/lib/python3.6/dist-packages (from sweetviz) (1.18.5)\n",
            "Collecting tqdm>=4.43.0\n",
            "\u001b[?25l  Downloading https://files.pythonhosted.org/packages/46/62/7663894f67ac5a41a0d8812d78d9d2a9404124051885af9d77dc526fb399/tqdm-4.47.0-py2.py3-none-any.whl (66kB)\n",
            "\r\u001b[K     |█████                           | 10kB 21.8MB/s eta 0:00:01\r\u001b[K     |█████████▉                      | 20kB 9.1MB/s eta 0:00:01\r\u001b[K     |██████████████▊                 | 30kB 12.6MB/s eta 0:00:01\r\u001b[K     |███████████████████▋            | 40kB 9.5MB/s eta 0:00:01\r\u001b[K     |████████████████████████▌       | 51kB 5.5MB/s eta 0:00:01\r\u001b[K     |█████████████████████████████▍  | 61kB 6.5MB/s eta 0:00:01\r\u001b[K     |████████████████████████████████| 71kB 3.9MB/s \n",
            "\u001b[?25hRequirement already satisfied: pandas!=1.0.0,!=1.0.1,!=1.0.2,>=0.25.3 in /usr/local/lib/python3.6/dist-packages (from sweetviz) (1.0.5)\n",
            "Requirement already satisfied: scipy>=1.3.2 in /usr/local/lib/python3.6/dist-packages (from sweetviz) (1.4.1)\n",
            "Requirement already satisfied: jinja2>=2.11.1 in /usr/local/lib/python3.6/dist-packages (from sweetviz) (2.11.2)\n",
            "Requirement already satisfied: matplotlib>=3.1.3 in /usr/local/lib/python3.6/dist-packages (from sweetviz) (3.2.2)\n",
            "Requirement already satisfied: zipp>=0.4; python_version < \"3.8\" in /usr/local/lib/python3.6/dist-packages (from importlib-resources>=1.2.0->sweetviz) (3.1.0)\n",
            "Requirement already satisfied: python-dateutil>=2.6.1 in /usr/local/lib/python3.6/dist-packages (from pandas!=1.0.0,!=1.0.1,!=1.0.2,>=0.25.3->sweetviz) (2.8.1)\n",
            "Requirement already satisfied: pytz>=2017.2 in /usr/local/lib/python3.6/dist-packages (from pandas!=1.0.0,!=1.0.1,!=1.0.2,>=0.25.3->sweetviz) (2018.9)\n",
            "Requirement already satisfied: MarkupSafe>=0.23 in /usr/local/lib/python3.6/dist-packages (from jinja2>=2.11.1->sweetviz) (1.1.1)\n",
            "Requirement already satisfied: kiwisolver>=1.0.1 in /usr/local/lib/python3.6/dist-packages (from matplotlib>=3.1.3->sweetviz) (1.2.0)\n",
            "Requirement already satisfied: cycler>=0.10 in /usr/local/lib/python3.6/dist-packages (from matplotlib>=3.1.3->sweetviz) (0.10.0)\n",
            "Requirement already satisfied: pyparsing!=2.0.4,!=2.1.2,!=2.1.6,>=2.0.1 in /usr/local/lib/python3.6/dist-packages (from matplotlib>=3.1.3->sweetviz) (2.4.7)\n",
            "Requirement already satisfied: six>=1.5 in /usr/local/lib/python3.6/dist-packages (from python-dateutil>=2.6.1->pandas!=1.0.0,!=1.0.1,!=1.0.2,>=0.25.3->sweetviz) (1.12.0)\n",
            "Installing collected packages: importlib-resources, tqdm, sweetviz\n",
            "  Found existing installation: tqdm 4.41.1\n",
            "    Uninstalling tqdm-4.41.1:\n",
            "      Successfully uninstalled tqdm-4.41.1\n",
            "Successfully installed importlib-resources-3.0.0 sweetviz-1.0a7 tqdm-4.47.0\n"
          ],
          "name": "stdout"
        },
        {
          "output_type": "display_data",
          "data": {
            "application/vnd.colab-display-data+json": {
              "pip_warning": {
                "packages": [
                  "tqdm"
                ]
              }
            }
          },
          "metadata": {
            "tags": []
          }
        }
      ]
    },
    {
      "cell_type": "markdown",
      "metadata": {
        "id": "-TsimCYAtpKl",
        "colab_type": "text"
      },
      "source": [
        "# Loading Dataset"
      ]
    },
    {
      "cell_type": "code",
      "metadata": {
        "id": "Q-KTtg1l7NQ3",
        "colab_type": "code",
        "colab": {}
      },
      "source": [
        "df=pd.read_csv('https://github.com/ajtheb/air-pollution-index/blob/master/train.csv?raw=true')"
      ],
      "execution_count": null,
      "outputs": []
    },
    {
      "cell_type": "code",
      "metadata": {
        "id": "79z3l0nOTWRY",
        "colab_type": "code",
        "colab": {}
      },
      "source": [
        "dftest=pd.read_csv('https://github.com/ajtheb/air-pollution-index/blob/master/test.csv?raw=true')"
      ],
      "execution_count": null,
      "outputs": []
    },
    {
      "cell_type": "code",
      "metadata": {
        "id": "XOKF_8XyAsql",
        "colab_type": "code",
        "colab": {}
      },
      "source": [
        "out1=dftest['date_time']"
      ],
      "execution_count": null,
      "outputs": []
    },
    {
      "cell_type": "code",
      "metadata": {
        "id": "JApogC3NP3s5",
        "colab_type": "code",
        "colab": {
          "base_uri": "https://localhost:8080/",
          "height": 383
        },
        "outputId": "5bcac179-7975-4ae0-f750-59464e6ea18f"
      },
      "source": [
        "df.head()"
      ],
      "execution_count": null,
      "outputs": [
        {
          "output_type": "execute_result",
          "data": {
            "text/html": [
              "<div>\n",
              "<style scoped>\n",
              "    .dataframe tbody tr th:only-of-type {\n",
              "        vertical-align: middle;\n",
              "    }\n",
              "\n",
              "    .dataframe tbody tr th {\n",
              "        vertical-align: top;\n",
              "    }\n",
              "\n",
              "    .dataframe thead th {\n",
              "        text-align: right;\n",
              "    }\n",
              "</style>\n",
              "<table border=\"1\" class=\"dataframe\">\n",
              "  <thead>\n",
              "    <tr style=\"text-align: right;\">\n",
              "      <th></th>\n",
              "      <th>date_time</th>\n",
              "      <th>is_holiday</th>\n",
              "      <th>humidity</th>\n",
              "      <th>wind_speed</th>\n",
              "      <th>wind_direction</th>\n",
              "      <th>visibility_in_miles</th>\n",
              "      <th>dew_point</th>\n",
              "      <th>temperature</th>\n",
              "      <th>rain_p_h</th>\n",
              "      <th>snow_p_h</th>\n",
              "      <th>clouds_all</th>\n",
              "      <th>weather_type</th>\n",
              "      <th>air_pollution_index</th>\n",
              "      <th>traffic_volume</th>\n",
              "    </tr>\n",
              "  </thead>\n",
              "  <tbody>\n",
              "    <tr>\n",
              "      <th>0</th>\n",
              "      <td>2012-10-02 09:00:00</td>\n",
              "      <td>None</td>\n",
              "      <td>89</td>\n",
              "      <td>2</td>\n",
              "      <td>329</td>\n",
              "      <td>1</td>\n",
              "      <td>1</td>\n",
              "      <td>288.28</td>\n",
              "      <td>0.0</td>\n",
              "      <td>0.0</td>\n",
              "      <td>40</td>\n",
              "      <td>Clouds</td>\n",
              "      <td>121</td>\n",
              "      <td>5545</td>\n",
              "    </tr>\n",
              "    <tr>\n",
              "      <th>1</th>\n",
              "      <td>2012-10-02 10:00:00</td>\n",
              "      <td>None</td>\n",
              "      <td>67</td>\n",
              "      <td>3</td>\n",
              "      <td>330</td>\n",
              "      <td>1</td>\n",
              "      <td>1</td>\n",
              "      <td>289.36</td>\n",
              "      <td>0.0</td>\n",
              "      <td>0.0</td>\n",
              "      <td>75</td>\n",
              "      <td>Clouds</td>\n",
              "      <td>178</td>\n",
              "      <td>4516</td>\n",
              "    </tr>\n",
              "    <tr>\n",
              "      <th>2</th>\n",
              "      <td>2012-10-02 11:00:00</td>\n",
              "      <td>None</td>\n",
              "      <td>66</td>\n",
              "      <td>3</td>\n",
              "      <td>329</td>\n",
              "      <td>2</td>\n",
              "      <td>2</td>\n",
              "      <td>289.58</td>\n",
              "      <td>0.0</td>\n",
              "      <td>0.0</td>\n",
              "      <td>90</td>\n",
              "      <td>Clouds</td>\n",
              "      <td>113</td>\n",
              "      <td>4767</td>\n",
              "    </tr>\n",
              "    <tr>\n",
              "      <th>3</th>\n",
              "      <td>2012-10-02 12:00:00</td>\n",
              "      <td>None</td>\n",
              "      <td>66</td>\n",
              "      <td>3</td>\n",
              "      <td>329</td>\n",
              "      <td>5</td>\n",
              "      <td>5</td>\n",
              "      <td>290.13</td>\n",
              "      <td>0.0</td>\n",
              "      <td>0.0</td>\n",
              "      <td>90</td>\n",
              "      <td>Clouds</td>\n",
              "      <td>20</td>\n",
              "      <td>5026</td>\n",
              "    </tr>\n",
              "    <tr>\n",
              "      <th>4</th>\n",
              "      <td>2012-10-02 13:00:00</td>\n",
              "      <td>None</td>\n",
              "      <td>65</td>\n",
              "      <td>3</td>\n",
              "      <td>329</td>\n",
              "      <td>7</td>\n",
              "      <td>7</td>\n",
              "      <td>291.14</td>\n",
              "      <td>0.0</td>\n",
              "      <td>0.0</td>\n",
              "      <td>75</td>\n",
              "      <td>Clouds</td>\n",
              "      <td>281</td>\n",
              "      <td>4918</td>\n",
              "    </tr>\n",
              "  </tbody>\n",
              "</table>\n",
              "</div>"
            ],
            "text/plain": [
              "             date_time is_holiday  ...  air_pollution_index  traffic_volume\n",
              "0  2012-10-02 09:00:00       None  ...                  121            5545\n",
              "1  2012-10-02 10:00:00       None  ...                  178            4516\n",
              "2  2012-10-02 11:00:00       None  ...                  113            4767\n",
              "3  2012-10-02 12:00:00       None  ...                   20            5026\n",
              "4  2012-10-02 13:00:00       None  ...                  281            4918\n",
              "\n",
              "[5 rows x 14 columns]"
            ]
          },
          "metadata": {
            "tags": []
          },
          "execution_count": 4
        }
      ]
    },
    {
      "cell_type": "code",
      "metadata": {
        "id": "C7_1jO10TX0e",
        "colab_type": "code",
        "colab": {}
      },
      "source": [
        "df.sort_values(\"date_time\", inplace = True) "
      ],
      "execution_count": null,
      "outputs": []
    },
    {
      "cell_type": "code",
      "metadata": {
        "id": "ZdsZ2vYTThAl",
        "colab_type": "code",
        "colab": {
          "base_uri": "https://localhost:8080/",
          "height": 218
        },
        "outputId": "d95fc62c-e687-4e1b-cc39-d3838e9cf229"
      },
      "source": [
        "bool_series = df[\"date_time\"].duplicated() \n",
        "  \n",
        "# displaying data \n",
        "bool_series\n",
        "  \n",
        "# display data \n",
        "#data[bool_series] "
      ],
      "execution_count": null,
      "outputs": [
        {
          "output_type": "execute_result",
          "data": {
            "text/plain": [
              "0        False\n",
              "1        False\n",
              "2        False\n",
              "3        False\n",
              "4        False\n",
              "         ...  \n",
              "33745     True\n",
              "33746    False\n",
              "33747     True\n",
              "33748    False\n",
              "33749     True\n",
              "Name: date_time, Length: 33750, dtype: bool"
            ]
          },
          "metadata": {
            "tags": []
          },
          "execution_count": 5
        }
      ]
    },
    {
      "cell_type": "code",
      "metadata": {
        "id": "DXx5ZyD0Tz_c",
        "colab_type": "code",
        "colab": {}
      },
      "source": [
        "df = df[~bool_series]"
      ],
      "execution_count": null,
      "outputs": []
    },
    {
      "cell_type": "code",
      "metadata": {
        "id": "yvfnSvyXT3q5",
        "colab_type": "code",
        "colab": {
          "base_uri": "https://localhost:8080/",
          "height": 383
        },
        "outputId": "4f26598f-335b-4375-8cb3-93d61544cc71"
      },
      "source": [
        "df.head()"
      ],
      "execution_count": null,
      "outputs": [
        {
          "output_type": "execute_result",
          "data": {
            "text/html": [
              "<div>\n",
              "<style scoped>\n",
              "    .dataframe tbody tr th:only-of-type {\n",
              "        vertical-align: middle;\n",
              "    }\n",
              "\n",
              "    .dataframe tbody tr th {\n",
              "        vertical-align: top;\n",
              "    }\n",
              "\n",
              "    .dataframe thead th {\n",
              "        text-align: right;\n",
              "    }\n",
              "</style>\n",
              "<table border=\"1\" class=\"dataframe\">\n",
              "  <thead>\n",
              "    <tr style=\"text-align: right;\">\n",
              "      <th></th>\n",
              "      <th>date_time</th>\n",
              "      <th>is_holiday</th>\n",
              "      <th>humidity</th>\n",
              "      <th>wind_speed</th>\n",
              "      <th>wind_direction</th>\n",
              "      <th>visibility_in_miles</th>\n",
              "      <th>dew_point</th>\n",
              "      <th>temperature</th>\n",
              "      <th>rain_p_h</th>\n",
              "      <th>snow_p_h</th>\n",
              "      <th>clouds_all</th>\n",
              "      <th>weather_type</th>\n",
              "      <th>air_pollution_index</th>\n",
              "      <th>traffic_volume</th>\n",
              "    </tr>\n",
              "  </thead>\n",
              "  <tbody>\n",
              "    <tr>\n",
              "      <th>0</th>\n",
              "      <td>2012-10-02 09:00:00</td>\n",
              "      <td>None</td>\n",
              "      <td>89</td>\n",
              "      <td>2</td>\n",
              "      <td>329</td>\n",
              "      <td>1</td>\n",
              "      <td>1</td>\n",
              "      <td>288.28</td>\n",
              "      <td>0.0</td>\n",
              "      <td>0.0</td>\n",
              "      <td>40</td>\n",
              "      <td>Clouds</td>\n",
              "      <td>121</td>\n",
              "      <td>5545</td>\n",
              "    </tr>\n",
              "    <tr>\n",
              "      <th>1</th>\n",
              "      <td>2012-10-02 10:00:00</td>\n",
              "      <td>None</td>\n",
              "      <td>67</td>\n",
              "      <td>3</td>\n",
              "      <td>330</td>\n",
              "      <td>1</td>\n",
              "      <td>1</td>\n",
              "      <td>289.36</td>\n",
              "      <td>0.0</td>\n",
              "      <td>0.0</td>\n",
              "      <td>75</td>\n",
              "      <td>Clouds</td>\n",
              "      <td>178</td>\n",
              "      <td>4516</td>\n",
              "    </tr>\n",
              "    <tr>\n",
              "      <th>2</th>\n",
              "      <td>2012-10-02 11:00:00</td>\n",
              "      <td>None</td>\n",
              "      <td>66</td>\n",
              "      <td>3</td>\n",
              "      <td>329</td>\n",
              "      <td>2</td>\n",
              "      <td>2</td>\n",
              "      <td>289.58</td>\n",
              "      <td>0.0</td>\n",
              "      <td>0.0</td>\n",
              "      <td>90</td>\n",
              "      <td>Clouds</td>\n",
              "      <td>113</td>\n",
              "      <td>4767</td>\n",
              "    </tr>\n",
              "    <tr>\n",
              "      <th>3</th>\n",
              "      <td>2012-10-02 12:00:00</td>\n",
              "      <td>None</td>\n",
              "      <td>66</td>\n",
              "      <td>3</td>\n",
              "      <td>329</td>\n",
              "      <td>5</td>\n",
              "      <td>5</td>\n",
              "      <td>290.13</td>\n",
              "      <td>0.0</td>\n",
              "      <td>0.0</td>\n",
              "      <td>90</td>\n",
              "      <td>Clouds</td>\n",
              "      <td>20</td>\n",
              "      <td>5026</td>\n",
              "    </tr>\n",
              "    <tr>\n",
              "      <th>4</th>\n",
              "      <td>2012-10-02 13:00:00</td>\n",
              "      <td>None</td>\n",
              "      <td>65</td>\n",
              "      <td>3</td>\n",
              "      <td>329</td>\n",
              "      <td>7</td>\n",
              "      <td>7</td>\n",
              "      <td>291.14</td>\n",
              "      <td>0.0</td>\n",
              "      <td>0.0</td>\n",
              "      <td>75</td>\n",
              "      <td>Clouds</td>\n",
              "      <td>281</td>\n",
              "      <td>4918</td>\n",
              "    </tr>\n",
              "  </tbody>\n",
              "</table>\n",
              "</div>"
            ],
            "text/plain": [
              "             date_time is_holiday  ...  air_pollution_index  traffic_volume\n",
              "0  2012-10-02 09:00:00       None  ...                  121            5545\n",
              "1  2012-10-02 10:00:00       None  ...                  178            4516\n",
              "2  2012-10-02 11:00:00       None  ...                  113            4767\n",
              "3  2012-10-02 12:00:00       None  ...                   20            5026\n",
              "4  2012-10-02 13:00:00       None  ...                  281            4918\n",
              "\n",
              "[5 rows x 14 columns]"
            ]
          },
          "metadata": {
            "tags": []
          },
          "execution_count": 5
        }
      ]
    },
    {
      "cell_type": "code",
      "metadata": {
        "id": "dgY0Vu-yI6Ry",
        "colab_type": "code",
        "colab": {
          "base_uri": "https://localhost:8080/",
          "height": 235
        },
        "outputId": "c7f6ae05-eca1-44e7-d83b-faad4cb0a202"
      },
      "source": [
        "df.groupby('date_time')['date_time'].count().sort_values(ascending=False)\n"
      ],
      "execution_count": null,
      "outputs": [
        {
          "output_type": "execute_result",
          "data": {
            "text/plain": [
              "date_time\n",
              "2017-05-17 23:00:00    1\n",
              "2014-01-07 02:00:00    1\n",
              "2014-01-06 14:00:00    1\n",
              "2014-01-06 15:00:00    1\n",
              "2014-01-06 16:00:00    1\n",
              "                      ..\n",
              "2016-04-08 05:00:00    1\n",
              "2016-04-08 06:00:00    1\n",
              "2016-04-08 07:00:00    1\n",
              "2016-04-08 08:00:00    1\n",
              "2012-10-02 09:00:00    1\n",
              "Name: date_time, Length: 28589, dtype: int64"
            ]
          },
          "metadata": {
            "tags": []
          },
          "execution_count": 56
        }
      ]
    },
    {
      "cell_type": "code",
      "metadata": {
        "id": "oUjBW20FSMZr",
        "colab_type": "code",
        "colab": {}
      },
      "source": [
        ""
      ],
      "execution_count": null,
      "outputs": []
    },
    {
      "cell_type": "code",
      "metadata": {
        "id": "K6Z7YhKxTjnm",
        "colab_type": "code",
        "colab": {
          "base_uri": "https://localhost:8080/",
          "height": 218
        },
        "outputId": "ee85e8ea-e5ef-428d-985d-0d754cf7e336"
      },
      "source": [
        "pearsoncorr = df.corr(method='pearson')\n",
        "pearsoncorr['air_pollution_index']"
      ],
      "execution_count": null,
      "outputs": [
        {
          "output_type": "execute_result",
          "data": {
            "text/plain": [
              "humidity              -0.000277\n",
              "wind_speed            -0.004166\n",
              "wind_direction         0.000749\n",
              "visibility_in_miles    0.003499\n",
              "dew_point              0.003499\n",
              "temperature            0.005368\n",
              "rain_p_h               0.000443\n",
              "snow_p_h               0.007227\n",
              "clouds_all            -0.008541\n",
              "air_pollution_index    1.000000\n",
              "traffic_volume        -0.003751\n",
              "Name: air_pollution_index, dtype: float64"
            ]
          },
          "metadata": {
            "tags": []
          },
          "execution_count": 7
        }
      ]
    },
    {
      "cell_type": "markdown",
      "metadata": {
        "id": "0h18fAdEN97A",
        "colab_type": "text"
      },
      "source": [
        "# Exploratory Data Analysis"
      ]
    },
    {
      "cell_type": "code",
      "metadata": {
        "id": "6tcosRsV7oVY",
        "colab_type": "code",
        "colab": {
          "base_uri": "https://localhost:8080/",
          "height": 67
        },
        "outputId": "db203999-ebbc-4914-d9c7-eb9017adacf5"
      },
      "source": [
        "my_report = sweetviz.analyze([df, \"Train\"],target_feat='air_pollution_index')\n",
        "my_report.show_html('Report.html')"
      ],
      "execution_count": null,
      "outputs": [
        {
          "output_type": "stream",
          "text": [
            ":FEATURES DONE:                    |█████████████████████| [100%]   00:09  -> (00:00 left)\n",
            ":PAIRWISE DONE:                    |█████████████████████| [100%]   00:01  -> (00:00 left)\n"
          ],
          "name": "stderr"
        },
        {
          "output_type": "stream",
          "text": [
            "Creating Associations graph... DONE!\n"
          ],
          "name": "stdout"
        }
      ]
    },
    {
      "cell_type": "code",
      "metadata": {
        "id": "uOVI4bKAY8Eb",
        "colab_type": "code",
        "colab": {
          "base_uri": "https://localhost:8080/",
          "height": 499
        },
        "outputId": "ef8b9ef7-40a5-4f84-e69a-6d7dc0233800"
      },
      "source": [
        "df.hist()"
      ],
      "execution_count": null,
      "outputs": [
        {
          "output_type": "execute_result",
          "data": {
            "text/plain": [
              "array([[<matplotlib.axes._subplots.AxesSubplot object at 0x7f0f9c396588>,\n",
              "        <matplotlib.axes._subplots.AxesSubplot object at 0x7f0f9ac61550>,\n",
              "        <matplotlib.axes._subplots.AxesSubplot object at 0x7f0f9ac137b8>],\n",
              "       [<matplotlib.axes._subplots.AxesSubplot object at 0x7f0f9abc1a20>,\n",
              "        <matplotlib.axes._subplots.AxesSubplot object at 0x7f0f9ab72c88>,\n",
              "        <matplotlib.axes._subplots.AxesSubplot object at 0x7f0f9aba5ef0>],\n",
              "       [<matplotlib.axes._subplots.AxesSubplot object at 0x7f0f9ab61198>,\n",
              "        <matplotlib.axes._subplots.AxesSubplot object at 0x7f0f9ab103c8>,\n",
              "        <matplotlib.axes._subplots.AxesSubplot object at 0x7f0f9ab10438>],\n",
              "       [<matplotlib.axes._subplots.AxesSubplot object at 0x7f0f9ac59ef0>,\n",
              "        <matplotlib.axes._subplots.AxesSubplot object at 0x7f0f9ab1b4a8>,\n",
              "        <matplotlib.axes._subplots.AxesSubplot object at 0x7f0f9c38d6d8>]],\n",
              "      dtype=object)"
            ]
          },
          "metadata": {
            "tags": []
          },
          "execution_count": 65
        },
        {
          "output_type": "display_data",
          "data": {
            "image/png": "[encoded data removed]",
            "text/plain": [
              "<Figure size 432x288 with 12 Axes>"
            ]
          },
          "metadata": {
            "tags": [],
            "needs_background": "light"
          }
        }
      ]
    },
    {
      "cell_type": "code",
      "metadata": {
        "id": "l3Yy8ZPB7m5s",
        "colab_type": "code",
        "colab": {
          "base_uri": "https://localhost:8080/",
          "height": 383
        },
        "outputId": "6863dce2-69af-4d2f-8ed9-133d4c689f1e"
      },
      "source": [
        "df.head()"
      ],
      "execution_count": null,
      "outputs": [
        {
          "output_type": "execute_result",
          "data": {
            "text/html": [
              "<div>\n",
              "<style scoped>\n",
              "    .dataframe tbody tr th:only-of-type {\n",
              "        vertical-align: middle;\n",
              "    }\n",
              "\n",
              "    .dataframe tbody tr th {\n",
              "        vertical-align: top;\n",
              "    }\n",
              "\n",
              "    .dataframe thead th {\n",
              "        text-align: right;\n",
              "    }\n",
              "</style>\n",
              "<table border=\"1\" class=\"dataframe\">\n",
              "  <thead>\n",
              "    <tr style=\"text-align: right;\">\n",
              "      <th></th>\n",
              "      <th>date_time</th>\n",
              "      <th>is_holiday</th>\n",
              "      <th>humidity</th>\n",
              "      <th>wind_speed</th>\n",
              "      <th>wind_direction</th>\n",
              "      <th>visibility_in_miles</th>\n",
              "      <th>dew_point</th>\n",
              "      <th>temperature</th>\n",
              "      <th>rain_p_h</th>\n",
              "      <th>snow_p_h</th>\n",
              "      <th>clouds_all</th>\n",
              "      <th>weather_type</th>\n",
              "      <th>air_pollution_index</th>\n",
              "      <th>traffic_volume</th>\n",
              "    </tr>\n",
              "  </thead>\n",
              "  <tbody>\n",
              "    <tr>\n",
              "      <th>0</th>\n",
              "      <td>2012-10-02 09:00:00</td>\n",
              "      <td>None</td>\n",
              "      <td>89</td>\n",
              "      <td>2</td>\n",
              "      <td>329</td>\n",
              "      <td>1</td>\n",
              "      <td>1</td>\n",
              "      <td>288.28</td>\n",
              "      <td>0.0</td>\n",
              "      <td>0.0</td>\n",
              "      <td>40</td>\n",
              "      <td>Clouds</td>\n",
              "      <td>121</td>\n",
              "      <td>5545</td>\n",
              "    </tr>\n",
              "    <tr>\n",
              "      <th>1</th>\n",
              "      <td>2012-10-02 10:00:00</td>\n",
              "      <td>None</td>\n",
              "      <td>67</td>\n",
              "      <td>3</td>\n",
              "      <td>330</td>\n",
              "      <td>1</td>\n",
              "      <td>1</td>\n",
              "      <td>289.36</td>\n",
              "      <td>0.0</td>\n",
              "      <td>0.0</td>\n",
              "      <td>75</td>\n",
              "      <td>Clouds</td>\n",
              "      <td>178</td>\n",
              "      <td>4516</td>\n",
              "    </tr>\n",
              "    <tr>\n",
              "      <th>2</th>\n",
              "      <td>2012-10-02 11:00:00</td>\n",
              "      <td>None</td>\n",
              "      <td>66</td>\n",
              "      <td>3</td>\n",
              "      <td>329</td>\n",
              "      <td>2</td>\n",
              "      <td>2</td>\n",
              "      <td>289.58</td>\n",
              "      <td>0.0</td>\n",
              "      <td>0.0</td>\n",
              "      <td>90</td>\n",
              "      <td>Clouds</td>\n",
              "      <td>113</td>\n",
              "      <td>4767</td>\n",
              "    </tr>\n",
              "    <tr>\n",
              "      <th>3</th>\n",
              "      <td>2012-10-02 12:00:00</td>\n",
              "      <td>None</td>\n",
              "      <td>66</td>\n",
              "      <td>3</td>\n",
              "      <td>329</td>\n",
              "      <td>5</td>\n",
              "      <td>5</td>\n",
              "      <td>290.13</td>\n",
              "      <td>0.0</td>\n",
              "      <td>0.0</td>\n",
              "      <td>90</td>\n",
              "      <td>Clouds</td>\n",
              "      <td>20</td>\n",
              "      <td>5026</td>\n",
              "    </tr>\n",
              "    <tr>\n",
              "      <th>4</th>\n",
              "      <td>2012-10-02 13:00:00</td>\n",
              "      <td>None</td>\n",
              "      <td>65</td>\n",
              "      <td>3</td>\n",
              "      <td>329</td>\n",
              "      <td>7</td>\n",
              "      <td>7</td>\n",
              "      <td>291.14</td>\n",
              "      <td>0.0</td>\n",
              "      <td>0.0</td>\n",
              "      <td>75</td>\n",
              "      <td>Clouds</td>\n",
              "      <td>281</td>\n",
              "      <td>4918</td>\n",
              "    </tr>\n",
              "  </tbody>\n",
              "</table>\n",
              "</div>"
            ],
            "text/plain": [
              "             date_time is_holiday  ...  air_pollution_index  traffic_volume\n",
              "0  2012-10-02 09:00:00       None  ...                  121            5545\n",
              "1  2012-10-02 10:00:00       None  ...                  178            4516\n",
              "2  2012-10-02 11:00:00       None  ...                  113            4767\n",
              "3  2012-10-02 12:00:00       None  ...                   20            5026\n",
              "4  2012-10-02 13:00:00       None  ...                  281            4918\n",
              "\n",
              "[5 rows x 14 columns]"
            ]
          },
          "metadata": {
            "tags": []
          },
          "execution_count": 5
        }
      ]
    },
    {
      "cell_type": "code",
      "metadata": {
        "id": "Gf7cqAfMUV9z",
        "colab_type": "code",
        "colab": {
          "base_uri": "https://localhost:8080/",
          "height": 34
        },
        "outputId": "2323a1c5-cd00-4057-f3dc-6457340012d7"
      },
      "source": [
        "df.shape"
      ],
      "execution_count": null,
      "outputs": [
        {
          "output_type": "execute_result",
          "data": {
            "text/plain": [
              "(28589, 14)"
            ]
          },
          "metadata": {
            "tags": []
          },
          "execution_count": 69
        }
      ]
    },
    {
      "cell_type": "code",
      "metadata": {
        "id": "c-bpggvh7pjE",
        "colab_type": "code",
        "colab": {
          "base_uri": "https://localhost:8080/",
          "height": 304
        },
        "outputId": "4e932b5d-0a86-4ffe-b9e9-9c44976979f1"
      },
      "source": [
        "df.describe()"
      ],
      "execution_count": null,
      "outputs": [
        {
          "output_type": "execute_result",
          "data": {
            "text/html": [
              "<div>\n",
              "<style scoped>\n",
              "    .dataframe tbody tr th:only-of-type {\n",
              "        vertical-align: middle;\n",
              "    }\n",
              "\n",
              "    .dataframe tbody tr th {\n",
              "        vertical-align: top;\n",
              "    }\n",
              "\n",
              "    .dataframe thead th {\n",
              "        text-align: right;\n",
              "    }\n",
              "</style>\n",
              "<table border=\"1\" class=\"dataframe\">\n",
              "  <thead>\n",
              "    <tr style=\"text-align: right;\">\n",
              "      <th></th>\n",
              "      <th>humidity</th>\n",
              "      <th>wind_speed</th>\n",
              "      <th>wind_direction</th>\n",
              "      <th>visibility_in_miles</th>\n",
              "      <th>dew_point</th>\n",
              "      <th>temperature</th>\n",
              "      <th>rain_p_h</th>\n",
              "      <th>snow_p_h</th>\n",
              "      <th>clouds_all</th>\n",
              "      <th>air_pollution_index</th>\n",
              "      <th>traffic_volume</th>\n",
              "    </tr>\n",
              "  </thead>\n",
              "  <tbody>\n",
              "    <tr>\n",
              "      <th>count</th>\n",
              "      <td>28589.000000</td>\n",
              "      <td>28589.000000</td>\n",
              "      <td>28589.000000</td>\n",
              "      <td>28589.000000</td>\n",
              "      <td>28589.000000</td>\n",
              "      <td>28589.000000</td>\n",
              "      <td>28589.000000</td>\n",
              "      <td>28589.000000</td>\n",
              "      <td>28589.000000</td>\n",
              "      <td>28589.000000</td>\n",
              "      <td>28589.000000</td>\n",
              "    </tr>\n",
              "    <tr>\n",
              "      <th>mean</th>\n",
              "      <td>70.993599</td>\n",
              "      <td>3.391829</td>\n",
              "      <td>199.372031</td>\n",
              "      <td>4.985309</td>\n",
              "      <td>4.985309</td>\n",
              "      <td>280.210206</td>\n",
              "      <td>0.437243</td>\n",
              "      <td>0.000166</td>\n",
              "      <td>45.460877</td>\n",
              "      <td>154.963517</td>\n",
              "      <td>3266.878380</td>\n",
              "    </tr>\n",
              "    <tr>\n",
              "      <th>std</th>\n",
              "      <td>16.906321</td>\n",
              "      <td>2.074844</td>\n",
              "      <td>99.456350</td>\n",
              "      <td>2.572945</td>\n",
              "      <td>2.572945</td>\n",
              "      <td>13.956645</td>\n",
              "      <td>58.151212</td>\n",
              "      <td>0.006762</td>\n",
              "      <td>38.713630</td>\n",
              "      <td>83.736112</td>\n",
              "      <td>1989.318912</td>\n",
              "    </tr>\n",
              "    <tr>\n",
              "      <th>min</th>\n",
              "      <td>13.000000</td>\n",
              "      <td>0.000000</td>\n",
              "      <td>0.000000</td>\n",
              "      <td>1.000000</td>\n",
              "      <td>1.000000</td>\n",
              "      <td>0.000000</td>\n",
              "      <td>0.000000</td>\n",
              "      <td>0.000000</td>\n",
              "      <td>0.000000</td>\n",
              "      <td>10.000000</td>\n",
              "      <td>0.000000</td>\n",
              "    </tr>\n",
              "    <tr>\n",
              "      <th>25%</th>\n",
              "      <td>60.000000</td>\n",
              "      <td>2.000000</td>\n",
              "      <td>130.000000</td>\n",
              "      <td>3.000000</td>\n",
              "      <td>3.000000</td>\n",
              "      <td>271.280000</td>\n",
              "      <td>0.000000</td>\n",
              "      <td>0.000000</td>\n",
              "      <td>1.000000</td>\n",
              "      <td>83.000000</td>\n",
              "      <td>1215.000000</td>\n",
              "    </tr>\n",
              "    <tr>\n",
              "      <th>50%</th>\n",
              "      <td>72.000000</td>\n",
              "      <td>3.000000</td>\n",
              "      <td>200.000000</td>\n",
              "      <td>5.000000</td>\n",
              "      <td>5.000000</td>\n",
              "      <td>280.680000</td>\n",
              "      <td>0.000000</td>\n",
              "      <td>0.000000</td>\n",
              "      <td>40.000000</td>\n",
              "      <td>156.000000</td>\n",
              "      <td>3369.000000</td>\n",
              "    </tr>\n",
              "    <tr>\n",
              "      <th>75%</th>\n",
              "      <td>85.000000</td>\n",
              "      <td>5.000000</td>\n",
              "      <td>290.000000</td>\n",
              "      <td>7.000000</td>\n",
              "      <td>7.000000</td>\n",
              "      <td>291.140000</td>\n",
              "      <td>0.000000</td>\n",
              "      <td>0.000000</td>\n",
              "      <td>90.000000</td>\n",
              "      <td>228.000000</td>\n",
              "      <td>4944.000000</td>\n",
              "    </tr>\n",
              "    <tr>\n",
              "      <th>max</th>\n",
              "      <td>100.000000</td>\n",
              "      <td>16.000000</td>\n",
              "      <td>360.000000</td>\n",
              "      <td>9.000000</td>\n",
              "      <td>9.000000</td>\n",
              "      <td>308.240000</td>\n",
              "      <td>9831.300000</td>\n",
              "      <td>0.510000</td>\n",
              "      <td>100.000000</td>\n",
              "      <td>299.000000</td>\n",
              "      <td>7280.000000</td>\n",
              "    </tr>\n",
              "  </tbody>\n",
              "</table>\n",
              "</div>"
            ],
            "text/plain": [
              "           humidity    wind_speed  ...  air_pollution_index  traffic_volume\n",
              "count  28589.000000  28589.000000  ...         28589.000000    28589.000000\n",
              "mean      70.993599      3.391829  ...           154.963517     3266.878380\n",
              "std       16.906321      2.074844  ...            83.736112     1989.318912\n",
              "min       13.000000      0.000000  ...            10.000000        0.000000\n",
              "25%       60.000000      2.000000  ...            83.000000     1215.000000\n",
              "50%       72.000000      3.000000  ...           156.000000     3369.000000\n",
              "75%       85.000000      5.000000  ...           228.000000     4944.000000\n",
              "max      100.000000     16.000000  ...           299.000000     7280.000000\n",
              "\n",
              "[8 rows x 11 columns]"
            ]
          },
          "metadata": {
            "tags": []
          },
          "execution_count": 66
        }
      ]
    },
    {
      "cell_type": "code",
      "metadata": {
        "id": "1m01lEI67sar",
        "colab_type": "code",
        "colab": {
          "base_uri": "https://localhost:8080/",
          "height": 370
        },
        "outputId": "18997c49-771c-4534-b64d-432511dfaf22"
      },
      "source": [
        "df.info()"
      ],
      "execution_count": null,
      "outputs": [
        {
          "output_type": "stream",
          "text": [
            "<class 'pandas.core.frame.DataFrame'>\n",
            "Int64Index: 28589 entries, 0 to 33748\n",
            "Data columns (total 14 columns):\n",
            " #   Column               Non-Null Count  Dtype  \n",
            "---  ------               --------------  -----  \n",
            " 0   date_time            28589 non-null  object \n",
            " 1   is_holiday           28589 non-null  object \n",
            " 2   humidity             28589 non-null  int64  \n",
            " 3   wind_speed           28589 non-null  int64  \n",
            " 4   wind_direction       28589 non-null  int64  \n",
            " 5   visibility_in_miles  28589 non-null  int64  \n",
            " 6   dew_point            28589 non-null  int64  \n",
            " 7   temperature          28589 non-null  float64\n",
            " 8   rain_p_h             28589 non-null  float64\n",
            " 9   snow_p_h             28589 non-null  float64\n",
            " 10  clouds_all           28589 non-null  int64  \n",
            " 11  weather_type         28589 non-null  object \n",
            " 12  air_pollution_index  28589 non-null  int64  \n",
            " 13  traffic_volume       28589 non-null  int64  \n",
            "dtypes: float64(3), int64(8), object(3)\n",
            "memory usage: 3.3+ MB\n"
          ],
          "name": "stdout"
        }
      ]
    },
    {
      "cell_type": "code",
      "metadata": {
        "id": "0l7rOgrC7u_u",
        "colab_type": "code",
        "colab": {
          "base_uri": "https://localhost:8080/",
          "height": 269
        },
        "outputId": "b580c5e0-d0d6-401d-f682-c3668efc6eda"
      },
      "source": [
        "df.isnull().sum()"
      ],
      "execution_count": null,
      "outputs": [
        {
          "output_type": "execute_result",
          "data": {
            "text/plain": [
              "date_time              0\n",
              "is_holiday             0\n",
              "humidity               0\n",
              "wind_speed             0\n",
              "wind_direction         0\n",
              "visibility_in_miles    0\n",
              "dew_point              0\n",
              "temperature            0\n",
              "rain_p_h               0\n",
              "snow_p_h               0\n",
              "clouds_all             0\n",
              "weather_type           0\n",
              "air_pollution_index    0\n",
              "traffic_volume         0\n",
              "dtype: int64"
            ]
          },
          "metadata": {
            "tags": []
          },
          "execution_count": 7
        }
      ]
    },
    {
      "cell_type": "code",
      "metadata": {
        "id": "y-NLYmoK7xw4",
        "colab_type": "code",
        "colab": {}
      },
      "source": [
        "df.boxplot(rot=90)"
      ],
      "execution_count": null,
      "outputs": []
    },
    {
      "cell_type": "code",
      "metadata": {
        "id": "-lvOUZne70Lq",
        "colab_type": "code",
        "colab": {
          "base_uri": "https://localhost:8080/",
          "height": 1000
        },
        "outputId": "60fbe8f0-0837-4b83-c50f-e85f3ca52bc3"
      },
      "source": [
        "\n",
        "plt.figure(figsize=(16,30))\n",
        "\n",
        "plt.plot(df['date_time'][:15],df['air_pollution_index'][:15])\n",
        "\n",
        "plt.xticks(rotation=90)\n",
        "plt.show()"
      ],
      "execution_count": null,
      "outputs": [
        {
          "output_type": "display_data",
          "data": {
            "image/png": "[encoded data removed]",
            "text/plain": [
              "<Figure size 1152x2160 with 1 Axes>"
            ]
          },
          "metadata": {
            "tags": [],
            "needs_background": "light"
          }
        }
      ]
    },
    {
      "cell_type": "code",
      "metadata": {
        "id": "Lo3qaz9572Hm",
        "colab_type": "code",
        "colab": {}
      },
      "source": [
        "plt.figure(figsize=(16,6))\n",
        "df.groupby('is_holiday').air_pollution_index.mean().plot(kind='bar').set_xlabel('holiday name')"
      ],
      "execution_count": null,
      "outputs": []
    },
    {
      "cell_type": "code",
      "metadata": {
        "id": "z9hOAc-f75mY",
        "colab_type": "code",
        "colab": {}
      },
      "source": [
        "plt.figure(figsize=(16,10))\n",
        "plt.scatter(df['humidity'],df['air_pollution_index'])\n",
        "plt.xlabel('humidity')\n",
        "plt.ylabel('air pol index')\n"
      ],
      "execution_count": null,
      "outputs": []
    },
    {
      "cell_type": "code",
      "metadata": {
        "id": "9Rzvex4m777q",
        "colab_type": "code",
        "colab": {}
      },
      "source": [
        "plt.figure(figsize=(16,6))\n",
        "plt.hist(df['wind_speed'],bins=[0,5,10,15,20])\n",
        "plt.xlabel('wind_speed')\n",
        "#plt.ylabel('air pol index')\n"
      ],
      "execution_count": null,
      "outputs": []
    },
    {
      "cell_type": "code",
      "metadata": {
        "id": "wdQ68cUr7-I1",
        "colab_type": "code",
        "colab": {}
      },
      "source": [
        "plt.figure(figsize=(16,6))\n",
        "plt.hist(df['wind_direction'],bins=[0,50,100,200,250,300,360,400])\n",
        "plt.xlabel('wind_direction')\n",
        "#plt.ylabel('air pol index')\n"
      ],
      "execution_count": null,
      "outputs": []
    },
    {
      "cell_type": "code",
      "metadata": {
        "id": "VeKFIgS27_yA",
        "colab_type": "code",
        "colab": {}
      },
      "source": [
        "plt.figure(figsize=(16,6))\n",
        "plt.hist(df['temperature'])\n",
        "plt.xlabel('wind_direction')\n",
        "#plt.ylabel('air pol index')\n",
        "#inference - rightly skewed"
      ],
      "execution_count": null,
      "outputs": []
    },
    {
      "cell_type": "code",
      "metadata": {
        "id": "R27FiXG38BiH",
        "colab_type": "code",
        "colab": {}
      },
      "source": [
        "plt.figure(figsize=(16,6))\n",
        "plt.scatter(df['temperature'],df['air_pollution_index'])\n",
        "plt.xlabel('temp')\n",
        "#plt.ylabel('air pol index')\n",
        "#inference - some have 0 k not possible"
      ],
      "execution_count": null,
      "outputs": []
    },
    {
      "cell_type": "code",
      "metadata": {
        "id": "nUBE_avG0jyu",
        "colab_type": "code",
        "colab": {
          "base_uri": "https://localhost:8080/",
          "height": 405
        },
        "outputId": "4fb63bb6-8cbc-4f67-8431-b66b5083021d"
      },
      "source": [
        "plt.figure(figsize=(16,6))\n",
        "plt.scatter(df['traffic_volume'][:100],df['air_pollution_index'][:100])\n",
        "plt.xlabel('temp')\n",
        "#plt.ylabel('air pol index')\n",
        "#inference - some have 0 k not possible"
      ],
      "execution_count": null,
      "outputs": [
        {
          "output_type": "execute_result",
          "data": {
            "text/plain": [
              "Text(0.5, 0, 'temp')"
            ]
          },
          "metadata": {
            "tags": []
          },
          "execution_count": 8
        },
        {
          "output_type": "display_data",
          "data": {
            "image/png": "[encoded data removed]",
            "text/plain": [
              "<Figure size 1152x432 with 1 Axes>"
            ]
          },
          "metadata": {
            "tags": [],
            "needs_background": "light"
          }
        }
      ]
    },
    {
      "cell_type": "code",
      "metadata": {
        "id": "zSXv1YsX8DZZ",
        "colab_type": "code",
        "colab": {
          "base_uri": "https://localhost:8080/",
          "height": 50
        },
        "outputId": "b05005fd-b671-487e-9aa1-651975aa3034"
      },
      "source": [
        "np.where(df['temperature']==0.0)"
      ],
      "execution_count": null,
      "outputs": [
        {
          "output_type": "execute_result",
          "data": {
            "text/plain": [
              "(array([11898, 11899, 11900, 11901, 11946, 11947, 11948, 11949, 11950,\n",
              "        11951]),)"
            ]
          },
          "metadata": {
            "tags": []
          },
          "execution_count": 19
        }
      ]
    },
    {
      "cell_type": "code",
      "metadata": {
        "id": "2l5Maed28Gh6",
        "colab_type": "code",
        "colab": {}
      },
      "source": [
        "df.loc[[11898, 11899, 11900, 11901, 11946, 11947, 11948, 11949, 11950,\n",
        "        11951]]"
      ],
      "execution_count": null,
      "outputs": []
    },
    {
      "cell_type": "code",
      "metadata": {
        "id": "vadLHxJh8JXf",
        "colab_type": "code",
        "colab": {}
      },
      "source": [
        "x=np.where(df['temperature']!=0.0)"
      ],
      "execution_count": null,
      "outputs": []
    },
    {
      "cell_type": "code",
      "metadata": {
        "id": "BHP1hvkk8LBN",
        "colab_type": "code",
        "colab": {
          "base_uri": "https://localhost:8080/",
          "height": 34
        },
        "outputId": "6207e6e1-681b-4ce4-acec-130ef494f448"
      },
      "source": [
        "x=x[0]\n",
        "print(x)"
      ],
      "execution_count": null,
      "outputs": [
        {
          "output_type": "stream",
          "text": [
            "[    0     1     2 ... 28586 28587 28588]\n"
          ],
          "name": "stdout"
        }
      ]
    },
    {
      "cell_type": "code",
      "metadata": {
        "id": "1ypM4MZC8M1j",
        "colab_type": "code",
        "colab": {}
      },
      "source": [
        "p=df.iloc[x]"
      ],
      "execution_count": null,
      "outputs": []
    },
    {
      "cell_type": "code",
      "metadata": {
        "id": "L6KgduXg8OkI",
        "colab_type": "code",
        "colab": {
          "base_uri": "https://localhost:8080/",
          "height": 34
        },
        "outputId": "2f1a5733-8213-4f51-cc01-e8c2b185e3c4"
      },
      "source": [
        "np.median(p['temperature'])"
      ],
      "execution_count": null,
      "outputs": [
        {
          "output_type": "execute_result",
          "data": {
            "text/plain": [
              "280.686"
            ]
          },
          "metadata": {
            "tags": []
          },
          "execution_count": 130
        }
      ]
    },
    {
      "cell_type": "code",
      "metadata": {
        "id": "tXFycncg8QDc",
        "colab_type": "code",
        "colab": {
          "base_uri": "https://localhost:8080/",
          "height": 202
        },
        "outputId": "254ba3f2-de85-4829-f706-c7e60df5f2ed"
      },
      "source": [
        "df['temperature'][[11898, 11899, 11900, 11901, 11946, 11947, 11948, 11949, 11950,\n",
        "        11951]]"
      ],
      "execution_count": null,
      "outputs": [
        {
          "output_type": "execute_result",
          "data": {
            "text/plain": [
              "11898    0.0\n",
              "11899    0.0\n",
              "11900    0.0\n",
              "11901    0.0\n",
              "11946    0.0\n",
              "11947    0.0\n",
              "11948    0.0\n",
              "11949    0.0\n",
              "11950    0.0\n",
              "11951    0.0\n",
              "Name: temperature, dtype: float64"
            ]
          },
          "metadata": {
            "tags": []
          },
          "execution_count": 10
        }
      ]
    },
    {
      "cell_type": "code",
      "metadata": {
        "id": "tZNbst6Z8TAu",
        "colab_type": "code",
        "colab": {}
      },
      "source": [
        "for x in [11898, 11899, 11900, 11901, 11946, 11947, 11948, 11949, 11950,11951]:\n",
        "    df.loc[x,'temperature']=280.686-273 #assigning median to zero kelvin rows\n",
        "    "
      ],
      "execution_count": null,
      "outputs": []
    },
    {
      "cell_type": "code",
      "metadata": {
        "id": "onl7ubM4MuLD",
        "colab_type": "code",
        "colab": {}
      },
      "source": [
        ""
      ],
      "execution_count": null,
      "outputs": []
    },
    {
      "cell_type": "code",
      "metadata": {
        "id": "ysFxJf8c8Z4X",
        "colab_type": "code",
        "colab": {
          "base_uri": "https://localhost:8080/",
          "height": 699
        },
        "outputId": "51e4c029-f9cb-43de-950c-bcba9e028c9a"
      },
      "source": [
        "df.loc[[11898, 11899, 11900, 11901, 11946, 11947, 11948, 11949, 11950,\n",
        "        11951]]"
      ],
      "execution_count": null,
      "outputs": [
        {
          "output_type": "execute_result",
          "data": {
            "text/html": [
              "<div>\n",
              "<style scoped>\n",
              "    .dataframe tbody tr th:only-of-type {\n",
              "        vertical-align: middle;\n",
              "    }\n",
              "\n",
              "    .dataframe tbody tr th {\n",
              "        vertical-align: top;\n",
              "    }\n",
              "\n",
              "    .dataframe thead th {\n",
              "        text-align: right;\n",
              "    }\n",
              "</style>\n",
              "<table border=\"1\" class=\"dataframe\">\n",
              "  <thead>\n",
              "    <tr style=\"text-align: right;\">\n",
              "      <th></th>\n",
              "      <th>date_time</th>\n",
              "      <th>is_holiday</th>\n",
              "      <th>humidity</th>\n",
              "      <th>wind_speed</th>\n",
              "      <th>wind_direction</th>\n",
              "      <th>visibility_in_miles</th>\n",
              "      <th>dew_point</th>\n",
              "      <th>temperature</th>\n",
              "      <th>rain_p_h</th>\n",
              "      <th>snow_p_h</th>\n",
              "      <th>clouds_all</th>\n",
              "      <th>weather_type</th>\n",
              "      <th>air_pollution_index</th>\n",
              "      <th>traffic_volume</th>\n",
              "    </tr>\n",
              "  </thead>\n",
              "  <tbody>\n",
              "    <tr>\n",
              "      <th>11898</th>\n",
              "      <td>2014-01-31 03:00:00</td>\n",
              "      <td>None</td>\n",
              "      <td>78</td>\n",
              "      <td>2</td>\n",
              "      <td>320</td>\n",
              "      <td>1</td>\n",
              "      <td>1</td>\n",
              "      <td>280.15</td>\n",
              "      <td>0.0</td>\n",
              "      <td>0.0</td>\n",
              "      <td>0</td>\n",
              "      <td>Clear</td>\n",
              "      <td>26</td>\n",
              "      <td>361</td>\n",
              "    </tr>\n",
              "    <tr>\n",
              "      <th>11899</th>\n",
              "      <td>2014-01-31 04:00:00</td>\n",
              "      <td>None</td>\n",
              "      <td>77</td>\n",
              "      <td>3</td>\n",
              "      <td>310</td>\n",
              "      <td>1</td>\n",
              "      <td>1</td>\n",
              "      <td>280.15</td>\n",
              "      <td>0.0</td>\n",
              "      <td>0.0</td>\n",
              "      <td>0</td>\n",
              "      <td>Clear</td>\n",
              "      <td>18</td>\n",
              "      <td>734</td>\n",
              "    </tr>\n",
              "    <tr>\n",
              "      <th>11900</th>\n",
              "      <td>2014-01-31 05:00:00</td>\n",
              "      <td>None</td>\n",
              "      <td>84</td>\n",
              "      <td>3</td>\n",
              "      <td>310</td>\n",
              "      <td>1</td>\n",
              "      <td>1</td>\n",
              "      <td>280.15</td>\n",
              "      <td>0.0</td>\n",
              "      <td>0.0</td>\n",
              "      <td>0</td>\n",
              "      <td>Clear</td>\n",
              "      <td>189</td>\n",
              "      <td>2557</td>\n",
              "    </tr>\n",
              "    <tr>\n",
              "      <th>11901</th>\n",
              "      <td>2014-01-31 06:00:00</td>\n",
              "      <td>None</td>\n",
              "      <td>84</td>\n",
              "      <td>4</td>\n",
              "      <td>320</td>\n",
              "      <td>1</td>\n",
              "      <td>1</td>\n",
              "      <td>280.15</td>\n",
              "      <td>0.0</td>\n",
              "      <td>0.0</td>\n",
              "      <td>0</td>\n",
              "      <td>Clear</td>\n",
              "      <td>12</td>\n",
              "      <td>5150</td>\n",
              "    </tr>\n",
              "    <tr>\n",
              "      <th>11946</th>\n",
              "      <td>2014-02-02 03:00:00</td>\n",
              "      <td>None</td>\n",
              "      <td>70</td>\n",
              "      <td>0</td>\n",
              "      <td>0</td>\n",
              "      <td>1</td>\n",
              "      <td>1</td>\n",
              "      <td>280.15</td>\n",
              "      <td>0.0</td>\n",
              "      <td>0.0</td>\n",
              "      <td>0</td>\n",
              "      <td>Clear</td>\n",
              "      <td>250</td>\n",
              "      <td>291</td>\n",
              "    </tr>\n",
              "    <tr>\n",
              "      <th>11947</th>\n",
              "      <td>2014-02-02 04:00:00</td>\n",
              "      <td>None</td>\n",
              "      <td>76</td>\n",
              "      <td>0</td>\n",
              "      <td>0</td>\n",
              "      <td>3</td>\n",
              "      <td>3</td>\n",
              "      <td>280.15</td>\n",
              "      <td>0.0</td>\n",
              "      <td>0.0</td>\n",
              "      <td>0</td>\n",
              "      <td>Clear</td>\n",
              "      <td>154</td>\n",
              "      <td>284</td>\n",
              "    </tr>\n",
              "    <tr>\n",
              "      <th>11948</th>\n",
              "      <td>2014-02-02 05:00:00</td>\n",
              "      <td>None</td>\n",
              "      <td>83</td>\n",
              "      <td>2</td>\n",
              "      <td>220</td>\n",
              "      <td>2</td>\n",
              "      <td>2</td>\n",
              "      <td>280.15</td>\n",
              "      <td>0.0</td>\n",
              "      <td>0.0</td>\n",
              "      <td>0</td>\n",
              "      <td>Clear</td>\n",
              "      <td>151</td>\n",
              "      <td>434</td>\n",
              "    </tr>\n",
              "    <tr>\n",
              "      <th>11949</th>\n",
              "      <td>2014-02-02 06:00:00</td>\n",
              "      <td>None</td>\n",
              "      <td>83</td>\n",
              "      <td>0</td>\n",
              "      <td>0</td>\n",
              "      <td>2</td>\n",
              "      <td>2</td>\n",
              "      <td>280.15</td>\n",
              "      <td>0.0</td>\n",
              "      <td>0.0</td>\n",
              "      <td>0</td>\n",
              "      <td>Clear</td>\n",
              "      <td>174</td>\n",
              "      <td>739</td>\n",
              "    </tr>\n",
              "    <tr>\n",
              "      <th>11950</th>\n",
              "      <td>2014-02-02 07:00:00</td>\n",
              "      <td>None</td>\n",
              "      <td>83</td>\n",
              "      <td>1</td>\n",
              "      <td>210</td>\n",
              "      <td>9</td>\n",
              "      <td>9</td>\n",
              "      <td>280.15</td>\n",
              "      <td>0.0</td>\n",
              "      <td>0.0</td>\n",
              "      <td>0</td>\n",
              "      <td>Clear</td>\n",
              "      <td>143</td>\n",
              "      <td>962</td>\n",
              "    </tr>\n",
              "    <tr>\n",
              "      <th>11951</th>\n",
              "      <td>2014-02-02 08:00:00</td>\n",
              "      <td>None</td>\n",
              "      <td>83</td>\n",
              "      <td>0</td>\n",
              "      <td>0</td>\n",
              "      <td>6</td>\n",
              "      <td>6</td>\n",
              "      <td>280.15</td>\n",
              "      <td>0.0</td>\n",
              "      <td>0.0</td>\n",
              "      <td>0</td>\n",
              "      <td>Clear</td>\n",
              "      <td>187</td>\n",
              "      <td>1670</td>\n",
              "    </tr>\n",
              "  </tbody>\n",
              "</table>\n",
              "</div>"
            ],
            "text/plain": [
              "                 date_time is_holiday  ...  air_pollution_index  traffic_volume\n",
              "11898  2014-01-31 03:00:00       None  ...                   26             361\n",
              "11899  2014-01-31 04:00:00       None  ...                   18             734\n",
              "11900  2014-01-31 05:00:00       None  ...                  189            2557\n",
              "11901  2014-01-31 06:00:00       None  ...                   12            5150\n",
              "11946  2014-02-02 03:00:00       None  ...                  250             291\n",
              "11947  2014-02-02 04:00:00       None  ...                  154             284\n",
              "11948  2014-02-02 05:00:00       None  ...                  151             434\n",
              "11949  2014-02-02 06:00:00       None  ...                  174             739\n",
              "11950  2014-02-02 07:00:00       None  ...                  143             962\n",
              "11951  2014-02-02 08:00:00       None  ...                  187            1670\n",
              "\n",
              "[10 rows x 14 columns]"
            ]
          },
          "metadata": {
            "tags": []
          },
          "execution_count": 158
        }
      ]
    },
    {
      "cell_type": "code",
      "metadata": {
        "id": "5kYnvrJ68bzb",
        "colab_type": "code",
        "colab": {
          "base_uri": "https://localhost:8080/",
          "height": 50
        },
        "outputId": "37e665f7-aa00-4924-a31c-2becbd1ddadd"
      },
      "source": [
        "print(\"zero\",len(np.where(df['clouds_all']==0)[0]))\n",
        "print(\"total \",len(df['clouds_all']))\n"
      ],
      "execution_count": null,
      "outputs": [
        {
          "output_type": "stream",
          "text": [
            "zero 1971\n",
            "total  33750\n"
          ],
          "name": "stdout"
        }
      ]
    },
    {
      "cell_type": "code",
      "metadata": {
        "id": "vXRpYmaB8diL",
        "colab_type": "code",
        "colab": {
          "base_uri": "https://localhost:8080/",
          "height": 408
        },
        "outputId": "ecbbdf51-ef48-484c-d173-f2bfbe04b054"
      },
      "source": [
        "plt.figure(figsize=(16,6))\n",
        "plt.hist(df['traffic_volume'])\n",
        "plt.xlabel('traffic')\n",
        "#plt.ylabel('air pol index')\n"
      ],
      "execution_count": null,
      "outputs": [
        {
          "output_type": "execute_result",
          "data": {
            "text/plain": [
              "Text(0.5, 0, 'traffic')"
            ]
          },
          "metadata": {
            "tags": []
          },
          "execution_count": 14
        },
        {
          "output_type": "display_data",
          "data": {
            "image/png": "[encoded data removed]",
            "text/plain": [
              "<Figure size 1152x432 with 1 Axes>"
            ]
          },
          "metadata": {
            "tags": [],
            "needs_background": "light"
          }
        }
      ]
    },
    {
      "cell_type": "markdown",
      "metadata": {
        "id": "_wjlhPUAXHzv",
        "colab_type": "text"
      },
      "source": [
        "# Feature Engineering"
      ]
    },
    {
      "cell_type": "code",
      "metadata": {
        "id": "0cGvA0soXGjG",
        "colab_type": "code",
        "colab": {}
      },
      "source": [
        "df['temperature']=df['temperature']-273\n",
        "dftest['temperature']=dftest['temperature']-273"
      ],
      "execution_count": null,
      "outputs": []
    },
    {
      "cell_type": "code",
      "metadata": {
        "id": "joKwpZel-4W2",
        "colab_type": "code",
        "colab": {}
      },
      "source": [
        "df['Day']= pd.DatetimeIndex(df['date_time']).day\n",
        "df['month']=pd.DatetimeIndex(df['date_time']).month\n",
        "df['Year']=pd.DatetimeIndex(df['date_time']).year\n",
        "df['week_day']=pd.DatetimeIndex(df['date_time']).weekday\n",
        "df['hour']=pd.DatetimeIndex(df['date_time']).hour"
      ],
      "execution_count": null,
      "outputs": []
    },
    {
      "cell_type": "code",
      "metadata": {
        "id": "U8fhZAb5lCHx",
        "colab_type": "code",
        "colab": {}
      },
      "source": [
        "dftest['Day']= pd.DatetimeIndex(dftest['date_time']).day\n",
        "dftest['month']=pd.DatetimeIndex(dftest['date_time']).month\n",
        "dftest['Year']=pd.DatetimeIndex(dftest['date_time']).year\n",
        "dftest['week_day']=pd.DatetimeIndex(dftest['date_time']).weekday\n",
        "dftest['hour']=pd.DatetimeIndex(dftest['date_time']).hour"
      ],
      "execution_count": null,
      "outputs": []
    },
    {
      "cell_type": "code",
      "metadata": {
        "id": "oa1DUKSBN3LR",
        "colab_type": "code",
        "colab": {
          "base_uri": "https://localhost:8080/",
          "height": 302
        },
        "outputId": "6798c49f-8db2-45f1-e668-121fe8b77bf1"
      },
      "source": [
        "pearsoncorr = df.corr(method='pearson')\n",
        "pearsoncorr['air_pollution_index']"
      ],
      "execution_count": null,
      "outputs": [
        {
          "output_type": "execute_result",
          "data": {
            "text/plain": [
              "humidity              -0.000277\n",
              "wind_speed            -0.004166\n",
              "wind_direction         0.000749\n",
              "visibility_in_miles    0.003499\n",
              "dew_point              0.003499\n",
              "temperature            0.003813\n",
              "rain_p_h               0.000443\n",
              "snow_p_h               0.007227\n",
              "clouds_all            -0.008541\n",
              "air_pollution_index    1.000000\n",
              "traffic_volume        -0.003751\n",
              "Day                    0.010109\n",
              "month                  0.007733\n",
              "Year                  -0.004981\n",
              "week_day               0.004411\n",
              "hour                   0.000424\n",
              "Name: air_pollution_index, dtype: float64"
            ]
          },
          "metadata": {
            "tags": []
          },
          "execution_count": 12
        }
      ]
    },
    {
      "cell_type": "code",
      "metadata": {
        "id": "EUs-n3ELvKKc",
        "colab_type": "code",
        "colab": {
          "base_uri": "https://localhost:8080/",
          "height": 383
        },
        "outputId": "c0a70754-f264-470c-d9e1-c30fb1adc600"
      },
      "source": [
        "df.head()"
      ],
      "execution_count": null,
      "outputs": [
        {
          "output_type": "execute_result",
          "data": {
            "text/html": [
              "<div>\n",
              "<style scoped>\n",
              "    .dataframe tbody tr th:only-of-type {\n",
              "        vertical-align: middle;\n",
              "    }\n",
              "\n",
              "    .dataframe tbody tr th {\n",
              "        vertical-align: top;\n",
              "    }\n",
              "\n",
              "    .dataframe thead th {\n",
              "        text-align: right;\n",
              "    }\n",
              "</style>\n",
              "<table border=\"1\" class=\"dataframe\">\n",
              "  <thead>\n",
              "    <tr style=\"text-align: right;\">\n",
              "      <th></th>\n",
              "      <th>date_time</th>\n",
              "      <th>is_holiday</th>\n",
              "      <th>humidity</th>\n",
              "      <th>wind_speed</th>\n",
              "      <th>wind_direction</th>\n",
              "      <th>visibility_in_miles</th>\n",
              "      <th>dew_point</th>\n",
              "      <th>temperature</th>\n",
              "      <th>rain_p_h</th>\n",
              "      <th>snow_p_h</th>\n",
              "      <th>clouds_all</th>\n",
              "      <th>weather_type</th>\n",
              "      <th>air_pollution_index</th>\n",
              "      <th>traffic_volume</th>\n",
              "      <th>Day</th>\n",
              "      <th>month</th>\n",
              "      <th>Year</th>\n",
              "      <th>week_day</th>\n",
              "      <th>hour</th>\n",
              "    </tr>\n",
              "  </thead>\n",
              "  <tbody>\n",
              "    <tr>\n",
              "      <th>0</th>\n",
              "      <td>2012-10-02 09:00:00</td>\n",
              "      <td>None</td>\n",
              "      <td>89</td>\n",
              "      <td>2</td>\n",
              "      <td>329</td>\n",
              "      <td>1</td>\n",
              "      <td>1</td>\n",
              "      <td>288.28</td>\n",
              "      <td>0.0</td>\n",
              "      <td>0.0</td>\n",
              "      <td>40</td>\n",
              "      <td>Clouds</td>\n",
              "      <td>121</td>\n",
              "      <td>5545</td>\n",
              "      <td>2</td>\n",
              "      <td>10</td>\n",
              "      <td>2012</td>\n",
              "      <td>1</td>\n",
              "      <td>9</td>\n",
              "    </tr>\n",
              "    <tr>\n",
              "      <th>1</th>\n",
              "      <td>2012-10-02 10:00:00</td>\n",
              "      <td>None</td>\n",
              "      <td>67</td>\n",
              "      <td>3</td>\n",
              "      <td>330</td>\n",
              "      <td>1</td>\n",
              "      <td>1</td>\n",
              "      <td>289.36</td>\n",
              "      <td>0.0</td>\n",
              "      <td>0.0</td>\n",
              "      <td>75</td>\n",
              "      <td>Clouds</td>\n",
              "      <td>178</td>\n",
              "      <td>4516</td>\n",
              "      <td>2</td>\n",
              "      <td>10</td>\n",
              "      <td>2012</td>\n",
              "      <td>1</td>\n",
              "      <td>10</td>\n",
              "    </tr>\n",
              "    <tr>\n",
              "      <th>2</th>\n",
              "      <td>2012-10-02 11:00:00</td>\n",
              "      <td>None</td>\n",
              "      <td>66</td>\n",
              "      <td>3</td>\n",
              "      <td>329</td>\n",
              "      <td>2</td>\n",
              "      <td>2</td>\n",
              "      <td>289.58</td>\n",
              "      <td>0.0</td>\n",
              "      <td>0.0</td>\n",
              "      <td>90</td>\n",
              "      <td>Clouds</td>\n",
              "      <td>113</td>\n",
              "      <td>4767</td>\n",
              "      <td>2</td>\n",
              "      <td>10</td>\n",
              "      <td>2012</td>\n",
              "      <td>1</td>\n",
              "      <td>11</td>\n",
              "    </tr>\n",
              "    <tr>\n",
              "      <th>3</th>\n",
              "      <td>2012-10-02 12:00:00</td>\n",
              "      <td>None</td>\n",
              "      <td>66</td>\n",
              "      <td>3</td>\n",
              "      <td>329</td>\n",
              "      <td>5</td>\n",
              "      <td>5</td>\n",
              "      <td>290.13</td>\n",
              "      <td>0.0</td>\n",
              "      <td>0.0</td>\n",
              "      <td>90</td>\n",
              "      <td>Clouds</td>\n",
              "      <td>20</td>\n",
              "      <td>5026</td>\n",
              "      <td>2</td>\n",
              "      <td>10</td>\n",
              "      <td>2012</td>\n",
              "      <td>1</td>\n",
              "      <td>12</td>\n",
              "    </tr>\n",
              "    <tr>\n",
              "      <th>4</th>\n",
              "      <td>2012-10-02 13:00:00</td>\n",
              "      <td>None</td>\n",
              "      <td>65</td>\n",
              "      <td>3</td>\n",
              "      <td>329</td>\n",
              "      <td>7</td>\n",
              "      <td>7</td>\n",
              "      <td>291.14</td>\n",
              "      <td>0.0</td>\n",
              "      <td>0.0</td>\n",
              "      <td>75</td>\n",
              "      <td>Clouds</td>\n",
              "      <td>281</td>\n",
              "      <td>4918</td>\n",
              "      <td>2</td>\n",
              "      <td>10</td>\n",
              "      <td>2012</td>\n",
              "      <td>1</td>\n",
              "      <td>13</td>\n",
              "    </tr>\n",
              "  </tbody>\n",
              "</table>\n",
              "</div>"
            ],
            "text/plain": [
              "             date_time is_holiday  humidity  ...  Year  week_day  hour\n",
              "0  2012-10-02 09:00:00       None        89  ...  2012         1     9\n",
              "1  2012-10-02 10:00:00       None        67  ...  2012         1    10\n",
              "2  2012-10-02 11:00:00       None        66  ...  2012         1    11\n",
              "3  2012-10-02 12:00:00       None        66  ...  2012         1    12\n",
              "4  2012-10-02 13:00:00       None        65  ...  2012         1    13\n",
              "\n",
              "[5 rows x 19 columns]"
            ]
          },
          "metadata": {
            "tags": []
          },
          "execution_count": 135
        }
      ]
    },
    {
      "cell_type": "code",
      "metadata": {
        "id": "6SA6T0WfHQPo",
        "colab_type": "code",
        "colab": {}
      },
      "source": [
        "df=df.drop('hour',1)"
      ],
      "execution_count": null,
      "outputs": []
    },
    {
      "cell_type": "code",
      "metadata": {
        "id": "FO-3rI1NYspk",
        "colab_type": "code",
        "colab": {}
      },
      "source": [
        "s=df.groupby('hour')['air_pollution_index'].mean().sort_values()\n"
      ],
      "execution_count": null,
      "outputs": []
    },
    {
      "cell_type": "code",
      "metadata": {
        "id": "LhW6MqAbT9Xt",
        "colab_type": "code",
        "colab": {
          "base_uri": "https://localhost:8080/",
          "height": 34
        },
        "outputId": "54008a23-0152-4449-c99d-ef6731160014"
      },
      "source": [
        "type(s)"
      ],
      "execution_count": null,
      "outputs": [
        {
          "output_type": "execute_result",
          "data": {
            "text/plain": [
              "pandas.core.series.Series"
            ]
          },
          "metadata": {
            "tags": []
          },
          "execution_count": 39
        }
      ]
    },
    {
      "cell_type": "code",
      "metadata": {
        "id": "G130Ses7Tk27",
        "colab_type": "code",
        "colab": {}
      },
      "source": [
        "hour_pre={}\n",
        "x=0\n",
        "for rownum,(indx,val) in enumerate(s.iteritems()):\n",
        "  hour_pre[indx]=x\n",
        "  x+=1\n"
      ],
      "execution_count": null,
      "outputs": []
    },
    {
      "cell_type": "code",
      "metadata": {
        "id": "Mp1CJsFCVP16",
        "colab_type": "code",
        "colab": {
          "base_uri": "https://localhost:8080/",
          "height": 54
        },
        "outputId": "7b009ad8-979d-4f3f-9cc3-87ed34fa7cc8"
      },
      "source": [
        "print(hour_pre)"
      ],
      "execution_count": null,
      "outputs": [
        {
          "output_type": "stream",
          "text": [
            "{8: 0, 18: 1, 17: 2, 7: 3, 2: 4, 1: 5, 20: 6, 19: 7, 10: 8, 23: 9, 9: 10, 5: 11, 11: 12, 13: 13, 14: 14, 6: 15, 15: 16, 12: 17, 4: 18, 22: 19, 16: 20, 3: 21, 21: 22, 0: 23}\n"
          ],
          "name": "stdout"
        }
      ]
    },
    {
      "cell_type": "code",
      "metadata": {
        "id": "BUgJTYBCVb-q",
        "colab_type": "code",
        "colab": {}
      },
      "source": [
        "df['hour_coded']=df.hour.map(hour_pre)\n",
        "df=df.drop(columns=['hour'],axis=1)"
      ],
      "execution_count": null,
      "outputs": []
    },
    {
      "cell_type": "code",
      "metadata": {
        "id": "roLn2u3ulg6v",
        "colab_type": "code",
        "colab": {}
      },
      "source": [
        "dftest['hour_coded']=dftest.hour.map(hour_pre)\n",
        "dftest=dftest.drop(columns=['hour'],axis=1)"
      ],
      "execution_count": null,
      "outputs": []
    },
    {
      "cell_type": "code",
      "metadata": {
        "id": "zQVnY6_wTSlE",
        "colab_type": "code",
        "colab": {
          "base_uri": "https://localhost:8080/",
          "height": 34
        },
        "outputId": "cff974fe-c701-4660-adc8-2f94bd646753"
      },
      "source": [
        "df[(df['week_day']==5) | (df['week_day']==6)]['air_pollution_index'].mean()"
      ],
      "execution_count": null,
      "outputs": [
        {
          "output_type": "execute_result",
          "data": {
            "text/plain": [
              "154.60335948994606"
            ]
          },
          "metadata": {
            "tags": []
          },
          "execution_count": 65
        }
      ]
    },
    {
      "cell_type": "code",
      "metadata": {
        "id": "hr9zFDGYWALp",
        "colab_type": "code",
        "colab": {
          "base_uri": "https://localhost:8080/",
          "height": 34
        },
        "outputId": "c6469450-a1ac-4e9c-d26d-9fad57151333"
      },
      "source": [
        "df[(df['week_day']!=5) & (df['week_day']!=6)]['air_pollution_index'].mean()"
      ],
      "execution_count": null,
      "outputs": [
        {
          "output_type": "execute_result",
          "data": {
            "text/plain": [
              "155.10727744335145"
            ]
          },
          "metadata": {
            "tags": []
          },
          "execution_count": 66
        }
      ]
    },
    {
      "cell_type": "code",
      "metadata": {
        "id": "YLgrx92FVX7Z",
        "colab_type": "code",
        "colab": {
          "base_uri": "https://localhost:8080/",
          "height": 218
        },
        "outputId": "ce77d8dd-b7f1-4812-cf88-8fae6ec2e8cd"
      },
      "source": [
        "df['week_day']==6"
      ],
      "execution_count": null,
      "outputs": [
        {
          "output_type": "execute_result",
          "data": {
            "text/plain": [
              "0        False\n",
              "1        False\n",
              "2        False\n",
              "3        False\n",
              "4        False\n",
              "         ...  \n",
              "33737    False\n",
              "33740    False\n",
              "33743    False\n",
              "33746    False\n",
              "33748    False\n",
              "Name: week_day, Length: 28589, dtype: bool"
            ]
          },
          "metadata": {
            "tags": []
          },
          "execution_count": 57
        }
      ]
    },
    {
      "cell_type": "code",
      "metadata": {
        "id": "M2_rKwo7RnKs",
        "colab_type": "code",
        "colab": {}
      },
      "source": [
        "s2=df.groupby('week_day')['air_pollution_index'].mean().sort_values()"
      ],
      "execution_count": null,
      "outputs": []
    },
    {
      "cell_type": "code",
      "metadata": {
        "id": "xRFjER02Xnpk",
        "colab_type": "code",
        "colab": {}
      },
      "source": [
        "week_pre={}\n",
        "x=0\n",
        "for rownum,(indx,val) in enumerate(s2.iteritems()):\n",
        "  week_pre[indx]=x\n",
        "  x+=1\n"
      ],
      "execution_count": null,
      "outputs": []
    },
    {
      "cell_type": "code",
      "metadata": {
        "id": "RKFp1v_CzXFo",
        "colab_type": "code",
        "colab": {}
      },
      "source": [
        "df['weekend']=df.week_day.map(week_pre)\n",
        "#df=df.drop(columns=['week_day'],axis=1)"
      ],
      "execution_count": null,
      "outputs": []
    },
    {
      "cell_type": "code",
      "metadata": {
        "id": "qOxSlJmilog8",
        "colab_type": "code",
        "colab": {}
      },
      "source": [
        "dftest['weekend']=dftest.week_day.map(week_pre)\n",
        "#df=df.drop(columns=['week_day'],axis=1)"
      ],
      "execution_count": null,
      "outputs": []
    },
    {
      "cell_type": "code",
      "metadata": {
        "id": "-UnW0isluYm0",
        "colab_type": "code",
        "colab": {
          "base_uri": "https://localhost:8080/",
          "height": 252
        },
        "outputId": "f1605874-cec3-422e-80bd-65aa645ad085"
      },
      "source": [
        "df.groupby('month')['air_pollution_index'].mean().sort_values()"
      ],
      "execution_count": null,
      "outputs": [
        {
          "output_type": "execute_result",
          "data": {
            "text/plain": [
              "month\n",
              "3     152.868545\n",
              "1     152.896936\n",
              "9     153.144847\n",
              "2     154.482319\n",
              "8     154.831683\n",
              "5     154.972321\n",
              "7     154.990708\n",
              "12    154.992299\n",
              "4     155.208750\n",
              "10    155.501787\n",
              "6     157.644578\n",
              "11    158.459346\n",
              "Name: air_pollution_index, dtype: float64"
            ]
          },
          "metadata": {
            "tags": []
          },
          "execution_count": 79
        }
      ]
    },
    {
      "cell_type": "code",
      "metadata": {
        "id": "QpL_YG9SYEQi",
        "colab_type": "code",
        "colab": {}
      },
      "source": [
        "month_pre={\n",
        "  3:0,\n",
        "  1:1,\n",
        "  9:2,\n",
        "  2:3,\n",
        "  8:4,\n",
        "  5:5,\n",
        "  7:6,\n",
        "  12:7,\n",
        "  4:8,\n",
        "  10:9,\n",
        "  6:10,\n",
        "  11:11\n",
        "}"
      ],
      "execution_count": null,
      "outputs": []
    },
    {
      "cell_type": "code",
      "metadata": {
        "id": "_Vu-mhccYgUv",
        "colab_type": "code",
        "colab": {}
      },
      "source": [
        "df['month_coded']=df.month.map(month_pre)\n",
        "df=df.drop(columns=['month'],axis=1)"
      ],
      "execution_count": null,
      "outputs": []
    },
    {
      "cell_type": "code",
      "metadata": {
        "id": "5i86vi5XlwrT",
        "colab_type": "code",
        "colab": {}
      },
      "source": [
        "dftest['month_coded']=dftest.month.map(month_pre)\n",
        "dftest=dftest.drop(columns=['month'],axis=1)"
      ],
      "execution_count": null,
      "outputs": []
    },
    {
      "cell_type": "code",
      "metadata": {
        "id": "TivxfUFtugxk",
        "colab_type": "code",
        "colab": {
          "base_uri": "https://localhost:8080/",
          "height": 151
        },
        "outputId": "b7fb7ed3-b9eb-4b55-a70d-ea4fbf334752"
      },
      "source": [
        "df.groupby('Year')['air_pollution_index'].mean().sort_values()"
      ],
      "execution_count": null,
      "outputs": [
        {
          "output_type": "execute_result",
          "data": {
            "text/plain": [
              "Year\n",
              "2015    153.479822\n",
              "2017    153.765337\n",
              "2016    154.872289\n",
              "2013    155.222649\n",
              "2014    156.007332\n",
              "2012    156.563005\n",
              "Name: air_pollution_index, dtype: float64"
            ]
          },
          "metadata": {
            "tags": []
          },
          "execution_count": 83
        }
      ]
    },
    {
      "cell_type": "code",
      "metadata": {
        "id": "RSy-KkZ-_kCc",
        "colab_type": "code",
        "colab": {
          "base_uri": "https://localhost:8080/",
          "height": 383
        },
        "outputId": "73ce2e60-f52c-47f4-c53f-b2de37189d6f"
      },
      "source": [
        "df.head()"
      ],
      "execution_count": null,
      "outputs": [
        {
          "output_type": "execute_result",
          "data": {
            "text/html": [
              "<div>\n",
              "<style scoped>\n",
              "    .dataframe tbody tr th:only-of-type {\n",
              "        vertical-align: middle;\n",
              "    }\n",
              "\n",
              "    .dataframe tbody tr th {\n",
              "        vertical-align: top;\n",
              "    }\n",
              "\n",
              "    .dataframe thead th {\n",
              "        text-align: right;\n",
              "    }\n",
              "</style>\n",
              "<table border=\"1\" class=\"dataframe\">\n",
              "  <thead>\n",
              "    <tr style=\"text-align: right;\">\n",
              "      <th></th>\n",
              "      <th>date_time</th>\n",
              "      <th>is_holiday</th>\n",
              "      <th>humidity</th>\n",
              "      <th>wind_speed</th>\n",
              "      <th>wind_direction</th>\n",
              "      <th>visibility_in_miles</th>\n",
              "      <th>dew_point</th>\n",
              "      <th>temperature</th>\n",
              "      <th>rain_p_h</th>\n",
              "      <th>snow_p_h</th>\n",
              "      <th>clouds_all</th>\n",
              "      <th>weather_type</th>\n",
              "      <th>air_pollution_index</th>\n",
              "      <th>traffic_volume</th>\n",
              "      <th>Day</th>\n",
              "      <th>Year</th>\n",
              "      <th>hour</th>\n",
              "      <th>weekday_coded</th>\n",
              "      <th>month_coded</th>\n",
              "    </tr>\n",
              "  </thead>\n",
              "  <tbody>\n",
              "    <tr>\n",
              "      <th>0</th>\n",
              "      <td>2012-10-02 09:00:00</td>\n",
              "      <td>None</td>\n",
              "      <td>89</td>\n",
              "      <td>2</td>\n",
              "      <td>329</td>\n",
              "      <td>1</td>\n",
              "      <td>1</td>\n",
              "      <td>288.28</td>\n",
              "      <td>0.0</td>\n",
              "      <td>0.0</td>\n",
              "      <td>40</td>\n",
              "      <td>Clouds</td>\n",
              "      <td>121</td>\n",
              "      <td>5545</td>\n",
              "      <td>2</td>\n",
              "      <td>2012</td>\n",
              "      <td>9</td>\n",
              "      <td>0</td>\n",
              "      <td>9</td>\n",
              "    </tr>\n",
              "    <tr>\n",
              "      <th>1</th>\n",
              "      <td>2012-10-02 10:00:00</td>\n",
              "      <td>None</td>\n",
              "      <td>67</td>\n",
              "      <td>3</td>\n",
              "      <td>330</td>\n",
              "      <td>1</td>\n",
              "      <td>1</td>\n",
              "      <td>289.36</td>\n",
              "      <td>0.0</td>\n",
              "      <td>0.0</td>\n",
              "      <td>75</td>\n",
              "      <td>Clouds</td>\n",
              "      <td>178</td>\n",
              "      <td>4516</td>\n",
              "      <td>2</td>\n",
              "      <td>2012</td>\n",
              "      <td>10</td>\n",
              "      <td>0</td>\n",
              "      <td>9</td>\n",
              "    </tr>\n",
              "    <tr>\n",
              "      <th>2</th>\n",
              "      <td>2012-10-02 11:00:00</td>\n",
              "      <td>None</td>\n",
              "      <td>66</td>\n",
              "      <td>3</td>\n",
              "      <td>329</td>\n",
              "      <td>2</td>\n",
              "      <td>2</td>\n",
              "      <td>289.58</td>\n",
              "      <td>0.0</td>\n",
              "      <td>0.0</td>\n",
              "      <td>90</td>\n",
              "      <td>Clouds</td>\n",
              "      <td>113</td>\n",
              "      <td>4767</td>\n",
              "      <td>2</td>\n",
              "      <td>2012</td>\n",
              "      <td>11</td>\n",
              "      <td>0</td>\n",
              "      <td>9</td>\n",
              "    </tr>\n",
              "    <tr>\n",
              "      <th>3</th>\n",
              "      <td>2012-10-02 12:00:00</td>\n",
              "      <td>None</td>\n",
              "      <td>66</td>\n",
              "      <td>3</td>\n",
              "      <td>329</td>\n",
              "      <td>5</td>\n",
              "      <td>5</td>\n",
              "      <td>290.13</td>\n",
              "      <td>0.0</td>\n",
              "      <td>0.0</td>\n",
              "      <td>90</td>\n",
              "      <td>Clouds</td>\n",
              "      <td>20</td>\n",
              "      <td>5026</td>\n",
              "      <td>2</td>\n",
              "      <td>2012</td>\n",
              "      <td>12</td>\n",
              "      <td>0</td>\n",
              "      <td>9</td>\n",
              "    </tr>\n",
              "    <tr>\n",
              "      <th>4</th>\n",
              "      <td>2012-10-02 13:00:00</td>\n",
              "      <td>None</td>\n",
              "      <td>65</td>\n",
              "      <td>3</td>\n",
              "      <td>329</td>\n",
              "      <td>7</td>\n",
              "      <td>7</td>\n",
              "      <td>291.14</td>\n",
              "      <td>0.0</td>\n",
              "      <td>0.0</td>\n",
              "      <td>75</td>\n",
              "      <td>Clouds</td>\n",
              "      <td>281</td>\n",
              "      <td>4918</td>\n",
              "      <td>2</td>\n",
              "      <td>2012</td>\n",
              "      <td>13</td>\n",
              "      <td>0</td>\n",
              "      <td>9</td>\n",
              "    </tr>\n",
              "  </tbody>\n",
              "</table>\n",
              "</div>"
            ],
            "text/plain": [
              "             date_time is_holiday  humidity  ...  hour  weekday_coded  month_coded\n",
              "0  2012-10-02 09:00:00       None        89  ...     9              0            9\n",
              "1  2012-10-02 10:00:00       None        67  ...    10              0            9\n",
              "2  2012-10-02 11:00:00       None        66  ...    11              0            9\n",
              "3  2012-10-02 12:00:00       None        66  ...    12              0            9\n",
              "4  2012-10-02 13:00:00       None        65  ...    13              0            9\n",
              "\n",
              "[5 rows x 19 columns]"
            ]
          },
          "metadata": {
            "tags": []
          },
          "execution_count": 171
        }
      ]
    },
    {
      "cell_type": "code",
      "metadata": {
        "id": "866PceoJ8kV9",
        "colab_type": "code",
        "colab": {
          "base_uri": "https://localhost:8080/",
          "height": 303
        },
        "outputId": "6ee0f84c-2f6f-420c-f9d0-0550ee828328"
      },
      "source": [
        "df.groupby('weather_type')['air_pollution_index'].mean().sort_values()"
      ],
      "execution_count": null,
      "outputs": [
        {
          "output_type": "error",
          "ename": "KeyError",
          "evalue": "ignored",
          "traceback": [
            "\u001b[0;31m---------------------------------------------------------------------------\u001b[0m",
            "\u001b[0;31mKeyError\u001b[0m                                  Traceback (most recent call last)",
            "\u001b[0;32m<ipython-input-29-a5820cb41e37>\u001b[0m in \u001b[0;36m<module>\u001b[0;34m()\u001b[0m\n\u001b[0;32m----> 1\u001b[0;31m \u001b[0mdf\u001b[0m\u001b[0;34m.\u001b[0m\u001b[0mgroupby\u001b[0m\u001b[0;34m(\u001b[0m\u001b[0;34m'weather_type'\u001b[0m\u001b[0;34m)\u001b[0m\u001b[0;34m[\u001b[0m\u001b[0;34m'air_pollution_index'\u001b[0m\u001b[0;34m]\u001b[0m\u001b[0;34m.\u001b[0m\u001b[0mmean\u001b[0m\u001b[0;34m(\u001b[0m\u001b[0;34m)\u001b[0m\u001b[0;34m.\u001b[0m\u001b[0msort_values\u001b[0m\u001b[0;34m(\u001b[0m\u001b[0;34m)\u001b[0m\u001b[0;34m\u001b[0m\u001b[0;34m\u001b[0m\u001b[0m\n\u001b[0m",
            "\u001b[0;32m/usr/local/lib/python3.6/dist-packages/pandas/core/frame.py\u001b[0m in \u001b[0;36mgroupby\u001b[0;34m(self, by, axis, level, as_index, sort, group_keys, squeeze, observed)\u001b[0m\n\u001b[1;32m   5808\u001b[0m             \u001b[0mgroup_keys\u001b[0m\u001b[0;34m=\u001b[0m\u001b[0mgroup_keys\u001b[0m\u001b[0;34m,\u001b[0m\u001b[0;34m\u001b[0m\u001b[0;34m\u001b[0m\u001b[0m\n\u001b[1;32m   5809\u001b[0m             \u001b[0msqueeze\u001b[0m\u001b[0;34m=\u001b[0m\u001b[0msqueeze\u001b[0m\u001b[0;34m,\u001b[0m\u001b[0;34m\u001b[0m\u001b[0;34m\u001b[0m\u001b[0m\n\u001b[0;32m-> 5810\u001b[0;31m             \u001b[0mobserved\u001b[0m\u001b[0;34m=\u001b[0m\u001b[0mobserved\u001b[0m\u001b[0;34m,\u001b[0m\u001b[0;34m\u001b[0m\u001b[0;34m\u001b[0m\u001b[0m\n\u001b[0m\u001b[1;32m   5811\u001b[0m         )\n\u001b[1;32m   5812\u001b[0m \u001b[0;34m\u001b[0m\u001b[0m\n",
            "\u001b[0;32m/usr/local/lib/python3.6/dist-packages/pandas/core/groupby/groupby.py\u001b[0m in \u001b[0;36m__init__\u001b[0;34m(self, obj, keys, axis, level, grouper, exclusions, selection, as_index, sort, group_keys, squeeze, observed, mutated)\u001b[0m\n\u001b[1;32m    408\u001b[0m                 \u001b[0msort\u001b[0m\u001b[0;34m=\u001b[0m\u001b[0msort\u001b[0m\u001b[0;34m,\u001b[0m\u001b[0;34m\u001b[0m\u001b[0;34m\u001b[0m\u001b[0m\n\u001b[1;32m    409\u001b[0m                 \u001b[0mobserved\u001b[0m\u001b[0;34m=\u001b[0m\u001b[0mobserved\u001b[0m\u001b[0;34m,\u001b[0m\u001b[0;34m\u001b[0m\u001b[0;34m\u001b[0m\u001b[0m\n\u001b[0;32m--> 410\u001b[0;31m                 \u001b[0mmutated\u001b[0m\u001b[0;34m=\u001b[0m\u001b[0mself\u001b[0m\u001b[0;34m.\u001b[0m\u001b[0mmutated\u001b[0m\u001b[0;34m,\u001b[0m\u001b[0;34m\u001b[0m\u001b[0;34m\u001b[0m\u001b[0m\n\u001b[0m\u001b[1;32m    411\u001b[0m             )\n\u001b[1;32m    412\u001b[0m \u001b[0;34m\u001b[0m\u001b[0m\n",
            "\u001b[0;32m/usr/local/lib/python3.6/dist-packages/pandas/core/groupby/grouper.py\u001b[0m in \u001b[0;36mget_grouper\u001b[0;34m(obj, key, axis, level, sort, observed, mutated, validate)\u001b[0m\n\u001b[1;32m    598\u001b[0m                 \u001b[0min_axis\u001b[0m\u001b[0;34m,\u001b[0m \u001b[0mname\u001b[0m\u001b[0;34m,\u001b[0m \u001b[0mlevel\u001b[0m\u001b[0;34m,\u001b[0m \u001b[0mgpr\u001b[0m \u001b[0;34m=\u001b[0m \u001b[0;32mFalse\u001b[0m\u001b[0;34m,\u001b[0m \u001b[0;32mNone\u001b[0m\u001b[0;34m,\u001b[0m \u001b[0mgpr\u001b[0m\u001b[0;34m,\u001b[0m \u001b[0;32mNone\u001b[0m\u001b[0;34m\u001b[0m\u001b[0;34m\u001b[0m\u001b[0m\n\u001b[1;32m    599\u001b[0m             \u001b[0;32melse\u001b[0m\u001b[0;34m:\u001b[0m\u001b[0;34m\u001b[0m\u001b[0;34m\u001b[0m\u001b[0m\n\u001b[0;32m--> 600\u001b[0;31m                 \u001b[0;32mraise\u001b[0m \u001b[0mKeyError\u001b[0m\u001b[0;34m(\u001b[0m\u001b[0mgpr\u001b[0m\u001b[0;34m)\u001b[0m\u001b[0;34m\u001b[0m\u001b[0;34m\u001b[0m\u001b[0m\n\u001b[0m\u001b[1;32m    601\u001b[0m         \u001b[0;32melif\u001b[0m \u001b[0misinstance\u001b[0m\u001b[0;34m(\u001b[0m\u001b[0mgpr\u001b[0m\u001b[0;34m,\u001b[0m \u001b[0mGrouper\u001b[0m\u001b[0;34m)\u001b[0m \u001b[0;32mand\u001b[0m \u001b[0mgpr\u001b[0m\u001b[0;34m.\u001b[0m\u001b[0mkey\u001b[0m \u001b[0;32mis\u001b[0m \u001b[0;32mnot\u001b[0m \u001b[0;32mNone\u001b[0m\u001b[0;34m:\u001b[0m\u001b[0;34m\u001b[0m\u001b[0;34m\u001b[0m\u001b[0m\n\u001b[1;32m    602\u001b[0m             \u001b[0;31m# Add key to exclusions\u001b[0m\u001b[0;34m\u001b[0m\u001b[0;34m\u001b[0m\u001b[0;34m\u001b[0m\u001b[0m\n",
            "\u001b[0;31mKeyError\u001b[0m: 'weather_type'"
          ]
        }
      ]
    },
    {
      "cell_type": "code",
      "metadata": {
        "id": "600qnt6Na2gn",
        "colab_type": "code",
        "colab": {}
      },
      "source": [
        "weather_pre={\n",
        "  'Clear':9,      \n",
        "  'Clouds':8,       \n",
        "  'Drizzle': 7,       \n",
        "  'Fog' :     2,  \n",
        "  'Haze':   5  ,      \n",
        "  'Mist':    4 ,       \n",
        "  'Rain':    6 ,       \n",
        "  'Smoke':  10,         \n",
        "  'Snow':      11,      \n",
        "  'Squall':    1,      \n",
        "  'Thunderstorm':3\n",
        "}"
      ],
      "execution_count": null,
      "outputs": []
    },
    {
      "cell_type": "code",
      "metadata": {
        "id": "gr-sWkG1dC-V",
        "colab_type": "code",
        "colab": {}
      },
      "source": [
        "df['weather_type_coded']=df.weather_type.map(weather_pre)\n",
        "df=df.drop(columns=['weather_type'],axis=1)"
      ],
      "execution_count": null,
      "outputs": []
    },
    {
      "cell_type": "code",
      "metadata": {
        "id": "YUdYqhP6l6fj",
        "colab_type": "code",
        "colab": {}
      },
      "source": [
        "dftest['weather_type_coded']=dftest.weather_type.map(weather_pre)\n",
        "dftest=dftest.drop(columns=['weather_type'],axis=1)"
      ],
      "execution_count": null,
      "outputs": []
    },
    {
      "cell_type": "code",
      "metadata": {
        "id": "HhAtuLCtdUtj",
        "colab_type": "code",
        "colab": {
          "base_uri": "https://localhost:8080/",
          "height": 383
        },
        "outputId": "8631ffdd-6dd7-4bba-cff2-fa1a07dfff87"
      },
      "source": [
        "df.tail()"
      ],
      "execution_count": null,
      "outputs": [
        {
          "output_type": "execute_result",
          "data": {
            "text/html": [
              "<div>\n",
              "<style scoped>\n",
              "    .dataframe tbody tr th:only-of-type {\n",
              "        vertical-align: middle;\n",
              "    }\n",
              "\n",
              "    .dataframe tbody tr th {\n",
              "        vertical-align: top;\n",
              "    }\n",
              "\n",
              "    .dataframe thead th {\n",
              "        text-align: right;\n",
              "    }\n",
              "</style>\n",
              "<table border=\"1\" class=\"dataframe\">\n",
              "  <thead>\n",
              "    <tr style=\"text-align: right;\">\n",
              "      <th></th>\n",
              "      <th>date_time</th>\n",
              "      <th>is_holiday</th>\n",
              "      <th>humidity</th>\n",
              "      <th>wind_speed</th>\n",
              "      <th>wind_direction</th>\n",
              "      <th>visibility_in_miles</th>\n",
              "      <th>dew_point</th>\n",
              "      <th>temperature</th>\n",
              "      <th>rain_p_h</th>\n",
              "      <th>snow_p_h</th>\n",
              "      <th>clouds_all</th>\n",
              "      <th>weather_type</th>\n",
              "      <th>air_pollution_index</th>\n",
              "      <th>traffic_volume</th>\n",
              "    </tr>\n",
              "  </thead>\n",
              "  <tbody>\n",
              "    <tr>\n",
              "      <th>33745</th>\n",
              "      <td>2017-05-17 21:00:00</td>\n",
              "      <td>None</td>\n",
              "      <td>85</td>\n",
              "      <td>1</td>\n",
              "      <td>328</td>\n",
              "      <td>7</td>\n",
              "      <td>7</td>\n",
              "      <td>287.88</td>\n",
              "      <td>0.0</td>\n",
              "      <td>0.0</td>\n",
              "      <td>90</td>\n",
              "      <td>Mist</td>\n",
              "      <td>74</td>\n",
              "      <td>2348</td>\n",
              "    </tr>\n",
              "    <tr>\n",
              "      <th>33746</th>\n",
              "      <td>2017-05-17 22:00:00</td>\n",
              "      <td>None</td>\n",
              "      <td>70</td>\n",
              "      <td>1</td>\n",
              "      <td>24</td>\n",
              "      <td>2</td>\n",
              "      <td>2</td>\n",
              "      <td>286.95</td>\n",
              "      <td>0.0</td>\n",
              "      <td>0.0</td>\n",
              "      <td>90</td>\n",
              "      <td>Rain</td>\n",
              "      <td>81</td>\n",
              "      <td>2194</td>\n",
              "    </tr>\n",
              "    <tr>\n",
              "      <th>33747</th>\n",
              "      <td>2017-05-17 22:00:00</td>\n",
              "      <td>None</td>\n",
              "      <td>70</td>\n",
              "      <td>1</td>\n",
              "      <td>24</td>\n",
              "      <td>1</td>\n",
              "      <td>1</td>\n",
              "      <td>286.95</td>\n",
              "      <td>0.0</td>\n",
              "      <td>0.0</td>\n",
              "      <td>90</td>\n",
              "      <td>Mist</td>\n",
              "      <td>138</td>\n",
              "      <td>2194</td>\n",
              "    </tr>\n",
              "    <tr>\n",
              "      <th>33748</th>\n",
              "      <td>2017-05-17 23:00:00</td>\n",
              "      <td>None</td>\n",
              "      <td>66</td>\n",
              "      <td>1</td>\n",
              "      <td>42</td>\n",
              "      <td>6</td>\n",
              "      <td>6</td>\n",
              "      <td>285.75</td>\n",
              "      <td>0.0</td>\n",
              "      <td>0.0</td>\n",
              "      <td>90</td>\n",
              "      <td>Rain</td>\n",
              "      <td>229</td>\n",
              "      <td>1328</td>\n",
              "    </tr>\n",
              "    <tr>\n",
              "      <th>33749</th>\n",
              "      <td>2017-05-17 23:00:00</td>\n",
              "      <td>None</td>\n",
              "      <td>63</td>\n",
              "      <td>1</td>\n",
              "      <td>27</td>\n",
              "      <td>8</td>\n",
              "      <td>8</td>\n",
              "      <td>285.75</td>\n",
              "      <td>0.0</td>\n",
              "      <td>0.0</td>\n",
              "      <td>90</td>\n",
              "      <td>Mist</td>\n",
              "      <td>140</td>\n",
              "      <td>1328</td>\n",
              "    </tr>\n",
              "  </tbody>\n",
              "</table>\n",
              "</div>"
            ],
            "text/plain": [
              "                 date_time is_holiday  ...  air_pollution_index  traffic_volume\n",
              "33745  2017-05-17 21:00:00       None  ...                   74            2348\n",
              "33746  2017-05-17 22:00:00       None  ...                   81            2194\n",
              "33747  2017-05-17 22:00:00       None  ...                  138            2194\n",
              "33748  2017-05-17 23:00:00       None  ...                  229            1328\n",
              "33749  2017-05-17 23:00:00       None  ...                  140            1328\n",
              "\n",
              "[5 rows x 14 columns]"
            ]
          },
          "metadata": {
            "tags": []
          },
          "execution_count": 10
        }
      ]
    },
    {
      "cell_type": "code",
      "metadata": {
        "id": "d25Qpg3heA-o",
        "colab_type": "code",
        "colab": {
          "base_uri": "https://localhost:8080/",
          "height": 252
        },
        "outputId": "94ea52a5-151a-4408-cdba-37b98975dd3f"
      },
      "source": [
        "df.groupby('is_holiday')['air_pollution_index'].mean().sort_values()"
      ],
      "execution_count": null,
      "outputs": [
        {
          "output_type": "execute_result",
          "data": {
            "text/plain": [
              "is_holiday\n",
              "Christmas Day                117.800000\n",
              "Veterans Day                 124.750000\n",
              "Washingtons Birthday         131.750000\n",
              "Columbus Day                 140.500000\n",
              "None                         154.829531\n",
              "Thanksgiving Day             155.200000\n",
              "State Fair                   169.333333\n",
              "Memorial Day                 170.666667\n",
              "Independence Day             189.666667\n",
              "Labor Day                    201.000000\n",
              "New Years Day                203.200000\n",
              "Martin Luther King Jr Day    232.333333\n",
              "Name: air_pollution_index, dtype: float64"
            ]
          },
          "metadata": {
            "tags": []
          },
          "execution_count": 24
        }
      ]
    },
    {
      "cell_type": "code",
      "metadata": {
        "id": "zKVbfckDHXTM",
        "colab_type": "code",
        "colab": {
          "base_uri": "https://localhost:8080/",
          "height": 34
        },
        "outputId": "97381109-0608-4c22-a030-bad95997411f"
      },
      "source": [
        "df.where(df['is_holiday']=='None')['air_pollution_index'].mean()"
      ],
      "execution_count": null,
      "outputs": [
        {
          "output_type": "execute_result",
          "data": {
            "text/plain": [
              "154.95916079997198"
            ]
          },
          "metadata": {
            "tags": []
          },
          "execution_count": 75
        }
      ]
    },
    {
      "cell_type": "code",
      "metadata": {
        "id": "4tYlbSpiIfGF",
        "colab_type": "code",
        "colab": {
          "base_uri": "https://localhost:8080/",
          "height": 34
        },
        "outputId": "ba6543a2-b94c-477b-c28f-f6fa24d54ff0"
      },
      "source": [
        "df.where(df['is_holiday'] !='None')['air_pollution_index'].mean()"
      ],
      "execution_count": null,
      "outputs": [
        {
          "output_type": "execute_result",
          "data": {
            "text/plain": [
              "158.23684210526315"
            ]
          },
          "metadata": {
            "tags": []
          },
          "execution_count": 76
        }
      ]
    },
    {
      "cell_type": "code",
      "metadata": {
        "id": "hEeFnafEeIAf",
        "colab_type": "code",
        "colab": {}
      },
      "source": [
        "holiday_pre={\n",
        "  'Christmas Day':1,      \n",
        "  'Columbus Day':5,       \n",
        "  'Independence Day': 10,       \n",
        "  'Labor Day' :     9,  \n",
        "  'Martin Luther King Jr Day':   12,      \n",
        "  'Memorial Day':    8 ,       \n",
        "  'New Years Day':   11 ,       \n",
        "  'None':  6,         \n",
        "  'State Fair':     7,      \n",
        "  'Thanksgiving Day':    1,      \n",
        "  'Veterans Day':2,\n",
        "  'Washingtons Birthday':3\n",
        "}"
      ],
      "execution_count": null,
      "outputs": []
    },
    {
      "cell_type": "code",
      "metadata": {
        "id": "0Cs6XYH7fpZL",
        "colab_type": "code",
        "colab": {}
      },
      "source": [
        "df['is_holiday_coded']=df.is_holiday.map(holiday_pre)"
      ],
      "execution_count": null,
      "outputs": []
    },
    {
      "cell_type": "code",
      "metadata": {
        "id": "Z3zyKcRhmCHb",
        "colab_type": "code",
        "colab": {}
      },
      "source": [
        "dftest['is_holiday_coded']=dftest.is_holiday.map(holiday_pre)\n",
        "dftest=dftest.drop(columns=['is_holiday'],axis=1)"
      ],
      "execution_count": null,
      "outputs": []
    },
    {
      "cell_type": "code",
      "metadata": {
        "id": "nldPJNO9f1Aa",
        "colab_type": "code",
        "colab": {}
      },
      "source": [
        "df=df.drop(columns=['is_holiday'],axis=1)"
      ],
      "execution_count": null,
      "outputs": []
    },
    {
      "cell_type": "code",
      "metadata": {
        "id": "nwvfOb4VgI73",
        "colab_type": "code",
        "colab": {
          "base_uri": "https://localhost:8080/",
          "height": 383
        },
        "outputId": "bcad3604-0159-4cfe-c002-aea30a1c5570"
      },
      "source": [
        "df.head()"
      ],
      "execution_count": null,
      "outputs": [
        {
          "output_type": "execute_result",
          "data": {
            "text/html": [
              "<div>\n",
              "<style scoped>\n",
              "    .dataframe tbody tr th:only-of-type {\n",
              "        vertical-align: middle;\n",
              "    }\n",
              "\n",
              "    .dataframe tbody tr th {\n",
              "        vertical-align: top;\n",
              "    }\n",
              "\n",
              "    .dataframe thead th {\n",
              "        text-align: right;\n",
              "    }\n",
              "</style>\n",
              "<table border=\"1\" class=\"dataframe\">\n",
              "  <thead>\n",
              "    <tr style=\"text-align: right;\">\n",
              "      <th></th>\n",
              "      <th>date_time</th>\n",
              "      <th>humidity</th>\n",
              "      <th>wind_speed</th>\n",
              "      <th>wind_direction</th>\n",
              "      <th>visibility_in_miles</th>\n",
              "      <th>dew_point</th>\n",
              "      <th>temperature</th>\n",
              "      <th>rain_p_h</th>\n",
              "      <th>snow_p_h</th>\n",
              "      <th>clouds_all</th>\n",
              "      <th>air_pollution_index</th>\n",
              "      <th>traffic_volume</th>\n",
              "      <th>weather_type_coded</th>\n",
              "      <th>is_holiday_coded</th>\n",
              "    </tr>\n",
              "  </thead>\n",
              "  <tbody>\n",
              "    <tr>\n",
              "      <th>0</th>\n",
              "      <td>2012-10-02 09:00:00</td>\n",
              "      <td>89</td>\n",
              "      <td>2</td>\n",
              "      <td>329</td>\n",
              "      <td>1</td>\n",
              "      <td>1</td>\n",
              "      <td>288.28</td>\n",
              "      <td>0.0</td>\n",
              "      <td>0.0</td>\n",
              "      <td>40</td>\n",
              "      <td>121</td>\n",
              "      <td>5545</td>\n",
              "      <td>8</td>\n",
              "      <td>6</td>\n",
              "    </tr>\n",
              "    <tr>\n",
              "      <th>1</th>\n",
              "      <td>2012-10-02 10:00:00</td>\n",
              "      <td>67</td>\n",
              "      <td>3</td>\n",
              "      <td>330</td>\n",
              "      <td>1</td>\n",
              "      <td>1</td>\n",
              "      <td>289.36</td>\n",
              "      <td>0.0</td>\n",
              "      <td>0.0</td>\n",
              "      <td>75</td>\n",
              "      <td>178</td>\n",
              "      <td>4516</td>\n",
              "      <td>8</td>\n",
              "      <td>6</td>\n",
              "    </tr>\n",
              "    <tr>\n",
              "      <th>2</th>\n",
              "      <td>2012-10-02 11:00:00</td>\n",
              "      <td>66</td>\n",
              "      <td>3</td>\n",
              "      <td>329</td>\n",
              "      <td>2</td>\n",
              "      <td>2</td>\n",
              "      <td>289.58</td>\n",
              "      <td>0.0</td>\n",
              "      <td>0.0</td>\n",
              "      <td>90</td>\n",
              "      <td>113</td>\n",
              "      <td>4767</td>\n",
              "      <td>8</td>\n",
              "      <td>6</td>\n",
              "    </tr>\n",
              "    <tr>\n",
              "      <th>3</th>\n",
              "      <td>2012-10-02 12:00:00</td>\n",
              "      <td>66</td>\n",
              "      <td>3</td>\n",
              "      <td>329</td>\n",
              "      <td>5</td>\n",
              "      <td>5</td>\n",
              "      <td>290.13</td>\n",
              "      <td>0.0</td>\n",
              "      <td>0.0</td>\n",
              "      <td>90</td>\n",
              "      <td>20</td>\n",
              "      <td>5026</td>\n",
              "      <td>8</td>\n",
              "      <td>6</td>\n",
              "    </tr>\n",
              "    <tr>\n",
              "      <th>4</th>\n",
              "      <td>2012-10-02 13:00:00</td>\n",
              "      <td>65</td>\n",
              "      <td>3</td>\n",
              "      <td>329</td>\n",
              "      <td>7</td>\n",
              "      <td>7</td>\n",
              "      <td>291.14</td>\n",
              "      <td>0.0</td>\n",
              "      <td>0.0</td>\n",
              "      <td>75</td>\n",
              "      <td>281</td>\n",
              "      <td>4918</td>\n",
              "      <td>8</td>\n",
              "      <td>6</td>\n",
              "    </tr>\n",
              "  </tbody>\n",
              "</table>\n",
              "</div>"
            ],
            "text/plain": [
              "             date_time  humidity  ...  weather_type_coded  is_holiday_coded\n",
              "0  2012-10-02 09:00:00        89  ...                   8                 6\n",
              "1  2012-10-02 10:00:00        67  ...                   8                 6\n",
              "2  2012-10-02 11:00:00        66  ...                   8                 6\n",
              "3  2012-10-02 12:00:00        66  ...                   8                 6\n",
              "4  2012-10-02 13:00:00        65  ...                   8                 6\n",
              "\n",
              "[5 rows x 14 columns]"
            ]
          },
          "metadata": {
            "tags": []
          },
          "execution_count": 80
        }
      ]
    },
    {
      "cell_type": "code",
      "metadata": {
        "id": "sk0XYWZ0mJ8z",
        "colab_type": "code",
        "colab": {
          "base_uri": "https://localhost:8080/",
          "height": 383
        },
        "outputId": "9ebb676a-be32-447e-9468-f08392290b1c"
      },
      "source": [
        "dftest.head()"
      ],
      "execution_count": null,
      "outputs": [
        {
          "output_type": "execute_result",
          "data": {
            "text/html": [
              "<div>\n",
              "<style scoped>\n",
              "    .dataframe tbody tr th:only-of-type {\n",
              "        vertical-align: middle;\n",
              "    }\n",
              "\n",
              "    .dataframe tbody tr th {\n",
              "        vertical-align: top;\n",
              "    }\n",
              "\n",
              "    .dataframe thead th {\n",
              "        text-align: right;\n",
              "    }\n",
              "</style>\n",
              "<table border=\"1\" class=\"dataframe\">\n",
              "  <thead>\n",
              "    <tr style=\"text-align: right;\">\n",
              "      <th></th>\n",
              "      <th>date_time</th>\n",
              "      <th>humidity</th>\n",
              "      <th>wind_speed</th>\n",
              "      <th>wind_direction</th>\n",
              "      <th>visibility_in_miles</th>\n",
              "      <th>dew_point</th>\n",
              "      <th>temperature</th>\n",
              "      <th>rain_p_h</th>\n",
              "      <th>snow_p_h</th>\n",
              "      <th>clouds_all</th>\n",
              "      <th>traffic_volume</th>\n",
              "      <th>Day</th>\n",
              "      <th>Year</th>\n",
              "      <th>week_day</th>\n",
              "      <th>hour_coded</th>\n",
              "      <th>weekend</th>\n",
              "      <th>month_coded</th>\n",
              "      <th>weather_type_coded</th>\n",
              "      <th>is_holiday_coded</th>\n",
              "    </tr>\n",
              "  </thead>\n",
              "  <tbody>\n",
              "    <tr>\n",
              "      <th>0</th>\n",
              "      <td>2017-05-18 00:00:00</td>\n",
              "      <td>63</td>\n",
              "      <td>1</td>\n",
              "      <td>27</td>\n",
              "      <td>4</td>\n",
              "      <td>4</td>\n",
              "      <td>12.15</td>\n",
              "      <td>0.0</td>\n",
              "      <td>0</td>\n",
              "      <td>90</td>\n",
              "      <td>646</td>\n",
              "      <td>18</td>\n",
              "      <td>2017</td>\n",
              "      <td>3</td>\n",
              "      <td>22</td>\n",
              "      <td>4</td>\n",
              "      <td>5</td>\n",
              "      <td>6</td>\n",
              "      <td>6</td>\n",
              "    </tr>\n",
              "    <tr>\n",
              "      <th>1</th>\n",
              "      <td>2017-05-18 00:00:00</td>\n",
              "      <td>63</td>\n",
              "      <td>1</td>\n",
              "      <td>27</td>\n",
              "      <td>4</td>\n",
              "      <td>4</td>\n",
              "      <td>12.15</td>\n",
              "      <td>0.0</td>\n",
              "      <td>0</td>\n",
              "      <td>90</td>\n",
              "      <td>646</td>\n",
              "      <td>18</td>\n",
              "      <td>2017</td>\n",
              "      <td>3</td>\n",
              "      <td>22</td>\n",
              "      <td>4</td>\n",
              "      <td>5</td>\n",
              "      <td>4</td>\n",
              "      <td>6</td>\n",
              "    </tr>\n",
              "    <tr>\n",
              "      <th>2</th>\n",
              "      <td>2017-05-18 00:00:00</td>\n",
              "      <td>56</td>\n",
              "      <td>1</td>\n",
              "      <td>0</td>\n",
              "      <td>1</td>\n",
              "      <td>1</td>\n",
              "      <td>12.15</td>\n",
              "      <td>0.0</td>\n",
              "      <td>0</td>\n",
              "      <td>90</td>\n",
              "      <td>646</td>\n",
              "      <td>18</td>\n",
              "      <td>2017</td>\n",
              "      <td>3</td>\n",
              "      <td>22</td>\n",
              "      <td>4</td>\n",
              "      <td>5</td>\n",
              "      <td>7</td>\n",
              "      <td>6</td>\n",
              "    </tr>\n",
              "    <tr>\n",
              "      <th>3</th>\n",
              "      <td>2017-05-18 01:00:00</td>\n",
              "      <td>56</td>\n",
              "      <td>1</td>\n",
              "      <td>351</td>\n",
              "      <td>2</td>\n",
              "      <td>2</td>\n",
              "      <td>11.79</td>\n",
              "      <td>0.0</td>\n",
              "      <td>0</td>\n",
              "      <td>90</td>\n",
              "      <td>353</td>\n",
              "      <td>18</td>\n",
              "      <td>2017</td>\n",
              "      <td>3</td>\n",
              "      <td>7</td>\n",
              "      <td>4</td>\n",
              "      <td>5</td>\n",
              "      <td>6</td>\n",
              "      <td>6</td>\n",
              "    </tr>\n",
              "    <tr>\n",
              "      <th>4</th>\n",
              "      <td>2017-05-18 01:00:00</td>\n",
              "      <td>56</td>\n",
              "      <td>1</td>\n",
              "      <td>351</td>\n",
              "      <td>1</td>\n",
              "      <td>1</td>\n",
              "      <td>11.79</td>\n",
              "      <td>0.0</td>\n",
              "      <td>0</td>\n",
              "      <td>90</td>\n",
              "      <td>353</td>\n",
              "      <td>18</td>\n",
              "      <td>2017</td>\n",
              "      <td>3</td>\n",
              "      <td>7</td>\n",
              "      <td>4</td>\n",
              "      <td>5</td>\n",
              "      <td>4</td>\n",
              "      <td>6</td>\n",
              "    </tr>\n",
              "  </tbody>\n",
              "</table>\n",
              "</div>"
            ],
            "text/plain": [
              "             date_time  humidity  ...  weather_type_coded  is_holiday_coded\n",
              "0  2017-05-18 00:00:00        63  ...                   6                 6\n",
              "1  2017-05-18 00:00:00        63  ...                   4                 6\n",
              "2  2017-05-18 00:00:00        56  ...                   7                 6\n",
              "3  2017-05-18 01:00:00        56  ...                   6                 6\n",
              "4  2017-05-18 01:00:00        56  ...                   4                 6\n",
              "\n",
              "[5 rows x 19 columns]"
            ]
          },
          "metadata": {
            "tags": []
          },
          "execution_count": 50
        }
      ]
    },
    {
      "cell_type": "code",
      "metadata": {
        "id": "PDBulrE8Zoei",
        "colab_type": "code",
        "colab": {}
      },
      "source": [
        "df['day*hour']=df['weekday_coded']*df['hour_coded']"
      ],
      "execution_count": null,
      "outputs": []
    },
    {
      "cell_type": "code",
      "metadata": {
        "id": "c5saiWh1Z9Ap",
        "colab_type": "code",
        "colab": {}
      },
      "source": [
        "df['day*hour*month']=df['weekday_coded']*df['hour_coded']*df['month_coded']"
      ],
      "execution_count": null,
      "outputs": []
    },
    {
      "cell_type": "code",
      "metadata": {
        "id": "v_ueIktL8oZV",
        "colab_type": "code",
        "colab": {
          "base_uri": "https://localhost:8080/",
          "height": 353
        },
        "outputId": "23d9e814-c149-406e-c8b4-50a8165bb536"
      },
      "source": [
        "pearsoncorr = df.corr(method='pearson')\n",
        "pearsoncorr['air_pollution_index']"
      ],
      "execution_count": null,
      "outputs": [
        {
          "output_type": "execute_result",
          "data": {
            "text/plain": [
              "humidity              -0.000277\n",
              "wind_speed            -0.004166\n",
              "wind_direction         0.000749\n",
              "visibility_in_miles    0.003499\n",
              "dew_point              0.003499\n",
              "temperature            0.003813\n",
              "rain_p_h               0.000443\n",
              "snow_p_h               0.007227\n",
              "clouds_all            -0.008541\n",
              "air_pollution_index    1.000000\n",
              "traffic_volume        -0.003751\n",
              "Day                    0.010109\n",
              "Year                  -0.004981\n",
              "week_day               0.004411\n",
              "hour_coded             0.026679\n",
              "weekend                0.015375\n",
              "month_coded            0.014079\n",
              "weather_type_coded     0.009604\n",
              "is_holiday_coded       0.013519\n",
              "Name: air_pollution_index, dtype: float64"
            ]
          },
          "metadata": {
            "tags": []
          },
          "execution_count": 28
        }
      ]
    },
    {
      "cell_type": "code",
      "metadata": {
        "id": "Nhc7awOM8v3x",
        "colab_type": "code",
        "colab": {
          "base_uri": "https://localhost:8080/",
          "height": 336
        },
        "outputId": "2c9d5eaf-b397-4e7b-faa7-860786040754"
      },
      "source": [
        "corrmat = df.corr()\n",
        "corrmat['air_pollution_index']"
      ],
      "execution_count": null,
      "outputs": [
        {
          "output_type": "execute_result",
          "data": {
            "text/plain": [
              "humidity              -0.000277\n",
              "wind_speed            -0.004166\n",
              "wind_direction         0.000749\n",
              "visibility_in_miles    0.003499\n",
              "dew_point              0.003499\n",
              "temperature            0.003817\n",
              "rain_p_h               0.000443\n",
              "snow_p_h               0.007227\n",
              "clouds_all            -0.008541\n",
              "air_pollution_index    1.000000\n",
              "traffic_volume        -0.003751\n",
              "Day                    0.010109\n",
              "Year                  -0.004981\n",
              "week_day               0.004411\n",
              "hour                   0.000424\n",
              "month_coded            0.015844\n",
              "weather_type_coded     0.012873\n",
              "is_holiday_coded       0.015227\n",
              "Name: air_pollution_index, dtype: float64"
            ]
          },
          "metadata": {
            "tags": []
          },
          "execution_count": 25
        }
      ]
    },
    {
      "cell_type": "code",
      "metadata": {
        "id": "EhHA1CvG8zWI",
        "colab_type": "code",
        "colab": {
          "base_uri": "https://localhost:8080/",
          "height": 286
        },
        "outputId": "ffad2873-ffa2-4577-afc2-499b9533e772"
      },
      "source": [
        "corrk = df.corr(method='kendall')\n",
        "corrk['air_pollution_index']"
      ],
      "execution_count": null,
      "outputs": [
        {
          "output_type": "execute_result",
          "data": {
            "text/plain": [
              "humidity              -0.000414\n",
              "wind_speed            -0.002923\n",
              "wind_direction         0.000023\n",
              "visibility_in_miles    0.002488\n",
              "dew_point              0.002488\n",
              "temperature            0.002554\n",
              "rain_p_h               0.001970\n",
              "snow_p_h               0.000692\n",
              "clouds_all            -0.007011\n",
              "air_pollution_index    1.000000\n",
              "traffic_volume        -0.003091\n",
              "Day                    0.006902\n",
              "month                  0.005437\n",
              "Year                  -0.003469\n",
              "Hour                   0.000262\n",
              "Name: air_pollution_index, dtype: float64"
            ]
          },
          "metadata": {
            "tags": []
          },
          "execution_count": 49
        }
      ]
    },
    {
      "cell_type": "code",
      "metadata": {
        "id": "0DMAtbkgaJ_o",
        "colab_type": "code",
        "colab": {}
      },
      "source": [
        ""
      ],
      "execution_count": null,
      "outputs": []
    },
    {
      "cell_type": "code",
      "metadata": {
        "id": "u_tzazLAZ47g",
        "colab_type": "code",
        "colab": {}
      },
      "source": [
        "#dropping columns\n",
        "Dataframe=df.drop(columns=['dew_point','visibility_in_miles'],axis=1)\n",
        "df_test=dftest.drop(columns=['dew_point','visibility_in_miles'],axis=1)"
      ],
      "execution_count": null,
      "outputs": []
    },
    {
      "cell_type": "code",
      "metadata": {
        "id": "IWKnzd0EasS2",
        "colab_type": "code",
        "colab": {
          "base_uri": "https://localhost:8080/",
          "height": 383
        },
        "outputId": "4797b3ba-8a6b-4403-c46e-e536acdd4368"
      },
      "source": [
        "Dataframe.head()"
      ],
      "execution_count": null,
      "outputs": [
        {
          "output_type": "execute_result",
          "data": {
            "text/html": [
              "<div>\n",
              "<style scoped>\n",
              "    .dataframe tbody tr th:only-of-type {\n",
              "        vertical-align: middle;\n",
              "    }\n",
              "\n",
              "    .dataframe tbody tr th {\n",
              "        vertical-align: top;\n",
              "    }\n",
              "\n",
              "    .dataframe thead th {\n",
              "        text-align: right;\n",
              "    }\n",
              "</style>\n",
              "<table border=\"1\" class=\"dataframe\">\n",
              "  <thead>\n",
              "    <tr style=\"text-align: right;\">\n",
              "      <th></th>\n",
              "      <th>date_time</th>\n",
              "      <th>humidity</th>\n",
              "      <th>wind_speed</th>\n",
              "      <th>wind_direction</th>\n",
              "      <th>temperature</th>\n",
              "      <th>rain_p_h</th>\n",
              "      <th>snow_p_h</th>\n",
              "      <th>clouds_all</th>\n",
              "      <th>air_pollution_index</th>\n",
              "      <th>traffic_volume</th>\n",
              "      <th>Day</th>\n",
              "      <th>Year</th>\n",
              "      <th>week_day</th>\n",
              "      <th>hour_coded</th>\n",
              "      <th>weekend</th>\n",
              "      <th>month_coded</th>\n",
              "      <th>weather_type_coded</th>\n",
              "      <th>is_holiday_coded</th>\n",
              "    </tr>\n",
              "  </thead>\n",
              "  <tbody>\n",
              "    <tr>\n",
              "      <th>0</th>\n",
              "      <td>2012-10-02 09:00:00</td>\n",
              "      <td>89</td>\n",
              "      <td>2</td>\n",
              "      <td>329</td>\n",
              "      <td>15.28</td>\n",
              "      <td>0.0</td>\n",
              "      <td>0.0</td>\n",
              "      <td>40</td>\n",
              "      <td>121</td>\n",
              "      <td>5545</td>\n",
              "      <td>2</td>\n",
              "      <td>2012</td>\n",
              "      <td>1</td>\n",
              "      <td>14</td>\n",
              "      <td>0</td>\n",
              "      <td>9</td>\n",
              "      <td>8</td>\n",
              "      <td>6</td>\n",
              "    </tr>\n",
              "    <tr>\n",
              "      <th>1</th>\n",
              "      <td>2012-10-02 10:00:00</td>\n",
              "      <td>67</td>\n",
              "      <td>3</td>\n",
              "      <td>330</td>\n",
              "      <td>16.36</td>\n",
              "      <td>0.0</td>\n",
              "      <td>0.0</td>\n",
              "      <td>75</td>\n",
              "      <td>178</td>\n",
              "      <td>4516</td>\n",
              "      <td>2</td>\n",
              "      <td>2012</td>\n",
              "      <td>1</td>\n",
              "      <td>4</td>\n",
              "      <td>0</td>\n",
              "      <td>9</td>\n",
              "      <td>8</td>\n",
              "      <td>6</td>\n",
              "    </tr>\n",
              "    <tr>\n",
              "      <th>2</th>\n",
              "      <td>2012-10-02 11:00:00</td>\n",
              "      <td>66</td>\n",
              "      <td>3</td>\n",
              "      <td>329</td>\n",
              "      <td>16.58</td>\n",
              "      <td>0.0</td>\n",
              "      <td>0.0</td>\n",
              "      <td>90</td>\n",
              "      <td>113</td>\n",
              "      <td>4767</td>\n",
              "      <td>2</td>\n",
              "      <td>2012</td>\n",
              "      <td>1</td>\n",
              "      <td>15</td>\n",
              "      <td>0</td>\n",
              "      <td>9</td>\n",
              "      <td>8</td>\n",
              "      <td>6</td>\n",
              "    </tr>\n",
              "    <tr>\n",
              "      <th>3</th>\n",
              "      <td>2012-10-02 12:00:00</td>\n",
              "      <td>66</td>\n",
              "      <td>3</td>\n",
              "      <td>329</td>\n",
              "      <td>17.13</td>\n",
              "      <td>0.0</td>\n",
              "      <td>0.0</td>\n",
              "      <td>90</td>\n",
              "      <td>20</td>\n",
              "      <td>5026</td>\n",
              "      <td>2</td>\n",
              "      <td>2012</td>\n",
              "      <td>1</td>\n",
              "      <td>18</td>\n",
              "      <td>0</td>\n",
              "      <td>9</td>\n",
              "      <td>8</td>\n",
              "      <td>6</td>\n",
              "    </tr>\n",
              "    <tr>\n",
              "      <th>4</th>\n",
              "      <td>2012-10-02 13:00:00</td>\n",
              "      <td>65</td>\n",
              "      <td>3</td>\n",
              "      <td>329</td>\n",
              "      <td>18.14</td>\n",
              "      <td>0.0</td>\n",
              "      <td>0.0</td>\n",
              "      <td>75</td>\n",
              "      <td>281</td>\n",
              "      <td>4918</td>\n",
              "      <td>2</td>\n",
              "      <td>2012</td>\n",
              "      <td>1</td>\n",
              "      <td>10</td>\n",
              "      <td>0</td>\n",
              "      <td>9</td>\n",
              "      <td>8</td>\n",
              "      <td>6</td>\n",
              "    </tr>\n",
              "  </tbody>\n",
              "</table>\n",
              "</div>"
            ],
            "text/plain": [
              "             date_time  humidity  ...  weather_type_coded  is_holiday_coded\n",
              "0  2012-10-02 09:00:00        89  ...                   8                 6\n",
              "1  2012-10-02 10:00:00        67  ...                   8                 6\n",
              "2  2012-10-02 11:00:00        66  ...                   8                 6\n",
              "3  2012-10-02 12:00:00        66  ...                   8                 6\n",
              "4  2012-10-02 13:00:00        65  ...                   8                 6\n",
              "\n",
              "[5 rows x 18 columns]"
            ]
          },
          "metadata": {
            "tags": []
          },
          "execution_count": 107
        }
      ]
    },
    {
      "cell_type": "code",
      "metadata": {
        "id": "FPqh5F8smyXB",
        "colab_type": "code",
        "colab": {
          "base_uri": "https://localhost:8080/",
          "height": 383
        },
        "outputId": "f51c52e3-7136-4c01-d1ed-81325425028f"
      },
      "source": [
        "df_test.head()"
      ],
      "execution_count": null,
      "outputs": [
        {
          "output_type": "execute_result",
          "data": {
            "text/html": [
              "<div>\n",
              "<style scoped>\n",
              "    .dataframe tbody tr th:only-of-type {\n",
              "        vertical-align: middle;\n",
              "    }\n",
              "\n",
              "    .dataframe tbody tr th {\n",
              "        vertical-align: top;\n",
              "    }\n",
              "\n",
              "    .dataframe thead th {\n",
              "        text-align: right;\n",
              "    }\n",
              "</style>\n",
              "<table border=\"1\" class=\"dataframe\">\n",
              "  <thead>\n",
              "    <tr style=\"text-align: right;\">\n",
              "      <th></th>\n",
              "      <th>date_time</th>\n",
              "      <th>humidity</th>\n",
              "      <th>wind_speed</th>\n",
              "      <th>wind_direction</th>\n",
              "      <th>temperature</th>\n",
              "      <th>rain_p_h</th>\n",
              "      <th>snow_p_h</th>\n",
              "      <th>clouds_all</th>\n",
              "      <th>traffic_volume</th>\n",
              "      <th>Day</th>\n",
              "      <th>Year</th>\n",
              "      <th>week_day</th>\n",
              "      <th>hour_coded</th>\n",
              "      <th>weekend</th>\n",
              "      <th>month_coded</th>\n",
              "      <th>weather_type_coded</th>\n",
              "      <th>is_holiday_coded</th>\n",
              "    </tr>\n",
              "  </thead>\n",
              "  <tbody>\n",
              "    <tr>\n",
              "      <th>0</th>\n",
              "      <td>2017-05-18 00:00:00</td>\n",
              "      <td>63</td>\n",
              "      <td>1</td>\n",
              "      <td>27</td>\n",
              "      <td>12.15</td>\n",
              "      <td>0.0</td>\n",
              "      <td>0</td>\n",
              "      <td>90</td>\n",
              "      <td>646</td>\n",
              "      <td>18</td>\n",
              "      <td>2017</td>\n",
              "      <td>3</td>\n",
              "      <td>22</td>\n",
              "      <td>4</td>\n",
              "      <td>5</td>\n",
              "      <td>6</td>\n",
              "      <td>6</td>\n",
              "    </tr>\n",
              "    <tr>\n",
              "      <th>1</th>\n",
              "      <td>2017-05-18 00:00:00</td>\n",
              "      <td>63</td>\n",
              "      <td>1</td>\n",
              "      <td>27</td>\n",
              "      <td>12.15</td>\n",
              "      <td>0.0</td>\n",
              "      <td>0</td>\n",
              "      <td>90</td>\n",
              "      <td>646</td>\n",
              "      <td>18</td>\n",
              "      <td>2017</td>\n",
              "      <td>3</td>\n",
              "      <td>22</td>\n",
              "      <td>4</td>\n",
              "      <td>5</td>\n",
              "      <td>4</td>\n",
              "      <td>6</td>\n",
              "    </tr>\n",
              "    <tr>\n",
              "      <th>2</th>\n",
              "      <td>2017-05-18 00:00:00</td>\n",
              "      <td>56</td>\n",
              "      <td>1</td>\n",
              "      <td>0</td>\n",
              "      <td>12.15</td>\n",
              "      <td>0.0</td>\n",
              "      <td>0</td>\n",
              "      <td>90</td>\n",
              "      <td>646</td>\n",
              "      <td>18</td>\n",
              "      <td>2017</td>\n",
              "      <td>3</td>\n",
              "      <td>22</td>\n",
              "      <td>4</td>\n",
              "      <td>5</td>\n",
              "      <td>7</td>\n",
              "      <td>6</td>\n",
              "    </tr>\n",
              "    <tr>\n",
              "      <th>3</th>\n",
              "      <td>2017-05-18 01:00:00</td>\n",
              "      <td>56</td>\n",
              "      <td>1</td>\n",
              "      <td>351</td>\n",
              "      <td>11.79</td>\n",
              "      <td>0.0</td>\n",
              "      <td>0</td>\n",
              "      <td>90</td>\n",
              "      <td>353</td>\n",
              "      <td>18</td>\n",
              "      <td>2017</td>\n",
              "      <td>3</td>\n",
              "      <td>7</td>\n",
              "      <td>4</td>\n",
              "      <td>5</td>\n",
              "      <td>6</td>\n",
              "      <td>6</td>\n",
              "    </tr>\n",
              "    <tr>\n",
              "      <th>4</th>\n",
              "      <td>2017-05-18 01:00:00</td>\n",
              "      <td>56</td>\n",
              "      <td>1</td>\n",
              "      <td>351</td>\n",
              "      <td>11.79</td>\n",
              "      <td>0.0</td>\n",
              "      <td>0</td>\n",
              "      <td>90</td>\n",
              "      <td>353</td>\n",
              "      <td>18</td>\n",
              "      <td>2017</td>\n",
              "      <td>3</td>\n",
              "      <td>7</td>\n",
              "      <td>4</td>\n",
              "      <td>5</td>\n",
              "      <td>4</td>\n",
              "      <td>6</td>\n",
              "    </tr>\n",
              "  </tbody>\n",
              "</table>\n",
              "</div>"
            ],
            "text/plain": [
              "             date_time  humidity  ...  weather_type_coded  is_holiday_coded\n",
              "0  2017-05-18 00:00:00        63  ...                   6                 6\n",
              "1  2017-05-18 00:00:00        63  ...                   4                 6\n",
              "2  2017-05-18 00:00:00        56  ...                   7                 6\n",
              "3  2017-05-18 01:00:00        56  ...                   6                 6\n",
              "4  2017-05-18 01:00:00        56  ...                   4                 6\n",
              "\n",
              "[5 rows x 17 columns]"
            ]
          },
          "metadata": {
            "tags": []
          },
          "execution_count": 54
        }
      ]
    },
    {
      "cell_type": "code",
      "metadata": {
        "id": "P7lYqUaCbKMI",
        "colab_type": "code",
        "colab": {}
      },
      "source": [
        "target=Dataframe.pop('air_pollution_index')\n",
        "Dataframe['air_pollution_index']=target"
      ],
      "execution_count": null,
      "outputs": []
    },
    {
      "cell_type": "code",
      "metadata": {
        "id": "UxlYSDxabngk",
        "colab_type": "code",
        "colab": {
          "base_uri": "https://localhost:8080/",
          "height": 383
        },
        "outputId": "687c1468-c941-40cc-ca09-1a733627ecfe"
      },
      "source": [
        "Dataframe.head()"
      ],
      "execution_count": null,
      "outputs": [
        {
          "output_type": "execute_result",
          "data": {
            "text/html": [
              "<div>\n",
              "<style scoped>\n",
              "    .dataframe tbody tr th:only-of-type {\n",
              "        vertical-align: middle;\n",
              "    }\n",
              "\n",
              "    .dataframe tbody tr th {\n",
              "        vertical-align: top;\n",
              "    }\n",
              "\n",
              "    .dataframe thead th {\n",
              "        text-align: right;\n",
              "    }\n",
              "</style>\n",
              "<table border=\"1\" class=\"dataframe\">\n",
              "  <thead>\n",
              "    <tr style=\"text-align: right;\">\n",
              "      <th></th>\n",
              "      <th>date_time</th>\n",
              "      <th>humidity</th>\n",
              "      <th>wind_speed</th>\n",
              "      <th>wind_direction</th>\n",
              "      <th>temperature</th>\n",
              "      <th>rain_p_h</th>\n",
              "      <th>snow_p_h</th>\n",
              "      <th>clouds_all</th>\n",
              "      <th>traffic_volume</th>\n",
              "      <th>Day</th>\n",
              "      <th>Year</th>\n",
              "      <th>week_day</th>\n",
              "      <th>hour_coded</th>\n",
              "      <th>weekend</th>\n",
              "      <th>month_coded</th>\n",
              "      <th>weather_type_coded</th>\n",
              "      <th>is_holiday_coded</th>\n",
              "      <th>air_pollution_index</th>\n",
              "    </tr>\n",
              "  </thead>\n",
              "  <tbody>\n",
              "    <tr>\n",
              "      <th>0</th>\n",
              "      <td>2012-10-02 09:00:00</td>\n",
              "      <td>89</td>\n",
              "      <td>2</td>\n",
              "      <td>329</td>\n",
              "      <td>15.28</td>\n",
              "      <td>0.0</td>\n",
              "      <td>0.0</td>\n",
              "      <td>40</td>\n",
              "      <td>5545</td>\n",
              "      <td>2</td>\n",
              "      <td>2012</td>\n",
              "      <td>1</td>\n",
              "      <td>14</td>\n",
              "      <td>0</td>\n",
              "      <td>9</td>\n",
              "      <td>8</td>\n",
              "      <td>6</td>\n",
              "      <td>121</td>\n",
              "    </tr>\n",
              "    <tr>\n",
              "      <th>1</th>\n",
              "      <td>2012-10-02 10:00:00</td>\n",
              "      <td>67</td>\n",
              "      <td>3</td>\n",
              "      <td>330</td>\n",
              "      <td>16.36</td>\n",
              "      <td>0.0</td>\n",
              "      <td>0.0</td>\n",
              "      <td>75</td>\n",
              "      <td>4516</td>\n",
              "      <td>2</td>\n",
              "      <td>2012</td>\n",
              "      <td>1</td>\n",
              "      <td>4</td>\n",
              "      <td>0</td>\n",
              "      <td>9</td>\n",
              "      <td>8</td>\n",
              "      <td>6</td>\n",
              "      <td>178</td>\n",
              "    </tr>\n",
              "    <tr>\n",
              "      <th>2</th>\n",
              "      <td>2012-10-02 11:00:00</td>\n",
              "      <td>66</td>\n",
              "      <td>3</td>\n",
              "      <td>329</td>\n",
              "      <td>16.58</td>\n",
              "      <td>0.0</td>\n",
              "      <td>0.0</td>\n",
              "      <td>90</td>\n",
              "      <td>4767</td>\n",
              "      <td>2</td>\n",
              "      <td>2012</td>\n",
              "      <td>1</td>\n",
              "      <td>15</td>\n",
              "      <td>0</td>\n",
              "      <td>9</td>\n",
              "      <td>8</td>\n",
              "      <td>6</td>\n",
              "      <td>113</td>\n",
              "    </tr>\n",
              "    <tr>\n",
              "      <th>3</th>\n",
              "      <td>2012-10-02 12:00:00</td>\n",
              "      <td>66</td>\n",
              "      <td>3</td>\n",
              "      <td>329</td>\n",
              "      <td>17.13</td>\n",
              "      <td>0.0</td>\n",
              "      <td>0.0</td>\n",
              "      <td>90</td>\n",
              "      <td>5026</td>\n",
              "      <td>2</td>\n",
              "      <td>2012</td>\n",
              "      <td>1</td>\n",
              "      <td>18</td>\n",
              "      <td>0</td>\n",
              "      <td>9</td>\n",
              "      <td>8</td>\n",
              "      <td>6</td>\n",
              "      <td>20</td>\n",
              "    </tr>\n",
              "    <tr>\n",
              "      <th>4</th>\n",
              "      <td>2012-10-02 13:00:00</td>\n",
              "      <td>65</td>\n",
              "      <td>3</td>\n",
              "      <td>329</td>\n",
              "      <td>18.14</td>\n",
              "      <td>0.0</td>\n",
              "      <td>0.0</td>\n",
              "      <td>75</td>\n",
              "      <td>4918</td>\n",
              "      <td>2</td>\n",
              "      <td>2012</td>\n",
              "      <td>1</td>\n",
              "      <td>10</td>\n",
              "      <td>0</td>\n",
              "      <td>9</td>\n",
              "      <td>8</td>\n",
              "      <td>6</td>\n",
              "      <td>281</td>\n",
              "    </tr>\n",
              "  </tbody>\n",
              "</table>\n",
              "</div>"
            ],
            "text/plain": [
              "             date_time  humidity  ...  is_holiday_coded  air_pollution_index\n",
              "0  2012-10-02 09:00:00        89  ...                 6                  121\n",
              "1  2012-10-02 10:00:00        67  ...                 6                  178\n",
              "2  2012-10-02 11:00:00        66  ...                 6                  113\n",
              "3  2012-10-02 12:00:00        66  ...                 6                   20\n",
              "4  2012-10-02 13:00:00        65  ...                 6                  281\n",
              "\n",
              "[5 rows x 18 columns]"
            ]
          },
          "metadata": {
            "tags": []
          },
          "execution_count": 109
        }
      ]
    },
    {
      "cell_type": "code",
      "metadata": {
        "id": "R4BF_ikxfpgK",
        "colab_type": "code",
        "colab": {}
      },
      "source": [
        "train_df=Dataframe.drop(columns=['date_time'],axis=1)\n",
        "df_test=df_test.drop(columns=['date_time'],axis=1)\n"
      ],
      "execution_count": null,
      "outputs": []
    },
    {
      "cell_type": "code",
      "metadata": {
        "id": "5uk3yeGA_Zkw",
        "colab_type": "code",
        "colab": {
          "base_uri": "https://localhost:8080/",
          "height": 34
        },
        "outputId": "5b19dec1-4b52-416b-9374-7129fd662185"
      },
      "source": [
        "train_df.shape,df_test.shape"
      ],
      "execution_count": null,
      "outputs": [
        {
          "output_type": "execute_result",
          "data": {
            "text/plain": [
              "((33750, 17), (14454, 16))"
            ]
          },
          "metadata": {
            "tags": []
          },
          "execution_count": 111
        }
      ]
    },
    {
      "cell_type": "markdown",
      "metadata": {
        "id": "2Bm9eUqhXd4J",
        "colab_type": "text"
      },
      "source": [
        "# Training and testing"
      ]
    },
    {
      "cell_type": "code",
      "metadata": {
        "id": "PrerPns_hegm",
        "colab_type": "code",
        "colab": {}
      },
      "source": [
        "X = train_df.drop(labels=['air_pollution_index'], axis=1)\n",
        "y = train_df['air_pollution_index'].values\n",
        "\n",
        "from sklearn.model_selection import train_test_split\n",
        "X_train, X_cv, y_train, y_cv = train_test_split(X, y, test_size=0.25, random_state=42)"
      ],
      "execution_count": null,
      "outputs": []
    },
    {
      "cell_type": "code",
      "metadata": {
        "id": "4JOJS0aXhqT2",
        "colab_type": "code",
        "colab": {
          "base_uri": "https://localhost:8080/",
          "height": 34
        },
        "outputId": "00a282eb-c0d1-4f08-c494-469238f148cb"
      },
      "source": [
        "X_train.shape, y_train.shape, X_cv.shape, y_cv.shape"
      ],
      "execution_count": null,
      "outputs": [
        {
          "output_type": "execute_result",
          "data": {
            "text/plain": [
              "((25312, 16), (25312,), (8438, 16), (8438,))"
            ]
          },
          "metadata": {
            "tags": []
          },
          "execution_count": 113
        }
      ]
    },
    {
      "cell_type": "code",
      "metadata": {
        "id": "pbHIZBE4huav",
        "colab_type": "code",
        "colab": {}
      },
      "source": [
        "from math import sqrt \n",
        "from sklearn.metrics import mean_absolute_error"
      ],
      "execution_count": null,
      "outputs": []
    },
    {
      "cell_type": "code",
      "metadata": {
        "id": "-48AqTjRhzeB",
        "colab_type": "code",
        "colab": {
          "base_uri": "https://localhost:8080/",
          "height": 205
        },
        "outputId": "8aedddfd-2d9a-4117-f7e5-fd3cd286a444"
      },
      "source": [
        "import lightgbm as lgb\n",
        "train_data = lgb.Dataset(X_train, label=y_train)\n",
        "test_data = lgb.Dataset(X_cv, label=y_cv)\n",
        "\n",
        "param = {'objective': 'regression',\n",
        "         'num_leaves':20,\n",
        "         'boosting': 'gbdt',  \n",
        "         'metric': 'mae',\n",
        "         'learning_rate': 0.2, \n",
        "         'num_iterations': 1000,\n",
        "         'num_leaves': 80,\n",
        "         'max_depth': 6,\n",
        "         'min_data_in_leaf': 11,\n",
        "         'bagging_fraction': 0.80,\n",
        "         'bagging_freq': 1,\n",
        "         'bagging_seed': 142,\n",
        "         'feature_fraction': 0.80,\n",
        "         'feature_fraction_seed': 2,\n",
        "         'early_stopping_round': 200,\n",
        "         'max_bin': 250\n",
        "         }\n",
        "\n",
        "lgbm = lgb.train(params=param, verbose_eval=100, train_set=train_data, valid_sets=[test_data])\n",
        "\n",
        "y_pred_lgbm = lgbm.predict(X_cv)\n",
        "print('RMSLE:', sqrt(mean_absolute_error(np.expm1(y_cv), np.expm1(y_pred_lgbm))))\n"
      ],
      "execution_count": null,
      "outputs": [
        {
          "output_type": "stream",
          "text": [
            "/usr/local/lib/python3.6/dist-packages/lightgbm/engine.py:118: UserWarning: Found `num_iterations` in params. Will use it instead of argument\n",
            "  warnings.warn(\"Found `{}` in params. Will use it instead of argument\".format(alias))\n",
            "/usr/local/lib/python3.6/dist-packages/lightgbm/engine.py:123: UserWarning: Found `early_stopping_round` in params. Will use it instead of argument\n",
            "  warnings.warn(\"Found `{}` in params. Will use it instead of argument\".format(alias))\n"
          ],
          "name": "stderr"
        },
        {
          "output_type": "stream",
          "text": [
            "Training until validation scores don't improve for 200 rounds.\n",
            "[100]\tvalid_0's l1: 74.5565\n",
            "[200]\tvalid_0's l1: 75.4995\n",
            "Early stopping, best iteration is:\n",
            "[1]\tvalid_0's l1: 73.2414\n",
            "RMSLE: 6.14511619454321e+63\n"
          ],
          "name": "stdout"
        }
      ]
    },
    {
      "cell_type": "code",
      "metadata": {
        "id": "QUH87gfTiHyI",
        "colab_type": "code",
        "colab": {
          "base_uri": "https://localhost:8080/",
          "height": 729
        },
        "outputId": "70bbcf4d-5273-495c-ee8f-541ac6a445c0"
      },
      "source": [
        "import seaborn as sns\n",
        "feature_imp = pd.DataFrame(sorted(zip(lgbm.feature_importance(), X.columns), reverse=True)[:50], \n",
        "                           columns=['Value','Feature'])\n",
        "plt.figure(figsize=(12, 10))\n",
        "sns.barplot(x=\"Value\", y=\"Feature\", data=feature_imp.sort_values(by=\"Value\", ascending=False))\n",
        "plt.title('LightGBM Features')\n",
        "plt.tight_layout()\n",
        "plt.show()"
      ],
      "execution_count": null,
      "outputs": [
        {
          "output_type": "display_data",
          "data": {
            "image/png": "[encoded data removed]",
            "text/plain": [
              "<Figure size 864x720 with 1 Axes>"
            ]
          },
          "metadata": {
            "tags": [],
            "needs_background": "light"
          }
        }
      ]
    },
    {
      "cell_type": "code",
      "metadata": {
        "id": "tqQlxRQSklVB",
        "colab_type": "code",
        "colab": {}
      },
      "source": [
        "\n",
        "Xtest = df_test"
      ],
      "execution_count": null,
      "outputs": []
    },
    {
      "cell_type": "code",
      "metadata": {
        "id": "Gmvy6z3k_J3S",
        "colab_type": "code",
        "colab": {
          "base_uri": "https://localhost:8080/",
          "height": 34
        },
        "outputId": "b02f5286-05c9-4842-a448-5cef65833364"
      },
      "source": [
        "Xtest.shape"
      ],
      "execution_count": null,
      "outputs": [
        {
          "output_type": "execute_result",
          "data": {
            "text/plain": [
              "(14454, 18)"
            ]
          },
          "metadata": {
            "tags": []
          },
          "execution_count": 102
        }
      ]
    },
    {
      "cell_type": "code",
      "metadata": {
        "id": "hLC73juikYnV",
        "colab_type": "code",
        "colab": {
          "base_uri": "https://localhost:8080/",
          "height": 185
        },
        "outputId": "a7c360c1-7757-4651-bc49-32352bc27012"
      },
      "source": [
        "from sklearn.model_selection import KFold\n",
        "from lightgbm import LGBMRegressor\n",
        "\n",
        "errlgb = []\n",
        "y_pred_totlgb = []\n",
        "\n",
        "fold = KFold(n_splits=\n",
        "             10, shuffle=True, random_state=101)\n",
        "\n",
        "for train_index, test_index in fold.split(X):\n",
        "    X_train, X_test = X.loc[train_index], X.loc[test_index]\n",
        "    y_train, y_test = y[train_index], y[test_index]\n",
        "\n",
        "    lgbm = LGBMRegressor(boosting_type='gbdt', num_leaves=500, max_depth=31, learning_rate=0.1, n_estimators=1000, min_child_samples=20, subsample=0.80)\n",
        "    lgbm.fit(X_train, y_train, eval_set=[(X_test, y_test)], verbose=0, early_stopping_rounds=100)\n",
        "\n",
        "    y_pred_lgbm = lgbm.predict(X_test)\n",
        "    print(\"RMSLE LGBM: \", sqrt(mean_absolute_error(y_test, y_pred_lgbm)))\n",
        "\n",
        "    errlgb.append(sqrt(mean_absolute_error(y_test, y_pred_lgbm)))\n",
        "    p = lgbm.predict(Xtest)\n",
        "    y_pred_totlgb.append(p)"
      ],
      "execution_count": null,
      "outputs": [
        {
          "output_type": "stream",
          "text": [
            "RMSLE LGBM:  8.490529205916305\n",
            "RMSLE LGBM:  8.455988077393828\n",
            "RMSLE LGBM:  8.570797953557912\n",
            "RMSLE LGBM:  8.503133916135848\n",
            "RMSLE LGBM:  8.48354166323847\n",
            "RMSLE LGBM:  8.550167560375185\n",
            "RMSLE LGBM:  8.616216961708776\n",
            "RMSLE LGBM:  8.532095367371022\n",
            "RMSLE LGBM:  8.496252916653726\n",
            "RMSLE LGBM:  8.49078828709154\n"
          ],
          "name": "stdout"
        }
      ]
    },
    {
      "cell_type": "code",
      "metadata": {
        "id": "6TshCigqAOlT",
        "colab_type": "code",
        "colab": {
          "base_uri": "https://localhost:8080/",
          "height": 34
        },
        "outputId": "0024f3e2-00ef-4705-d9c7-26bc4a048b13"
      },
      "source": [
        "100-np.mean(errlgb,0)"
      ],
      "execution_count": null,
      "outputs": [
        {
          "output_type": "execute_result",
          "data": {
            "text/plain": [
              "91.48104880905574"
            ]
          },
          "metadata": {
            "tags": []
          },
          "execution_count": 118
        }
      ]
    },
    {
      "cell_type": "code",
      "metadata": {
        "id": "TwVl2BvuASoy",
        "colab_type": "code",
        "colab": {}
      },
      "source": [
        "lgbm_final=y_pred_totlgb[0]*0.6+y_pred_totlgb[1]*0.4"
      ],
      "execution_count": null,
      "outputs": []
    },
    {
      "cell_type": "code",
      "metadata": {
        "id": "h8cElghLAXop",
        "colab_type": "code",
        "colab": {
          "base_uri": "https://localhost:8080/",
          "height": 50
        },
        "outputId": "be1d7841-b4e1-4750-fc63-51c3e78ce163"
      },
      "source": [
        "lgbm_final = np.mean(y_pred_totlgb,0)\n",
        "lgbm_final"
      ],
      "execution_count": null,
      "outputs": [
        {
          "output_type": "execute_result",
          "data": {
            "text/plain": [
              "array([154.65033354, 155.13071847, 154.46899243, ..., 152.60484875,\n",
              "       154.22521326, 152.9568575 ])"
            ]
          },
          "metadata": {
            "tags": []
          },
          "execution_count": 120
        }
      ]
    },
    {
      "cell_type": "code",
      "metadata": {
        "id": "USfEs1AxAb1q",
        "colab_type": "code",
        "colab": {
          "base_uri": "https://localhost:8080/",
          "height": 252
        },
        "outputId": "ab0d2fc4-bdc6-404b-c5f3-a93c7cc48e11"
      },
      "source": [
        "submission = pd.DataFrame({\n",
        "        \"date_time\": out1,\n",
        "        \"air_pollution_index\": lgbm_final\n",
        "    })\n",
        "submission.to_csv('submission.csv', index=False)\n",
        "print(submission)"
      ],
      "execution_count": null,
      "outputs": [
        {
          "output_type": "stream",
          "text": [
            "                 date_time  air_pollution_index\n",
            "0      2017-05-18 00:00:00           154.650334\n",
            "1      2017-05-18 00:00:00           155.130718\n",
            "2      2017-05-18 00:00:00           154.468992\n",
            "3      2017-05-18 01:00:00           154.962534\n",
            "4      2017-05-18 01:00:00           154.822096\n",
            "...                    ...                  ...\n",
            "14449  2018-09-30 19:00:00           152.194725\n",
            "14450  2018-09-30 20:00:00           154.853322\n",
            "14451  2018-09-30 21:00:00           152.604849\n",
            "14452  2018-09-30 22:00:00           154.225213\n",
            "14453  2018-09-30 23:00:00           152.956857\n",
            "\n",
            "[14454 rows x 2 columns]\n"
          ],
          "name": "stdout"
        }
      ]
    }
  ]
}