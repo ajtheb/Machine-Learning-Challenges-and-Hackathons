{
  "nbformat": 4,
  "nbformat_minor": 0,
  "metadata": {
    "colab": {
      "name": "Price of gifts.ipynb",
      "provenance": [],
      "collapsed_sections": []
    },
    "kernelspec": {
      "name": "python3",
      "display_name": "Python 3"
    }
  },
  "cells": [
    {
      "cell_type": "code",
      "metadata": {
        "id": "48YW3VmGv5nK",
        "colab_type": "code",
        "colab": {
          "base_uri": "https://localhost:8080/",
          "height": 34
        },
        "outputId": "7fbf4be5-2833-4492-c6ca-445186a91eae"
      },
      "source": [
        "# Importing Libraries(Technologies)\n",
        "from math import sqrt\n",
        "from pandas_datareader import data \n",
        "import matplotlib.pyplot as plt\n",
        "import scipy\n",
        "import pandas as pd\n",
        "import datetime as dt\n",
        "from datetime import date\n",
        "import urllib.request,json\n",
        "import os\n",
        "import numpy as np\n",
        "import tensorflow as tf\n",
        "from sklearn.preprocessing import MinMaxScaler\n",
        "from sklearn.metrics import mean_squared_error\n",
        "#import sweetviz\n",
        "from keras.models import Sequential\n",
        "from keras.layers import Dense,LSTM"
      ],
      "execution_count": 34,
      "outputs": [
        {
          "output_type": "stream",
          "text": [
            "Using TensorFlow backend.\n"
          ],
          "name": "stderr"
        }
      ]
    },
    {
      "cell_type": "code",
      "metadata": {
        "id": "3gBGBATawO7r",
        "colab_type": "code",
        "colab": {}
      },
      "source": [
        "!pip install sweetviz"
      ],
      "execution_count": null,
      "outputs": []
    },
    {
      "cell_type": "code",
      "metadata": {
        "id": "gVXhAnCg1tIv",
        "colab_type": "code",
        "colab": {}
      },
      "source": [
        "df=pd.read_csv('https://github.com/ajtheb/predict-gift-price-hackerearth/blob/master/dataset/train.csv?raw=true')\n",
        "dftest=pd.read_csv('https://github.com/ajtheb/predict-gift-price-hackerearth/blob/master/dataset/test.csv?raw=true')"
      ],
      "execution_count": 70,
      "outputs": []
    },
    {
      "cell_type": "code",
      "metadata": {
        "id": "X8LFogam48Xr",
        "colab_type": "code",
        "colab": {
          "base_uri": "https://localhost:8080/",
          "height": 178
        },
        "outputId": "1c0460be-dbc1-4b1e-cb52-b6869a71bfad"
      },
      "source": [
        "my_report = sweetviz.analyze([df, \"Train\"],target_feat='price')\n",
        "my_report.show_html('Report.html')"
      ],
      "execution_count": 36,
      "outputs": [
        {
          "output_type": "error",
          "ename": "NameError",
          "evalue": "ignored",
          "traceback": [
            "\u001b[0;31m---------------------------------------------------------------------------\u001b[0m",
            "\u001b[0;31mNameError\u001b[0m                                 Traceback (most recent call last)",
            "\u001b[0;32m<ipython-input-36-621e440dfc65>\u001b[0m in \u001b[0;36m<module>\u001b[0;34m()\u001b[0m\n\u001b[0;32m----> 1\u001b[0;31m \u001b[0mmy_report\u001b[0m \u001b[0;34m=\u001b[0m \u001b[0msweetviz\u001b[0m\u001b[0;34m.\u001b[0m\u001b[0manalyze\u001b[0m\u001b[0;34m(\u001b[0m\u001b[0;34m[\u001b[0m\u001b[0mdf\u001b[0m\u001b[0;34m,\u001b[0m \u001b[0;34m\"Train\"\u001b[0m\u001b[0;34m]\u001b[0m\u001b[0;34m,\u001b[0m\u001b[0mtarget_feat\u001b[0m\u001b[0;34m=\u001b[0m\u001b[0;34m'price'\u001b[0m\u001b[0;34m)\u001b[0m\u001b[0;34m\u001b[0m\u001b[0;34m\u001b[0m\u001b[0m\n\u001b[0m\u001b[1;32m      2\u001b[0m \u001b[0mmy_report\u001b[0m\u001b[0;34m.\u001b[0m\u001b[0mshow_html\u001b[0m\u001b[0;34m(\u001b[0m\u001b[0;34m'Report.html'\u001b[0m\u001b[0;34m)\u001b[0m\u001b[0;34m\u001b[0m\u001b[0;34m\u001b[0m\u001b[0m\n",
            "\u001b[0;31mNameError\u001b[0m: name 'sweetviz' is not defined"
          ]
        }
      ]
    },
    {
      "cell_type": "code",
      "metadata": {
        "id": "bXexkdtc2e3U",
        "colab_type": "code",
        "colab": {
          "base_uri": "https://localhost:8080/",
          "height": 34
        },
        "outputId": "ee8fc589-0110-4604-af58-1c32a6820907"
      },
      "source": [
        "df.shape"
      ],
      "execution_count": null,
      "outputs": [
        {
          "output_type": "execute_result",
          "data": {
            "text/plain": [
              "(20279, 17)"
            ]
          },
          "metadata": {
            "tags": []
          },
          "execution_count": 3
        }
      ]
    },
    {
      "cell_type": "code",
      "metadata": {
        "id": "cXV9QgJ72hov",
        "colab_type": "code",
        "colab": {
          "base_uri": "https://localhost:8080/",
          "height": 299
        },
        "outputId": "f42917bb-ff2f-4017-8442-5af1a327baff"
      },
      "source": [
        "df.head()"
      ],
      "execution_count": null,
      "outputs": [
        {
          "output_type": "execute_result",
          "data": {
            "text/html": [
              "<div>\n",
              "<style scoped>\n",
              "    .dataframe tbody tr th:only-of-type {\n",
              "        vertical-align: middle;\n",
              "    }\n",
              "\n",
              "    .dataframe tbody tr th {\n",
              "        vertical-align: top;\n",
              "    }\n",
              "\n",
              "    .dataframe thead th {\n",
              "        text-align: right;\n",
              "    }\n",
              "</style>\n",
              "<table border=\"1\" class=\"dataframe\">\n",
              "  <thead>\n",
              "    <tr style=\"text-align: right;\">\n",
              "      <th></th>\n",
              "      <th>gift_id</th>\n",
              "      <th>gift_type</th>\n",
              "      <th>gift_category</th>\n",
              "      <th>gift_cluster</th>\n",
              "      <th>instock_date</th>\n",
              "      <th>stock_update_date</th>\n",
              "      <th>lsg_1</th>\n",
              "      <th>lsg_2</th>\n",
              "      <th>lsg_3</th>\n",
              "      <th>lsg_4</th>\n",
              "      <th>lsg_5</th>\n",
              "      <th>lsg_6</th>\n",
              "      <th>uk_date1</th>\n",
              "      <th>uk_date2</th>\n",
              "      <th>is_discounted</th>\n",
              "      <th>volumes</th>\n",
              "      <th>price</th>\n",
              "    </tr>\n",
              "  </thead>\n",
              "  <tbody>\n",
              "    <tr>\n",
              "      <th>0</th>\n",
              "      <td>GF_11156</td>\n",
              "      <td>61</td>\n",
              "      <td>534</td>\n",
              "      <td>3942</td>\n",
              "      <td>2014-02-21 05:07:06.000</td>\n",
              "      <td>2016-11-09 15:49:51.000</td>\n",
              "      <td>3377</td>\n",
              "      <td>5221</td>\n",
              "      <td>504</td>\n",
              "      <td>1912</td>\n",
              "      <td>10</td>\n",
              "      <td>554</td>\n",
              "      <td>2014-02-24 08:07:06.000</td>\n",
              "      <td>2014-02-24 07:07:06.000</td>\n",
              "      <td>0</td>\n",
              "      <td>NaN</td>\n",
              "      <td>175.54</td>\n",
              "    </tr>\n",
              "    <tr>\n",
              "      <th>1</th>\n",
              "      <td>GF_11157</td>\n",
              "      <td>61</td>\n",
              "      <td>534</td>\n",
              "      <td>3942</td>\n",
              "      <td>2014-02-21 06:07:06.000</td>\n",
              "      <td>2016-11-11 13:49:51.000</td>\n",
              "      <td>3377</td>\n",
              "      <td>5221</td>\n",
              "      <td>504</td>\n",
              "      <td>1912</td>\n",
              "      <td>10</td>\n",
              "      <td>554</td>\n",
              "      <td>2014-02-22 07:07:06.000</td>\n",
              "      <td>2014-02-24 06:07:06.000</td>\n",
              "      <td>1</td>\n",
              "      <td>NaN</td>\n",
              "      <td>95.80</td>\n",
              "    </tr>\n",
              "    <tr>\n",
              "      <th>2</th>\n",
              "      <td>GF_15689</td>\n",
              "      <td>584</td>\n",
              "      <td>262</td>\n",
              "      <td>0</td>\n",
              "      <td>2014-02-21 09:30:21.000</td>\n",
              "      <td>2016-03-24 14:46:18.000</td>\n",
              "      <td>5290</td>\n",
              "      <td>1579</td>\n",
              "      <td>3203</td>\n",
              "      <td>1912</td>\n",
              "      <td>9</td>\n",
              "      <td>1578</td>\n",
              "      <td>2016-01-26 00:04:45.000</td>\n",
              "      <td>2016-03-18 02:00:00.000</td>\n",
              "      <td>1</td>\n",
              "      <td>NaN</td>\n",
              "      <td>107.35</td>\n",
              "    </tr>\n",
              "    <tr>\n",
              "      <th>3</th>\n",
              "      <td>GF_11155</td>\n",
              "      <td>61</td>\n",
              "      <td>534</td>\n",
              "      <td>3942</td>\n",
              "      <td>2014-02-22 05:07:06.000</td>\n",
              "      <td>2016-11-10 16:49:51.000</td>\n",
              "      <td>3377</td>\n",
              "      <td>5221</td>\n",
              "      <td>504</td>\n",
              "      <td>1912</td>\n",
              "      <td>10</td>\n",
              "      <td>554</td>\n",
              "      <td>2016-11-07 13:49:51.000</td>\n",
              "      <td>2016-11-06 04:00:00.000</td>\n",
              "      <td>0</td>\n",
              "      <td>NaN</td>\n",
              "      <td>172.90</td>\n",
              "    </tr>\n",
              "    <tr>\n",
              "      <th>4</th>\n",
              "      <td>GF_11158</td>\n",
              "      <td>61</td>\n",
              "      <td>534</td>\n",
              "      <td>3942</td>\n",
              "      <td>2014-02-22 07:07:06.000</td>\n",
              "      <td>2016-11-10 13:49:51.000</td>\n",
              "      <td>3377</td>\n",
              "      <td>5221</td>\n",
              "      <td>504</td>\n",
              "      <td>1912</td>\n",
              "      <td>9</td>\n",
              "      <td>554</td>\n",
              "      <td>2016-11-07 15:49:51.000</td>\n",
              "      <td>2016-11-06 01:00:00.000</td>\n",
              "      <td>1</td>\n",
              "      <td>NaN</td>\n",
              "      <td>77.72</td>\n",
              "    </tr>\n",
              "  </tbody>\n",
              "</table>\n",
              "</div>"
            ],
            "text/plain": [
              "    gift_id  gift_type  gift_category  ...  is_discounted volumes   price\n",
              "0  GF_11156         61            534  ...              0     NaN  175.54\n",
              "1  GF_11157         61            534  ...              1     NaN   95.80\n",
              "2  GF_15689        584            262  ...              1     NaN  107.35\n",
              "3  GF_11155         61            534  ...              0     NaN  172.90\n",
              "4  GF_11158         61            534  ...              1     NaN   77.72\n",
              "\n",
              "[5 rows x 17 columns]"
            ]
          },
          "metadata": {
            "tags": []
          },
          "execution_count": 4
        }
      ]
    },
    {
      "cell_type": "code",
      "metadata": {
        "id": "cAHkCx3l2uBh",
        "colab_type": "code",
        "colab": {
          "base_uri": "https://localhost:8080/",
          "height": 304
        },
        "outputId": "4c41dbc1-b2ed-4653-aff7-bd484bc7f642"
      },
      "source": [
        "df.describe()"
      ],
      "execution_count": null,
      "outputs": [
        {
          "output_type": "execute_result",
          "data": {
            "text/html": [
              "<div>\n",
              "<style scoped>\n",
              "    .dataframe tbody tr th:only-of-type {\n",
              "        vertical-align: middle;\n",
              "    }\n",
              "\n",
              "    .dataframe tbody tr th {\n",
              "        vertical-align: top;\n",
              "    }\n",
              "\n",
              "    .dataframe thead th {\n",
              "        text-align: right;\n",
              "    }\n",
              "</style>\n",
              "<table border=\"1\" class=\"dataframe\">\n",
              "  <thead>\n",
              "    <tr style=\"text-align: right;\">\n",
              "      <th></th>\n",
              "      <th>gift_type</th>\n",
              "      <th>gift_category</th>\n",
              "      <th>gift_cluster</th>\n",
              "      <th>lsg_1</th>\n",
              "      <th>lsg_2</th>\n",
              "      <th>lsg_3</th>\n",
              "      <th>lsg_4</th>\n",
              "      <th>lsg_5</th>\n",
              "      <th>lsg_6</th>\n",
              "      <th>is_discounted</th>\n",
              "      <th>volumes</th>\n",
              "      <th>price</th>\n",
              "    </tr>\n",
              "  </thead>\n",
              "  <tbody>\n",
              "    <tr>\n",
              "      <th>count</th>\n",
              "      <td>20279.000000</td>\n",
              "      <td>20279.000000</td>\n",
              "      <td>20279.000000</td>\n",
              "      <td>20279.000000</td>\n",
              "      <td>20279.000000</td>\n",
              "      <td>20279.000000</td>\n",
              "      <td>20279.000000</td>\n",
              "      <td>20279.000000</td>\n",
              "      <td>20279.000000</td>\n",
              "      <td>20279.000000</td>\n",
              "      <td>7323.000000</td>\n",
              "      <td>20279.000000</td>\n",
              "    </tr>\n",
              "    <tr>\n",
              "      <th>mean</th>\n",
              "      <td>739.554662</td>\n",
              "      <td>394.171557</td>\n",
              "      <td>3303.358548</td>\n",
              "      <td>5314.595345</td>\n",
              "      <td>4187.653928</td>\n",
              "      <td>4866.945510</td>\n",
              "      <td>1679.152226</td>\n",
              "      <td>8.652695</td>\n",
              "      <td>1265.898171</td>\n",
              "      <td>0.229646</td>\n",
              "      <td>15.515363</td>\n",
              "      <td>143.404411</td>\n",
              "    </tr>\n",
              "    <tr>\n",
              "      <th>std</th>\n",
              "      <td>389.216989</td>\n",
              "      <td>235.077769</td>\n",
              "      <td>2541.082549</td>\n",
              "      <td>2703.317282</td>\n",
              "      <td>2274.875522</td>\n",
              "      <td>2713.856392</td>\n",
              "      <td>485.699119</td>\n",
              "      <td>2.349388</td>\n",
              "      <td>697.838495</td>\n",
              "      <td>0.420616</td>\n",
              "      <td>7.579669</td>\n",
              "      <td>267.281159</td>\n",
              "    </tr>\n",
              "    <tr>\n",
              "      <th>min</th>\n",
              "      <td>1.000000</td>\n",
              "      <td>1.000000</td>\n",
              "      <td>0.000000</td>\n",
              "      <td>0.000000</td>\n",
              "      <td>0.000000</td>\n",
              "      <td>0.000000</td>\n",
              "      <td>3.000000</td>\n",
              "      <td>0.000000</td>\n",
              "      <td>0.000000</td>\n",
              "      <td>0.000000</td>\n",
              "      <td>5.000000</td>\n",
              "      <td>0.010000</td>\n",
              "    </tr>\n",
              "    <tr>\n",
              "      <th>25%</th>\n",
              "      <td>403.000000</td>\n",
              "      <td>188.000000</td>\n",
              "      <td>587.000000</td>\n",
              "      <td>3311.000000</td>\n",
              "      <td>2251.000000</td>\n",
              "      <td>2548.000000</td>\n",
              "      <td>1801.000000</td>\n",
              "      <td>9.000000</td>\n",
              "      <td>577.500000</td>\n",
              "      <td>0.000000</td>\n",
              "      <td>9.000000</td>\n",
              "      <td>45.645000</td>\n",
              "    </tr>\n",
              "    <tr>\n",
              "      <th>50%</th>\n",
              "      <td>825.000000</td>\n",
              "      <td>433.000000</td>\n",
              "      <td>3231.000000</td>\n",
              "      <td>5520.000000</td>\n",
              "      <td>4246.000000</td>\n",
              "      <td>4839.000000</td>\n",
              "      <td>1912.000000</td>\n",
              "      <td>9.000000</td>\n",
              "      <td>1616.000000</td>\n",
              "      <td>0.000000</td>\n",
              "      <td>13.000000</td>\n",
              "      <td>75.600000</td>\n",
              "    </tr>\n",
              "    <tr>\n",
              "      <th>75%</th>\n",
              "      <td>1032.000000</td>\n",
              "      <td>534.000000</td>\n",
              "      <td>5787.000000</td>\n",
              "      <td>7535.000000</td>\n",
              "      <td>6504.500000</td>\n",
              "      <td>7387.000000</td>\n",
              "      <td>1912.000000</td>\n",
              "      <td>10.000000</td>\n",
              "      <td>1899.000000</td>\n",
              "      <td>0.000000</td>\n",
              "      <td>24.000000</td>\n",
              "      <td>126.845000</td>\n",
              "    </tr>\n",
              "    <tr>\n",
              "      <th>max</th>\n",
              "      <td>1360.000000</td>\n",
              "      <td>893.000000</td>\n",
              "      <td>7567.000000</td>\n",
              "      <td>9979.000000</td>\n",
              "      <td>7604.000000</td>\n",
              "      <td>9493.000000</td>\n",
              "      <td>2056.000000</td>\n",
              "      <td>10.000000</td>\n",
              "      <td>2065.000000</td>\n",
              "      <td>1.000000</td>\n",
              "      <td>29.000000</td>\n",
              "      <td>7010.270000</td>\n",
              "    </tr>\n",
              "  </tbody>\n",
              "</table>\n",
              "</div>"
            ],
            "text/plain": [
              "          gift_type  gift_category  ...      volumes         price\n",
              "count  20279.000000   20279.000000  ...  7323.000000  20279.000000\n",
              "mean     739.554662     394.171557  ...    15.515363    143.404411\n",
              "std      389.216989     235.077769  ...     7.579669    267.281159\n",
              "min        1.000000       1.000000  ...     5.000000      0.010000\n",
              "25%      403.000000     188.000000  ...     9.000000     45.645000\n",
              "50%      825.000000     433.000000  ...    13.000000     75.600000\n",
              "75%     1032.000000     534.000000  ...    24.000000    126.845000\n",
              "max     1360.000000     893.000000  ...    29.000000   7010.270000\n",
              "\n",
              "[8 rows x 12 columns]"
            ]
          },
          "metadata": {
            "tags": []
          },
          "execution_count": 6
        }
      ]
    },
    {
      "cell_type": "code",
      "metadata": {
        "id": "ixBoSs5p3Cdz",
        "colab_type": "code",
        "colab": {
          "base_uri": "https://localhost:8080/",
          "height": 420
        },
        "outputId": "b1433bd5-141f-40e5-f5d4-a3cfef70da79"
      },
      "source": [
        "df.info()"
      ],
      "execution_count": null,
      "outputs": [
        {
          "output_type": "stream",
          "text": [
            "<class 'pandas.core.frame.DataFrame'>\n",
            "RangeIndex: 20279 entries, 0 to 20278\n",
            "Data columns (total 17 columns):\n",
            " #   Column             Non-Null Count  Dtype  \n",
            "---  ------             --------------  -----  \n",
            " 0   gift_id            20279 non-null  object \n",
            " 1   gift_type          20279 non-null  int64  \n",
            " 2   gift_category      20279 non-null  int64  \n",
            " 3   gift_cluster       20279 non-null  int64  \n",
            " 4   instock_date       20279 non-null  object \n",
            " 5   stock_update_date  20279 non-null  object \n",
            " 6   lsg_1              20279 non-null  int64  \n",
            " 7   lsg_2              20279 non-null  int64  \n",
            " 8   lsg_3              20279 non-null  int64  \n",
            " 9   lsg_4              20279 non-null  int64  \n",
            " 10  lsg_5              20279 non-null  int64  \n",
            " 11  lsg_6              20279 non-null  int64  \n",
            " 12  uk_date1           20279 non-null  object \n",
            " 13  uk_date2           20279 non-null  object \n",
            " 14  is_discounted      20279 non-null  int64  \n",
            " 15  volumes            7323 non-null   float64\n",
            " 16  price              20279 non-null  float64\n",
            "dtypes: float64(2), int64(10), object(5)\n",
            "memory usage: 2.6+ MB\n"
          ],
          "name": "stdout"
        }
      ]
    },
    {
      "cell_type": "code",
      "metadata": {
        "id": "4viZCo7s286k",
        "colab_type": "code",
        "colab": {
          "base_uri": "https://localhost:8080/",
          "height": 319
        },
        "outputId": "af018be7-aa8a-45a9-a123-1b32a66cea8c"
      },
      "source": [
        "df.isnull().sum()"
      ],
      "execution_count": null,
      "outputs": [
        {
          "output_type": "execute_result",
          "data": {
            "text/plain": [
              "gift_id                  0\n",
              "gift_type                0\n",
              "gift_category            0\n",
              "gift_cluster             0\n",
              "instock_date             0\n",
              "stock_update_date        0\n",
              "lsg_1                    0\n",
              "lsg_2                    0\n",
              "lsg_3                    0\n",
              "lsg_4                    0\n",
              "lsg_5                    0\n",
              "lsg_6                    0\n",
              "uk_date1                 0\n",
              "uk_date2                 0\n",
              "is_discounted            0\n",
              "volumes              12956\n",
              "price                    0\n",
              "dtype: int64"
            ]
          },
          "metadata": {
            "tags": []
          },
          "execution_count": 7
        }
      ]
    },
    {
      "cell_type": "code",
      "metadata": {
        "id": "VMJyxiOFyC4C",
        "colab_type": "code",
        "colab": {
          "base_uri": "https://localhost:8080/",
          "height": 302
        },
        "outputId": "40ca4365-fa7a-4ec0-c397-793322467ac6"
      },
      "source": [
        "dftest.isnull().sum()"
      ],
      "execution_count": 69,
      "outputs": [
        {
          "output_type": "execute_result",
          "data": {
            "text/plain": [
              "gift_id                 0\n",
              "gift_type               0\n",
              "gift_category           0\n",
              "gift_cluster            0\n",
              "instock_date            0\n",
              "stock_update_date       0\n",
              "lsg_1                   0\n",
              "lsg_2                   0\n",
              "lsg_3                   0\n",
              "lsg_4                   0\n",
              "lsg_5                   0\n",
              "lsg_6                   0\n",
              "uk_date1                0\n",
              "uk_date2                0\n",
              "is_discounted           0\n",
              "volumes              2352\n",
              "dtype: int64"
            ]
          },
          "metadata": {
            "tags": []
          },
          "execution_count": 69
        }
      ]
    },
    {
      "cell_type": "code",
      "metadata": {
        "id": "u5VRPejT3Nyo",
        "colab_type": "code",
        "colab": {
          "base_uri": "https://localhost:8080/",
          "height": 34
        },
        "outputId": "f4df70a1-3dff-462d-fed6-7d09e05d4834"
      },
      "source": [
        "12956/20279*100 #<80"
      ],
      "execution_count": null,
      "outputs": [
        {
          "output_type": "execute_result",
          "data": {
            "text/plain": [
              "63.88875191084373"
            ]
          },
          "metadata": {
            "tags": []
          },
          "execution_count": 9
        }
      ]
    },
    {
      "cell_type": "code",
      "metadata": {
        "id": "w9urZKhY4NBk",
        "colab_type": "code",
        "colab": {}
      },
      "source": [
        "df['volumes']=df['volumes'].fillna(df['volumes'].median())\n",
        "dftest['volumes']=dftest['volumes'].fillna(dftest['volumes'].median())"
      ],
      "execution_count": 71,
      "outputs": []
    },
    {
      "cell_type": "code",
      "metadata": {
        "id": "lIN1sUcQ5w_E",
        "colab_type": "code",
        "colab": {
          "base_uri": "https://localhost:8080/",
          "height": 319
        },
        "outputId": "0a8ea97b-15f7-478a-bb9e-3443198ebaf6"
      },
      "source": [
        "df.isnull().sum()"
      ],
      "execution_count": 4,
      "outputs": [
        {
          "output_type": "execute_result",
          "data": {
            "text/plain": [
              "gift_id              0\n",
              "gift_type            0\n",
              "gift_category        0\n",
              "gift_cluster         0\n",
              "instock_date         0\n",
              "stock_update_date    0\n",
              "lsg_1                0\n",
              "lsg_2                0\n",
              "lsg_3                0\n",
              "lsg_4                0\n",
              "lsg_5                0\n",
              "lsg_6                0\n",
              "uk_date1             0\n",
              "uk_date2             0\n",
              "is_discounted        0\n",
              "volumes              0\n",
              "price                0\n",
              "dtype: int64"
            ]
          },
          "metadata": {
            "tags": []
          },
          "execution_count": 4
        }
      ]
    },
    {
      "cell_type": "code",
      "metadata": {
        "id": "1pfkBGIO50wW",
        "colab_type": "code",
        "colab": {
          "base_uri": "https://localhost:8080/",
          "height": 84
        },
        "outputId": "7abe168c-7b51-4b68-99a3-353cf7146cb4"
      },
      "source": [
        "df.columns"
      ],
      "execution_count": 5,
      "outputs": [
        {
          "output_type": "execute_result",
          "data": {
            "text/plain": [
              "Index(['gift_id', 'gift_type', 'gift_category', 'gift_cluster', 'instock_date',\n",
              "       'stock_update_date', 'lsg_1', 'lsg_2', 'lsg_3', 'lsg_4', 'lsg_5',\n",
              "       'lsg_6', 'uk_date1', 'uk_date2', 'is_discounted', 'volumes', 'price'],\n",
              "      dtype='object')"
            ]
          },
          "metadata": {
            "tags": []
          },
          "execution_count": 5
        }
      ]
    },
    {
      "cell_type": "code",
      "metadata": {
        "id": "_1z6j3om5_Cl",
        "colab_type": "code",
        "colab": {
          "base_uri": "https://localhost:8080/",
          "height": 375
        },
        "outputId": "8a830f5e-dfc1-4090-abec-fcef0d4eb88b"
      },
      "source": [
        "df.groupby('gift_type')['price'].mean().plot(kind='hist')"
      ],
      "execution_count": null,
      "outputs": [
        {
          "output_type": "execute_result",
          "data": {
            "text/plain": [
              "<matplotlib.axes._subplots.AxesSubplot at 0x7f7b54f1e828>"
            ]
          },
          "metadata": {
            "tags": []
          },
          "execution_count": 22
        },
        {
          "output_type": "display_data",
          "data": {
            "image/png": "[encoded data removed]",
            "text/plain": [
              "<Figure size 600x400 with 1 Axes>"
            ]
          },
          "metadata": {
            "tags": []
          }
        }
      ]
    },
    {
      "cell_type": "code",
      "metadata": {
        "id": "ch9NvfB-6F92",
        "colab_type": "code",
        "colab": {
          "base_uri": "https://localhost:8080/",
          "height": 375
        },
        "outputId": "234c8982-0bc2-4d53-b346-ed55c3a98820"
      },
      "source": [
        "df.groupby('gift_category')['price'].mean().plot(kind='hist')"
      ],
      "execution_count": null,
      "outputs": [
        {
          "output_type": "execute_result",
          "data": {
            "text/plain": [
              "<matplotlib.axes._subplots.AxesSubplot at 0x7f7b54579eb8>"
            ]
          },
          "metadata": {
            "tags": []
          },
          "execution_count": 23
        },
        {
          "output_type": "display_data",
          "data": {
            "image/png": "[encoded data removed]",
            "text/plain": [
              "<Figure size 600x400 with 1 Axes>"
            ]
          },
          "metadata": {
            "tags": []
          }
        }
      ]
    },
    {
      "cell_type": "code",
      "metadata": {
        "id": "yq98A9yG750F",
        "colab_type": "code",
        "colab": {
          "base_uri": "https://localhost:8080/",
          "height": 375
        },
        "outputId": "ef41e29f-e9a6-4f59-a642-4fde73467226"
      },
      "source": [
        "df.groupby('gift_cluster')['price'].mean().plot(kind='hist')"
      ],
      "execution_count": null,
      "outputs": [
        {
          "output_type": "execute_result",
          "data": {
            "text/plain": [
              "<matplotlib.axes._subplots.AxesSubplot at 0x7f7b50df7860>"
            ]
          },
          "metadata": {
            "tags": []
          },
          "execution_count": 25
        },
        {
          "output_type": "display_data",
          "data": {
            "image/png": "[encoded data removed]",
            "text/plain": [
              "<Figure size 600x400 with 1 Axes>"
            ]
          },
          "metadata": {
            "tags": []
          }
        }
      ]
    },
    {
      "cell_type": "code",
      "metadata": {
        "id": "6G7Xw22f8KTd",
        "colab_type": "code",
        "colab": {
          "base_uri": "https://localhost:8080/",
          "height": 391
        },
        "outputId": "43fa6530-0305-4812-e95f-156727d5e624"
      },
      "source": [
        "df.groupby('is_discounted')['price'].mean().plot(kind='bar')"
      ],
      "execution_count": null,
      "outputs": [
        {
          "output_type": "execute_result",
          "data": {
            "text/plain": [
              "<matplotlib.axes._subplots.AxesSubplot at 0x7f7b53c68da0>"
            ]
          },
          "metadata": {
            "tags": []
          },
          "execution_count": 27
        },
        {
          "output_type": "display_data",
          "data": {
            "image/png": "[encoded data removed]",
            "text/plain": [
              "<Figure size 600x400 with 1 Axes>"
            ]
          },
          "metadata": {
            "tags": []
          }
        }
      ]
    },
    {
      "cell_type": "code",
      "metadata": {
        "id": "hRgE3PPh9h5r",
        "colab_type": "code",
        "colab": {
          "base_uri": "https://localhost:8080/",
          "height": 380
        },
        "outputId": "3777c5c5-424b-4f1d-e083-42b308a25a44"
      },
      "source": [
        "pearsoncorr = df.corr(method='pearson')\n",
        "abs(pearsoncorr['price']).sort_values(ascending=False).plot(kind='bar')"
      ],
      "execution_count": 105,
      "outputs": [
        {
          "output_type": "execute_result",
          "data": {
            "text/plain": [
              "<matplotlib.axes._subplots.AxesSubplot at 0x7f1a5ec6e828>"
            ]
          },
          "metadata": {
            "tags": []
          },
          "execution_count": 105
        },
        {
          "output_type": "display_data",
          "data": {
            "image/png": "[encoded data removed]",
            "text/plain": [
              "<Figure size 432x288 with 1 Axes>"
            ]
          },
          "metadata": {
            "tags": [],
            "needs_background": "light"
          }
        }
      ]
    },
    {
      "cell_type": "code",
      "metadata": {
        "id": "OImrRc2aASUN",
        "colab_type": "code",
        "colab": {
          "base_uri": "https://localhost:8080/",
          "height": 383
        },
        "outputId": "a8b75db9-9563-49f0-f8e1-582122e7eebc"
      },
      "source": [
        "df.head()"
      ],
      "execution_count": null,
      "outputs": [
        {
          "output_type": "execute_result",
          "data": {
            "text/html": [
              "<div>\n",
              "<style scoped>\n",
              "    .dataframe tbody tr th:only-of-type {\n",
              "        vertical-align: middle;\n",
              "    }\n",
              "\n",
              "    .dataframe tbody tr th {\n",
              "        vertical-align: top;\n",
              "    }\n",
              "\n",
              "    .dataframe thead th {\n",
              "        text-align: right;\n",
              "    }\n",
              "</style>\n",
              "<table border=\"1\" class=\"dataframe\">\n",
              "  <thead>\n",
              "    <tr style=\"text-align: right;\">\n",
              "      <th></th>\n",
              "      <th>gift_id</th>\n",
              "      <th>gift_type</th>\n",
              "      <th>gift_category</th>\n",
              "      <th>gift_cluster</th>\n",
              "      <th>instock_date</th>\n",
              "      <th>stock_update_date</th>\n",
              "      <th>lsg_1</th>\n",
              "      <th>lsg_2</th>\n",
              "      <th>lsg_3</th>\n",
              "      <th>lsg_4</th>\n",
              "      <th>lsg_5</th>\n",
              "      <th>lsg_6</th>\n",
              "      <th>uk_date1</th>\n",
              "      <th>uk_date2</th>\n",
              "      <th>is_discounted</th>\n",
              "      <th>volumes</th>\n",
              "      <th>price</th>\n",
              "      <th>stock_day</th>\n",
              "      <th>stock_month</th>\n",
              "      <th>stock_year</th>\n",
              "      <th>last_bought</th>\n",
              "      <th>last_bought_day</th>\n",
              "      <th>last_bought_month</th>\n",
              "      <th>last_bought_year</th>\n",
              "      <th>instock_day</th>\n",
              "      <th>instock_month</th>\n",
              "      <th>instock_year</th>\n",
              "      <th>last_bought_day_y_m</th>\n",
              "      <th>stock_day_m_y</th>\n",
              "      <th>instock_day_m_y</th>\n",
              "      <th>diff_two_buy</th>\n",
              "    </tr>\n",
              "  </thead>\n",
              "  <tbody>\n",
              "    <tr>\n",
              "      <th>0</th>\n",
              "      <td>GF_11156</td>\n",
              "      <td>61</td>\n",
              "      <td>534</td>\n",
              "      <td>3942</td>\n",
              "      <td>2014-02-21 05:07:06</td>\n",
              "      <td>2016-11-09 15:49:51</td>\n",
              "      <td>3377</td>\n",
              "      <td>5221</td>\n",
              "      <td>504</td>\n",
              "      <td>1912</td>\n",
              "      <td>10</td>\n",
              "      <td>554</td>\n",
              "      <td>2014-02-24 08:07:06</td>\n",
              "      <td>2014-02-24 07:07:06</td>\n",
              "      <td>0</td>\n",
              "      <td>13.0</td>\n",
              "      <td>175.54</td>\n",
              "      <td>9</td>\n",
              "      <td>11</td>\n",
              "      <td>2016</td>\n",
              "      <td>2014-02-24 08:07:06</td>\n",
              "      <td>24</td>\n",
              "      <td>2</td>\n",
              "      <td>2014</td>\n",
              "      <td>21</td>\n",
              "      <td>2</td>\n",
              "      <td>2014</td>\n",
              "      <td>96672</td>\n",
              "      <td>199584</td>\n",
              "      <td>84588</td>\n",
              "      <td>0.041667</td>\n",
              "    </tr>\n",
              "    <tr>\n",
              "      <th>1</th>\n",
              "      <td>GF_11157</td>\n",
              "      <td>61</td>\n",
              "      <td>534</td>\n",
              "      <td>3942</td>\n",
              "      <td>2014-02-21 06:07:06</td>\n",
              "      <td>2016-11-11 13:49:51</td>\n",
              "      <td>3377</td>\n",
              "      <td>5221</td>\n",
              "      <td>504</td>\n",
              "      <td>1912</td>\n",
              "      <td>10</td>\n",
              "      <td>554</td>\n",
              "      <td>2014-02-22 07:07:06</td>\n",
              "      <td>2014-02-24 06:07:06</td>\n",
              "      <td>1</td>\n",
              "      <td>13.0</td>\n",
              "      <td>95.80</td>\n",
              "      <td>11</td>\n",
              "      <td>11</td>\n",
              "      <td>2016</td>\n",
              "      <td>2014-02-24 06:07:06</td>\n",
              "      <td>24</td>\n",
              "      <td>2</td>\n",
              "      <td>2014</td>\n",
              "      <td>21</td>\n",
              "      <td>2</td>\n",
              "      <td>2014</td>\n",
              "      <td>96672</td>\n",
              "      <td>243936</td>\n",
              "      <td>84588</td>\n",
              "      <td>1.958333</td>\n",
              "    </tr>\n",
              "    <tr>\n",
              "      <th>2</th>\n",
              "      <td>GF_15689</td>\n",
              "      <td>584</td>\n",
              "      <td>262</td>\n",
              "      <td>0</td>\n",
              "      <td>2014-02-21 09:30:21</td>\n",
              "      <td>2016-03-24 14:46:18</td>\n",
              "      <td>5290</td>\n",
              "      <td>1579</td>\n",
              "      <td>3203</td>\n",
              "      <td>1912</td>\n",
              "      <td>9</td>\n",
              "      <td>1578</td>\n",
              "      <td>2016-01-26 00:04:45</td>\n",
              "      <td>2016-03-18 02:00:00</td>\n",
              "      <td>1</td>\n",
              "      <td>13.0</td>\n",
              "      <td>107.35</td>\n",
              "      <td>24</td>\n",
              "      <td>3</td>\n",
              "      <td>2016</td>\n",
              "      <td>2016-03-18 02:00:00</td>\n",
              "      <td>18</td>\n",
              "      <td>3</td>\n",
              "      <td>2016</td>\n",
              "      <td>21</td>\n",
              "      <td>2</td>\n",
              "      <td>2014</td>\n",
              "      <td>108864</td>\n",
              "      <td>145152</td>\n",
              "      <td>84588</td>\n",
              "      <td>52.080035</td>\n",
              "    </tr>\n",
              "    <tr>\n",
              "      <th>3</th>\n",
              "      <td>GF_11155</td>\n",
              "      <td>61</td>\n",
              "      <td>534</td>\n",
              "      <td>3942</td>\n",
              "      <td>2014-02-22 05:07:06</td>\n",
              "      <td>2016-11-10 16:49:51</td>\n",
              "      <td>3377</td>\n",
              "      <td>5221</td>\n",
              "      <td>504</td>\n",
              "      <td>1912</td>\n",
              "      <td>10</td>\n",
              "      <td>554</td>\n",
              "      <td>2016-11-07 13:49:51</td>\n",
              "      <td>2016-11-06 04:00:00</td>\n",
              "      <td>0</td>\n",
              "      <td>13.0</td>\n",
              "      <td>172.90</td>\n",
              "      <td>10</td>\n",
              "      <td>11</td>\n",
              "      <td>2016</td>\n",
              "      <td>2016-11-07 13:49:51</td>\n",
              "      <td>7</td>\n",
              "      <td>11</td>\n",
              "      <td>2016</td>\n",
              "      <td>22</td>\n",
              "      <td>2</td>\n",
              "      <td>2014</td>\n",
              "      <td>155232</td>\n",
              "      <td>221760</td>\n",
              "      <td>88616</td>\n",
              "      <td>1.409618</td>\n",
              "    </tr>\n",
              "    <tr>\n",
              "      <th>4</th>\n",
              "      <td>GF_11158</td>\n",
              "      <td>61</td>\n",
              "      <td>534</td>\n",
              "      <td>3942</td>\n",
              "      <td>2014-02-22 07:07:06</td>\n",
              "      <td>2016-11-10 13:49:51</td>\n",
              "      <td>3377</td>\n",
              "      <td>5221</td>\n",
              "      <td>504</td>\n",
              "      <td>1912</td>\n",
              "      <td>9</td>\n",
              "      <td>554</td>\n",
              "      <td>2016-11-07 15:49:51</td>\n",
              "      <td>2016-11-06 01:00:00</td>\n",
              "      <td>1</td>\n",
              "      <td>13.0</td>\n",
              "      <td>77.72</td>\n",
              "      <td>10</td>\n",
              "      <td>11</td>\n",
              "      <td>2016</td>\n",
              "      <td>2016-11-07 15:49:51</td>\n",
              "      <td>7</td>\n",
              "      <td>11</td>\n",
              "      <td>2016</td>\n",
              "      <td>22</td>\n",
              "      <td>2</td>\n",
              "      <td>2014</td>\n",
              "      <td>155232</td>\n",
              "      <td>221760</td>\n",
              "      <td>88616</td>\n",
              "      <td>1.617951</td>\n",
              "    </tr>\n",
              "  </tbody>\n",
              "</table>\n",
              "</div>"
            ],
            "text/plain": [
              "    gift_id  gift_type  ...  instock_day_m_y  diff_two_buy\n",
              "0  GF_11156         61  ...            84588      0.041667\n",
              "1  GF_11157         61  ...            84588      1.958333\n",
              "2  GF_15689        584  ...            84588     52.080035\n",
              "3  GF_11155         61  ...            88616      1.409618\n",
              "4  GF_11158         61  ...            88616      1.617951\n",
              "\n",
              "[5 rows x 31 columns]"
            ]
          },
          "metadata": {
            "tags": []
          },
          "execution_count": 147
        }
      ]
    },
    {
      "cell_type": "code",
      "metadata": {
        "id": "rabb81NRNB5F",
        "colab_type": "code",
        "colab": {}
      },
      "source": [
        "df['instock_date']=pd.to_datetime(df['instock_date'])\n",
        "dftest['instock_date']=pd.to_datetime(dftest['instock_date'])"
      ],
      "execution_count": 72,
      "outputs": []
    },
    {
      "cell_type": "code",
      "metadata": {
        "id": "pjcMWXjpNPRp",
        "colab_type": "code",
        "colab": {}
      },
      "source": [
        "df['stock_update_date']=pd.to_datetime(df['stock_update_date'],format='%Y-%m-%d')\n",
        "df['uk_date1']=pd.to_datetime(df['uk_date1'],format='%Y-%m-%d ')\n",
        "df['uk_date2']=pd.to_datetime(df['uk_date2'],format='%Y-%m-%d')\n",
        "dftest['stock_update_date']=pd.to_datetime(dftest['stock_update_date'],format='%Y-%m-%d')\n",
        "dftest['uk_date1']=pd.to_datetime(dftest['uk_date1'],format='%Y-%m-%d ')\n",
        "dftest['uk_date2']=pd.to_datetime(dftest['uk_date2'],format='%Y-%m-%d')"
      ],
      "execution_count": 73,
      "outputs": []
    },
    {
      "cell_type": "code",
      "metadata": {
        "id": "nkGTDLs3AWyf",
        "colab_type": "code",
        "colab": {}
      },
      "source": [
        "#df['stock_day']=pd.DatetimeIndex(df['stock_update_date']).day\n",
        "#df['stock_month']=pd.DatetimeIndex(df['stock_update_date']).month\n",
        "df['stock_year']=pd.DatetimeIndex(df['stock_update_date']).year\n",
        "dftest['stock_year']=pd.DatetimeIndex(dftest['stock_update_date']).year"
      ],
      "execution_count": 74,
      "outputs": []
    },
    {
      "cell_type": "code",
      "metadata": {
        "id": "qU2EmP1FQ_ug",
        "colab_type": "code",
        "colab": {}
      },
      "source": [
        "#df['stock_day_m_y']=df['stock_day']*df['stock_month']*df['stock_year']"
      ],
      "execution_count": null,
      "outputs": []
    },
    {
      "cell_type": "code",
      "metadata": {
        "id": "Xksn0lMpDjhm",
        "colab_type": "code",
        "colab": {}
      },
      "source": [
        "#df['instock_day']=pd.DatetimeIndex(df['instock_date']).day\n",
        "#df['instock_month']=pd.DatetimeIndex(df['instock_date']).month\n",
        "df['instock_year']=pd.DatetimeIndex(df['instock_date']).year\n",
        "dftest['instock_year']=pd.DatetimeIndex(dftest['instock_date']).year"
      ],
      "execution_count": 75,
      "outputs": []
    },
    {
      "cell_type": "code",
      "metadata": {
        "id": "SP6TbllJRIfG",
        "colab_type": "code",
        "colab": {}
      },
      "source": [
        "#df['instock_day_m_y']=df['instock_day']*df['instock_month']*df['instock_year']"
      ],
      "execution_count": null,
      "outputs": []
    },
    {
      "cell_type": "code",
      "metadata": {
        "id": "-U9mMmOQWbV4",
        "colab_type": "code",
        "colab": {
          "base_uri": "https://localhost:8080/",
          "height": 34
        },
        "outputId": "9145c0b4-8c64-446f-902f-f9f739b4131d"
      },
      "source": [
        "(date(2014,2,5)-date(2013,2,5)).days"
      ],
      "execution_count": null,
      "outputs": [
        {
          "output_type": "execute_result",
          "data": {
            "text/plain": [
              "365"
            ]
          },
          "metadata": {
            "tags": []
          },
          "execution_count": 96
        }
      ]
    },
    {
      "cell_type": "code",
      "metadata": {
        "id": "FZycTnVIvDhI",
        "colab_type": "code",
        "colab": {}
      },
      "source": [
        "df['uk_date1']=pd.to_datetime(df['uk_date1'],format='%Y-%m-%d')\n",
        "df['uk_date2']=pd.to_datetime(df['uk_date2'],format='%Y-%m-%d')\n",
        "dftest['uk_date1']=pd.to_datetime(dftest['uk_date1'],format='%Y-%m-%d')\n",
        "dftest['uk_date2']=pd.to_datetime(dftest['uk_date2'],format='%Y-%m-%d')\n"
      ],
      "execution_count": 76,
      "outputs": []
    },
    {
      "cell_type": "code",
      "metadata": {
        "id": "NSOhcEFCvQ4M",
        "colab_type": "code",
        "colab": {
          "base_uri": "https://localhost:8080/",
          "height": 84
        },
        "outputId": "655edb05-8bf9-4f8d-e13a-b0b27dc92af7"
      },
      "source": [
        "pd.DatetimeIndex(df['uk_date1']).month"
      ],
      "execution_count": null,
      "outputs": [
        {
          "output_type": "execute_result",
          "data": {
            "text/plain": [
              "Int64Index([ 2,  2,  1, 11, 11,  2,  1,  1, 11,  1,\n",
              "            ...\n",
              "            11, 11, 11, 11, 11, 11, 11,  1, 11, 11],\n",
              "           dtype='int64', name='uk_date1', length=20279)"
            ]
          },
          "metadata": {
            "tags": []
          },
          "execution_count": 145
        }
      ]
    },
    {
      "cell_type": "code",
      "metadata": {
        "id": "NI61wZ66c_Zx",
        "colab_type": "code",
        "colab": {}
      },
      "source": [
        "df['diff_two_buy']=abs(df['uk_date2']-df['uk_date1'])\n",
        "df['diff_two_buy']=df['diff_two_buy']/np.timedelta64(1,'D')\n",
        "dftest['diff_two_buy']=abs(dftest['uk_date2']-dftest['uk_date1'])\n",
        "dftest['diff_two_buy']=dftest['diff_two_buy']/np.timedelta64(1,'D')"
      ],
      "execution_count": 77,
      "outputs": []
    },
    {
      "cell_type": "code",
      "metadata": {
        "id": "tXckpOoLyqYd",
        "colab_type": "code",
        "colab": {}
      },
      "source": [
        "df['diff_in_and_up']=abs(df['stock_update_date']-df['instock_date'])\n",
        "df['diff_in_and_up']=df['diff_in_and_up']/np.timedelta64(1,'D')\n",
        "dftest['diff_in_and_up']=abs(dftest['stock_update_date']-dftest['instock_date'])\n",
        "dftest['diff_in_and_up']=dftest['diff_in_and_up']/np.timedelta64(1,'D')"
      ],
      "execution_count": 78,
      "outputs": []
    },
    {
      "cell_type": "code",
      "metadata": {
        "id": "ycVbg9vEy-yj",
        "colab_type": "code",
        "colab": {
          "base_uri": "https://localhost:8080/",
          "height": 34
        },
        "outputId": "0045d99c-e2f9-499e-d060-9fa340f3672f"
      },
      "source": [
        "df['diff_in_and_up'].min()"
      ],
      "execution_count": 45,
      "outputs": [
        {
          "output_type": "execute_result",
          "data": {
            "text/plain": [
              "0.0"
            ]
          },
          "metadata": {
            "tags": []
          },
          "execution_count": 45
        }
      ]
    },
    {
      "cell_type": "code",
      "metadata": {
        "id": "PErYDDPaV8V5",
        "colab_type": "code",
        "colab": {
          "base_uri": "https://localhost:8080/",
          "height": 383
        },
        "outputId": "003a23fd-9b3a-40c5-ca22-11ae48278cfe"
      },
      "source": [
        "df.tail()"
      ],
      "execution_count": null,
      "outputs": [
        {
          "output_type": "execute_result",
          "data": {
            "text/html": [
              "<div>\n",
              "<style scoped>\n",
              "    .dataframe tbody tr th:only-of-type {\n",
              "        vertical-align: middle;\n",
              "    }\n",
              "\n",
              "    .dataframe tbody tr th {\n",
              "        vertical-align: top;\n",
              "    }\n",
              "\n",
              "    .dataframe thead th {\n",
              "        text-align: right;\n",
              "    }\n",
              "</style>\n",
              "<table border=\"1\" class=\"dataframe\">\n",
              "  <thead>\n",
              "    <tr style=\"text-align: right;\">\n",
              "      <th></th>\n",
              "      <th>gift_id</th>\n",
              "      <th>gift_type</th>\n",
              "      <th>gift_category</th>\n",
              "      <th>gift_cluster</th>\n",
              "      <th>instock_date</th>\n",
              "      <th>stock_update_date</th>\n",
              "      <th>lsg_1</th>\n",
              "      <th>lsg_2</th>\n",
              "      <th>lsg_3</th>\n",
              "      <th>lsg_4</th>\n",
              "      <th>lsg_5</th>\n",
              "      <th>lsg_6</th>\n",
              "      <th>uk_date1</th>\n",
              "      <th>uk_date2</th>\n",
              "      <th>is_discounted</th>\n",
              "      <th>volumes</th>\n",
              "      <th>price</th>\n",
              "      <th>stock_day</th>\n",
              "      <th>stock_month</th>\n",
              "      <th>stock_year</th>\n",
              "      <th>last_bought</th>\n",
              "      <th>last_bought_day</th>\n",
              "      <th>last_bought_month</th>\n",
              "      <th>last_bought_year</th>\n",
              "      <th>instock_day</th>\n",
              "      <th>instock_month</th>\n",
              "      <th>instock_year</th>\n",
              "      <th>last_bought_day_y_m</th>\n",
              "      <th>stock_day_m_y</th>\n",
              "      <th>instock_day_m_y</th>\n",
              "      <th>diff_two_buy</th>\n",
              "      <th>diff_in_and_up</th>\n",
              "    </tr>\n",
              "  </thead>\n",
              "  <tbody>\n",
              "    <tr>\n",
              "      <th>20274</th>\n",
              "      <td>GF_10269</td>\n",
              "      <td>105</td>\n",
              "      <td>704</td>\n",
              "      <td>6448</td>\n",
              "      <td>2016-11-12 13:46:42</td>\n",
              "      <td>2016-11-17 10:46:42</td>\n",
              "      <td>2055</td>\n",
              "      <td>6883</td>\n",
              "      <td>995</td>\n",
              "      <td>1912</td>\n",
              "      <td>10</td>\n",
              "      <td>1899</td>\n",
              "      <td>2016-11-14 14:46:42</td>\n",
              "      <td>2016-11-11 03:00:00</td>\n",
              "      <td>0</td>\n",
              "      <td>13.0</td>\n",
              "      <td>57.68</td>\n",
              "      <td>17</td>\n",
              "      <td>11</td>\n",
              "      <td>2016</td>\n",
              "      <td>2016-11-14 14:46:42</td>\n",
              "      <td>14</td>\n",
              "      <td>11</td>\n",
              "      <td>2016</td>\n",
              "      <td>12</td>\n",
              "      <td>11</td>\n",
              "      <td>2016</td>\n",
              "      <td>310464</td>\n",
              "      <td>376992</td>\n",
              "      <td>266112</td>\n",
              "      <td>3.490764</td>\n",
              "      <td>4.875000</td>\n",
              "    </tr>\n",
              "    <tr>\n",
              "      <th>20275</th>\n",
              "      <td>GF_5854</td>\n",
              "      <td>1220</td>\n",
              "      <td>526</td>\n",
              "      <td>817</td>\n",
              "      <td>2016-11-12 13:46:47</td>\n",
              "      <td>2016-11-18 13:46:47</td>\n",
              "      <td>8323</td>\n",
              "      <td>6753</td>\n",
              "      <td>6706</td>\n",
              "      <td>1912</td>\n",
              "      <td>10</td>\n",
              "      <td>1899</td>\n",
              "      <td>2016-11-13 10:46:47</td>\n",
              "      <td>2016-10-28 02:00:00</td>\n",
              "      <td>0</td>\n",
              "      <td>13.0</td>\n",
              "      <td>122.87</td>\n",
              "      <td>18</td>\n",
              "      <td>11</td>\n",
              "      <td>2016</td>\n",
              "      <td>2016-11-13 10:46:47</td>\n",
              "      <td>13</td>\n",
              "      <td>11</td>\n",
              "      <td>2016</td>\n",
              "      <td>12</td>\n",
              "      <td>11</td>\n",
              "      <td>2016</td>\n",
              "      <td>288288</td>\n",
              "      <td>399168</td>\n",
              "      <td>266112</td>\n",
              "      <td>16.365822</td>\n",
              "      <td>6.000000</td>\n",
              "    </tr>\n",
              "    <tr>\n",
              "      <th>20276</th>\n",
              "      <td>GF_563</td>\n",
              "      <td>509</td>\n",
              "      <td>705</td>\n",
              "      <td>821</td>\n",
              "      <td>2016-11-12 13:46:57</td>\n",
              "      <td>2017-01-21 19:30:04</td>\n",
              "      <td>2826</td>\n",
              "      <td>4009</td>\n",
              "      <td>2912</td>\n",
              "      <td>1912</td>\n",
              "      <td>10</td>\n",
              "      <td>1451</td>\n",
              "      <td>2017-01-21 18:30:04</td>\n",
              "      <td>2017-01-18 01:00:00</td>\n",
              "      <td>0</td>\n",
              "      <td>13.0</td>\n",
              "      <td>47.14</td>\n",
              "      <td>21</td>\n",
              "      <td>1</td>\n",
              "      <td>2017</td>\n",
              "      <td>2017-01-21 18:30:04</td>\n",
              "      <td>21</td>\n",
              "      <td>1</td>\n",
              "      <td>2017</td>\n",
              "      <td>12</td>\n",
              "      <td>11</td>\n",
              "      <td>2016</td>\n",
              "      <td>42357</td>\n",
              "      <td>42357</td>\n",
              "      <td>266112</td>\n",
              "      <td>3.729213</td>\n",
              "      <td>70.238275</td>\n",
              "    </tr>\n",
              "    <tr>\n",
              "      <th>20277</th>\n",
              "      <td>GF_9107</td>\n",
              "      <td>682</td>\n",
              "      <td>213</td>\n",
              "      <td>5620</td>\n",
              "      <td>2016-11-12 13:47:01</td>\n",
              "      <td>2016-11-18 11:47:01</td>\n",
              "      <td>2089</td>\n",
              "      <td>6883</td>\n",
              "      <td>3607</td>\n",
              "      <td>1912</td>\n",
              "      <td>10</td>\n",
              "      <td>822</td>\n",
              "      <td>2016-11-14 12:47:01</td>\n",
              "      <td>2016-11-13 02:00:00</td>\n",
              "      <td>0</td>\n",
              "      <td>13.0</td>\n",
              "      <td>47.68</td>\n",
              "      <td>18</td>\n",
              "      <td>11</td>\n",
              "      <td>2016</td>\n",
              "      <td>2016-11-14 12:47:01</td>\n",
              "      <td>14</td>\n",
              "      <td>11</td>\n",
              "      <td>2016</td>\n",
              "      <td>12</td>\n",
              "      <td>11</td>\n",
              "      <td>2016</td>\n",
              "      <td>310464</td>\n",
              "      <td>399168</td>\n",
              "      <td>266112</td>\n",
              "      <td>1.449317</td>\n",
              "      <td>5.916667</td>\n",
              "    </tr>\n",
              "    <tr>\n",
              "      <th>20278</th>\n",
              "      <td>GF_5683</td>\n",
              "      <td>1061</td>\n",
              "      <td>212</td>\n",
              "      <td>4987</td>\n",
              "      <td>2016-11-12 13:48:30</td>\n",
              "      <td>2016-11-18 12:48:30</td>\n",
              "      <td>898</td>\n",
              "      <td>1814</td>\n",
              "      <td>6109</td>\n",
              "      <td>1912</td>\n",
              "      <td>10</td>\n",
              "      <td>1899</td>\n",
              "      <td>2016-11-12 10:48:30</td>\n",
              "      <td>2016-11-10 02:00:00</td>\n",
              "      <td>0</td>\n",
              "      <td>13.0</td>\n",
              "      <td>52.81</td>\n",
              "      <td>18</td>\n",
              "      <td>11</td>\n",
              "      <td>2016</td>\n",
              "      <td>2016-11-12 10:48:30</td>\n",
              "      <td>12</td>\n",
              "      <td>11</td>\n",
              "      <td>2016</td>\n",
              "      <td>12</td>\n",
              "      <td>11</td>\n",
              "      <td>2016</td>\n",
              "      <td>266112</td>\n",
              "      <td>399168</td>\n",
              "      <td>266112</td>\n",
              "      <td>2.367014</td>\n",
              "      <td>5.958333</td>\n",
              "    </tr>\n",
              "  </tbody>\n",
              "</table>\n",
              "</div>"
            ],
            "text/plain": [
              "        gift_id  gift_type  ...  diff_two_buy  diff_in_and_up\n",
              "20274  GF_10269        105  ...      3.490764        4.875000\n",
              "20275   GF_5854       1220  ...     16.365822        6.000000\n",
              "20276    GF_563        509  ...      3.729213       70.238275\n",
              "20277   GF_9107        682  ...      1.449317        5.916667\n",
              "20278   GF_5683       1061  ...      2.367014        5.958333\n",
              "\n",
              "[5 rows x 32 columns]"
            ]
          },
          "metadata": {
            "tags": []
          },
          "execution_count": 159
        }
      ]
    },
    {
      "cell_type": "code",
      "metadata": {
        "id": "mrT4EUUELbnd",
        "colab_type": "code",
        "colab": {}
      },
      "source": [
        "dt=pd.DataFrame({\n",
        "    \"uk_date1\":df['uk_date1'],\n",
        "    \"uk_date2\":df['uk_date2']\n",
        "})\n",
        "dt1=pd.DataFrame({\n",
        "    \"uk_date1\":dftest['uk_date1'],\n",
        "    \"uk_date2\":dftest['uk_date2']\n",
        "})\n"
      ],
      "execution_count": 79,
      "outputs": []
    },
    {
      "cell_type": "code",
      "metadata": {
        "id": "xP5DpfyXPWZK",
        "colab_type": "code",
        "colab": {
          "base_uri": "https://localhost:8080/",
          "height": 195
        },
        "outputId": "031b160a-7394-4009-d8f6-eea6271ee1d3"
      },
      "source": [
        "dt.head()"
      ],
      "execution_count": null,
      "outputs": [
        {
          "output_type": "execute_result",
          "data": {
            "text/html": [
              "<div>\n",
              "<style scoped>\n",
              "    .dataframe tbody tr th:only-of-type {\n",
              "        vertical-align: middle;\n",
              "    }\n",
              "\n",
              "    .dataframe tbody tr th {\n",
              "        vertical-align: top;\n",
              "    }\n",
              "\n",
              "    .dataframe thead th {\n",
              "        text-align: right;\n",
              "    }\n",
              "</style>\n",
              "<table border=\"1\" class=\"dataframe\">\n",
              "  <thead>\n",
              "    <tr style=\"text-align: right;\">\n",
              "      <th></th>\n",
              "      <th>uk_date1</th>\n",
              "      <th>uk_date2</th>\n",
              "    </tr>\n",
              "  </thead>\n",
              "  <tbody>\n",
              "    <tr>\n",
              "      <th>0</th>\n",
              "      <td>2014-02-24 08:07:06</td>\n",
              "      <td>2014-02-24 07:07:06</td>\n",
              "    </tr>\n",
              "    <tr>\n",
              "      <th>1</th>\n",
              "      <td>2014-02-22 07:07:06</td>\n",
              "      <td>2014-02-24 06:07:06</td>\n",
              "    </tr>\n",
              "    <tr>\n",
              "      <th>2</th>\n",
              "      <td>2016-01-26 00:04:45</td>\n",
              "      <td>2016-03-18 02:00:00</td>\n",
              "    </tr>\n",
              "    <tr>\n",
              "      <th>3</th>\n",
              "      <td>2016-11-07 13:49:51</td>\n",
              "      <td>2016-11-06 04:00:00</td>\n",
              "    </tr>\n",
              "    <tr>\n",
              "      <th>4</th>\n",
              "      <td>2016-11-07 15:49:51</td>\n",
              "      <td>2016-11-06 01:00:00</td>\n",
              "    </tr>\n",
              "  </tbody>\n",
              "</table>\n",
              "</div>"
            ],
            "text/plain": [
              "             uk_date1            uk_date2\n",
              "0 2014-02-24 08:07:06 2014-02-24 07:07:06\n",
              "1 2014-02-22 07:07:06 2014-02-24 06:07:06\n",
              "2 2016-01-26 00:04:45 2016-03-18 02:00:00\n",
              "3 2016-11-07 13:49:51 2016-11-06 04:00:00\n",
              "4 2016-11-07 15:49:51 2016-11-06 01:00:00"
            ]
          },
          "metadata": {
            "tags": []
          },
          "execution_count": 60
        }
      ]
    },
    {
      "cell_type": "code",
      "metadata": {
        "id": "nxAu8Rv4PH-f",
        "colab_type": "code",
        "colab": {}
      },
      "source": [
        "lbought=dt.max(axis=1)\n",
        "lboughtt=dt1.max(axis=1)"
      ],
      "execution_count": 80,
      "outputs": []
    },
    {
      "cell_type": "code",
      "metadata": {
        "id": "P0nPxqw7PPg-",
        "colab_type": "code",
        "colab": {
          "base_uri": "https://localhost:8080/",
          "height": 218
        },
        "outputId": "0fabd0df-12f7-4425-b71d-a5e3c562f574"
      },
      "source": [
        "lbought"
      ],
      "execution_count": 48,
      "outputs": [
        {
          "output_type": "execute_result",
          "data": {
            "text/plain": [
              "0       2014-02-24 08:07:06\n",
              "1       2014-02-24 06:07:06\n",
              "2       2016-03-18 02:00:00\n",
              "3       2016-11-07 13:49:51\n",
              "4       2016-11-07 15:49:51\n",
              "                ...        \n",
              "20274   2016-11-14 14:46:42\n",
              "20275   2016-11-13 10:46:47\n",
              "20276   2017-01-21 18:30:04\n",
              "20277   2016-11-14 12:47:01\n",
              "20278   2016-11-12 10:48:30\n",
              "Length: 20279, dtype: datetime64[ns]"
            ]
          },
          "metadata": {
            "tags": []
          },
          "execution_count": 48
        }
      ]
    },
    {
      "cell_type": "code",
      "metadata": {
        "id": "OzwM1m4UPoWk",
        "colab_type": "code",
        "colab": {}
      },
      "source": [
        "df['last_bought']=lbought\n",
        "dftest['last_bought']=lboughtt"
      ],
      "execution_count": 81,
      "outputs": []
    },
    {
      "cell_type": "code",
      "metadata": {
        "id": "4YbPdkdnP1Wa",
        "colab_type": "code",
        "colab": {}
      },
      "source": [
        "df['last_bought_day']=pd.DatetimeIndex(df['last_bought']).day\n",
        "df['last_bought_month']=pd.DatetimeIndex(df['last_bought']).month\n",
        "df['last_bought_year']=pd.DatetimeIndex(df['last_bought']).year\n",
        "dftest['last_bought_day']=pd.DatetimeIndex(dftest['last_bought']).day\n",
        "dftest['last_bought_month']=pd.DatetimeIndex(dftest['last_bought']).month\n",
        "dftest['last_bought_year']=pd.DatetimeIndex(dftest['last_bought']).year"
      ],
      "execution_count": 82,
      "outputs": []
    },
    {
      "cell_type": "code",
      "metadata": {
        "id": "IKS7fInfQqNb",
        "colab_type": "code",
        "colab": {}
      },
      "source": [
        "df['last_bought_day_y_m']=df['last_bought_day']*df['last_bought_month']*df['last_bought_year']\n",
        "dftest['last_bought_day_y_m']=dftest['last_bought_day']*dftest['last_bought_month']*dftest['last_bought_year']"
      ],
      "execution_count": 83,
      "outputs": []
    },
    {
      "cell_type": "code",
      "metadata": {
        "id": "KUZj1sTrDt2V",
        "colab_type": "code",
        "colab": {}
      },
      "source": [
        "dscnt={\n",
        "    1:0,\n",
        "    0:1\n",
        "}\n",
        "df['is_discounted']=df['is_discounted'].map(dscnt)"
      ],
      "execution_count": 104,
      "outputs": []
    },
    {
      "cell_type": "code",
      "metadata": {
        "id": "SceYPIcmPs-W",
        "colab_type": "code",
        "colab": {
          "base_uri": "https://localhost:8080/",
          "height": 383
        },
        "outputId": "4abf5777-0bee-43ee-dedf-b57f17413ce7"
      },
      "source": [
        "df.head()"
      ],
      "execution_count": 52,
      "outputs": [
        {
          "output_type": "execute_result",
          "data": {
            "text/html": [
              "<div>\n",
              "<style scoped>\n",
              "    .dataframe tbody tr th:only-of-type {\n",
              "        vertical-align: middle;\n",
              "    }\n",
              "\n",
              "    .dataframe tbody tr th {\n",
              "        vertical-align: top;\n",
              "    }\n",
              "\n",
              "    .dataframe thead th {\n",
              "        text-align: right;\n",
              "    }\n",
              "</style>\n",
              "<table border=\"1\" class=\"dataframe\">\n",
              "  <thead>\n",
              "    <tr style=\"text-align: right;\">\n",
              "      <th></th>\n",
              "      <th>gift_id</th>\n",
              "      <th>gift_type</th>\n",
              "      <th>gift_category</th>\n",
              "      <th>gift_cluster</th>\n",
              "      <th>instock_date</th>\n",
              "      <th>stock_update_date</th>\n",
              "      <th>lsg_1</th>\n",
              "      <th>lsg_2</th>\n",
              "      <th>lsg_3</th>\n",
              "      <th>lsg_4</th>\n",
              "      <th>lsg_5</th>\n",
              "      <th>lsg_6</th>\n",
              "      <th>uk_date1</th>\n",
              "      <th>uk_date2</th>\n",
              "      <th>is_discounted</th>\n",
              "      <th>volumes</th>\n",
              "      <th>price</th>\n",
              "      <th>stock_year</th>\n",
              "      <th>instock_year</th>\n",
              "      <th>diff_two_buy</th>\n",
              "      <th>diff_in_and_up</th>\n",
              "      <th>last_bought</th>\n",
              "      <th>last_bought_day</th>\n",
              "      <th>last_bought_month</th>\n",
              "      <th>last_bought_year</th>\n",
              "      <th>last_bought_day_y_m</th>\n",
              "    </tr>\n",
              "  </thead>\n",
              "  <tbody>\n",
              "    <tr>\n",
              "      <th>0</th>\n",
              "      <td>GF_11156</td>\n",
              "      <td>61</td>\n",
              "      <td>534</td>\n",
              "      <td>3942</td>\n",
              "      <td>2014-02-21 05:07:06</td>\n",
              "      <td>2016-11-09 15:49:51</td>\n",
              "      <td>3377</td>\n",
              "      <td>5221</td>\n",
              "      <td>504</td>\n",
              "      <td>1912</td>\n",
              "      <td>10</td>\n",
              "      <td>554</td>\n",
              "      <td>2014-02-24 08:07:06</td>\n",
              "      <td>2014-02-24 07:07:06</td>\n",
              "      <td>0</td>\n",
              "      <td>13.0</td>\n",
              "      <td>175.54</td>\n",
              "      <td>2016</td>\n",
              "      <td>2014</td>\n",
              "      <td>0.041667</td>\n",
              "      <td>992.446354</td>\n",
              "      <td>2014-02-24 08:07:06</td>\n",
              "      <td>24</td>\n",
              "      <td>2</td>\n",
              "      <td>2014</td>\n",
              "      <td>96672</td>\n",
              "    </tr>\n",
              "    <tr>\n",
              "      <th>1</th>\n",
              "      <td>GF_11157</td>\n",
              "      <td>61</td>\n",
              "      <td>534</td>\n",
              "      <td>3942</td>\n",
              "      <td>2014-02-21 06:07:06</td>\n",
              "      <td>2016-11-11 13:49:51</td>\n",
              "      <td>3377</td>\n",
              "      <td>5221</td>\n",
              "      <td>504</td>\n",
              "      <td>1912</td>\n",
              "      <td>10</td>\n",
              "      <td>554</td>\n",
              "      <td>2014-02-22 07:07:06</td>\n",
              "      <td>2014-02-24 06:07:06</td>\n",
              "      <td>1</td>\n",
              "      <td>13.0</td>\n",
              "      <td>95.80</td>\n",
              "      <td>2016</td>\n",
              "      <td>2014</td>\n",
              "      <td>1.958333</td>\n",
              "      <td>994.321354</td>\n",
              "      <td>2014-02-24 06:07:06</td>\n",
              "      <td>24</td>\n",
              "      <td>2</td>\n",
              "      <td>2014</td>\n",
              "      <td>96672</td>\n",
              "    </tr>\n",
              "    <tr>\n",
              "      <th>2</th>\n",
              "      <td>GF_15689</td>\n",
              "      <td>584</td>\n",
              "      <td>262</td>\n",
              "      <td>0</td>\n",
              "      <td>2014-02-21 09:30:21</td>\n",
              "      <td>2016-03-24 14:46:18</td>\n",
              "      <td>5290</td>\n",
              "      <td>1579</td>\n",
              "      <td>3203</td>\n",
              "      <td>1912</td>\n",
              "      <td>9</td>\n",
              "      <td>1578</td>\n",
              "      <td>2016-01-26 00:04:45</td>\n",
              "      <td>2016-03-18 02:00:00</td>\n",
              "      <td>1</td>\n",
              "      <td>13.0</td>\n",
              "      <td>107.35</td>\n",
              "      <td>2016</td>\n",
              "      <td>2014</td>\n",
              "      <td>52.080035</td>\n",
              "      <td>762.219410</td>\n",
              "      <td>2016-03-18 02:00:00</td>\n",
              "      <td>18</td>\n",
              "      <td>3</td>\n",
              "      <td>2016</td>\n",
              "      <td>108864</td>\n",
              "    </tr>\n",
              "    <tr>\n",
              "      <th>3</th>\n",
              "      <td>GF_11155</td>\n",
              "      <td>61</td>\n",
              "      <td>534</td>\n",
              "      <td>3942</td>\n",
              "      <td>2014-02-22 05:07:06</td>\n",
              "      <td>2016-11-10 16:49:51</td>\n",
              "      <td>3377</td>\n",
              "      <td>5221</td>\n",
              "      <td>504</td>\n",
              "      <td>1912</td>\n",
              "      <td>10</td>\n",
              "      <td>554</td>\n",
              "      <td>2016-11-07 13:49:51</td>\n",
              "      <td>2016-11-06 04:00:00</td>\n",
              "      <td>0</td>\n",
              "      <td>13.0</td>\n",
              "      <td>172.90</td>\n",
              "      <td>2016</td>\n",
              "      <td>2014</td>\n",
              "      <td>1.409618</td>\n",
              "      <td>992.488021</td>\n",
              "      <td>2016-11-07 13:49:51</td>\n",
              "      <td>7</td>\n",
              "      <td>11</td>\n",
              "      <td>2016</td>\n",
              "      <td>155232</td>\n",
              "    </tr>\n",
              "    <tr>\n",
              "      <th>4</th>\n",
              "      <td>GF_11158</td>\n",
              "      <td>61</td>\n",
              "      <td>534</td>\n",
              "      <td>3942</td>\n",
              "      <td>2014-02-22 07:07:06</td>\n",
              "      <td>2016-11-10 13:49:51</td>\n",
              "      <td>3377</td>\n",
              "      <td>5221</td>\n",
              "      <td>504</td>\n",
              "      <td>1912</td>\n",
              "      <td>9</td>\n",
              "      <td>554</td>\n",
              "      <td>2016-11-07 15:49:51</td>\n",
              "      <td>2016-11-06 01:00:00</td>\n",
              "      <td>1</td>\n",
              "      <td>13.0</td>\n",
              "      <td>77.72</td>\n",
              "      <td>2016</td>\n",
              "      <td>2014</td>\n",
              "      <td>1.617951</td>\n",
              "      <td>992.279688</td>\n",
              "      <td>2016-11-07 15:49:51</td>\n",
              "      <td>7</td>\n",
              "      <td>11</td>\n",
              "      <td>2016</td>\n",
              "      <td>155232</td>\n",
              "    </tr>\n",
              "  </tbody>\n",
              "</table>\n",
              "</div>"
            ],
            "text/plain": [
              "    gift_id  gift_type  ...  last_bought_year  last_bought_day_y_m\n",
              "0  GF_11156         61  ...              2014                96672\n",
              "1  GF_11157         61  ...              2014                96672\n",
              "2  GF_15689        584  ...              2016               108864\n",
              "3  GF_11155         61  ...              2016               155232\n",
              "4  GF_11158         61  ...              2016               155232\n",
              "\n",
              "[5 rows x 26 columns]"
            ]
          },
          "metadata": {
            "tags": []
          },
          "execution_count": 52
        }
      ]
    },
    {
      "cell_type": "code",
      "metadata": {
        "id": "KBw5q74hxi3M",
        "colab_type": "code",
        "colab": {}
      },
      "source": [
        "Dataf=df.drop(columns=['instock_date','uk_date1','uk_date2','last_bought','stock_update_date','instock_date'],axis=1)\n",
        "Datatest=dftest.drop(columns=['instock_date','uk_date1','uk_date2','last_bought','stock_update_date','instock_date'],axis=1)"
      ],
      "execution_count": 84,
      "outputs": []
    },
    {
      "cell_type": "code",
      "metadata": {
        "id": "XQRVzlvqzmrn",
        "colab_type": "code",
        "colab": {}
      },
      "source": [
        "Datatest=Datatest.drop('gift_id',axis=1)"
      ],
      "execution_count": 85,
      "outputs": []
    },
    {
      "cell_type": "code",
      "metadata": {
        "id": "U0OdQOqwx3ri",
        "colab_type": "code",
        "colab": {
          "base_uri": "https://localhost:8080/",
          "height": 215
        },
        "outputId": "80bea381-07d0-4ae6-a5fe-0cd4a0a5522f"
      },
      "source": [
        "Dataf.head()"
      ],
      "execution_count": 54,
      "outputs": [
        {
          "output_type": "execute_result",
          "data": {
            "text/html": [
              "<div>\n",
              "<style scoped>\n",
              "    .dataframe tbody tr th:only-of-type {\n",
              "        vertical-align: middle;\n",
              "    }\n",
              "\n",
              "    .dataframe tbody tr th {\n",
              "        vertical-align: top;\n",
              "    }\n",
              "\n",
              "    .dataframe thead th {\n",
              "        text-align: right;\n",
              "    }\n",
              "</style>\n",
              "<table border=\"1\" class=\"dataframe\">\n",
              "  <thead>\n",
              "    <tr style=\"text-align: right;\">\n",
              "      <th></th>\n",
              "      <th>gift_id</th>\n",
              "      <th>gift_type</th>\n",
              "      <th>gift_category</th>\n",
              "      <th>gift_cluster</th>\n",
              "      <th>lsg_1</th>\n",
              "      <th>lsg_2</th>\n",
              "      <th>lsg_3</th>\n",
              "      <th>lsg_4</th>\n",
              "      <th>lsg_5</th>\n",
              "      <th>lsg_6</th>\n",
              "      <th>is_discounted</th>\n",
              "      <th>volumes</th>\n",
              "      <th>price</th>\n",
              "      <th>stock_year</th>\n",
              "      <th>instock_year</th>\n",
              "      <th>diff_two_buy</th>\n",
              "      <th>diff_in_and_up</th>\n",
              "      <th>last_bought_day</th>\n",
              "      <th>last_bought_month</th>\n",
              "      <th>last_bought_year</th>\n",
              "      <th>last_bought_day_y_m</th>\n",
              "    </tr>\n",
              "  </thead>\n",
              "  <tbody>\n",
              "    <tr>\n",
              "      <th>0</th>\n",
              "      <td>GF_11156</td>\n",
              "      <td>61</td>\n",
              "      <td>534</td>\n",
              "      <td>3942</td>\n",
              "      <td>3377</td>\n",
              "      <td>5221</td>\n",
              "      <td>504</td>\n",
              "      <td>1912</td>\n",
              "      <td>10</td>\n",
              "      <td>554</td>\n",
              "      <td>0</td>\n",
              "      <td>13.0</td>\n",
              "      <td>175.54</td>\n",
              "      <td>2016</td>\n",
              "      <td>2014</td>\n",
              "      <td>0.041667</td>\n",
              "      <td>992.446354</td>\n",
              "      <td>24</td>\n",
              "      <td>2</td>\n",
              "      <td>2014</td>\n",
              "      <td>96672</td>\n",
              "    </tr>\n",
              "    <tr>\n",
              "      <th>1</th>\n",
              "      <td>GF_11157</td>\n",
              "      <td>61</td>\n",
              "      <td>534</td>\n",
              "      <td>3942</td>\n",
              "      <td>3377</td>\n",
              "      <td>5221</td>\n",
              "      <td>504</td>\n",
              "      <td>1912</td>\n",
              "      <td>10</td>\n",
              "      <td>554</td>\n",
              "      <td>1</td>\n",
              "      <td>13.0</td>\n",
              "      <td>95.80</td>\n",
              "      <td>2016</td>\n",
              "      <td>2014</td>\n",
              "      <td>1.958333</td>\n",
              "      <td>994.321354</td>\n",
              "      <td>24</td>\n",
              "      <td>2</td>\n",
              "      <td>2014</td>\n",
              "      <td>96672</td>\n",
              "    </tr>\n",
              "    <tr>\n",
              "      <th>2</th>\n",
              "      <td>GF_15689</td>\n",
              "      <td>584</td>\n",
              "      <td>262</td>\n",
              "      <td>0</td>\n",
              "      <td>5290</td>\n",
              "      <td>1579</td>\n",
              "      <td>3203</td>\n",
              "      <td>1912</td>\n",
              "      <td>9</td>\n",
              "      <td>1578</td>\n",
              "      <td>1</td>\n",
              "      <td>13.0</td>\n",
              "      <td>107.35</td>\n",
              "      <td>2016</td>\n",
              "      <td>2014</td>\n",
              "      <td>52.080035</td>\n",
              "      <td>762.219410</td>\n",
              "      <td>18</td>\n",
              "      <td>3</td>\n",
              "      <td>2016</td>\n",
              "      <td>108864</td>\n",
              "    </tr>\n",
              "    <tr>\n",
              "      <th>3</th>\n",
              "      <td>GF_11155</td>\n",
              "      <td>61</td>\n",
              "      <td>534</td>\n",
              "      <td>3942</td>\n",
              "      <td>3377</td>\n",
              "      <td>5221</td>\n",
              "      <td>504</td>\n",
              "      <td>1912</td>\n",
              "      <td>10</td>\n",
              "      <td>554</td>\n",
              "      <td>0</td>\n",
              "      <td>13.0</td>\n",
              "      <td>172.90</td>\n",
              "      <td>2016</td>\n",
              "      <td>2014</td>\n",
              "      <td>1.409618</td>\n",
              "      <td>992.488021</td>\n",
              "      <td>7</td>\n",
              "      <td>11</td>\n",
              "      <td>2016</td>\n",
              "      <td>155232</td>\n",
              "    </tr>\n",
              "    <tr>\n",
              "      <th>4</th>\n",
              "      <td>GF_11158</td>\n",
              "      <td>61</td>\n",
              "      <td>534</td>\n",
              "      <td>3942</td>\n",
              "      <td>3377</td>\n",
              "      <td>5221</td>\n",
              "      <td>504</td>\n",
              "      <td>1912</td>\n",
              "      <td>9</td>\n",
              "      <td>554</td>\n",
              "      <td>1</td>\n",
              "      <td>13.0</td>\n",
              "      <td>77.72</td>\n",
              "      <td>2016</td>\n",
              "      <td>2014</td>\n",
              "      <td>1.617951</td>\n",
              "      <td>992.279688</td>\n",
              "      <td>7</td>\n",
              "      <td>11</td>\n",
              "      <td>2016</td>\n",
              "      <td>155232</td>\n",
              "    </tr>\n",
              "  </tbody>\n",
              "</table>\n",
              "</div>"
            ],
            "text/plain": [
              "    gift_id  gift_type  ...  last_bought_year  last_bought_day_y_m\n",
              "0  GF_11156         61  ...              2014                96672\n",
              "1  GF_11157         61  ...              2014                96672\n",
              "2  GF_15689        584  ...              2016               108864\n",
              "3  GF_11155         61  ...              2016               155232\n",
              "4  GF_11158         61  ...              2016               155232\n",
              "\n",
              "[5 rows x 21 columns]"
            ]
          },
          "metadata": {
            "tags": []
          },
          "execution_count": 54
        }
      ]
    },
    {
      "cell_type": "markdown",
      "metadata": {
        "id": "UDE9OYPfSjpT",
        "colab_type": "text"
      },
      "source": [
        "Training and testing"
      ]
    },
    {
      "cell_type": "code",
      "metadata": {
        "id": "OlfNA4q3zg-F",
        "colab_type": "code",
        "colab": {}
      },
      "source": [
        "X=Dataf.drop(columns=['price','gift_id'],axis=1)\n",
        "y=df['price'].values"
      ],
      "execution_count": 133,
      "outputs": []
    },
    {
      "cell_type": "code",
      "metadata": {
        "id": "muArmNSMSxar",
        "colab_type": "code",
        "colab": {}
      },
      "source": [
        "from sklearn.model_selection import train_test_split\n",
        "\n",
        "X_train, X_test, y_train, y_test = train_test_split(X, y, test_size=0.2, random_state=123)"
      ],
      "execution_count": 56,
      "outputs": []
    },
    {
      "cell_type": "code",
      "metadata": {
        "id": "dP136ZweS2gB",
        "colab_type": "code",
        "colab": {}
      },
      "source": [
        "import xgboost as xgb\n",
        "from sklearn.metrics import mean_squared_error"
      ],
      "execution_count": 27,
      "outputs": []
    },
    {
      "cell_type": "code",
      "metadata": {
        "id": "R3GSpshWS5C4",
        "colab_type": "code",
        "colab": {}
      },
      "source": [
        "# Hyper Parameter Optimization\n",
        "\n",
        "params={\n",
        " \"learning_rate\"    : [0.05, 0.10, 0.15, 0.20, 0.25, 0.30 ] ,\n",
        " \"max_depth\"        : [ 3,5,6,8,10,13,15],\n",
        " \"min_child_weight\" : [ 1, 3, 5, 7,9 ,11,14,19],\n",
        " \"gamma\"            : [ 0.0, 0.1, 0.2 , 0.3, 0.4 ,0.5],\n",
        " \"colsample_bytree\" : [ 0.3, 0.4, 0.5 , 0.7,0.9 ],\n",
        " \"num_boost_round\": [10, 25, 50,80,100,150],\n",
        "  \"n_estimators\" :[50,100,200,500,1000,2000] \n",
        "}"
      ],
      "execution_count": 90,
      "outputs": []
    },
    {
      "cell_type": "code",
      "metadata": {
        "id": "-s_C5aIwuL_n",
        "colab_type": "code",
        "colab": {}
      },
      "source": [
        "xg_reg = xgb.XGBRegressor()"
      ],
      "execution_count": 91,
      "outputs": []
    },
    {
      "cell_type": "code",
      "metadata": {
        "id": "szl7A_C5uN0F",
        "colab_type": "code",
        "colab": {}
      },
      "source": [
        "def timer(start_time=None):\n",
        "    if not start_time:\n",
        "        start_time = datetime.now()\n",
        "        return start_time\n",
        "    elif start_time:\n",
        "        thour, temp_sec = divmod((datetime.now() - start_time).total_seconds(), 3600)\n",
        "        tmin, tsec = divmod(temp_sec, 60)\n",
        "        print('\\n Time taken: %i hours %i minutes and %s seconds.' % (thour, tmin, round(tsec, 2)))"
      ],
      "execution_count": 59,
      "outputs": []
    },
    {
      "cell_type": "code",
      "metadata": {
        "id": "amnKUi00uQs4",
        "colab_type": "code",
        "colab": {}
      },
      "source": [
        "from sklearn.model_selection import RandomizedSearchCV, GridSearchCV\n",
        "random_search=RandomizedSearchCV(xg_reg,param_distributions=params,n_iter=5,n_jobs=1,cv=2,verbose=3)"
      ],
      "execution_count": 92,
      "outputs": []
    },
    {
      "cell_type": "code",
      "metadata": {
        "id": "oPpEtFFPuRoK",
        "colab_type": "code",
        "colab": {
          "base_uri": "https://localhost:8080/",
          "height": 675
        },
        "outputId": "48e53f22-9a08-4e03-d047-b8d65489a0e7"
      },
      "source": [
        "from datetime import datetime\n",
        "# Here we go\n",
        "start_time = timer(None) # timing starts from this point for \"start_time\" variable\n",
        "random_search.fit(X_train,y_train)\n",
        "timer(start_time) # timing ends here for \"start_time\" variable"
      ],
      "execution_count": 93,
      "outputs": [
        {
          "output_type": "stream",
          "text": [
            "Fitting 2 folds for each of 5 candidates, totalling 10 fits\n",
            "[CV] num_boost_round=100, n_estimators=200, min_child_weight=3, max_depth=15, learning_rate=0.25, gamma=0.4, colsample_bytree=0.5 \n",
            "[09:10:32] WARNING: /workspace/src/objective/regression_obj.cu:152: reg:linear is now deprecated in favor of reg:squarederror.\n"
          ],
          "name": "stdout"
        },
        {
          "output_type": "stream",
          "text": [
            "[Parallel(n_jobs=1)]: Using backend SequentialBackend with 1 concurrent workers.\n"
          ],
          "name": "stderr"
        },
        {
          "output_type": "stream",
          "text": [
            "[CV]  num_boost_round=100, n_estimators=200, min_child_weight=3, max_depth=15, learning_rate=0.25, gamma=0.4, colsample_bytree=0.5, score=0.768, total=   4.7s\n",
            "[CV] num_boost_round=100, n_estimators=200, min_child_weight=3, max_depth=15, learning_rate=0.25, gamma=0.4, colsample_bytree=0.5 \n",
            "[09:10:37] WARNING: /workspace/src/objective/regression_obj.cu:152: reg:linear is now deprecated in favor of reg:squarederror.\n"
          ],
          "name": "stdout"
        },
        {
          "output_type": "stream",
          "text": [
            "[Parallel(n_jobs=1)]: Done   1 out of   1 | elapsed:    4.7s remaining:    0.0s\n"
          ],
          "name": "stderr"
        },
        {
          "output_type": "stream",
          "text": [
            "[CV]  num_boost_round=100, n_estimators=200, min_child_weight=3, max_depth=15, learning_rate=0.25, gamma=0.4, colsample_bytree=0.5, score=0.720, total=   4.7s\n",
            "[CV] num_boost_round=25, n_estimators=50, min_child_weight=11, max_depth=13, learning_rate=0.05, gamma=0.4, colsample_bytree=0.9 \n",
            "[09:10:41] WARNING: /workspace/src/objective/regression_obj.cu:152: reg:linear is now deprecated in favor of reg:squarederror.\n"
          ],
          "name": "stdout"
        },
        {
          "output_type": "stream",
          "text": [
            "[Parallel(n_jobs=1)]: Done   2 out of   2 | elapsed:    9.4s remaining:    0.0s\n"
          ],
          "name": "stderr"
        },
        {
          "output_type": "stream",
          "text": [
            "[CV]  num_boost_round=25, n_estimators=50, min_child_weight=11, max_depth=13, learning_rate=0.05, gamma=0.4, colsample_bytree=0.9, score=0.730, total=   1.6s\n",
            "[CV] num_boost_round=25, n_estimators=50, min_child_weight=11, max_depth=13, learning_rate=0.05, gamma=0.4, colsample_bytree=0.9 \n",
            "[09:10:43] WARNING: /workspace/src/objective/regression_obj.cu:152: reg:linear is now deprecated in favor of reg:squarederror.\n",
            "[CV]  num_boost_round=25, n_estimators=50, min_child_weight=11, max_depth=13, learning_rate=0.05, gamma=0.4, colsample_bytree=0.9, score=0.703, total=   1.6s\n",
            "[CV] num_boost_round=80, n_estimators=2000, min_child_weight=19, max_depth=15, learning_rate=0.3, gamma=0.2, colsample_bytree=0.4 \n",
            "[09:10:45] WARNING: /workspace/src/objective/regression_obj.cu:152: reg:linear is now deprecated in favor of reg:squarederror.\n",
            "[CV]  num_boost_round=80, n_estimators=2000, min_child_weight=19, max_depth=15, learning_rate=0.3, gamma=0.2, colsample_bytree=0.4, score=0.747, total=  36.7s\n",
            "[CV] num_boost_round=80, n_estimators=2000, min_child_weight=19, max_depth=15, learning_rate=0.3, gamma=0.2, colsample_bytree=0.4 \n",
            "[09:11:21] WARNING: /workspace/src/objective/regression_obj.cu:152: reg:linear is now deprecated in favor of reg:squarederror.\n",
            "[CV]  num_boost_round=80, n_estimators=2000, min_child_weight=19, max_depth=15, learning_rate=0.3, gamma=0.2, colsample_bytree=0.4, score=0.725, total=  34.5s\n",
            "[CV] num_boost_round=25, n_estimators=1000, min_child_weight=3, max_depth=8, learning_rate=0.25, gamma=0.0, colsample_bytree=0.5 \n",
            "[09:11:56] WARNING: /workspace/src/objective/regression_obj.cu:152: reg:linear is now deprecated in favor of reg:squarederror.\n",
            "[CV]  num_boost_round=25, n_estimators=1000, min_child_weight=3, max_depth=8, learning_rate=0.25, gamma=0.0, colsample_bytree=0.5, score=0.747, total=  11.9s\n",
            "[CV] num_boost_round=25, n_estimators=1000, min_child_weight=3, max_depth=8, learning_rate=0.25, gamma=0.0, colsample_bytree=0.5 \n",
            "[09:12:08] WARNING: /workspace/src/objective/regression_obj.cu:152: reg:linear is now deprecated in favor of reg:squarederror.\n",
            "[CV]  num_boost_round=25, n_estimators=1000, min_child_weight=3, max_depth=8, learning_rate=0.25, gamma=0.0, colsample_bytree=0.5, score=0.737, total=  11.8s\n",
            "[CV] num_boost_round=80, n_estimators=100, min_child_weight=7, max_depth=15, learning_rate=0.3, gamma=0.2, colsample_bytree=0.4 \n",
            "[09:12:19] WARNING: /workspace/src/objective/regression_obj.cu:152: reg:linear is now deprecated in favor of reg:squarederror.\n",
            "[CV]  num_boost_round=80, n_estimators=100, min_child_weight=7, max_depth=15, learning_rate=0.3, gamma=0.2, colsample_bytree=0.4, score=0.738, total=   2.0s\n",
            "[CV] num_boost_round=80, n_estimators=100, min_child_weight=7, max_depth=15, learning_rate=0.3, gamma=0.2, colsample_bytree=0.4 \n",
            "[09:12:21] WARNING: /workspace/src/objective/regression_obj.cu:152: reg:linear is now deprecated in favor of reg:squarederror.\n",
            "[CV]  num_boost_round=80, n_estimators=100, min_child_weight=7, max_depth=15, learning_rate=0.3, gamma=0.2, colsample_bytree=0.4, score=0.722, total=   2.0s\n",
            "[09:12:23] WARNING: /workspace/src/objective/regression_obj.cu:152: reg:linear is now deprecated in favor of reg:squarederror.\n"
          ],
          "name": "stdout"
        },
        {
          "output_type": "stream",
          "text": [
            "[Parallel(n_jobs=1)]: Done  10 out of  10 | elapsed:  1.9min finished\n"
          ],
          "name": "stderr"
        },
        {
          "output_type": "stream",
          "text": [
            "\n",
            " Time taken: 0 hours 2 minutes and 0.19 seconds.\n"
          ],
          "name": "stdout"
        }
      ]
    },
    {
      "cell_type": "code",
      "metadata": {
        "id": "2HIv8XZhuYUK",
        "colab_type": "code",
        "colab": {
          "base_uri": "https://localhost:8080/",
          "height": 134
        },
        "outputId": "128e0094-dec4-4751-96f5-7275f1842596"
      },
      "source": [
        "random_search.best_params_"
      ],
      "execution_count": 94,
      "outputs": [
        {
          "output_type": "execute_result",
          "data": {
            "text/plain": [
              "{'colsample_bytree': 0.5,\n",
              " 'gamma': 0.4,\n",
              " 'learning_rate': 0.25,\n",
              " 'max_depth': 15,\n",
              " 'min_child_weight': 3,\n",
              " 'n_estimators': 200,\n",
              " 'num_boost_round': 100}"
            ]
          },
          "metadata": {
            "tags": []
          },
          "execution_count": 94
        }
      ]
    },
    {
      "cell_type": "code",
      "metadata": {
        "id": "VRP0jkjKw5um",
        "colab_type": "code",
        "colab": {
          "base_uri": "https://localhost:8080/",
          "height": 151
        },
        "outputId": "71c9b5b1-9d26-415d-9f50-232af58ded7f"
      },
      "source": [
        "random_search.best_estimator_"
      ],
      "execution_count": 96,
      "outputs": [
        {
          "output_type": "execute_result",
          "data": {
            "text/plain": [
              "XGBRegressor(base_score=0.5, booster='gbtree', colsample_bylevel=1,\n",
              "             colsample_bynode=1, colsample_bytree=0.5, gamma=0.4,\n",
              "             importance_type='gain', learning_rate=0.25, max_delta_step=0,\n",
              "             max_depth=15, min_child_weight=3, missing=None, n_estimators=200,\n",
              "             n_jobs=1, nthread=None, num_boost_round=100,\n",
              "             objective='reg:linear', random_state=0, reg_alpha=0, reg_lambda=1,\n",
              "             scale_pos_weight=1, seed=None, silent=None, subsample=1,\n",
              "             verbosity=1)"
            ]
          },
          "metadata": {
            "tags": []
          },
          "execution_count": 96
        }
      ]
    },
    {
      "cell_type": "code",
      "metadata": {
        "id": "xqqOQ_elw_Z9",
        "colab_type": "code",
        "colab": {
          "base_uri": "https://localhost:8080/",
          "height": 34
        },
        "outputId": "ceaea34d-ae64-43af-f473-6a46d7168ebc"
      },
      "source": [
        "random_search.best_score_"
      ],
      "execution_count": 95,
      "outputs": [
        {
          "output_type": "execute_result",
          "data": {
            "text/plain": [
              "0.7438582485170477"
            ]
          },
          "metadata": {
            "tags": []
          },
          "execution_count": 95
        }
      ]
    },
    {
      "cell_type": "markdown",
      "metadata": {
        "id": "FgkxwNz0oSxj",
        "colab_type": "text"
      },
      "source": [
        "best model till now"
      ]
    },
    {
      "cell_type": "code",
      "metadata": {
        "id": "0GmhX336xmEZ",
        "colab_type": "code",
        "colab": {}
      },
      "source": [
        "xgbr=xgb.XGBRegressor(base_score=0.5, booster='gbtree', colsample_bylevel=1,\n",
        "             colsample_bynode=1, colsample_bytree=0.5, gamma=0.3,\n",
        "             importance_type='gain', learning_rate=0.1, max_delta_step=0,\n",
        "             max_depth=15, min_child_weight=1, missing=None, n_estimators=500,\n",
        "             n_jobs=1, nthread=None, num_boost_round=50, objective='reg:linear',\n",
        "             random_state=0, reg_alpha=0, reg_lambda=1, scale_pos_weight=1,\n",
        "             seed=None, silent=None, subsample=1, verbosity=1)"
      ],
      "execution_count": 100,
      "outputs": []
    },
    {
      "cell_type": "code",
      "metadata": {
        "id": "ndNmjlO6xDC3",
        "colab_type": "code",
        "colab": {
          "base_uri": "https://localhost:8080/",
          "height": 34
        },
        "outputId": "448eb406-178c-4a1f-c957-a3469dff34ce"
      },
      "source": [
        "xgbr.fit(X_train,y_train)\n",
        "y=xgbr.predict(X_test)"
      ],
      "execution_count": 101,
      "outputs": [
        {
          "output_type": "stream",
          "text": [
            "[09:13:25] WARNING: /workspace/src/objective/regression_obj.cu:152: reg:linear is now deprecated in favor of reg:squarederror.\n"
          ],
          "name": "stdout"
        }
      ]
    },
    {
      "cell_type": "code",
      "metadata": {
        "id": "mtJfPbJHT2lP",
        "colab_type": "code",
        "colab": {
          "base_uri": "https://localhost:8080/",
          "height": 34
        },
        "outputId": "164db5dd-04f1-4c64-9aeb-c477a5c1176b"
      },
      "source": [
        "print('RMSLE:', sqrt(mean_absolute_error(y_test, y)))"
      ],
      "execution_count": 124,
      "outputs": [
        {
          "output_type": "stream",
          "text": [
            "RMSLE: 5.918786134827618\n"
          ],
          "name": "stdout"
        }
      ]
    },
    {
      "cell_type": "code",
      "metadata": {
        "id": "FOM6MRARxs_D",
        "colab_type": "code",
        "colab": {
          "base_uri": "https://localhost:8080/",
          "height": 34
        },
        "outputId": "9b05fe3a-3384-4f27-b3fe-ff8606edd820"
      },
      "source": [
        "from sklearn.metrics import r2_score\n",
        "r2_score(y_test,y)"
      ],
      "execution_count": 102,
      "outputs": [
        {
          "output_type": "execute_result",
          "data": {
            "text/plain": [
              "0.8140317633726742"
            ]
          },
          "metadata": {
            "tags": []
          },
          "execution_count": 102
        }
      ]
    },
    {
      "cell_type": "code",
      "metadata": {
        "id": "My2s6MdPIZsO",
        "colab_type": "code",
        "colab": {
          "base_uri": "https://localhost:8080/",
          "height": 312
        },
        "outputId": "680726a1-c9b0-49ec-bcc2-cbb46ff98d20"
      },
      "source": [
        "from xgboost import plot_importance\n",
        "plot_importance(xgbr)"
      ],
      "execution_count": 107,
      "outputs": [
        {
          "output_type": "execute_result",
          "data": {
            "text/plain": [
              "<matplotlib.axes._subplots.AxesSubplot at 0x7f1a69e2c128>"
            ]
          },
          "metadata": {
            "tags": []
          },
          "execution_count": 107
        },
        {
          "output_type": "display_data",
          "data": {
            "image/png": "[encoded data removed]",
            "text/plain": [
              "<Figure size 432x288 with 1 Axes>"
            ]
          },
          "metadata": {
            "tags": [],
            "needs_background": "light"
          }
        }
      ]
    },
    {
      "cell_type": "code",
      "metadata": {
        "id": "Ua2KF9gzR2Yj",
        "colab_type": "code",
        "colab": {}
      },
      "source": [
        "from sklearn.metrics import mean_absolute_error"
      ],
      "execution_count": 114,
      "outputs": []
    },
    {
      "cell_type": "code",
      "metadata": {
        "id": "faDj9UcvRKG2",
        "colab_type": "code",
        "colab": {
          "base_uri": "https://localhost:8080/",
          "height": 188
        },
        "outputId": "64212f85-4e6d-44c3-df5f-8c6bff83159a"
      },
      "source": [
        "import lightgbm as lgb\n",
        "train_data = lgb.Dataset(X_train, label=y_train)\n",
        "test_data = lgb.Dataset(X_test, label=y_test)\n",
        "\n",
        "param = {'objective': 'regression',\n",
        "         'num_leaves':20,\n",
        "         'boosting': 'gbdt',  \n",
        "         'metric': 'mae',\n",
        "         'learning_rate': 0.2, \n",
        "         'num_iterations': 100,\n",
        "         'num_leaves': 60,\n",
        "         'max_depth': 10,\n",
        "         'min_data_in_leaf': 11,\n",
        "         'bagging_fraction': 0.80,\n",
        "         'bagging_freq': 1,\n",
        "         'bagging_seed': 142,\n",
        "         'feature_fraction': 0.80,\n",
        "         'feature_fraction_seed': 2,\n",
        "         'early_stopping_round': 200,\n",
        "         'max_bin': 250\n",
        "         }\n",
        "\n",
        "lgbm = lgb.train(params=param, verbose_eval=100, train_set=train_data, valid_sets=[test_data])\n",
        "\n",
        "y_pred_lgbm = lgbm.predict(X_test)\n",
        "print('RMSLE:', sqrt(mean_absolute_error(y_test, y_pred_lgbm)))\n"
      ],
      "execution_count": 130,
      "outputs": [
        {
          "output_type": "stream",
          "text": [
            "/usr/local/lib/python3.6/dist-packages/lightgbm/engine.py:118: UserWarning: Found `num_iterations` in params. Will use it instead of argument\n",
            "  warnings.warn(\"Found `{}` in params. Will use it instead of argument\".format(alias))\n",
            "/usr/local/lib/python3.6/dist-packages/lightgbm/engine.py:123: UserWarning: Found `early_stopping_round` in params. Will use it instead of argument\n",
            "  warnings.warn(\"Found `{}` in params. Will use it instead of argument\".format(alias))\n"
          ],
          "name": "stderr"
        },
        {
          "output_type": "stream",
          "text": [
            "Training until validation scores don't improve for 200 rounds.\n",
            "[100]\tvalid_0's l1: 45.0205\n",
            "Did not meet early stopping. Best iteration is:\n",
            "[100]\tvalid_0's l1: 45.0205\n",
            "RMSLE: 6.709729478350066\n"
          ],
          "name": "stdout"
        }
      ]
    },
    {
      "cell_type": "code",
      "metadata": {
        "id": "Jlz9poWETAC_",
        "colab_type": "code",
        "colab": {
          "base_uri": "https://localhost:8080/",
          "height": 729
        },
        "outputId": "65333322-8335-4278-a2d2-b7bfea1f56ac"
      },
      "source": [
        "import seaborn as sns\n",
        "feature_imp = pd.DataFrame(sorted(zip(lgbm.feature_importance(), X.columns), reverse=True)[:50], \n",
        "                           columns=['Value','Feature'])\n",
        "plt.figure(figsize=(12, 10))\n",
        "sns.barplot(x=\"Value\", y=\"Feature\", data=feature_imp.sort_values(by=\"Value\", ascending=False))\n",
        "plt.title('LightGBM Features')\n",
        "plt.tight_layout()\n",
        "plt.show()"
      ],
      "execution_count": 120,
      "outputs": [
        {
          "output_type": "display_data",
          "data": {
            "image/png": "[encoded data removed]",
            "text/plain": [
              "<Figure size 864x720 with 1 Axes>"
            ]
          },
          "metadata": {
            "tags": [],
            "needs_background": "light"
          }
        }
      ]
    },
    {
      "cell_type": "code",
      "metadata": {
        "id": "SzjK-1k4dgUu",
        "colab_type": "code",
        "colab": {
          "base_uri": "https://localhost:8080/",
          "height": 185
        },
        "outputId": "64925ae1-5ce0-4ffc-821b-0a626b2c3962"
      },
      "source": [
        "from sklearn.model_selection import KFold\n",
        "from lightgbm import LGBMRegressor\n",
        "\n",
        "errlgb = []\n",
        "y_pred_totlgb = []\n",
        "\n",
        "fold = KFold(n_splits=\n",
        "             10, shuffle=True, random_state=101)\n",
        "\n",
        "for train_index, test_index in fold.split(X):\n",
        "    X_train, X_test = X.loc[train_index], X.loc[test_index]\n",
        "    y_train, y_test = y[train_index], y[test_index]\n",
        "\n",
        "    lgbm = LGBMRegressor(boosting_type='gbdt', num_leaves=500, max_depth=31, learning_rate=0.1, n_estimators=1000, min_child_samples=20, subsample=0.80)\n",
        "    lgbm.fit(X_train, y_train, eval_set=[(X_test, y_test)], verbose=0, early_stopping_rounds=100)\n",
        "\n",
        "    y_pred_lgbm = lgbm.predict(X_test)\n",
        "    print(\"RMSLE LGBM: \", sqrt(mean_absolute_error(y_test, y_pred_lgbm)))\n",
        "\n",
        "    errlgb.append(sqrt(mean_absolute_error(y_test, y_pred_lgbm)))\n",
        "    p = lgbm.predict(Datatest)\n",
        "    y_pred_totlgb.append(p)"
      ],
      "execution_count": 160,
      "outputs": [
        {
          "output_type": "stream",
          "text": [
            "RMSLE LGBM:  6.255579805633392\n",
            "RMSLE LGBM:  6.322071917812661\n",
            "RMSLE LGBM:  6.482652126814802\n",
            "RMSLE LGBM:  6.063443226734685\n",
            "RMSLE LGBM:  6.4472809862500675\n",
            "RMSLE LGBM:  6.323644976649265\n",
            "RMSLE LGBM:  6.196758759648217\n",
            "RMSLE LGBM:  6.505189726880308\n",
            "RMSLE LGBM:  6.373696761430638\n",
            "RMSLE LGBM:  6.3703359334330365\n"
          ],
          "name": "stdout"
        }
      ]
    },
    {
      "cell_type": "code",
      "metadata": {
        "id": "Jv0IMuyVeqPz",
        "colab_type": "code",
        "colab": {
          "base_uri": "https://localhost:8080/",
          "height": 353
        },
        "outputId": "e5cc6658-c693-440e-bcef-782f2efe9240"
      },
      "source": [
        "y_pred_totlgb"
      ],
      "execution_count": 138,
      "outputs": [
        {
          "output_type": "execute_result",
          "data": {
            "text/plain": [
              "[array([177.36748089, 123.83383369, 101.13645627, ..., 138.46642012,\n",
              "         51.89612663,  71.80390653]),\n",
              " array([109.23037942, 198.2581928 ,  48.19541774, ...,  86.35633161,\n",
              "         50.7504142 , 101.78498718]),\n",
              " array([151.71549472, 197.35258488,  14.69239027, ...,  55.06395105,\n",
              "        135.11767684, 270.57722171]),\n",
              " array([108.43255359, 181.83932496, 209.67383891, ..., 379.50597614,\n",
              "         66.0845874 ,  88.29897503]),\n",
              " array([ 95.63196861, 176.8781984 , 104.85781734, ..., 112.68545187,\n",
              "        139.66457854, -22.42659913]),\n",
              " array([97.60701575, 93.30679612, 47.96948245, ..., 45.1877861 ,\n",
              "        50.73407892, 34.99662846]),\n",
              " array([140.53207497, 113.58200253, 107.14700499, ...,  95.3117784 ,\n",
              "         68.47898774,  99.86933093]),\n",
              " array([147.93569009,  -8.10010695, 144.74240986, ...,  56.10519908,\n",
              "         70.35480787,  78.08124224]),\n",
              " array([112.9161    ,  62.47875791, 282.8467897 , ..., 166.24001057,\n",
              "         81.09834061,  37.06049646]),\n",
              " array([ 55.51361774, 462.5935947 , 153.06067083, ..., -32.86217331,\n",
              "         66.07761605,  60.48251371])]"
            ]
          },
          "metadata": {
            "tags": []
          },
          "execution_count": 138
        }
      ]
    },
    {
      "cell_type": "code",
      "metadata": {
        "id": "AP0bIxzLfRFa",
        "colab_type": "code",
        "colab": {
          "base_uri": "https://localhost:8080/",
          "height": 34
        },
        "outputId": "f31b102d-6662-4c91-8a3c-be48d05b1163"
      },
      "source": [
        "100-np.mean(errlgb,0)"
      ],
      "execution_count": 161,
      "outputs": [
        {
          "output_type": "execute_result",
          "data": {
            "text/plain": [
              "93.6659345778713"
            ]
          },
          "metadata": {
            "tags": []
          },
          "execution_count": 161
        }
      ]
    },
    {
      "cell_type": "code",
      "metadata": {
        "id": "INt7QaiPfu1-",
        "colab_type": "code",
        "colab": {
          "base_uri": "https://localhost:8080/",
          "height": 50
        },
        "outputId": "91b94655-b982-465d-e999-848f53f3228f"
      },
      "source": [
        "y_pred_totlgb[0]"
      ],
      "execution_count": 162,
      "outputs": [
        {
          "output_type": "execute_result",
          "data": {
            "text/plain": [
              "array([127.7288999 , 117.20287075,  40.52909957, ..., 302.82266415,\n",
              "       386.47580961, 350.21265589])"
            ]
          },
          "metadata": {
            "tags": []
          },
          "execution_count": 162
        }
      ]
    },
    {
      "cell_type": "code",
      "metadata": {
        "id": "JvY8gQh7iToO",
        "colab_type": "code",
        "colab": {
          "base_uri": "https://localhost:8080/",
          "height": 34
        },
        "outputId": "f2aa46b2-123b-405c-dcd8-a58c6dc63dde"
      },
      "source": [
        "lgbm_final.shape,y_pred_totlgb[0].shape"
      ],
      "execution_count": 152,
      "outputs": [
        {
          "output_type": "execute_result",
          "data": {
            "text/plain": [
              "((2028,), (2028,))"
            ]
          },
          "metadata": {
            "tags": []
          },
          "execution_count": 152
        }
      ]
    },
    {
      "cell_type": "code",
      "metadata": {
        "id": "MglCscIIfUR7",
        "colab_type": "code",
        "colab": {}
      },
      "source": [
        "lgbm_final=y_pred_totlgb[0]*0.6+y_pred_totlgb[1]*0.4"
      ],
      "execution_count": 163,
      "outputs": []
    },
    {
      "cell_type": "code",
      "metadata": {
        "id": "c_Km4l_dgWLW",
        "colab_type": "code",
        "colab": {
          "base_uri": "https://localhost:8080/",
          "height": 50
        },
        "outputId": "263af72d-8053-4aec-f547-c69adc8764f3"
      },
      "source": [
        "lgbm_final"
      ],
      "execution_count": 165,
      "outputs": [
        {
          "output_type": "execute_result",
          "data": {
            "text/plain": [
              "array([105.31758109, 144.18808958,  38.75100331, ..., 393.30683168,\n",
              "       405.97438968, 262.52362478])"
            ]
          },
          "metadata": {
            "tags": []
          },
          "execution_count": 165
        }
      ]
    },
    {
      "cell_type": "code",
      "metadata": {
        "id": "YsBqfilbfmAC",
        "colab_type": "code",
        "colab": {
          "base_uri": "https://localhost:8080/",
          "height": 34
        },
        "outputId": "83f332e2-3278-4b84-fc35-7b5d89003928"
      },
      "source": [
        "lgbm_final.shape"
      ],
      "execution_count": 155,
      "outputs": [
        {
          "output_type": "execute_result",
          "data": {
            "text/plain": [
              "(2028,)"
            ]
          },
          "metadata": {
            "tags": []
          },
          "execution_count": 155
        }
      ]
    },
    {
      "cell_type": "code",
      "metadata": {
        "id": "rvupWkKOfXrf",
        "colab_type": "code",
        "colab": {
          "base_uri": "https://localhost:8080/",
          "height": 50
        },
        "outputId": "87020c11-9928-47fe-b6c0-e0c010b7ce9e"
      },
      "source": [
        "lgbm_final = np.mean(y_pred_totlgb,0)\n",
        "lgbm_final"
      ],
      "execution_count": 164,
      "outputs": [
        {
          "output_type": "execute_result",
          "data": {
            "text/plain": [
              "array([105.31758109, 144.18808958,  38.75100331, ..., 393.30683168,\n",
              "       405.97438968, 262.52362478])"
            ]
          },
          "metadata": {
            "tags": []
          },
          "execution_count": 164
        }
      ]
    },
    {
      "cell_type": "code",
      "metadata": {
        "id": "ZtgslsFTnutT",
        "colab_type": "code",
        "colab": {
          "base_uri": "https://localhost:8080/",
          "height": 34
        },
        "outputId": "2fc3567b-6444-4aff-e8b8-16a4416afa43"
      },
      "source": [
        "print('RMSLE:', sqrt(mean_absolute_error(y_test,y_pred_lgbm)))"
      ],
      "execution_count": 170,
      "outputs": [
        {
          "output_type": "stream",
          "text": [
            "RMSLE: 6.3703359334330365\n"
          ],
          "name": "stdout"
        }
      ]
    },
    {
      "cell_type": "code",
      "metadata": {
        "id": "n1GXiygjTEpQ",
        "colab_type": "code",
        "colab": {}
      },
      "source": [
        "predns=lgbm.predict(Datatest)"
      ],
      "execution_count": 121,
      "outputs": []
    },
    {
      "cell_type": "code",
      "metadata": {
        "id": "cLfAp_Fwzu4q",
        "colab_type": "code",
        "colab": {}
      },
      "source": [
        "pred=xgbr.predict(Datatest)"
      ],
      "execution_count": 86,
      "outputs": []
    },
    {
      "cell_type": "code",
      "metadata": {
        "id": "sC152KOMx-1F",
        "colab_type": "code",
        "colab": {}
      },
      "source": [
        "dataf=pd.DataFrame({\n",
        "    'gift_id':dftest['gift_id'],\n",
        "    'price':lgbm_final\n",
        "})"
      ],
      "execution_count": 167,
      "outputs": []
    },
    {
      "cell_type": "code",
      "metadata": {
        "id": "D8mO4Qt-0V5X",
        "colab_type": "code",
        "colab": {}
      },
      "source": [
        "dataf.to_csv('sub_gift.csv',index=False)"
      ],
      "execution_count": 168,
      "outputs": []
    }
  ]
}