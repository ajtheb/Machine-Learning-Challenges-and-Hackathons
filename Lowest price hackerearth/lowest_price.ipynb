{
  "nbformat": 4,
  "nbformat_minor": 0,
  "metadata": {
    "colab": {
      "name": "lowest price.ipynb",
      "provenance": []
    },
    "kernelspec": {
      "name": "python3",
      "display_name": "Python 3"
    }
  },
  "cells": [
    {
      "cell_type": "code",
      "metadata": {
        "id": "oONsweKJ946I",
        "colab_type": "code",
        "colab": {
          "base_uri": "https://localhost:8080/",
          "height": 87
        },
        "outputId": "d8d4b7ef-a44b-435d-ed2e-ce717de256d6"
      },
      "source": [
        "# Importing Libraries(Technologies)\n",
        "from math import sqrt\n",
        "from pandas_datareader import data \n",
        "import matplotlib.pyplot as plt\n",
        "import scipy\n",
        "import pandas as pd\n",
        "import datetime as dt\n",
        "from datetime import date\n",
        "import urllib.request,json\n",
        "import os\n",
        "import numpy as np\n",
        "import tensorflow as tf\n",
        "from sklearn.preprocessing import MinMaxScaler\n",
        "from sklearn.metrics import mean_squared_error\n",
        "#import sweetviz\n",
        "from keras.models import Sequential\n",
        "from keras.layers import Dense,LSTM"
      ],
      "execution_count": null,
      "outputs": [
        {
          "output_type": "stream",
          "text": [
            "/usr/local/lib/python3.6/dist-packages/pandas_datareader/compat/__init__.py:7: FutureWarning: pandas.util.testing is deprecated. Use the functions in the public API at pandas.testing instead.\n",
            "  from pandas.util.testing import assert_frame_equal\n",
            "Using TensorFlow backend.\n"
          ],
          "name": "stderr"
        }
      ]
    },
    {
      "cell_type": "code",
      "metadata": {
        "id": "Mzkg-w7O_bdg",
        "colab_type": "code",
        "colab": {}
      },
      "source": [
        "!pip install sweetviz"
      ],
      "execution_count": null,
      "outputs": []
    },
    {
      "cell_type": "code",
      "metadata": {
        "id": "JW0iY9XT_om1",
        "colab_type": "code",
        "colab": {}
      },
      "source": [
        "df=pd.read_csv('https://github.com/ajtheb/Machine-Learning-Challenges-and-Hackathons/raw/master/Lowest%20price%20hackerearth/Dataset/Train.csv')\n",
        "dftest=pd.read_csv('https://github.com/ajtheb/Machine-Learning-Challenges-and-Hackathons/raw/master/Lowest%20price%20hackerearth/Dataset/Test.csv')"
      ],
      "execution_count": null,
      "outputs": []
    },
    {
      "cell_type": "code",
      "metadata": {
        "id": "m-oW4OOzB66C",
        "colab_type": "code",
        "colab": {}
      },
      "source": [
        "my_report = sweetviz.analyze([dftest, \"Test\"])\n",
        "my_report.show_html('Report.html')"
      ],
      "execution_count": null,
      "outputs": []
    },
    {
      "cell_type": "code",
      "metadata": {
        "id": "Ik6bNpM4AEJl",
        "colab_type": "code",
        "colab": {
          "base_uri": "https://localhost:8080/",
          "height": 195
        },
        "outputId": "176e8aea-abe8-4874-ccef-f271cc9d6d1c"
      },
      "source": [
        "df.head()"
      ],
      "execution_count": null,
      "outputs": [
        {
          "output_type": "execute_result",
          "data": {
            "text/html": [
              "<div>\n",
              "<style scoped>\n",
              "    .dataframe tbody tr th:only-of-type {\n",
              "        vertical-align: middle;\n",
              "    }\n",
              "\n",
              "    .dataframe tbody tr th {\n",
              "        vertical-align: top;\n",
              "    }\n",
              "\n",
              "    .dataframe thead th {\n",
              "        text-align: right;\n",
              "    }\n",
              "</style>\n",
              "<table border=\"1\" class=\"dataframe\">\n",
              "  <thead>\n",
              "    <tr style=\"text-align: right;\">\n",
              "      <th></th>\n",
              "      <th>Item_Id</th>\n",
              "      <th>Date</th>\n",
              "      <th>State_of_Country</th>\n",
              "      <th>Market_Category</th>\n",
              "      <th>Product_Category</th>\n",
              "      <th>Grade</th>\n",
              "      <th>Demand</th>\n",
              "      <th>Low_Cap_Price</th>\n",
              "      <th>High_Cap_Price</th>\n",
              "    </tr>\n",
              "  </thead>\n",
              "  <tbody>\n",
              "    <tr>\n",
              "      <th>0</th>\n",
              "      <td>IT_1</td>\n",
              "      <td>2007-07-05</td>\n",
              "      <td>0</td>\n",
              "      <td>0</td>\n",
              "      <td>0</td>\n",
              "      <td>0</td>\n",
              "      <td>0.5</td>\n",
              "      <td>2785</td>\n",
              "      <td>4240</td>\n",
              "    </tr>\n",
              "    <tr>\n",
              "      <th>1</th>\n",
              "      <td>IT_2</td>\n",
              "      <td>2007-07-05</td>\n",
              "      <td>0</td>\n",
              "      <td>1</td>\n",
              "      <td>0</td>\n",
              "      <td>0</td>\n",
              "      <td>0.7</td>\n",
              "      <td>3574</td>\n",
              "      <td>4756</td>\n",
              "    </tr>\n",
              "    <tr>\n",
              "      <th>2</th>\n",
              "      <td>IT_3</td>\n",
              "      <td>2007-07-05</td>\n",
              "      <td>0</td>\n",
              "      <td>103</td>\n",
              "      <td>0</td>\n",
              "      <td>1</td>\n",
              "      <td>1.6</td>\n",
              "      <td>5978</td>\n",
              "      <td>9669</td>\n",
              "    </tr>\n",
              "    <tr>\n",
              "      <th>3</th>\n",
              "      <td>IT_4</td>\n",
              "      <td>2007-07-05</td>\n",
              "      <td>0</td>\n",
              "      <td>103</td>\n",
              "      <td>0</td>\n",
              "      <td>0</td>\n",
              "      <td>0.0</td>\n",
              "      <td>5681</td>\n",
              "      <td>8313</td>\n",
              "    </tr>\n",
              "    <tr>\n",
              "      <th>4</th>\n",
              "      <td>IT_5</td>\n",
              "      <td>2007-07-05</td>\n",
              "      <td>0</td>\n",
              "      <td>103</td>\n",
              "      <td>0</td>\n",
              "      <td>2</td>\n",
              "      <td>0.0</td>\n",
              "      <td>4924</td>\n",
              "      <td>7257</td>\n",
              "    </tr>\n",
              "  </tbody>\n",
              "</table>\n",
              "</div>"
            ],
            "text/plain": [
              "  Item_Id        Date  State_of_Country  ...  Demand  Low_Cap_Price  High_Cap_Price\n",
              "0    IT_1  2007-07-05                 0  ...     0.5           2785            4240\n",
              "1    IT_2  2007-07-05                 0  ...     0.7           3574            4756\n",
              "2    IT_3  2007-07-05                 0  ...     1.6           5978            9669\n",
              "3    IT_4  2007-07-05                 0  ...     0.0           5681            8313\n",
              "4    IT_5  2007-07-05                 0  ...     0.0           4924            7257\n",
              "\n",
              "[5 rows x 9 columns]"
            ]
          },
          "metadata": {
            "tags": []
          },
          "execution_count": 4
        }
      ]
    },
    {
      "cell_type": "code",
      "metadata": {
        "id": "LVTcuLC3VlmP",
        "colab_type": "code",
        "colab": {
          "base_uri": "https://localhost:8080/",
          "height": 195
        },
        "outputId": "207c6bb3-73ac-4f0b-aa0b-ce9aed20cf3b"
      },
      "source": [
        "dftest.head()"
      ],
      "execution_count": null,
      "outputs": [
        {
          "output_type": "execute_result",
          "data": {
            "text/html": [
              "<div>\n",
              "<style scoped>\n",
              "    .dataframe tbody tr th:only-of-type {\n",
              "        vertical-align: middle;\n",
              "    }\n",
              "\n",
              "    .dataframe tbody tr th {\n",
              "        vertical-align: top;\n",
              "    }\n",
              "\n",
              "    .dataframe thead th {\n",
              "        text-align: right;\n",
              "    }\n",
              "</style>\n",
              "<table border=\"1\" class=\"dataframe\">\n",
              "  <thead>\n",
              "    <tr style=\"text-align: right;\">\n",
              "      <th></th>\n",
              "      <th>Item_Id</th>\n",
              "      <th>Date</th>\n",
              "      <th>State_of_Country</th>\n",
              "      <th>Market_Category</th>\n",
              "      <th>Product_Category</th>\n",
              "      <th>Grade</th>\n",
              "      <th>Demand</th>\n",
              "      <th>High_Cap_Price</th>\n",
              "    </tr>\n",
              "  </thead>\n",
              "  <tbody>\n",
              "    <tr>\n",
              "      <th>0</th>\n",
              "      <td>IT_265079</td>\n",
              "      <td>2014-01-19</td>\n",
              "      <td>0</td>\n",
              "      <td>3</td>\n",
              "      <td>0</td>\n",
              "      <td>0</td>\n",
              "      <td>0.1</td>\n",
              "      <td>5303</td>\n",
              "    </tr>\n",
              "    <tr>\n",
              "      <th>1</th>\n",
              "      <td>IT_265087</td>\n",
              "      <td>2014-01-19</td>\n",
              "      <td>0</td>\n",
              "      <td>268</td>\n",
              "      <td>0</td>\n",
              "      <td>2</td>\n",
              "      <td>1.4</td>\n",
              "      <td>10492</td>\n",
              "    </tr>\n",
              "    <tr>\n",
              "      <th>2</th>\n",
              "      <td>IT_265107</td>\n",
              "      <td>2014-01-19</td>\n",
              "      <td>0</td>\n",
              "      <td>320</td>\n",
              "      <td>0</td>\n",
              "      <td>0</td>\n",
              "      <td>13.4</td>\n",
              "      <td>24706</td>\n",
              "    </tr>\n",
              "    <tr>\n",
              "      <th>3</th>\n",
              "      <td>IT_265139</td>\n",
              "      <td>2014-01-19</td>\n",
              "      <td>17</td>\n",
              "      <td>358</td>\n",
              "      <td>0</td>\n",
              "      <td>3</td>\n",
              "      <td>5.5</td>\n",
              "      <td>23464</td>\n",
              "    </tr>\n",
              "    <tr>\n",
              "      <th>4</th>\n",
              "      <td>IT_265142</td>\n",
              "      <td>2014-01-19</td>\n",
              "      <td>18</td>\n",
              "      <td>23</td>\n",
              "      <td>5</td>\n",
              "      <td>2</td>\n",
              "      <td>0.0</td>\n",
              "      <td>6222</td>\n",
              "    </tr>\n",
              "  </tbody>\n",
              "</table>\n",
              "</div>"
            ],
            "text/plain": [
              "     Item_Id        Date  State_of_Country  ...  Grade  Demand  High_Cap_Price\n",
              "0  IT_265079  2014-01-19                 0  ...      0     0.1            5303\n",
              "1  IT_265087  2014-01-19                 0  ...      2     1.4           10492\n",
              "2  IT_265107  2014-01-19                 0  ...      0    13.4           24706\n",
              "3  IT_265139  2014-01-19                17  ...      3     5.5           23464\n",
              "4  IT_265142  2014-01-19                18  ...      2     0.0            6222\n",
              "\n",
              "[5 rows x 8 columns]"
            ]
          },
          "metadata": {
            "tags": []
          },
          "execution_count": 5
        }
      ]
    },
    {
      "cell_type": "code",
      "metadata": {
        "id": "93iPVAScQf7_",
        "colab_type": "code",
        "colab": {
          "base_uri": "https://localhost:8080/",
          "height": 361
        },
        "outputId": "83d1a108-7200-4027-f7de-40c79c59c65a"
      },
      "source": [
        "df.boxplot(rot=90,grid=False)"
      ],
      "execution_count": null,
      "outputs": [
        {
          "output_type": "execute_result",
          "data": {
            "text/plain": [
              "<matplotlib.axes._subplots.AxesSubplot at 0x7fab9a8d4a20>"
            ]
          },
          "metadata": {
            "tags": []
          },
          "execution_count": 6
        },
        {
          "output_type": "display_data",
          "data": {
            "image/png": "[encoded data removed]",
            "text/plain": [
              "<Figure size 432x288 with 1 Axes>"
            ]
          },
          "metadata": {
            "tags": [],
            "needs_background": "light"
          }
        }
      ]
    },
    {
      "cell_type": "code",
      "metadata": {
        "id": "L2-4ZqVsxH6K",
        "colab_type": "code",
        "colab": {
          "base_uri": "https://localhost:8080/",
          "height": 372
        },
        "outputId": "4149f3d0-5d0b-43c0-80a1-c98373ddf370"
      },
      "source": [
        "dftest.boxplot(rot=90,grid=False)"
      ],
      "execution_count": null,
      "outputs": [
        {
          "output_type": "execute_result",
          "data": {
            "text/plain": [
              "<matplotlib.axes._subplots.AxesSubplot at 0x7fab9a79f588>"
            ]
          },
          "metadata": {
            "tags": []
          },
          "execution_count": 7
        },
        {
          "output_type": "display_data",
          "data": {
            "image/png": "[encoded data removed]",
            "text/plain": [
              "<Figure size 432x288 with 1 Axes>"
            ]
          },
          "metadata": {
            "tags": [],
            "needs_background": "light"
          }
        }
      ]
    },
    {
      "cell_type": "code",
      "metadata": {
        "id": "2QyUu5loxPA6",
        "colab_type": "code",
        "colab": {
          "base_uri": "https://localhost:8080/",
          "height": 265
        },
        "outputId": "5a381165-2700-4356-9410-b4cb5bdb2e05"
      },
      "source": [
        "import matplotlib.pyplot as plt\n",
        "\n",
        "x = df['Demand']\n",
        "y = dftest['Demand']\n",
        "fig = plt.figure()\n",
        "ax1 = fig.add_subplot(111)\n",
        "\n",
        "ax1.scatter(range(len(x)),x, s=10, c='b', marker=\"s\", label='train')\n",
        "ax1.scatter(range(len(y)),y, s=10, c='r', marker=\"o\", label='test')\n",
        "plt.legend(loc='upper left');\n",
        "plt.show()"
      ],
      "execution_count": null,
      "outputs": [
        {
          "output_type": "display_data",
          "data": {
            "image/png": "[encoded data removed]",
            "text/plain": [
              "<Figure size 432x288 with 1 Axes>"
            ]
          },
          "metadata": {
            "tags": [],
            "needs_background": "light"
          }
        }
      ]
    },
    {
      "cell_type": "code",
      "metadata": {
        "id": "kGsi-3N6xxP4",
        "colab_type": "code",
        "colab": {
          "base_uri": "https://localhost:8080/",
          "height": 276
        },
        "outputId": "0c09567f-d0b7-45f9-edfd-64c9feda4ed7"
      },
      "source": [
        "import matplotlib.pyplot as plt\n",
        "\n",
        "x = df['High_Cap_Price']\n",
        "y = dftest['High_Cap_Price']\n",
        "fig = plt.figure()\n",
        "ax1 = fig.add_subplot(111)\n",
        "\n",
        "ax1.scatter(range(len(x)),x, s=10, c='b', marker=\"s\", label='train')\n",
        "ax1.scatter(range(len(y)),y, s=10, c='r', marker=\"o\", label='test')\n",
        "plt.legend(loc='upper left');\n",
        "plt.show()"
      ],
      "execution_count": null,
      "outputs": [
        {
          "output_type": "display_data",
          "data": {
            "image/png": "[encoded data removed]",
            "text/plain": [
              "<Figure size 432x288 with 1 Axes>"
            ]
          },
          "metadata": {
            "tags": [],
            "needs_background": "light"
          }
        }
      ]
    },
    {
      "cell_type": "code",
      "metadata": {
        "id": "8uBhG2koyEul",
        "colab_type": "code",
        "colab": {
          "base_uri": "https://localhost:8080/",
          "height": 265
        },
        "outputId": "9a4d0513-dd4e-4f0b-bb48-938c4c67fc7c"
      },
      "source": [
        "import matplotlib.pyplot as plt\n",
        "\n",
        "x = df['Product_Category']\n",
        "y = dftest['Product_Category']\n",
        "fig = plt.figure()\n",
        "ax1 = fig.add_subplot(111)\n",
        "\n",
        "ax1.scatter(range(len(x)),x, s=10, c='b', marker=\"s\", label='train')\n",
        "ax1.scatter(range(len(y)),y, s=10, c='r', marker=\"o\", label='test')\n",
        "plt.legend(loc='upper left');\n",
        "plt.show()"
      ],
      "execution_count": null,
      "outputs": [
        {
          "output_type": "display_data",
          "data": {
            "image/png": "[encoded data removed]",
            "text/plain": [
              "<Figure size 432x288 with 1 Axes>"
            ]
          },
          "metadata": {
            "tags": [],
            "needs_background": "light"
          }
        }
      ]
    },
    {
      "cell_type": "code",
      "metadata": {
        "id": "ZAtUMv3CyfL1",
        "colab_type": "code",
        "colab": {
          "base_uri": "https://localhost:8080/",
          "height": 265
        },
        "outputId": "8af27c65-2657-44ee-9a52-5972e8629a1c"
      },
      "source": [
        "import matplotlib.pyplot as plt\n",
        "\n",
        "x = df['Market_Category']\n",
        "y = dftest['Market_Category']\n",
        "fig = plt.figure()\n",
        "ax1 = fig.add_subplot(111)\n",
        "\n",
        "ax1.scatter(range(len(x)),x, s=10, c='b', marker=\"s\", label='train')\n",
        "ax1.scatter(range(len(y)),y, s=10, c='r', marker=\"o\", label='test')\n",
        "plt.legend(loc='upper left');\n",
        "plt.show()"
      ],
      "execution_count": null,
      "outputs": [
        {
          "output_type": "display_data",
          "data": {
            "image/png": "[encoded data removed]",
            "text/plain": [
              "<Figure size 432x288 with 1 Axes>"
            ]
          },
          "metadata": {
            "tags": [],
            "needs_background": "light"
          }
        }
      ]
    },
    {
      "cell_type": "code",
      "metadata": {
        "id": "5gDWbGoSyn6n",
        "colab_type": "code",
        "colab": {
          "base_uri": "https://localhost:8080/",
          "height": 265
        },
        "outputId": "3e6438b0-f747-4243-e734-fa560fff169d"
      },
      "source": [
        "import matplotlib.pyplot as plt\n",
        "\n",
        "x = df['State_of_Country']\n",
        "y = dftest['State_of_Country']\n",
        "fig = plt.figure()\n",
        "ax1 = fig.add_subplot(111)\n",
        "\n",
        "ax1.scatter(range(len(x)),x, s=10, c='b', marker=\"s\", label='train')\n",
        "ax1.scatter(range(len(y)),y, s=10, c='r', marker=\"o\", label='test')\n",
        "plt.legend(loc='upper left');\n",
        "plt.show()"
      ],
      "execution_count": null,
      "outputs": [
        {
          "output_type": "display_data",
          "data": {
            "image/png": "[encoded data removed]",
            "text/plain": [
              "<Figure size 432x288 with 1 Axes>"
            ]
          },
          "metadata": {
            "tags": [],
            "needs_background": "light"
          }
        }
      ]
    },
    {
      "cell_type": "code",
      "metadata": {
        "id": "OrwncfSizD2u",
        "colab_type": "code",
        "colab": {
          "base_uri": "https://localhost:8080/",
          "height": 265
        },
        "outputId": "2382ccf6-396f-4427-ffde-fbbfbab0bc9b"
      },
      "source": [
        "import matplotlib.pyplot as plt\n",
        "\n",
        "x = df['Grade']\n",
        "y = dftest['Grade']\n",
        "fig = plt.figure()\n",
        "ax1 = fig.add_subplot(111)\n",
        "\n",
        "ax1.scatter(range(len(x)),x, s=10, c='b', marker=\"s\", label='train')\n",
        "ax1.scatter(range(len(y)),y, s=10, c='r', marker=\"o\", label='test')\n",
        "plt.legend(loc='upper left');\n",
        "plt.show()"
      ],
      "execution_count": null,
      "outputs": [
        {
          "output_type": "display_data",
          "data": {
            "image/png": "[encoded data removed]",
            "text/plain": [
              "<Figure size 432x288 with 1 Axes>"
            ]
          },
          "metadata": {
            "tags": [],
            "needs_background": "light"
          }
        }
      ]
    },
    {
      "cell_type": "code",
      "metadata": {
        "id": "NEisAxcozp_y",
        "colab_type": "code",
        "colab": {
          "base_uri": "https://localhost:8080/",
          "height": 134
        },
        "outputId": "5f8cffee-2b5b-482e-d4e1-34ad95247ccd"
      },
      "source": [
        "df['Demand'].sort_values(ascending=False).head(6)"
      ],
      "execution_count": null,
      "outputs": [
        {
          "output_type": "execute_result",
          "data": {
            "text/plain": [
              "1682    64160.5\n",
              "3190    26882.3\n",
              "3225    26276.4\n",
              "3248    24656.0\n",
              "3373    21862.9\n",
              "3407    18307.1\n",
              "Name: Demand, dtype: float64"
            ]
          },
          "metadata": {
            "tags": []
          },
          "execution_count": 182
        }
      ]
    },
    {
      "cell_type": "code",
      "metadata": {
        "id": "f7DccmpJz08L",
        "colab_type": "code",
        "colab": {}
      },
      "source": [
        "df=df.drop(labels=[1682],axis=0)"
      ],
      "execution_count": null,
      "outputs": []
    },
    {
      "cell_type": "code",
      "metadata": {
        "id": "xF4y9nxps_zr",
        "colab_type": "code",
        "colab": {
          "base_uri": "https://localhost:8080/",
          "height": 315
        },
        "outputId": "666988ca-31c5-4894-cadf-08ac9e1ef74b"
      },
      "source": [
        "dftest.boxplot(column=['Demand'],rot=90,grid=False)\n"
      ],
      "execution_count": null,
      "outputs": [
        {
          "output_type": "execute_result",
          "data": {
            "text/plain": [
              "<matplotlib.axes._subplots.AxesSubplot at 0x7fab9a7a90f0>"
            ]
          },
          "metadata": {
            "tags": []
          },
          "execution_count": 28
        },
        {
          "output_type": "display_data",
          "data": {
            "image/png": "[encoded data removed]",
            "text/plain": [
              "<Figure size 432x288 with 1 Axes>"
            ]
          },
          "metadata": {
            "tags": [],
            "needs_background": "light"
          }
        }
      ]
    },
    {
      "cell_type": "code",
      "metadata": {
        "id": "TopPW7ZWvzvh",
        "colab_type": "code",
        "colab": {
          "base_uri": "https://localhost:8080/",
          "height": 315
        },
        "outputId": "415e32fd-9fc0-4325-e2ad-68e4ceca1458"
      },
      "source": [
        "df.boxplot(column=['Demand'],rot=90,grid=False)"
      ],
      "execution_count": null,
      "outputs": [
        {
          "output_type": "execute_result",
          "data": {
            "text/plain": [
              "<matplotlib.axes._subplots.AxesSubplot at 0x7fab999d9908>"
            ]
          },
          "metadata": {
            "tags": []
          },
          "execution_count": 29
        },
        {
          "output_type": "display_data",
          "data": {
            "image/png": "[encoded data removed]",
            "text/plain": [
              "<Figure size 432x288 with 1 Axes>"
            ]
          },
          "metadata": {
            "tags": [],
            "needs_background": "light"
          }
        }
      ]
    },
    {
      "cell_type": "code",
      "metadata": {
        "id": "hgRhPo8MwFp2",
        "colab_type": "code",
        "colab": {
          "base_uri": "https://localhost:8080/",
          "height": 360
        },
        "outputId": "940a6178-cba9-4760-88b8-df15307e98f2"
      },
      "source": [
        "dftest.boxplot(column=['High_Cap_Price'],rot=90,grid=False)"
      ],
      "execution_count": null,
      "outputs": [
        {
          "output_type": "execute_result",
          "data": {
            "text/plain": [
              "<matplotlib.axes._subplots.AxesSubplot at 0x7fab999456a0>"
            ]
          },
          "metadata": {
            "tags": []
          },
          "execution_count": 30
        },
        {
          "output_type": "display_data",
          "data": {
            "image/png": "[encoded data removed]",
            "text/plain": [
              "<Figure size 432x288 with 1 Axes>"
            ]
          },
          "metadata": {
            "tags": [],
            "needs_background": "light"
          }
        }
      ]
    },
    {
      "cell_type": "code",
      "metadata": {
        "id": "FpdRMk9VwOcr",
        "colab_type": "code",
        "colab": {
          "base_uri": "https://localhost:8080/",
          "height": 349
        },
        "outputId": "962343b8-5751-42ec-c55b-1ce02ecbe366"
      },
      "source": [
        "df.boxplot(column=['High_Cap_Price'],rot=90,grid=False)"
      ],
      "execution_count": null,
      "outputs": [
        {
          "output_type": "execute_result",
          "data": {
            "text/plain": [
              "<matplotlib.axes._subplots.AxesSubplot at 0x7fab99918be0>"
            ]
          },
          "metadata": {
            "tags": []
          },
          "execution_count": 31
        },
        {
          "output_type": "display_data",
          "data": {
            "image/png": "[encoded data removed]",
            "text/plain": [
              "<Figure size 432x288 with 1 Axes>"
            ]
          },
          "metadata": {
            "tags": [],
            "needs_background": "light"
          }
        }
      ]
    },
    {
      "cell_type": "code",
      "metadata": {
        "id": "hlCUe_ad-Qs_",
        "colab_type": "code",
        "colab": {
          "base_uri": "https://localhost:8080/",
          "height": 282
        },
        "outputId": "76e7ddc1-55c3-4dbf-f0bc-91a5aba5906c"
      },
      "source": [
        "plt.scatter(df['Demand'],df['Low_Cap_Price'])"
      ],
      "execution_count": null,
      "outputs": [
        {
          "output_type": "execute_result",
          "data": {
            "text/plain": [
              "<matplotlib.collections.PathCollection at 0x7f5c39f54780>"
            ]
          },
          "metadata": {
            "tags": []
          },
          "execution_count": 58
        },
        {
          "output_type": "display_data",
          "data": {
            "image/png": "[encoded data removed]",
            "text/plain": [
              "<Figure size 432x288 with 1 Axes>"
            ]
          },
          "metadata": {
            "tags": [],
            "needs_background": "light"
          }
        }
      ]
    },
    {
      "cell_type": "code",
      "metadata": {
        "id": "z-aLy9nBCsT1",
        "colab_type": "code",
        "colab": {
          "base_uri": "https://localhost:8080/",
          "height": 282
        },
        "outputId": "1a8ad196-82d9-4ea8-d8aa-d5a131e5dbee"
      },
      "source": [
        "plt.scatter(df['High_Cap_Price'],df['Low_Cap_Price'])"
      ],
      "execution_count": null,
      "outputs": [
        {
          "output_type": "execute_result",
          "data": {
            "text/plain": [
              "<matplotlib.collections.PathCollection at 0x7f5c38b2cda0>"
            ]
          },
          "metadata": {
            "tags": []
          },
          "execution_count": 80
        },
        {
          "output_type": "display_data",
          "data": {
            "image/png": "[encoded data removed]",
            "text/plain": [
              "<Figure size 432x288 with 1 Axes>"
            ]
          },
          "metadata": {
            "tags": [],
            "needs_background": "light"
          }
        }
      ]
    },
    {
      "cell_type": "code",
      "metadata": {
        "id": "v3dCg9fUCy09",
        "colab_type": "code",
        "colab": {
          "base_uri": "https://localhost:8080/",
          "height": 402
        },
        "outputId": "ab35fdd1-5c71-4bc4-aec8-9ec02cc5cdd8"
      },
      "source": [
        "plt.scatter(dftest['High_Cap_Price'],dftest['High_Cap_Price'])"
      ],
      "execution_count": null,
      "outputs": [
        {
          "output_type": "execute_result",
          "data": {
            "text/plain": [
              "<matplotlib.collections.PathCollection at 0x7f5c339760f0>"
            ]
          },
          "metadata": {
            "tags": []
          },
          "execution_count": 160
        },
        {
          "output_type": "display_data",
          "data": {
            "image/png": "[encoded data removed]",
            "text/plain": [
              "<Figure size 600x400 with 1 Axes>"
            ]
          },
          "metadata": {
            "tags": []
          }
        }
      ]
    },
    {
      "cell_type": "code",
      "metadata": {
        "id": "4dOl7PMxZ3CJ",
        "colab_type": "code",
        "colab": {}
      },
      "source": [
        "d=df.drop('Date',axis=1)"
      ],
      "execution_count": null,
      "outputs": []
    },
    {
      "cell_type": "code",
      "metadata": {
        "id": "Ujhk_fZ80lUT",
        "colab_type": "code",
        "colab": {
          "base_uri": "https://localhost:8080/",
          "height": 492
        },
        "outputId": "c9d990c6-a26f-4459-e632-b8f0dda4c675"
      },
      "source": [
        "df.groupby('Date')['Low_Cap_Price'].mean().plot(kind='bar')"
      ],
      "execution_count": null,
      "outputs": [
        {
          "output_type": "execute_result",
          "data": {
            "text/plain": [
              "<matplotlib.axes._subplots.AxesSubplot at 0x7f5c320ac9b0>"
            ]
          },
          "metadata": {
            "tags": []
          },
          "execution_count": 327
        },
        {
          "output_type": "display_data",
          "data": {
            "image/png": "[encoded data removed]",
            "text/plain": [
              "<Figure size 600x400 with 1 Axes>"
            ]
          },
          "metadata": {
            "tags": []
          }
        }
      ]
    },
    {
      "cell_type": "code",
      "metadata": {
        "id": "NnjFYsDj1Bw3",
        "colab_type": "code",
        "colab": {
          "base_uri": "https://localhost:8080/",
          "height": 724
        },
        "outputId": "9d152db1-4c4c-4042-a921-821ec3be5398"
      },
      "source": [
        "import seaborn as sns\n",
        "#get correlations of each features in dataset\n",
        "corrmat = df.corr()\n",
        "top_corr_features = corrmat.index\n",
        "plt.figure(figsize=(12,12))\n",
        "#plot heat map\n",
        "g=sns.heatmap(df[top_corr_features].corr(),annot=True,cmap=\"RdYlGn\",square=True)"
      ],
      "execution_count": null,
      "outputs": [
        {
          "output_type": "display_data",
          "data": {
            "image/png": "[encoded data removed]",
            "text/plain": [
              "<Figure size 864x864 with 2 Axes>"
            ]
          },
          "metadata": {
            "tags": [],
            "needs_background": "light"
          }
        }
      ]
    },
    {
      "cell_type": "code",
      "metadata": {
        "id": "ADlaGjwE34yA",
        "colab_type": "code",
        "colab": {
          "base_uri": "https://localhost:8080/",
          "height": 327
        },
        "outputId": "4e780ddf-b895-4c8a-f248-254ce9eeeff8"
      },
      "source": [
        "df.groupby(['State_of_Country','Product_Category'])['Low_Cap_Price'].mean().plot(kind='bar')"
      ],
      "execution_count": null,
      "outputs": [
        {
          "output_type": "execute_result",
          "data": {
            "text/plain": [
              "<matplotlib.axes._subplots.AxesSubplot at 0x7fab94edc550>"
            ]
          },
          "metadata": {
            "tags": []
          },
          "execution_count": 37
        },
        {
          "output_type": "display_data",
          "data": {
            "image/png": "[encoded data removed]",
            "text/plain": [
              "<Figure size 432x288 with 1 Axes>"
            ]
          },
          "metadata": {
            "tags": [],
            "needs_background": "light"
          }
        }
      ]
    },
    {
      "cell_type": "code",
      "metadata": {
        "id": "5vkjBbiHcZ-a",
        "colab_type": "code",
        "colab": {
          "base_uri": "https://localhost:8080/",
          "height": 336
        },
        "outputId": "fe9c79ab-a271-4218-c8f6-abd08c9d353e"
      },
      "source": [
        "df[(s)].min(),df[(s)].max()"
      ],
      "execution_count": null,
      "outputs": [
        {
          "output_type": "execute_result",
          "data": {
            "text/plain": [
              "(Item_Id               IT_10272\n",
              " Date                2007-07-06\n",
              " State_of_Country             0\n",
              " Market_Category              0\n",
              " Product_Category             0\n",
              " Grade                        0\n",
              " Demand                       0\n",
              " Low_Cap_Price              491\n",
              " High_Cap_Price           12934\n",
              " dtype: object, Item_Id                IT_9640\n",
              " Date                2010-06-08\n",
              " State_of_Country            23\n",
              " Market_Category            465\n",
              " Product_Category            16\n",
              " Grade                        3\n",
              " Demand                  5765.9\n",
              " Low_Cap_Price            17580\n",
              " High_Cap_Price           58812\n",
              " dtype: object)"
            ]
          },
          "metadata": {
            "tags": []
          },
          "execution_count": 248
        }
      ]
    },
    {
      "cell_type": "code",
      "metadata": {
        "id": "BNbdZONRaohN",
        "colab_type": "code",
        "colab": {
          "base_uri": "https://localhost:8080/",
          "height": 34
        },
        "outputId": "c6865929-024b-495d-dc53-4c7e22e68607"
      },
      "source": [
        "d = df[~((df < (Q1 - .1 * IQR)) |(df > (Q3 + 2.1 * IQR))).any(axis=1)]\n",
        "d.shape"
      ],
      "execution_count": null,
      "outputs": [
        {
          "output_type": "execute_result",
          "data": {
            "text/plain": [
              "(7056, 9)"
            ]
          },
          "metadata": {
            "tags": []
          },
          "execution_count": 281
        }
      ]
    },
    {
      "cell_type": "code",
      "metadata": {
        "id": "BC_3PvBSaxgr",
        "colab_type": "code",
        "colab": {
          "base_uri": "https://localhost:8080/",
          "height": 195
        },
        "outputId": "08c2790a-c054-4abe-d192-b001ce1e72c7"
      },
      "source": [
        "df_out.head()"
      ],
      "execution_count": null,
      "outputs": [
        {
          "output_type": "execute_result",
          "data": {
            "text/html": [
              "<div>\n",
              "<style scoped>\n",
              "    .dataframe tbody tr th:only-of-type {\n",
              "        vertical-align: middle;\n",
              "    }\n",
              "\n",
              "    .dataframe tbody tr th {\n",
              "        vertical-align: top;\n",
              "    }\n",
              "\n",
              "    .dataframe thead th {\n",
              "        text-align: right;\n",
              "    }\n",
              "</style>\n",
              "<table border=\"1\" class=\"dataframe\">\n",
              "  <thead>\n",
              "    <tr style=\"text-align: right;\">\n",
              "      <th></th>\n",
              "      <th>Item_Id</th>\n",
              "      <th>Date</th>\n",
              "      <th>State_of_Country</th>\n",
              "      <th>Market_Category</th>\n",
              "      <th>Product_Category</th>\n",
              "      <th>Grade</th>\n",
              "      <th>Demand</th>\n",
              "      <th>Low_Cap_Price</th>\n",
              "      <th>High_Cap_Price</th>\n",
              "    </tr>\n",
              "  </thead>\n",
              "  <tbody>\n",
              "    <tr>\n",
              "      <th>0</th>\n",
              "      <td>IT_1</td>\n",
              "      <td>2007-07-05</td>\n",
              "      <td>0</td>\n",
              "      <td>0</td>\n",
              "      <td>0</td>\n",
              "      <td>0</td>\n",
              "      <td>0.5</td>\n",
              "      <td>2785</td>\n",
              "      <td>4240</td>\n",
              "    </tr>\n",
              "    <tr>\n",
              "      <th>1</th>\n",
              "      <td>IT_2</td>\n",
              "      <td>2007-07-05</td>\n",
              "      <td>0</td>\n",
              "      <td>1</td>\n",
              "      <td>0</td>\n",
              "      <td>0</td>\n",
              "      <td>0.7</td>\n",
              "      <td>3574</td>\n",
              "      <td>4756</td>\n",
              "    </tr>\n",
              "    <tr>\n",
              "      <th>2</th>\n",
              "      <td>IT_3</td>\n",
              "      <td>2007-07-05</td>\n",
              "      <td>0</td>\n",
              "      <td>103</td>\n",
              "      <td>0</td>\n",
              "      <td>1</td>\n",
              "      <td>1.6</td>\n",
              "      <td>5978</td>\n",
              "      <td>9669</td>\n",
              "    </tr>\n",
              "    <tr>\n",
              "      <th>3</th>\n",
              "      <td>IT_4</td>\n",
              "      <td>2007-07-05</td>\n",
              "      <td>0</td>\n",
              "      <td>103</td>\n",
              "      <td>0</td>\n",
              "      <td>0</td>\n",
              "      <td>0.0</td>\n",
              "      <td>5681</td>\n",
              "      <td>8313</td>\n",
              "    </tr>\n",
              "    <tr>\n",
              "      <th>4</th>\n",
              "      <td>IT_5</td>\n",
              "      <td>2007-07-05</td>\n",
              "      <td>0</td>\n",
              "      <td>103</td>\n",
              "      <td>0</td>\n",
              "      <td>2</td>\n",
              "      <td>0.0</td>\n",
              "      <td>4924</td>\n",
              "      <td>7257</td>\n",
              "    </tr>\n",
              "  </tbody>\n",
              "</table>\n",
              "</div>"
            ],
            "text/plain": [
              "  Item_Id        Date  State_of_Country  ...  Demand  Low_Cap_Price  High_Cap_Price\n",
              "0    IT_1  2007-07-05                 0  ...     0.5           2785            4240\n",
              "1    IT_2  2007-07-05                 0  ...     0.7           3574            4756\n",
              "2    IT_3  2007-07-05                 0  ...     1.6           5978            9669\n",
              "3    IT_4  2007-07-05                 0  ...     0.0           5681            8313\n",
              "4    IT_5  2007-07-05                 0  ...     0.0           4924            7257\n",
              "\n",
              "[5 rows x 9 columns]"
            ]
          },
          "metadata": {
            "tags": []
          },
          "execution_count": 178
        }
      ]
    },
    {
      "cell_type": "code",
      "metadata": {
        "id": "ZOfPcjJqerLC",
        "colab_type": "code",
        "colab": {}
      },
      "source": [
        ""
      ],
      "execution_count": null,
      "outputs": []
    },
    {
      "cell_type": "code",
      "metadata": {
        "id": "4wC75FQpbEu8",
        "colab_type": "code",
        "colab": {
          "base_uri": "https://localhost:8080/",
          "height": 34
        },
        "outputId": "ec21c649-da2e-4d8c-d452-e4410d473448"
      },
      "source": [
        "df.shape"
      ],
      "execution_count": null,
      "outputs": [
        {
          "output_type": "execute_result",
          "data": {
            "text/plain": [
              "(9798, 9)"
            ]
          },
          "metadata": {
            "tags": []
          },
          "execution_count": 282
        }
      ]
    },
    {
      "cell_type": "code",
      "metadata": {
        "id": "GZGFiI8C-7bd",
        "colab_type": "code",
        "colab": {}
      },
      "source": [
        "df['Demand']=(df['Demand']-df['Demand'].min())/(df['Demand'].max()-df['Demand'].min())\n",
        "dftest['Demand']=(dftest['Demand']-dftest['Demand'].min())/(dftest['Demand'].max()-dftest['Demand'].min())"
      ],
      "execution_count": null,
      "outputs": []
    },
    {
      "cell_type": "code",
      "metadata": {
        "id": "eUvQdVkWDJ2-",
        "colab_type": "code",
        "colab": {}
      },
      "source": [
        "df['High_Cap_Price']=(df['High_Cap_Price']-df['High_Cap_Price'].min())/(df['High_Cap_Price'].max()-df['High_Cap_Price'].min())\n",
        "dftest['High_Cap_Price']=(dftest['High_Cap_Price']-dftest['High_Cap_Price'].min())/(dftest['High_Cap_Price'].max()-dftest['High_Cap_Price'].min())"
      ],
      "execution_count": null,
      "outputs": []
    },
    {
      "cell_type": "code",
      "metadata": {
        "id": "fWfZhJUp-htE",
        "colab_type": "code",
        "colab": {
          "base_uri": "https://localhost:8080/",
          "height": 284
        },
        "outputId": "b90ec8fb-7e6b-4de9-8cc3-e3867e52ac21"
      },
      "source": [
        "dftest.describe()"
      ],
      "execution_count": null,
      "outputs": [
        {
          "output_type": "execute_result",
          "data": {
            "text/html": [
              "<div>\n",
              "<style scoped>\n",
              "    .dataframe tbody tr th:only-of-type {\n",
              "        vertical-align: middle;\n",
              "    }\n",
              "\n",
              "    .dataframe tbody tr th {\n",
              "        vertical-align: top;\n",
              "    }\n",
              "\n",
              "    .dataframe thead th {\n",
              "        text-align: right;\n",
              "    }\n",
              "</style>\n",
              "<table border=\"1\" class=\"dataframe\">\n",
              "  <thead>\n",
              "    <tr style=\"text-align: right;\">\n",
              "      <th></th>\n",
              "      <th>State_of_Country</th>\n",
              "      <th>Market_Category</th>\n",
              "      <th>Product_Category</th>\n",
              "      <th>Grade</th>\n",
              "      <th>Demand</th>\n",
              "      <th>High_Cap_Price</th>\n",
              "    </tr>\n",
              "  </thead>\n",
              "  <tbody>\n",
              "    <tr>\n",
              "      <th>count</th>\n",
              "      <td>5763.000000</td>\n",
              "      <td>5763.000000</td>\n",
              "      <td>5763.000000</td>\n",
              "      <td>5763.00000</td>\n",
              "      <td>5763.000000</td>\n",
              "      <td>5763.000000</td>\n",
              "    </tr>\n",
              "    <tr>\n",
              "      <th>mean</th>\n",
              "      <td>15.926080</td>\n",
              "      <td>222.169356</td>\n",
              "      <td>4.547978</td>\n",
              "      <td>0.39823</td>\n",
              "      <td>67.695471</td>\n",
              "      <td>0.000246</td>\n",
              "    </tr>\n",
              "    <tr>\n",
              "      <th>std</th>\n",
              "      <td>8.122655</td>\n",
              "      <td>145.683245</td>\n",
              "      <td>5.485450</td>\n",
              "      <td>0.81668</td>\n",
              "      <td>486.501858</td>\n",
              "      <td>0.013172</td>\n",
              "    </tr>\n",
              "    <tr>\n",
              "      <th>min</th>\n",
              "      <td>0.000000</td>\n",
              "      <td>0.000000</td>\n",
              "      <td>0.000000</td>\n",
              "      <td>0.00000</td>\n",
              "      <td>0.000000</td>\n",
              "      <td>0.000000</td>\n",
              "    </tr>\n",
              "    <tr>\n",
              "      <th>25%</th>\n",
              "      <td>11.500000</td>\n",
              "      <td>65.000000</td>\n",
              "      <td>0.000000</td>\n",
              "      <td>0.00000</td>\n",
              "      <td>0.600000</td>\n",
              "      <td>0.000048</td>\n",
              "    </tr>\n",
              "    <tr>\n",
              "      <th>50%</th>\n",
              "      <td>21.000000</td>\n",
              "      <td>238.000000</td>\n",
              "      <td>1.000000</td>\n",
              "      <td>0.00000</td>\n",
              "      <td>2.300000</td>\n",
              "      <td>0.000062</td>\n",
              "    </tr>\n",
              "    <tr>\n",
              "      <th>75%</th>\n",
              "      <td>21.000000</td>\n",
              "      <td>340.000000</td>\n",
              "      <td>10.000000</td>\n",
              "      <td>0.00000</td>\n",
              "      <td>8.400000</td>\n",
              "      <td>0.000083</td>\n",
              "    </tr>\n",
              "    <tr>\n",
              "      <th>max</th>\n",
              "      <td>23.000000</td>\n",
              "      <td>471.000000</td>\n",
              "      <td>17.000000</td>\n",
              "      <td>3.00000</td>\n",
              "      <td>13242.600000</td>\n",
              "      <td>1.000000</td>\n",
              "    </tr>\n",
              "  </tbody>\n",
              "</table>\n",
              "</div>"
            ],
            "text/plain": [
              "       State_of_Country  Market_Category  ...        Demand  High_Cap_Price\n",
              "count       5763.000000      5763.000000  ...   5763.000000     5763.000000\n",
              "mean          15.926080       222.169356  ...     67.695471        0.000246\n",
              "std            8.122655       145.683245  ...    486.501858        0.013172\n",
              "min            0.000000         0.000000  ...      0.000000        0.000000\n",
              "25%           11.500000        65.000000  ...      0.600000        0.000048\n",
              "50%           21.000000       238.000000  ...      2.300000        0.000062\n",
              "75%           21.000000       340.000000  ...      8.400000        0.000083\n",
              "max           23.000000       471.000000  ...  13242.600000        1.000000\n",
              "\n",
              "[8 rows x 6 columns]"
            ]
          },
          "metadata": {
            "tags": []
          },
          "execution_count": 272
        }
      ]
    },
    {
      "cell_type": "code",
      "metadata": {
        "id": "sF-lsdJkVKa2",
        "colab_type": "code",
        "colab": {
          "base_uri": "https://localhost:8080/",
          "height": 284
        },
        "outputId": "d9ee104a-6874-44d9-c64c-09c53a7f2274"
      },
      "source": [
        "df.describe()"
      ],
      "execution_count": null,
      "outputs": [
        {
          "output_type": "execute_result",
          "data": {
            "text/html": [
              "<div>\n",
              "<style scoped>\n",
              "    .dataframe tbody tr th:only-of-type {\n",
              "        vertical-align: middle;\n",
              "    }\n",
              "\n",
              "    .dataframe tbody tr th {\n",
              "        vertical-align: top;\n",
              "    }\n",
              "\n",
              "    .dataframe thead th {\n",
              "        text-align: right;\n",
              "    }\n",
              "</style>\n",
              "<table border=\"1\" class=\"dataframe\">\n",
              "  <thead>\n",
              "    <tr style=\"text-align: right;\">\n",
              "      <th></th>\n",
              "      <th>State_of_Country</th>\n",
              "      <th>Market_Category</th>\n",
              "      <th>Product_Category</th>\n",
              "      <th>Grade</th>\n",
              "      <th>Demand</th>\n",
              "      <th>Low_Cap_Price</th>\n",
              "      <th>High_Cap_Price</th>\n",
              "    </tr>\n",
              "  </thead>\n",
              "  <tbody>\n",
              "    <tr>\n",
              "      <th>count</th>\n",
              "      <td>9798.000000</td>\n",
              "      <td>9798.000000</td>\n",
              "      <td>9798.000000</td>\n",
              "      <td>9798.000000</td>\n",
              "      <td>9798.000000</td>\n",
              "      <td>9798.000000</td>\n",
              "      <td>9798.000000</td>\n",
              "    </tr>\n",
              "    <tr>\n",
              "      <th>mean</th>\n",
              "      <td>14.278730</td>\n",
              "      <td>198.414064</td>\n",
              "      <td>2.492958</td>\n",
              "      <td>0.652072</td>\n",
              "      <td>71.977414</td>\n",
              "      <td>3500.273525</td>\n",
              "      <td>6349.838028</td>\n",
              "    </tr>\n",
              "    <tr>\n",
              "      <th>std</th>\n",
              "      <td>8.760964</td>\n",
              "      <td>169.767862</td>\n",
              "      <td>4.751807</td>\n",
              "      <td>1.032439</td>\n",
              "      <td>927.194052</td>\n",
              "      <td>2188.046803</td>\n",
              "      <td>3652.780956</td>\n",
              "    </tr>\n",
              "    <tr>\n",
              "      <th>min</th>\n",
              "      <td>0.000000</td>\n",
              "      <td>0.000000</td>\n",
              "      <td>0.000000</td>\n",
              "      <td>0.000000</td>\n",
              "      <td>0.000000</td>\n",
              "      <td>1.000000</td>\n",
              "      <td>163.000000</td>\n",
              "    </tr>\n",
              "    <tr>\n",
              "      <th>25%</th>\n",
              "      <td>3.000000</td>\n",
              "      <td>55.000000</td>\n",
              "      <td>0.000000</td>\n",
              "      <td>0.000000</td>\n",
              "      <td>0.500000</td>\n",
              "      <td>1863.250000</td>\n",
              "      <td>3878.250000</td>\n",
              "    </tr>\n",
              "    <tr>\n",
              "      <th>50%</th>\n",
              "      <td>20.000000</td>\n",
              "      <td>129.000000</td>\n",
              "      <td>0.000000</td>\n",
              "      <td>0.000000</td>\n",
              "      <td>2.000000</td>\n",
              "      <td>3124.000000</td>\n",
              "      <td>5552.500000</td>\n",
              "    </tr>\n",
              "    <tr>\n",
              "      <th>75%</th>\n",
              "      <td>21.000000</td>\n",
              "      <td>389.000000</td>\n",
              "      <td>1.000000</td>\n",
              "      <td>2.000000</td>\n",
              "      <td>10.175000</td>\n",
              "      <td>4667.500000</td>\n",
              "      <td>7993.750000</td>\n",
              "    </tr>\n",
              "    <tr>\n",
              "      <th>max</th>\n",
              "      <td>23.000000</td>\n",
              "      <td>471.000000</td>\n",
              "      <td>17.000000</td>\n",
              "      <td>3.000000</td>\n",
              "      <td>64160.500000</td>\n",
              "      <td>17580.000000</td>\n",
              "      <td>58812.000000</td>\n",
              "    </tr>\n",
              "  </tbody>\n",
              "</table>\n",
              "</div>"
            ],
            "text/plain": [
              "       State_of_Country  Market_Category  ...  Low_Cap_Price  High_Cap_Price\n",
              "count       9798.000000      9798.000000  ...    9798.000000     9798.000000\n",
              "mean          14.278730       198.414064  ...    3500.273525     6349.838028\n",
              "std            8.760964       169.767862  ...    2188.046803     3652.780956\n",
              "min            0.000000         0.000000  ...       1.000000      163.000000\n",
              "25%            3.000000        55.000000  ...    1863.250000     3878.250000\n",
              "50%           20.000000       129.000000  ...    3124.000000     5552.500000\n",
              "75%           21.000000       389.000000  ...    4667.500000     7993.750000\n",
              "max           23.000000       471.000000  ...   17580.000000    58812.000000\n",
              "\n",
              "[8 rows x 7 columns]"
            ]
          },
          "metadata": {
            "tags": []
          },
          "execution_count": 158
        }
      ]
    },
    {
      "cell_type": "code",
      "metadata": {
        "id": "NslKM5AlAwYG",
        "colab_type": "code",
        "colab": {
          "base_uri": "https://localhost:8080/",
          "height": 286
        },
        "outputId": "f866a024-9a01-4d5a-e96a-aa6e7a457a0e"
      },
      "source": [
        "df.info()"
      ],
      "execution_count": null,
      "outputs": [
        {
          "output_type": "stream",
          "text": [
            "<class 'pandas.core.frame.DataFrame'>\n",
            "RangeIndex: 9798 entries, 0 to 9797\n",
            "Data columns (total 9 columns):\n",
            " #   Column            Non-Null Count  Dtype  \n",
            "---  ------            --------------  -----  \n",
            " 0   Item_Id           9798 non-null   object \n",
            " 1   Date              9798 non-null   object \n",
            " 2   State_of_Country  9798 non-null   int64  \n",
            " 3   Market_Category   9798 non-null   int64  \n",
            " 4   Product_Category  9798 non-null   int64  \n",
            " 5   Grade             9798 non-null   int64  \n",
            " 6   Demand            9798 non-null   float64\n",
            " 7   Low_Cap_Price     9798 non-null   int64  \n",
            " 8   High_Cap_Price    9798 non-null   int64  \n",
            "dtypes: float64(1), int64(6), object(2)\n",
            "memory usage: 689.0+ KB\n"
          ],
          "name": "stdout"
        }
      ]
    },
    {
      "cell_type": "code",
      "metadata": {
        "id": "jSY5EPJAVYQY",
        "colab_type": "code",
        "colab": {
          "base_uri": "https://localhost:8080/",
          "height": 269
        },
        "outputId": "b8e152cd-1a75-407d-b821-15330120ed4d"
      },
      "source": [
        "dftest.info()"
      ],
      "execution_count": null,
      "outputs": [
        {
          "output_type": "stream",
          "text": [
            "<class 'pandas.core.frame.DataFrame'>\n",
            "RangeIndex: 5763 entries, 0 to 5762\n",
            "Data columns (total 8 columns):\n",
            " #   Column            Non-Null Count  Dtype  \n",
            "---  ------            --------------  -----  \n",
            " 0   Item_Id           5763 non-null   object \n",
            " 1   Date              5763 non-null   object \n",
            " 2   State_of_Country  5763 non-null   int64  \n",
            " 3   Market_Category   5763 non-null   int64  \n",
            " 4   Product_Category  5763 non-null   int64  \n",
            " 5   Grade             5763 non-null   int64  \n",
            " 6   Demand            5763 non-null   float64\n",
            " 7   High_Cap_Price    5763 non-null   int64  \n",
            "dtypes: float64(1), int64(5), object(2)\n",
            "memory usage: 360.3+ KB\n"
          ],
          "name": "stdout"
        }
      ]
    },
    {
      "cell_type": "code",
      "metadata": {
        "id": "O7tn6aU6AxqQ",
        "colab_type": "code",
        "colab": {
          "base_uri": "https://localhost:8080/",
          "height": 185
        },
        "outputId": "8392cd00-6bfb-4fa2-eb81-86e37577f209"
      },
      "source": [
        "df.isnull().sum()"
      ],
      "execution_count": null,
      "outputs": [
        {
          "output_type": "execute_result",
          "data": {
            "text/plain": [
              "Item_Id             0\n",
              "Date                0\n",
              "State_of_Country    0\n",
              "Market_Category     0\n",
              "Product_Category    0\n",
              "Grade               0\n",
              "Demand              0\n",
              "Low_Cap_Price       0\n",
              "High_Cap_Price      0\n",
              "dtype: int64"
            ]
          },
          "metadata": {
            "tags": []
          },
          "execution_count": 7
        }
      ]
    },
    {
      "cell_type": "code",
      "metadata": {
        "id": "qCw0tv1QTKHx",
        "colab_type": "code",
        "colab": {
          "base_uri": "https://localhost:8080/",
          "height": 185
        },
        "outputId": "e4cf887b-17aa-4769-a815-fedddeee8da4"
      },
      "source": [
        "dftest.isnull().sum()"
      ],
      "execution_count": null,
      "outputs": [
        {
          "output_type": "execute_result",
          "data": {
            "text/plain": [
              "Item_Id             0\n",
              "Date                0\n",
              "State_of_Country    0\n",
              "Market_Category     0\n",
              "Product_Category    0\n",
              "Grade               0\n",
              "Demand              0\n",
              "Low_Cap_Price       0\n",
              "High_Cap_Price      0\n",
              "dtype: int64"
            ]
          },
          "metadata": {
            "tags": []
          },
          "execution_count": 70
        }
      ]
    },
    {
      "cell_type": "code",
      "metadata": {
        "id": "RodUC_R_A89U",
        "colab_type": "code",
        "colab": {
          "base_uri": "https://localhost:8080/",
          "height": 304
        },
        "outputId": "a0b7bd50-6868-48a1-aae3-9f58be4ba7f7"
      },
      "source": [
        "df.describe()"
      ],
      "execution_count": null,
      "outputs": [
        {
          "output_type": "execute_result",
          "data": {
            "text/html": [
              "<div>\n",
              "<style scoped>\n",
              "    .dataframe tbody tr th:only-of-type {\n",
              "        vertical-align: middle;\n",
              "    }\n",
              "\n",
              "    .dataframe tbody tr th {\n",
              "        vertical-align: top;\n",
              "    }\n",
              "\n",
              "    .dataframe thead th {\n",
              "        text-align: right;\n",
              "    }\n",
              "</style>\n",
              "<table border=\"1\" class=\"dataframe\">\n",
              "  <thead>\n",
              "    <tr style=\"text-align: right;\">\n",
              "      <th></th>\n",
              "      <th>State_of_Country</th>\n",
              "      <th>Market_Category</th>\n",
              "      <th>Product_Category</th>\n",
              "      <th>Demand</th>\n",
              "      <th>Low_Cap_Price</th>\n",
              "      <th>High_Cap_Price</th>\n",
              "      <th>month</th>\n",
              "      <th>day</th>\n",
              "      <th>year</th>\n",
              "      <th>weekday</th>\n",
              "      <th>quarter</th>\n",
              "      <th>grade_coded</th>\n",
              "      <th>is_weekend</th>\n",
              "    </tr>\n",
              "  </thead>\n",
              "  <tbody>\n",
              "    <tr>\n",
              "      <th>count</th>\n",
              "      <td>9798.000000</td>\n",
              "      <td>9798.000000</td>\n",
              "      <td>9798.000000</td>\n",
              "      <td>9798.000000</td>\n",
              "      <td>9798.000000</td>\n",
              "      <td>9798.000000</td>\n",
              "      <td>9798.000000</td>\n",
              "      <td>9798.000000</td>\n",
              "      <td>9798.000000</td>\n",
              "      <td>9798.000000</td>\n",
              "      <td>9798.000000</td>\n",
              "      <td>9798.000000</td>\n",
              "      <td>9798.000000</td>\n",
              "    </tr>\n",
              "    <tr>\n",
              "      <th>mean</th>\n",
              "      <td>14.278730</td>\n",
              "      <td>198.414064</td>\n",
              "      <td>2.492958</td>\n",
              "      <td>0.001122</td>\n",
              "      <td>3500.273525</td>\n",
              "      <td>6349.838028</td>\n",
              "      <td>6.051439</td>\n",
              "      <td>15.560523</td>\n",
              "      <td>2008.292202</td>\n",
              "      <td>3.175954</td>\n",
              "      <td>2.363135</td>\n",
              "      <td>1.630639</td>\n",
              "      <td>0.334252</td>\n",
              "    </tr>\n",
              "    <tr>\n",
              "      <th>std</th>\n",
              "      <td>8.760964</td>\n",
              "      <td>169.767862</td>\n",
              "      <td>4.751807</td>\n",
              "      <td>0.014451</td>\n",
              "      <td>2188.046803</td>\n",
              "      <td>3652.780956</td>\n",
              "      <td>3.306099</td>\n",
              "      <td>8.680330</td>\n",
              "      <td>0.938576</td>\n",
              "      <td>2.076535</td>\n",
              "      <td>1.091130</td>\n",
              "      <td>0.835585</td>\n",
              "      <td>0.471752</td>\n",
              "    </tr>\n",
              "    <tr>\n",
              "      <th>min</th>\n",
              "      <td>0.000000</td>\n",
              "      <td>0.000000</td>\n",
              "      <td>0.000000</td>\n",
              "      <td>0.000000</td>\n",
              "      <td>1.000000</td>\n",
              "      <td>163.000000</td>\n",
              "      <td>1.000000</td>\n",
              "      <td>1.000000</td>\n",
              "      <td>2007.000000</td>\n",
              "      <td>0.000000</td>\n",
              "      <td>1.000000</td>\n",
              "      <td>0.000000</td>\n",
              "      <td>0.000000</td>\n",
              "    </tr>\n",
              "    <tr>\n",
              "      <th>25%</th>\n",
              "      <td>3.000000</td>\n",
              "      <td>55.000000</td>\n",
              "      <td>0.000000</td>\n",
              "      <td>0.000008</td>\n",
              "      <td>1863.250000</td>\n",
              "      <td>3878.250000</td>\n",
              "      <td>3.000000</td>\n",
              "      <td>8.000000</td>\n",
              "      <td>2008.000000</td>\n",
              "      <td>1.000000</td>\n",
              "      <td>1.000000</td>\n",
              "      <td>1.000000</td>\n",
              "      <td>0.000000</td>\n",
              "    </tr>\n",
              "    <tr>\n",
              "      <th>50%</th>\n",
              "      <td>20.000000</td>\n",
              "      <td>129.000000</td>\n",
              "      <td>0.000000</td>\n",
              "      <td>0.000031</td>\n",
              "      <td>3124.000000</td>\n",
              "      <td>5552.500000</td>\n",
              "      <td>6.000000</td>\n",
              "      <td>15.000000</td>\n",
              "      <td>2008.000000</td>\n",
              "      <td>3.000000</td>\n",
              "      <td>2.000000</td>\n",
              "      <td>2.000000</td>\n",
              "      <td>0.000000</td>\n",
              "    </tr>\n",
              "    <tr>\n",
              "      <th>75%</th>\n",
              "      <td>21.000000</td>\n",
              "      <td>389.000000</td>\n",
              "      <td>1.000000</td>\n",
              "      <td>0.000159</td>\n",
              "      <td>4667.500000</td>\n",
              "      <td>7993.750000</td>\n",
              "      <td>9.000000</td>\n",
              "      <td>23.000000</td>\n",
              "      <td>2009.000000</td>\n",
              "      <td>5.000000</td>\n",
              "      <td>3.000000</td>\n",
              "      <td>2.000000</td>\n",
              "      <td>1.000000</td>\n",
              "    </tr>\n",
              "    <tr>\n",
              "      <th>max</th>\n",
              "      <td>23.000000</td>\n",
              "      <td>471.000000</td>\n",
              "      <td>17.000000</td>\n",
              "      <td>1.000000</td>\n",
              "      <td>17580.000000</td>\n",
              "      <td>58812.000000</td>\n",
              "      <td>12.000000</td>\n",
              "      <td>31.000000</td>\n",
              "      <td>2010.000000</td>\n",
              "      <td>6.000000</td>\n",
              "      <td>4.000000</td>\n",
              "      <td>3.000000</td>\n",
              "      <td>1.000000</td>\n",
              "    </tr>\n",
              "  </tbody>\n",
              "</table>\n",
              "</div>"
            ],
            "text/plain": [
              "       State_of_Country  Market_Category  ...  grade_coded   is_weekend\n",
              "count       9798.000000      9798.000000  ...  9798.000000  9798.000000\n",
              "mean          14.278730       198.414064  ...     1.630639     0.334252\n",
              "std            8.760964       169.767862  ...     0.835585     0.471752\n",
              "min            0.000000         0.000000  ...     0.000000     0.000000\n",
              "25%            3.000000        55.000000  ...     1.000000     0.000000\n",
              "50%           20.000000       129.000000  ...     2.000000     0.000000\n",
              "75%           21.000000       389.000000  ...     2.000000     1.000000\n",
              "max           23.000000       471.000000  ...     3.000000     1.000000\n",
              "\n",
              "[8 rows x 13 columns]"
            ]
          },
          "metadata": {
            "tags": []
          },
          "execution_count": 62
        }
      ]
    },
    {
      "cell_type": "code",
      "metadata": {
        "id": "EomQasrdDYl5",
        "colab_type": "code",
        "colab": {}
      },
      "source": [
        "df['Date']=pd.to_datetime(df['Date'])\n",
        "dftest['Date']=pd.to_datetime(dftest['Date'])"
      ],
      "execution_count": null,
      "outputs": []
    },
    {
      "cell_type": "code",
      "metadata": {
        "id": "Bm0d8CFND9yV",
        "colab_type": "code",
        "colab": {}
      },
      "source": [
        "df['month']=pd.DatetimeIndex(df['Date']).month\n",
        "df['day']=pd.DatetimeIndex(df['Date']).day\n",
        "df['year']=pd.DatetimeIndex(df['Date']).year\n",
        "df['weekday']=pd.DatetimeIndex(df['Date']).weekday"
      ],
      "execution_count": null,
      "outputs": []
    },
    {
      "cell_type": "code",
      "metadata": {
        "id": "tEQJ58PpTW_m",
        "colab_type": "code",
        "colab": {}
      },
      "source": [
        "dftest['month']=pd.DatetimeIndex(dftest['Date']).month\n",
        "dftest['day']=pd.DatetimeIndex(dftest['Date']).day\n",
        "dftest['year']=pd.DatetimeIndex(dftest['Date']).year\n",
        "dftest['weekday']=pd.DatetimeIndex(dftest['Date']).weekday"
      ],
      "execution_count": null,
      "outputs": []
    },
    {
      "cell_type": "code",
      "metadata": {
        "id": "aLOuLe7-HhOj",
        "colab_type": "code",
        "colab": {}
      },
      "source": [
        "df['day_m_y']=df['day']*df['month']*df['year']\n",
        "dftest['day_m_y']=dftest['day']*dftest['month']*dftest['year']"
      ],
      "execution_count": null,
      "outputs": []
    },
    {
      "cell_type": "code",
      "metadata": {
        "id": "DujfBtko116u",
        "colab_type": "code",
        "colab": {
          "base_uri": "https://localhost:8080/",
          "height": 34
        },
        "outputId": "b1b586c2-19d8-409b-bba8-69aac0efe47f"
      },
      "source": [
        "df['weekday'].unique()"
      ],
      "execution_count": null,
      "outputs": [
        {
          "output_type": "execute_result",
          "data": {
            "text/plain": [
              "array([3, 4, 5, 6, 0, 1, 2])"
            ]
          },
          "metadata": {
            "tags": []
          },
          "execution_count": 11
        }
      ]
    },
    {
      "cell_type": "code",
      "metadata": {
        "id": "n8dSLHa72jIq",
        "colab_type": "code",
        "colab": {
          "base_uri": "https://localhost:8080/",
          "height": 168
        },
        "outputId": "94f91f4e-4a85-4bc3-c800-889eb617fad5"
      },
      "source": [
        "df.groupby('weekday')['Low_Cap_Price'].mean().sort_values()"
      ],
      "execution_count": null,
      "outputs": [
        {
          "output_type": "execute_result",
          "data": {
            "text/plain": [
              "weekday\n",
              "4    3118.697796\n",
              "3    3132.283922\n",
              "2    3134.856905\n",
              "1    3165.960674\n",
              "0    3174.733879\n",
              "6    3187.624060\n",
              "5    3224.113244\n",
              "Name: Low_Cap_Price, dtype: float64"
            ]
          },
          "metadata": {
            "tags": []
          },
          "execution_count": 203
        }
      ]
    },
    {
      "cell_type": "code",
      "metadata": {
        "id": "eNmzEmp737tX",
        "colab_type": "code",
        "colab": {}
      },
      "source": [
        "df['quarter'] = df['Date'].dt.quarter\n",
        "dftest['quarter'] = dftest['Date'].dt.quarter"
      ],
      "execution_count": null,
      "outputs": []
    },
    {
      "cell_type": "code",
      "metadata": {
        "id": "EWbcq-Ec0JEC",
        "colab_type": "code",
        "colab": {}
      },
      "source": [
        "df['weekofyear'] = df['Date'].dt.weekofyear\n",
        "dftest['weekofyear'] = df['Date'].dt.weekofyear"
      ],
      "execution_count": null,
      "outputs": []
    },
    {
      "cell_type": "code",
      "metadata": {
        "id": "w0nZyWnG4ZbZ",
        "colab_type": "code",
        "colab": {}
      },
      "source": [
        "df['dayofyear'] = df['Date'].dt.dayofyear\n",
        "dftest['dayofyear'] = df['Date'].dt.dayofyear"
      ],
      "execution_count": null,
      "outputs": []
    },
    {
      "cell_type": "code",
      "metadata": {
        "id": "Q7RqI0UrEUgM",
        "colab_type": "code",
        "colab": {
          "base_uri": "https://localhost:8080/",
          "height": 299
        },
        "outputId": "f9e7c28b-0daf-48ab-8148-cfea1bc62a12"
      },
      "source": [
        "df.head()"
      ],
      "execution_count": null,
      "outputs": [
        {
          "output_type": "execute_result",
          "data": {
            "text/html": [
              "<div>\n",
              "<style scoped>\n",
              "    .dataframe tbody tr th:only-of-type {\n",
              "        vertical-align: middle;\n",
              "    }\n",
              "\n",
              "    .dataframe tbody tr th {\n",
              "        vertical-align: top;\n",
              "    }\n",
              "\n",
              "    .dataframe thead th {\n",
              "        text-align: right;\n",
              "    }\n",
              "</style>\n",
              "<table border=\"1\" class=\"dataframe\">\n",
              "  <thead>\n",
              "    <tr style=\"text-align: right;\">\n",
              "      <th></th>\n",
              "      <th>Item_Id</th>\n",
              "      <th>Date</th>\n",
              "      <th>State_of_Country</th>\n",
              "      <th>Market_Category</th>\n",
              "      <th>Product_Category</th>\n",
              "      <th>Grade</th>\n",
              "      <th>Demand</th>\n",
              "      <th>Low_Cap_Price</th>\n",
              "      <th>High_Cap_Price</th>\n",
              "      <th>month</th>\n",
              "      <th>day</th>\n",
              "      <th>year</th>\n",
              "      <th>weekday</th>\n",
              "      <th>quarter</th>\n",
              "      <th>is_weekend</th>\n",
              "    </tr>\n",
              "  </thead>\n",
              "  <tbody>\n",
              "    <tr>\n",
              "      <th>0</th>\n",
              "      <td>IT_1</td>\n",
              "      <td>2007-07-05</td>\n",
              "      <td>0</td>\n",
              "      <td>0</td>\n",
              "      <td>0</td>\n",
              "      <td>0</td>\n",
              "      <td>0.000008</td>\n",
              "      <td>2785</td>\n",
              "      <td>0.069515</td>\n",
              "      <td>7</td>\n",
              "      <td>5</td>\n",
              "      <td>2007</td>\n",
              "      <td>3</td>\n",
              "      <td>3</td>\n",
              "      <td>0</td>\n",
              "    </tr>\n",
              "    <tr>\n",
              "      <th>1</th>\n",
              "      <td>IT_2</td>\n",
              "      <td>2007-07-05</td>\n",
              "      <td>0</td>\n",
              "      <td>1</td>\n",
              "      <td>0</td>\n",
              "      <td>0</td>\n",
              "      <td>0.000011</td>\n",
              "      <td>3574</td>\n",
              "      <td>0.078313</td>\n",
              "      <td>7</td>\n",
              "      <td>5</td>\n",
              "      <td>2007</td>\n",
              "      <td>3</td>\n",
              "      <td>3</td>\n",
              "      <td>0</td>\n",
              "    </tr>\n",
              "    <tr>\n",
              "      <th>2</th>\n",
              "      <td>IT_3</td>\n",
              "      <td>2007-07-05</td>\n",
              "      <td>0</td>\n",
              "      <td>103</td>\n",
              "      <td>0</td>\n",
              "      <td>1</td>\n",
              "      <td>0.000025</td>\n",
              "      <td>5978</td>\n",
              "      <td>0.162083</td>\n",
              "      <td>7</td>\n",
              "      <td>5</td>\n",
              "      <td>2007</td>\n",
              "      <td>3</td>\n",
              "      <td>3</td>\n",
              "      <td>0</td>\n",
              "    </tr>\n",
              "    <tr>\n",
              "      <th>3</th>\n",
              "      <td>IT_4</td>\n",
              "      <td>2007-07-05</td>\n",
              "      <td>0</td>\n",
              "      <td>103</td>\n",
              "      <td>0</td>\n",
              "      <td>0</td>\n",
              "      <td>0.000000</td>\n",
              "      <td>5681</td>\n",
              "      <td>0.138962</td>\n",
              "      <td>7</td>\n",
              "      <td>5</td>\n",
              "      <td>2007</td>\n",
              "      <td>3</td>\n",
              "      <td>3</td>\n",
              "      <td>0</td>\n",
              "    </tr>\n",
              "    <tr>\n",
              "      <th>4</th>\n",
              "      <td>IT_5</td>\n",
              "      <td>2007-07-05</td>\n",
              "      <td>0</td>\n",
              "      <td>103</td>\n",
              "      <td>0</td>\n",
              "      <td>2</td>\n",
              "      <td>0.000000</td>\n",
              "      <td>4924</td>\n",
              "      <td>0.120957</td>\n",
              "      <td>7</td>\n",
              "      <td>5</td>\n",
              "      <td>2007</td>\n",
              "      <td>3</td>\n",
              "      <td>3</td>\n",
              "      <td>0</td>\n",
              "    </tr>\n",
              "  </tbody>\n",
              "</table>\n",
              "</div>"
            ],
            "text/plain": [
              "  Item_Id       Date  State_of_Country  ...  weekday  quarter  is_weekend\n",
              "0    IT_1 2007-07-05                 0  ...        3        3           0\n",
              "1    IT_2 2007-07-05                 0  ...        3        3           0\n",
              "2    IT_3 2007-07-05                 0  ...        3        3           0\n",
              "3    IT_4 2007-07-05                 0  ...        3        3           0\n",
              "4    IT_5 2007-07-05                 0  ...        3        3           0\n",
              "\n",
              "[5 rows x 15 columns]"
            ]
          },
          "metadata": {
            "tags": []
          },
          "execution_count": 288
        }
      ]
    },
    {
      "cell_type": "code",
      "metadata": {
        "id": "GSOyBqjiE6aW",
        "colab_type": "code",
        "colab": {
          "base_uri": "https://localhost:8080/",
          "height": 293
        },
        "outputId": "f2622a5e-2ae4-42cb-d21b-9d2325dc511d"
      },
      "source": [
        "df.groupby('Grade')['Low_Cap_Price'].mean().sort_values().plot(kind='bar')"
      ],
      "execution_count": null,
      "outputs": [
        {
          "output_type": "execute_result",
          "data": {
            "text/plain": [
              "<matplotlib.axes._subplots.AxesSubplot at 0x7fe4683d4dd8>"
            ]
          },
          "metadata": {
            "tags": []
          },
          "execution_count": 16
        },
        {
          "output_type": "display_data",
          "data": {
            "image/png": "[encoded data removed]",
            "text/plain": [
              "<Figure size 432x288 with 1 Axes>"
            ]
          },
          "metadata": {
            "tags": [],
            "needs_background": "light"
          }
        }
      ]
    },
    {
      "cell_type": "code",
      "metadata": {
        "id": "oS_Uqwk4FLEP",
        "colab_type": "code",
        "colab": {}
      },
      "source": [
        "pre={\n",
        "      2:0,\n",
        "      3:1,\n",
        "      0:2,\n",
        "      1:3\n",
        "}\n",
        "df['grade_coded']=df['Grade'].map(pre)\n",
        "dftest['grade_coded']=dftest['Grade'].map(pre)"
      ],
      "execution_count": null,
      "outputs": []
    },
    {
      "cell_type": "code",
      "metadata": {
        "id": "LY5gegaAJsSt",
        "colab_type": "code",
        "colab": {}
      },
      "source": [
        ""
      ],
      "execution_count": null,
      "outputs": []
    },
    {
      "cell_type": "code",
      "metadata": {
        "id": "pVaJ4S5MKP-5",
        "colab_type": "code",
        "colab": {}
      },
      "source": [
        "df=df.drop('Grade',axis=1)\n",
        "dftest=dftest.drop('Grade',axis=1)"
      ],
      "execution_count": null,
      "outputs": []
    },
    {
      "cell_type": "code",
      "metadata": {
        "id": "mcB_8uhbniU5",
        "colab_type": "code",
        "colab": {}
      },
      "source": [
        "df['Demand*grade']=((df['Demand']-df['Demand'].min())/(df['Demand'].max()-df['Demand'].min()))*((df['grade_coded']-df['grade_coded'].min())/(df['grade_coded'].max()-df['grade_coded'].min()))\n",
        "dftest['Demand*grade']=((dftest['Demand']-dftest['Demand'].min())/(dftest['Demand'].max()-dftest['Demand'].min()))*((dftest['grade_coded']-dftest['grade_coded'].min())/(dftest['grade_coded'].max()-dftest['grade_coded'].min()))"
      ],
      "execution_count": null,
      "outputs": []
    },
    {
      "cell_type": "code",
      "metadata": {
        "id": "IIyG0JB-acSt",
        "colab_type": "code",
        "colab": {}
      },
      "source": [
        "ordinal=['State_of_Country','Market_Category','Product_Category']"
      ],
      "execution_count": null,
      "outputs": []
    },
    {
      "cell_type": "code",
      "metadata": {
        "id": "ymq6JpvCbJDA",
        "colab_type": "code",
        "colab": {}
      },
      "source": [
        "for f in ordinal:\n",
        "  s=df.groupby(f)['Low_Cap_Price'].mean().sort_values()\n",
        "  pre={}\n",
        "  x=0\n",
        "  for rownum,(indx,val) in enumerate(s.iteritems()):\n",
        "    pre[indx]=x\n",
        "    x+=1\n",
        "  df[f+'coded']=df[f].map(pre)\n",
        "  dftest[f+'coded']=dftest[f].map(pre)\n",
        "  df=df.drop(columns=[f],axis=1)\n",
        "  dftest=dftest.drop(columns=[f],axis=1)\n"
      ],
      "execution_count": null,
      "outputs": []
    },
    {
      "cell_type": "code",
      "metadata": {
        "id": "YcAJXPcoshwE",
        "colab_type": "code",
        "colab": {}
      },
      "source": [
        "#ddf['prod_quarter']=df['Product_Categorycoded']*df['quarter']\n",
        "df['prod_quar']=((df['Product_Categorycoded']-df['Product_Categorycoded'].min())/(df['Product_Categorycoded'].max()-df['Product_Categorycoded'].min()))*((df['quarter']-df['quarter'].min())/(df['quarter'].max()-df['quarter'].min()))\n",
        "dftest['prod_quar']=((dftest['Product_Categorycoded']-dftest['Product_Categorycoded'].min())/(dftest['Product_Categorycoded'].max()-dftest['Product_Categorycoded'].min()))*((dftest['quarter']-dftest['quarter'].min())/(dftest['quarter'].max()-dftest['quarter'].min()))"
      ],
      "execution_count": null,
      "outputs": []
    },
    {
      "cell_type": "code",
      "metadata": {
        "id": "D7aWkCT1wr7b",
        "colab_type": "code",
        "colab": {}
      },
      "source": [
        "df=df.drop('prod_quarter',axis=1)"
      ],
      "execution_count": null,
      "outputs": []
    },
    {
      "cell_type": "code",
      "metadata": {
        "id": "cUwxZXlrV3yD",
        "colab_type": "code",
        "colab": {
          "base_uri": "https://localhost:8080/",
          "height": 299
        },
        "outputId": "74e175f2-0c31-4594-bc1c-a0141de87ba3"
      },
      "source": [
        "df.head()"
      ],
      "execution_count": null,
      "outputs": [
        {
          "output_type": "execute_result",
          "data": {
            "text/html": [
              "<div>\n",
              "<style scoped>\n",
              "    .dataframe tbody tr th:only-of-type {\n",
              "        vertical-align: middle;\n",
              "    }\n",
              "\n",
              "    .dataframe tbody tr th {\n",
              "        vertical-align: top;\n",
              "    }\n",
              "\n",
              "    .dataframe thead th {\n",
              "        text-align: right;\n",
              "    }\n",
              "</style>\n",
              "<table border=\"1\" class=\"dataframe\">\n",
              "  <thead>\n",
              "    <tr style=\"text-align: right;\">\n",
              "      <th></th>\n",
              "      <th>Item_Id</th>\n",
              "      <th>Date</th>\n",
              "      <th>Demand</th>\n",
              "      <th>Low_Cap_Price</th>\n",
              "      <th>High_Cap_Price</th>\n",
              "      <th>month</th>\n",
              "      <th>day</th>\n",
              "      <th>year</th>\n",
              "      <th>weekday</th>\n",
              "      <th>day_m_y</th>\n",
              "      <th>quarter</th>\n",
              "      <th>is_weekend</th>\n",
              "      <th>weekofyear</th>\n",
              "      <th>dayofyear</th>\n",
              "      <th>grade_coded</th>\n",
              "      <th>Market_product</th>\n",
              "      <th>State_of_Countrycoded</th>\n",
              "      <th>Market_Categorycoded</th>\n",
              "      <th>Product_Categorycoded</th>\n",
              "      <th>prod_quar</th>\n",
              "    </tr>\n",
              "  </thead>\n",
              "  <tbody>\n",
              "    <tr>\n",
              "      <th>0</th>\n",
              "      <td>IT_1</td>\n",
              "      <td>2007-07-05</td>\n",
              "      <td>0.5</td>\n",
              "      <td>2785</td>\n",
              "      <td>4240</td>\n",
              "      <td>7</td>\n",
              "      <td>5</td>\n",
              "      <td>2007</td>\n",
              "      <td>3</td>\n",
              "      <td>70245</td>\n",
              "      <td>3</td>\n",
              "      <td>0</td>\n",
              "      <td>27</td>\n",
              "      <td>186</td>\n",
              "      <td>2</td>\n",
              "      <td>0.464188</td>\n",
              "      <td>7</td>\n",
              "      <td>185</td>\n",
              "      <td>11</td>\n",
              "      <td>0.458333</td>\n",
              "    </tr>\n",
              "    <tr>\n",
              "      <th>1</th>\n",
              "      <td>IT_2</td>\n",
              "      <td>2007-07-05</td>\n",
              "      <td>0.7</td>\n",
              "      <td>3574</td>\n",
              "      <td>4756</td>\n",
              "      <td>7</td>\n",
              "      <td>5</td>\n",
              "      <td>2007</td>\n",
              "      <td>3</td>\n",
              "      <td>70245</td>\n",
              "      <td>3</td>\n",
              "      <td>0</td>\n",
              "      <td>27</td>\n",
              "      <td>186</td>\n",
              "      <td>2</td>\n",
              "      <td>0.198221</td>\n",
              "      <td>7</td>\n",
              "      <td>79</td>\n",
              "      <td>11</td>\n",
              "      <td>0.458333</td>\n",
              "    </tr>\n",
              "    <tr>\n",
              "      <th>2</th>\n",
              "      <td>IT_3</td>\n",
              "      <td>2007-07-05</td>\n",
              "      <td>1.6</td>\n",
              "      <td>5978</td>\n",
              "      <td>9669</td>\n",
              "      <td>7</td>\n",
              "      <td>5</td>\n",
              "      <td>2007</td>\n",
              "      <td>3</td>\n",
              "      <td>70245</td>\n",
              "      <td>3</td>\n",
              "      <td>0</td>\n",
              "      <td>27</td>\n",
              "      <td>186</td>\n",
              "      <td>3</td>\n",
              "      <td>0.649863</td>\n",
              "      <td>7</td>\n",
              "      <td>259</td>\n",
              "      <td>11</td>\n",
              "      <td>0.458333</td>\n",
              "    </tr>\n",
              "    <tr>\n",
              "      <th>3</th>\n",
              "      <td>IT_4</td>\n",
              "      <td>2007-07-05</td>\n",
              "      <td>0.0</td>\n",
              "      <td>5681</td>\n",
              "      <td>8313</td>\n",
              "      <td>7</td>\n",
              "      <td>5</td>\n",
              "      <td>2007</td>\n",
              "      <td>3</td>\n",
              "      <td>70245</td>\n",
              "      <td>3</td>\n",
              "      <td>0</td>\n",
              "      <td>27</td>\n",
              "      <td>186</td>\n",
              "      <td>2</td>\n",
              "      <td>0.649863</td>\n",
              "      <td>7</td>\n",
              "      <td>259</td>\n",
              "      <td>11</td>\n",
              "      <td>0.458333</td>\n",
              "    </tr>\n",
              "    <tr>\n",
              "      <th>4</th>\n",
              "      <td>IT_5</td>\n",
              "      <td>2007-07-05</td>\n",
              "      <td>0.0</td>\n",
              "      <td>4924</td>\n",
              "      <td>7257</td>\n",
              "      <td>7</td>\n",
              "      <td>5</td>\n",
              "      <td>2007</td>\n",
              "      <td>3</td>\n",
              "      <td>70245</td>\n",
              "      <td>3</td>\n",
              "      <td>0</td>\n",
              "      <td>27</td>\n",
              "      <td>186</td>\n",
              "      <td>0</td>\n",
              "      <td>0.649863</td>\n",
              "      <td>7</td>\n",
              "      <td>259</td>\n",
              "      <td>11</td>\n",
              "      <td>0.458333</td>\n",
              "    </tr>\n",
              "  </tbody>\n",
              "</table>\n",
              "</div>"
            ],
            "text/plain": [
              "  Item_Id       Date  ...  Product_Categorycoded  prod_quar\n",
              "0    IT_1 2007-07-05  ...                     11   0.458333\n",
              "1    IT_2 2007-07-05  ...                     11   0.458333\n",
              "2    IT_3 2007-07-05  ...                     11   0.458333\n",
              "3    IT_4 2007-07-05  ...                     11   0.458333\n",
              "4    IT_5 2007-07-05  ...                     11   0.458333\n",
              "\n",
              "[5 rows x 20 columns]"
            ]
          },
          "metadata": {
            "tags": []
          },
          "execution_count": 172
        }
      ]
    },
    {
      "cell_type": "code",
      "metadata": {
        "id": "2YAXO6gRV1Xg",
        "colab_type": "code",
        "colab": {
          "base_uri": "https://localhost:8080/",
          "height": 333
        },
        "outputId": "cf4498de-3659-4a5b-b3f6-a256844752af"
      },
      "source": [
        "df.groupby(['Market_Category','Product_Category'])['Low_Cap_Price'].mean().plot(kind='bar')"
      ],
      "execution_count": null,
      "outputs": [
        {
          "output_type": "execute_result",
          "data": {
            "text/plain": [
              "<matplotlib.axes._subplots.AxesSubplot at 0x7f3f1ab2e128>"
            ]
          },
          "metadata": {
            "tags": []
          },
          "execution_count": 18
        },
        {
          "output_type": "display_data",
          "data": {
            "image/png": "[encoded data removed]",
            "text/plain": [
              "<Figure size 432x288 with 1 Axes>"
            ]
          },
          "metadata": {
            "tags": [],
            "needs_background": "light"
          }
        }
      ]
    },
    {
      "cell_type": "code",
      "metadata": {
        "id": "JWVJ8TTvWRb2",
        "colab_type": "code",
        "colab": {}
      },
      "source": [
        "#df['Market_product']=df['Market_Category']*df['Product_Category']\n",
        "df['Market_product']=((df['Product_Categorycoded']-df['Product_Categorycoded'].min())/(df['Product_Categorycoded'].max()-df['Product_Categorycoded'].min()))*((df['Market_Categorycoded']-df['Market_Categorycoded'].min())/(df['Market_Categorycoded'].max()-df['Market_Categorycoded'].min()))\n",
        "dftest['Market_product']=((dftest['Product_Categorycoded']-dftest['Product_Categorycoded'].min())/(dftest['Product_Categorycoded'].max()-dftest['Product_Categorycoded'].min()))*((dftest['Market_Categorycoded']-dftest['Market_Categorycoded'].min())/(dftest['Market_Categorycoded'].max()-dftest['Market_Categorycoded'].min()))"
      ],
      "execution_count": null,
      "outputs": []
    },
    {
      "cell_type": "code",
      "metadata": {
        "id": "TBRpMpJ0xjb_",
        "colab_type": "code",
        "colab": {}
      },
      "source": [
        "df=df.drop('Demand*grade',axis=1)"
      ],
      "execution_count": null,
      "outputs": []
    },
    {
      "cell_type": "code",
      "metadata": {
        "id": "fer3_RNs41B-",
        "colab_type": "code",
        "colab": {}
      },
      "source": [
        "df['State_Prod']=df['State_of_Countrycoded']-df['Product_Categorycoded']\n",
        "dftest['State_Prod']=dftest['State_of_Countrycoded']-dftest['Product_Categorycoded']"
      ],
      "execution_count": null,
      "outputs": []
    },
    {
      "cell_type": "code",
      "metadata": {
        "id": "8v6Ez1GHEZfg",
        "colab_type": "code",
        "colab": {
          "base_uri": "https://localhost:8080/",
          "height": 370
        },
        "outputId": "1e86751e-4083-487e-d340-bc59063bfd26"
      },
      "source": [
        "pearsoncorr = df.corr(method='pearson')\n",
        "abs(pearsoncorr['Low_Cap_Price']).sort_values(ascending=False)"
      ],
      "execution_count": null,
      "outputs": [
        {
          "output_type": "execute_result",
          "data": {
            "text/plain": [
              "Low_Cap_Price            1.000000\n",
              "High_Cap_Price           0.721043\n",
              "Market_Categorycoded     0.670626\n",
              "Market_product           0.658103\n",
              "State_of_Countrycoded    0.521986\n",
              "State_Prod               0.412178\n",
              "prod_quar                0.297339\n",
              "quarter                  0.281544\n",
              "month                    0.281492\n",
              "dayofyear                0.280633\n",
              "weekofyear               0.278556\n",
              "Product_Categorycoded    0.234851\n",
              "day_m_y                  0.192937\n",
              "grade_coded              0.149656\n",
              "Grade                    0.079673\n",
              "Demand                   0.075458\n",
              "Demand*grade             0.040170\n",
              "day                      0.014953\n",
              "weekday                  0.006180\n",
              "year                     0.001868\n",
              "Name: Low_Cap_Price, dtype: float64"
            ]
          },
          "metadata": {
            "tags": []
          },
          "execution_count": 25
        }
      ]
    },
    {
      "cell_type": "code",
      "metadata": {
        "id": "jKj77Cg1LDMD",
        "colab_type": "code",
        "colab": {}
      },
      "source": [
        "X=df.drop(columns=['Low_Cap_Price','Item_Id','Date','day','month','weekday','grade_coded','day_m_y','prod_quar','Grade','year'],axis=1)\n",
        "y=df['Low_Cap_Price'].values"
      ],
      "execution_count": null,
      "outputs": []
    },
    {
      "cell_type": "markdown",
      "metadata": {
        "id": "xizFAfLFImae",
        "colab_type": "text"
      },
      "source": [
        ""
      ]
    },
    {
      "cell_type": "code",
      "metadata": {
        "id": "phtZ1fGDTqcb",
        "colab_type": "code",
        "colab": {}
      },
      "source": [
        "Datatest=dftest.drop(columns=['Item_Id','Date','day','month','weekday','grade_coded','day_m_y','prod_quar','Grade','year'],axis=1)"
      ],
      "execution_count": null,
      "outputs": []
    },
    {
      "cell_type": "code",
      "metadata": {
        "id": "wXmxDkxkOXLK",
        "colab_type": "code",
        "colab": {}
      },
      "source": [
        "from sklearn.model_selection import train_test_split\n",
        "\n",
        "X_train, X_test, y_train, y_test = train_test_split(X, y, test_size=0.3, random_state=123)"
      ],
      "execution_count": null,
      "outputs": []
    },
    {
      "cell_type": "code",
      "metadata": {
        "id": "iNf7BxPoEYFR",
        "colab_type": "code",
        "colab": {}
      },
      "source": [
        "xgbr=xgb.XGBRegressor()"
      ],
      "execution_count": null,
      "outputs": []
    },
    {
      "cell_type": "code",
      "metadata": {
        "id": "DKAZ7ZLgEtSJ",
        "colab_type": "code",
        "colab": {
          "base_uri": "https://localhost:8080/",
          "height": 50
        },
        "outputId": "c94ad257-6e0e-41ed-8612-d5db4e8635e3"
      },
      "source": [
        "xgbr.fit(X_train,y_train)\n",
        "y=xgbr.predict(X_test)\n",
        "y=abs(y)\n",
        "from sklearn.metrics import mean_squared_log_error\n",
        "print('RMSLE:', 100-mean_squared_log_error(y_test, y))"
      ],
      "execution_count": null,
      "outputs": [
        {
          "output_type": "stream",
          "text": [
            "[16:07:07] WARNING: /workspace/src/objective/regression_obj.cu:152: reg:linear is now deprecated in favor of reg:squarederror.\n",
            "RMSLE: 99.90272261502577\n"
          ],
          "name": "stdout"
        }
      ]
    },
    {
      "cell_type": "code",
      "metadata": {
        "id": "iNX6XTgoE4VB",
        "colab_type": "code",
        "colab": {
          "base_uri": "https://localhost:8080/",
          "height": 312
        },
        "outputId": "4b197b98-f1b4-4d60-9fc0-c7bd1da27612"
      },
      "source": [
        "from xgboost import plot_importance\n",
        "plot_importance(xgbr)"
      ],
      "execution_count": null,
      "outputs": [
        {
          "output_type": "execute_result",
          "data": {
            "text/plain": [
              "<matplotlib.axes._subplots.AxesSubplot at 0x7fe45e829a90>"
            ]
          },
          "metadata": {
            "tags": []
          },
          "execution_count": 190
        },
        {
          "output_type": "display_data",
          "data": {
            "image/png": "[encoded data removed]",
            "text/plain": [
              "<Figure size 432x288 with 1 Axes>"
            ]
          },
          "metadata": {
            "tags": [],
            "needs_background": "light"
          }
        }
      ]
    },
    {
      "cell_type": "markdown",
      "metadata": {
        "id": "AekKJ2X4ZEoF",
        "colab_type": "text"
      },
      "source": [
        "Light GBM"
      ]
    },
    {
      "cell_type": "code",
      "metadata": {
        "id": "daGDlCXGKcFs",
        "colab_type": "code",
        "colab": {
          "base_uri": "https://localhost:8080/",
          "height": 222
        },
        "outputId": "ee3f4dad-c822-4325-d178-9e3eeefe79ff"
      },
      "source": [
        "import lightgbm as lgb\n",
        "train_data = lgb.Dataset(X_train, label=y_train)\n",
        "test_data = lgb.Dataset(X_test, label=y_test)\n",
        "\n",
        "param = {'objective': 'regression',\n",
        "         'num_leaves':20,\n",
        "         'boosting': 'gbdt',  \n",
        "         'metric': 'mae',\n",
        "         'learning_rate': 0.2, \n",
        "         'num_iterations': 1000,\n",
        "         'num_leaves': 80,\n",
        "         'max_depth': 6,\n",
        "         'min_data_in_leaf': 11,\n",
        "         'bagging_fraction': 0.80,\n",
        "         'bagging_freq': 1,\n",
        "         'bagging_seed': 142,\n",
        "         'feature_fraction': 0.80,\n",
        "         'feature_fraction_seed': 2,\n",
        "         'early_stopping_round': 200,\n",
        "         'max_bin': 250\n",
        "         }\n",
        "\n",
        "lgbm = lgb.train(params=param, verbose_eval=100, train_set=train_data, valid_sets=[test_data])\n",
        "\n",
        "y_pred_lgbm = lgbm.predict(X_test)\n",
        "y_pred_lgbm=abs(y_pred_lgbm)\n",
        "#print('RMSLE:', sqrt(mean_absolute_error(np.expm1(y_cv), np.expm1(y_pred_lgbm))))\n",
        "from sklearn.metrics import mean_squared_log_error\n",
        "print('RMSLE:', 100-mean_squared_log_error(y_test, y_pred_lgbm))\n"
      ],
      "execution_count": null,
      "outputs": [
        {
          "output_type": "stream",
          "text": [
            "/usr/local/lib/python3.6/dist-packages/lightgbm/engine.py:118: UserWarning: Found `num_iterations` in params. Will use it instead of argument\n",
            "  warnings.warn(\"Found `{}` in params. Will use it instead of argument\".format(alias))\n",
            "/usr/local/lib/python3.6/dist-packages/lightgbm/engine.py:123: UserWarning: Found `early_stopping_round` in params. Will use it instead of argument\n",
            "  warnings.warn(\"Found `{}` in params. Will use it instead of argument\".format(alias))\n"
          ],
          "name": "stderr"
        },
        {
          "output_type": "stream",
          "text": [
            "Training until validation scores don't improve for 200 rounds.\n",
            "[100]\tvalid_0's l1: 456.43\n",
            "[200]\tvalid_0's l1: 455.782\n",
            "[300]\tvalid_0's l1: 459.785\n",
            "Early stopping, best iteration is:\n",
            "[132]\tvalid_0's l1: 455.049\n",
            "RMSLE: 99.92620006666732\n"
          ],
          "name": "stdout"
        }
      ]
    },
    {
      "cell_type": "code",
      "metadata": {
        "id": "cQ0RRrDGLAMu",
        "colab_type": "code",
        "colab": {
          "base_uri": "https://localhost:8080/",
          "height": 729
        },
        "outputId": "f21fa616-3fc4-48bf-8b67-278b68e9ea25"
      },
      "source": [
        "import seaborn as sns\n",
        "feature_imp = pd.DataFrame(sorted(zip(lgbm.feature_importance(), X.columns), reverse=True)[:50], \n",
        "                           columns=['Value','Feature'])\n",
        "plt.figure(figsize=(12, 10))\n",
        "sns.barplot(x=\"Value\", y=\"Feature\", data=feature_imp.sort_values(by=\"Value\", ascending=False))\n",
        "plt.title('LightGBM Features')\n",
        "plt.tight_layout()\n",
        "plt.show()"
      ],
      "execution_count": null,
      "outputs": [
        {
          "output_type": "display_data",
          "data": {
            "image/png": "[encoded data removed]",
            "text/plain": [
              "<Figure size 864x720 with 1 Axes>"
            ]
          },
          "metadata": {
            "tags": [],
            "needs_background": "light"
          }
        }
      ]
    },
    {
      "cell_type": "code",
      "metadata": {
        "id": "HdlzQmriLKaG",
        "colab_type": "code",
        "colab": {}
      },
      "source": [
        "\n",
        "Xtest = Datatest"
      ],
      "execution_count": null,
      "outputs": []
    },
    {
      "cell_type": "code",
      "metadata": {
        "id": "2dOYYqV2LQjh",
        "colab_type": "code",
        "colab": {}
      },
      "source": [
        "from sklearn.model_selection import KFold\n",
        "from lightgbm import LGBMRegressor\n",
        "\n",
        "errlgb = []\n",
        "y_pred_totlgb = []\n",
        "\n",
        "fold = KFold(n_splits=\n",
        "             10, shuffle=True, random_state=101)\n",
        "\n",
        "for train_index, test_index in fold.split(X):\n",
        "    X_train, X_test = X.loc[train_index], X.loc[test_index]\n",
        "    y_train, y_test = y[train_index], y[test_index]\n",
        "\n",
        "    lgbm = LGBMRegressor(boosting_type='gbdt', num_leaves=500, max_depth=31, learning_rate=0.1, n_estimators=1000, min_child_samples=20, subsample=0.80)\n",
        "    lgbm.fit(X_train, y_train, eval_set=[(X_test, y_test)], verbose=0, early_stopping_rounds=100)\n",
        "\n",
        "    y_pred_lgbm = lgbm.predict(X_test)\n",
        "    y_pred_lgbm=abs(y_pred_lgbm)\n",
        "    #print('RMSLE:', sqrt(mean_absolute_error(np.expm1(y_cv), np.expm1(y_pred_lgbm))))\n",
        "    from sklearn.metrics import mean_squared_log_error\n",
        "    print('RMSLE:', 100-mean_squared_log_error(y_test, y_pred_lgbm))\n",
        "\n",
        "    errlgb.append(sqrt(mean_absolute_error(y_test, y_pred_lgbm)))\n",
        "    p = lgbm.predict(Datatest)\n",
        "    y_pred_totlgb.append(p)"
      ],
      "execution_count": null,
      "outputs": []
    },
    {
      "cell_type": "markdown",
      "metadata": {
        "id": "UC-7V2Q1ZLH6",
        "colab_type": "text"
      },
      "source": [
        "XG Boost"
      ]
    },
    {
      "cell_type": "code",
      "metadata": {
        "id": "TD5KE1Q1OZy1",
        "colab_type": "code",
        "colab": {}
      },
      "source": [
        "import xgboost as xgb\n",
        "from sklearn.metrics import mean_squared_error"
      ],
      "execution_count": null,
      "outputs": []
    },
    {
      "cell_type": "code",
      "metadata": {
        "id": "ACOMi_31Objq",
        "colab_type": "code",
        "colab": {}
      },
      "source": [
        "# Hyper Parameter Optimization\n",
        "\n",
        "params={\n",
        " \"learning_rate\"    : [0.05, 0.10, 0.15, 0.20] ,\n",
        " \"max_depth\"        : [ 3,4,5,6,8,10,13,15],\n",
        " \"min_child_weight\" : [  3,5, 6,9 ,11,14,19],\n",
        " \"gamma\"            : [ 0.0, 0.1, 0.2 , 0.3, 0.4 ,0.5],\n",
        " \"colsample_bytree\" : [ 0.3, 0.4, 0.5 , 0.7,0.9 ],\n",
        " \"num_boost_round\": [10, 25, 50,80,100,150],\n",
        "  \"n_estimators\" :[50,100,200,300,500] \n",
        "}"
      ],
      "execution_count": null,
      "outputs": []
    },
    {
      "cell_type": "code",
      "metadata": {
        "id": "NLD1mtzTDKOz",
        "colab_type": "code",
        "colab": {}
      },
      "source": [
        "# Hyper Parameter Optimization\n",
        "\n",
        "param={\n",
        "  \"learning_rate\": 0.01,\n",
        "  \"n_estimators\": 100, \n",
        "  \"max_depth\": 3,\n",
        "  \"subsample\": 0.8,\n",
        "  \"colsample_bytree\": 1,\n",
        "  \"gamma\": 1 \n",
        "}"
      ],
      "execution_count": null,
      "outputs": []
    },
    {
      "cell_type": "code",
      "metadata": {
        "id": "hcDU81JdOe1E",
        "colab_type": "code",
        "colab": {}
      },
      "source": [
        "xg_reg = xgb.XGBRegressor()"
      ],
      "execution_count": null,
      "outputs": []
    },
    {
      "cell_type": "code",
      "metadata": {
        "id": "P9PVFChSOgsR",
        "colab_type": "code",
        "colab": {}
      },
      "source": [
        "def timer(start_time=None):\n",
        "    if not start_time:\n",
        "        start_time = datetime.now()\n",
        "        return start_time\n",
        "    elif start_time:\n",
        "        thour, temp_sec = divmod((datetime.now() - start_time).total_seconds(), 3600)\n",
        "        tmin, tsec = divmod(temp_sec, 60)\n",
        "        print('\\n Time taken: %i hours %i minutes and %s seconds.' % (thour, tmin, round(tsec, 2)))"
      ],
      "execution_count": null,
      "outputs": []
    },
    {
      "cell_type": "code",
      "metadata": {
        "id": "heWonIRjOinD",
        "colab_type": "code",
        "colab": {}
      },
      "source": [
        "from sklearn.model_selection import RandomizedSearchCV, GridSearchCV\n",
        "random_search=RandomizedSearchCV(xg_reg,param_distributions=params,n_iter=5,n_jobs=1,cv=4,verbose=3)"
      ],
      "execution_count": null,
      "outputs": []
    },
    {
      "cell_type": "code",
      "metadata": {
        "id": "cdmB7lB5OmAI",
        "colab_type": "code",
        "colab": {
          "base_uri": "https://localhost:8080/",
          "height": 1000
        },
        "outputId": "48c1ce2a-cb52-405c-ac9b-898b6b6ed910"
      },
      "source": [
        "from datetime import datetime\n",
        "# Here we go\n",
        "start_time = timer(None) # timing starts from this point for \"start_time\" variable\n",
        "random_search.fit(X_train,y_train)\n",
        "timer(start_time) # timing ends here for \"start_time\" variable"
      ],
      "execution_count": null,
      "outputs": [
        {
          "output_type": "stream",
          "text": [
            "Fitting 4 folds for each of 5 candidates, totalling 20 fits\n",
            "[CV] num_boost_round=80, n_estimators=300, min_child_weight=19, max_depth=13, learning_rate=0.2, gamma=0.3, colsample_bytree=0.9 \n",
            "[15:44:22] WARNING: /workspace/src/objective/regression_obj.cu:152: reg:linear is now deprecated in favor of reg:squarederror.\n"
          ],
          "name": "stdout"
        },
        {
          "output_type": "stream",
          "text": [
            "[Parallel(n_jobs=1)]: Using backend SequentialBackend with 1 concurrent workers.\n"
          ],
          "name": "stderr"
        },
        {
          "output_type": "stream",
          "text": [
            "[CV]  num_boost_round=80, n_estimators=300, min_child_weight=19, max_depth=13, learning_rate=0.2, gamma=0.3, colsample_bytree=0.9, score=0.858, total=   2.8s\n",
            "[CV] num_boost_round=80, n_estimators=300, min_child_weight=19, max_depth=13, learning_rate=0.2, gamma=0.3, colsample_bytree=0.9 \n",
            "[15:44:25] WARNING: /workspace/src/objective/regression_obj.cu:152: reg:linear is now deprecated in favor of reg:squarederror.\n"
          ],
          "name": "stdout"
        },
        {
          "output_type": "stream",
          "text": [
            "[Parallel(n_jobs=1)]: Done   1 out of   1 | elapsed:    2.8s remaining:    0.0s\n"
          ],
          "name": "stderr"
        },
        {
          "output_type": "stream",
          "text": [
            "[CV]  num_boost_round=80, n_estimators=300, min_child_weight=19, max_depth=13, learning_rate=0.2, gamma=0.3, colsample_bytree=0.9, score=0.890, total=   2.8s\n",
            "[CV] num_boost_round=80, n_estimators=300, min_child_weight=19, max_depth=13, learning_rate=0.2, gamma=0.3, colsample_bytree=0.9 \n",
            "[15:44:28] WARNING: /workspace/src/objective/regression_obj.cu:152: reg:linear is now deprecated in favor of reg:squarederror.\n"
          ],
          "name": "stdout"
        },
        {
          "output_type": "stream",
          "text": [
            "[Parallel(n_jobs=1)]: Done   2 out of   2 | elapsed:    5.6s remaining:    0.0s\n"
          ],
          "name": "stderr"
        },
        {
          "output_type": "stream",
          "text": [
            "[CV]  num_boost_round=80, n_estimators=300, min_child_weight=19, max_depth=13, learning_rate=0.2, gamma=0.3, colsample_bytree=0.9, score=0.864, total=   2.9s\n",
            "[CV] num_boost_round=80, n_estimators=300, min_child_weight=19, max_depth=13, learning_rate=0.2, gamma=0.3, colsample_bytree=0.9 \n",
            "[15:44:30] WARNING: /workspace/src/objective/regression_obj.cu:152: reg:linear is now deprecated in favor of reg:squarederror.\n",
            "[CV]  num_boost_round=80, n_estimators=300, min_child_weight=19, max_depth=13, learning_rate=0.2, gamma=0.3, colsample_bytree=0.9, score=0.868, total=   2.9s\n",
            "[CV] num_boost_round=10, n_estimators=200, min_child_weight=3, max_depth=6, learning_rate=0.15, gamma=0.4, colsample_bytree=0.3 \n",
            "[15:44:33] WARNING: /workspace/src/objective/regression_obj.cu:152: reg:linear is now deprecated in favor of reg:squarederror.\n",
            "[CV]  num_boost_round=10, n_estimators=200, min_child_weight=3, max_depth=6, learning_rate=0.15, gamma=0.4, colsample_bytree=0.3, score=0.858, total=   0.7s\n",
            "[CV] num_boost_round=10, n_estimators=200, min_child_weight=3, max_depth=6, learning_rate=0.15, gamma=0.4, colsample_bytree=0.3 \n",
            "[15:44:34] WARNING: /workspace/src/objective/regression_obj.cu:152: reg:linear is now deprecated in favor of reg:squarederror.\n",
            "[CV]  num_boost_round=10, n_estimators=200, min_child_weight=3, max_depth=6, learning_rate=0.15, gamma=0.4, colsample_bytree=0.3, score=0.882, total=   0.7s\n",
            "[CV] num_boost_round=10, n_estimators=200, min_child_weight=3, max_depth=6, learning_rate=0.15, gamma=0.4, colsample_bytree=0.3 \n",
            "[15:44:35] WARNING: /workspace/src/objective/regression_obj.cu:152: reg:linear is now deprecated in favor of reg:squarederror.\n",
            "[CV]  num_boost_round=10, n_estimators=200, min_child_weight=3, max_depth=6, learning_rate=0.15, gamma=0.4, colsample_bytree=0.3, score=0.870, total=   0.7s\n",
            "[CV] num_boost_round=10, n_estimators=200, min_child_weight=3, max_depth=6, learning_rate=0.15, gamma=0.4, colsample_bytree=0.3 \n",
            "[15:44:35] WARNING: /workspace/src/objective/regression_obj.cu:152: reg:linear is now deprecated in favor of reg:squarederror.\n",
            "[CV]  num_boost_round=10, n_estimators=200, min_child_weight=3, max_depth=6, learning_rate=0.15, gamma=0.4, colsample_bytree=0.3, score=0.869, total=   0.7s\n",
            "[CV] num_boost_round=80, n_estimators=50, min_child_weight=11, max_depth=8, learning_rate=0.15, gamma=0.2, colsample_bytree=0.3 \n",
            "[15:44:36] WARNING: /workspace/src/objective/regression_obj.cu:152: reg:linear is now deprecated in favor of reg:squarederror.\n",
            "[CV]  num_boost_round=80, n_estimators=50, min_child_weight=11, max_depth=8, learning_rate=0.15, gamma=0.2, colsample_bytree=0.3, score=0.861, total=   0.3s\n",
            "[CV] num_boost_round=80, n_estimators=50, min_child_weight=11, max_depth=8, learning_rate=0.15, gamma=0.2, colsample_bytree=0.3 \n",
            "[15:44:36] WARNING: /workspace/src/objective/regression_obj.cu:152: reg:linear is now deprecated in favor of reg:squarederror.\n",
            "[CV]  num_boost_round=80, n_estimators=50, min_child_weight=11, max_depth=8, learning_rate=0.15, gamma=0.2, colsample_bytree=0.3, score=0.876, total=   0.2s\n",
            "[CV] num_boost_round=80, n_estimators=50, min_child_weight=11, max_depth=8, learning_rate=0.15, gamma=0.2, colsample_bytree=0.3 \n",
            "[15:44:36] WARNING: /workspace/src/objective/regression_obj.cu:152: reg:linear is now deprecated in favor of reg:squarederror.\n",
            "[CV]  num_boost_round=80, n_estimators=50, min_child_weight=11, max_depth=8, learning_rate=0.15, gamma=0.2, colsample_bytree=0.3, score=0.865, total=   0.3s\n",
            "[CV] num_boost_round=80, n_estimators=50, min_child_weight=11, max_depth=8, learning_rate=0.15, gamma=0.2, colsample_bytree=0.3 \n",
            "[15:44:37] WARNING: /workspace/src/objective/regression_obj.cu:152: reg:linear is now deprecated in favor of reg:squarederror.\n",
            "[CV]  num_boost_round=80, n_estimators=50, min_child_weight=11, max_depth=8, learning_rate=0.15, gamma=0.2, colsample_bytree=0.3, score=0.868, total=   0.2s\n",
            "[CV] num_boost_round=100, n_estimators=200, min_child_weight=14, max_depth=6, learning_rate=0.15, gamma=0.4, colsample_bytree=0.4 \n",
            "[15:44:37] WARNING: /workspace/src/objective/regression_obj.cu:152: reg:linear is now deprecated in favor of reg:squarederror.\n",
            "[CV]  num_boost_round=100, n_estimators=200, min_child_weight=14, max_depth=6, learning_rate=0.15, gamma=0.4, colsample_bytree=0.4, score=0.870, total=   0.8s\n",
            "[CV] num_boost_round=100, n_estimators=200, min_child_weight=14, max_depth=6, learning_rate=0.15, gamma=0.4, colsample_bytree=0.4 \n",
            "[15:44:38] WARNING: /workspace/src/objective/regression_obj.cu:152: reg:linear is now deprecated in favor of reg:squarederror.\n",
            "[CV]  num_boost_round=100, n_estimators=200, min_child_weight=14, max_depth=6, learning_rate=0.15, gamma=0.4, colsample_bytree=0.4, score=0.885, total=   0.7s\n",
            "[CV] num_boost_round=100, n_estimators=200, min_child_weight=14, max_depth=6, learning_rate=0.15, gamma=0.4, colsample_bytree=0.4 \n",
            "[15:44:38] WARNING: /workspace/src/objective/regression_obj.cu:152: reg:linear is now deprecated in favor of reg:squarederror.\n",
            "[CV]  num_boost_round=100, n_estimators=200, min_child_weight=14, max_depth=6, learning_rate=0.15, gamma=0.4, colsample_bytree=0.4, score=0.870, total=   0.7s\n",
            "[CV] num_boost_round=100, n_estimators=200, min_child_weight=14, max_depth=6, learning_rate=0.15, gamma=0.4, colsample_bytree=0.4 \n",
            "[15:44:39] WARNING: /workspace/src/objective/regression_obj.cu:152: reg:linear is now deprecated in favor of reg:squarederror.\n",
            "[CV]  num_boost_round=100, n_estimators=200, min_child_weight=14, max_depth=6, learning_rate=0.15, gamma=0.4, colsample_bytree=0.4, score=0.877, total=   0.7s\n",
            "[CV] num_boost_round=50, n_estimators=300, min_child_weight=6, max_depth=10, learning_rate=0.2, gamma=0.1, colsample_bytree=0.7 \n",
            "[15:44:40] WARNING: /workspace/src/objective/regression_obj.cu:152: reg:linear is now deprecated in favor of reg:squarederror.\n",
            "[CV]  num_boost_round=50, n_estimators=300, min_child_weight=6, max_depth=10, learning_rate=0.2, gamma=0.1, colsample_bytree=0.7, score=0.861, total=   2.1s\n",
            "[CV] num_boost_round=50, n_estimators=300, min_child_weight=6, max_depth=10, learning_rate=0.2, gamma=0.1, colsample_bytree=0.7 \n",
            "[15:44:42] WARNING: /workspace/src/objective/regression_obj.cu:152: reg:linear is now deprecated in favor of reg:squarederror.\n",
            "[CV]  num_boost_round=50, n_estimators=300, min_child_weight=6, max_depth=10, learning_rate=0.2, gamma=0.1, colsample_bytree=0.7, score=0.888, total=   2.2s\n",
            "[CV] num_boost_round=50, n_estimators=300, min_child_weight=6, max_depth=10, learning_rate=0.2, gamma=0.1, colsample_bytree=0.7 \n",
            "[15:44:44] WARNING: /workspace/src/objective/regression_obj.cu:152: reg:linear is now deprecated in favor of reg:squarederror.\n",
            "[CV]  num_boost_round=50, n_estimators=300, min_child_weight=6, max_depth=10, learning_rate=0.2, gamma=0.1, colsample_bytree=0.7, score=0.864, total=   2.2s\n",
            "[CV] num_boost_round=50, n_estimators=300, min_child_weight=6, max_depth=10, learning_rate=0.2, gamma=0.1, colsample_bytree=0.7 \n",
            "[15:44:46] WARNING: /workspace/src/objective/regression_obj.cu:152: reg:linear is now deprecated in favor of reg:squarederror.\n",
            "[CV]  num_boost_round=50, n_estimators=300, min_child_weight=6, max_depth=10, learning_rate=0.2, gamma=0.1, colsample_bytree=0.7, score=0.871, total=   2.3s\n",
            "[15:44:49] WARNING: /workspace/src/objective/regression_obj.cu:152: reg:linear is now deprecated in favor of reg:squarederror.\n"
          ],
          "name": "stdout"
        },
        {
          "output_type": "stream",
          "text": [
            "[Parallel(n_jobs=1)]: Done  20 out of  20 | elapsed:   26.8s finished\n"
          ],
          "name": "stderr"
        },
        {
          "output_type": "stream",
          "text": [
            "\n",
            " Time taken: 0 hours 0 minutes and 27.7 seconds.\n"
          ],
          "name": "stdout"
        }
      ]
    },
    {
      "cell_type": "code",
      "metadata": {
        "id": "LQaqZzk9PHJF",
        "colab_type": "code",
        "colab": {
          "base_uri": "https://localhost:8080/",
          "height": 134
        },
        "outputId": "a61a1aa3-2101-4be0-9d42-d9df054bf9cd"
      },
      "source": [
        "random_search.best_params_"
      ],
      "execution_count": null,
      "outputs": [
        {
          "output_type": "execute_result",
          "data": {
            "text/plain": [
              "{'colsample_bytree': 0.5,\n",
              " 'gamma': 0.0,\n",
              " 'learning_rate': 0.05,\n",
              " 'max_depth': 10,\n",
              " 'min_child_weight': 14,\n",
              " 'n_estimators': 100,\n",
              " 'num_boost_round': 25}"
            ]
          },
          "metadata": {
            "tags": []
          },
          "execution_count": 65
        }
      ]
    },
    {
      "cell_type": "code",
      "metadata": {
        "id": "U339TJLAPMBk",
        "colab_type": "code",
        "colab": {
          "base_uri": "https://localhost:8080/",
          "height": 151
        },
        "outputId": "aafe78b7-ca1b-404b-9885-240d6eb0d1ba"
      },
      "source": [
        "random_search.best_estimator_"
      ],
      "execution_count": null,
      "outputs": [
        {
          "output_type": "execute_result",
          "data": {
            "text/plain": [
              "XGBRegressor(base_score=0.5, booster='gbtree', colsample_bylevel=1,\n",
              "             colsample_bynode=1, colsample_bytree=0.7, gamma=0.0,\n",
              "             importance_type='gain', learning_rate=0.05, max_delta_step=0,\n",
              "             max_depth=15, min_child_weight=11, missing=None, n_estimators=100,\n",
              "             n_jobs=1, nthread=None, num_boost_round=100,\n",
              "             objective='reg:linear', random_state=0, reg_alpha=0, reg_lambda=1,\n",
              "             scale_pos_weight=1, seed=None, silent=None, subsample=1,\n",
              "             verbosity=1)"
            ]
          },
          "metadata": {
            "tags": []
          },
          "execution_count": 202
        }
      ]
    },
    {
      "cell_type": "code",
      "metadata": {
        "id": "R4wK8T_enDnB",
        "colab_type": "code",
        "colab": {}
      },
      "source": [
        "(base_score=0.5, booster='gbtree', colsample_bylevel=1,\n",
        "             colsample_bynode=1, colsample_bytree=0.9, gamma=0.4,\n",
        "             importance_type='gain', learning_rate=0.1, max_delta_step=0,\n",
        "             max_depth=6, min_child_weight=3, missing=None, n_estimators=1000,\n",
        "             n_jobs=1, nthread=None, num_boost_round=150,\n",
        "             objective='reg:linear', random_state=0, reg_alpha=0, reg_lambda=1,\n",
        "             scale_pos_weight=1, seed=None, silent=None, subsample=1,\n",
        "             verbosity=1)"
      ],
      "execution_count": null,
      "outputs": []
    },
    {
      "cell_type": "code",
      "metadata": {
        "id": "KZ3aO-FpATzB",
        "colab_type": "code",
        "colab": {}
      },
      "source": [
        ""
      ],
      "execution_count": null,
      "outputs": []
    },
    {
      "cell_type": "code",
      "metadata": {
        "id": "11QRKyInPOcN",
        "colab_type": "code",
        "colab": {
          "base_uri": "https://localhost:8080/",
          "height": 34
        },
        "outputId": "7df6a00c-8658-448a-c068-a87690e4e160"
      },
      "source": [
        "random_search.best_score_"
      ],
      "execution_count": null,
      "outputs": [
        {
          "output_type": "execute_result",
          "data": {
            "text/plain": [
              "0.87561123055319"
            ]
          },
          "metadata": {
            "tags": []
          },
          "execution_count": 216
        }
      ]
    },
    {
      "cell_type": "code",
      "metadata": {
        "id": "ncBYGanlPRid",
        "colab_type": "code",
        "colab": {}
      },
      "source": [
        "xgbr=xgb.XGBRegressor(base_score=0.5, booster='gbtree', colsample_bylevel=1,\n",
        "             colsample_bynode=1, colsample_bytree=0.7, gamma=0.0,\n",
        "             importance_type='gain', learning_rate=0.05, max_delta_step=0,\n",
        "             max_depth=15, min_child_weight=11, missing=None, n_estimators=100,\n",
        "             n_jobs=1, nthread=None, num_boost_round=100,\n",
        "             objective='reg:linear', random_state=0, reg_alpha=0, reg_lambda=1,\n",
        "             scale_pos_weight=1, seed=None, silent=None, subsample=1,\n",
        "             verbosity=1)"
      ],
      "execution_count": null,
      "outputs": []
    },
    {
      "cell_type": "code",
      "metadata": {
        "id": "EroJGZM5IeGP",
        "colab_type": "code",
        "colab": {
          "base_uri": "https://localhost:8080/",
          "height": 104
        },
        "outputId": "c4195dff-d922-4d1a-a842-0afd230c3b51"
      },
      "source": [
        "from sklearn.model_selection import GridSearchCV\n",
        "param_test1 = {\n",
        " 'max_depth':range(3,10,2),\n",
        " 'min_child_weight':range(1,6,2)\n",
        "}\n",
        "gsearch1 = GridSearchCV(estimator = xgb.XGBRegressor(), \n",
        " param_grid = param_test1,n_jobs=4,iid=False, cv=5)\n",
        "gsearch1.fit(X_train,y_train)\n",
        "gsearch1.best_params_, gsearch1.best_score_\n"
      ],
      "execution_count": null,
      "outputs": [
        {
          "output_type": "stream",
          "text": [
            "/usr/local/lib/python3.6/dist-packages/sklearn/model_selection/_search.py:823: FutureWarning: The parameter 'iid' is deprecated in 0.22 and will be removed in 0.24.\n",
            "  \"removed in 0.24.\", FutureWarning\n"
          ],
          "name": "stderr"
        },
        {
          "output_type": "stream",
          "text": [
            "[15:45:45] WARNING: /workspace/src/objective/regression_obj.cu:152: reg:linear is now deprecated in favor of reg:squarederror.\n"
          ],
          "name": "stdout"
        },
        {
          "output_type": "execute_result",
          "data": {
            "text/plain": [
              "({'max_depth': 9, 'min_child_weight': 5}, 0.8757049416857658)"
            ]
          },
          "metadata": {
            "tags": []
          },
          "execution_count": 217
        }
      ]
    },
    {
      "cell_type": "code",
      "metadata": {
        "id": "j-OIZgDeK3m5",
        "colab_type": "code",
        "colab": {
          "base_uri": "https://localhost:8080/",
          "height": 104
        },
        "outputId": "1deeeca1-4c8f-4306-e671-317abaa270e1"
      },
      "source": [
        "param_test2 = {\n",
        " 'max_depth':[8,9,10],\n",
        " 'min_child_weight':[4,5,6]\n",
        "}\n",
        "gsearch2 = GridSearchCV(estimator = xgb.XGBRegressor(), \n",
        "param_grid = param_test2,n_jobs=4,iid=False, cv=5)\n",
        "gsearch2.fit(X_train,y_train)\n",
        "gsearch2.best_params_, gsearch2.best_score_\n"
      ],
      "execution_count": null,
      "outputs": [
        {
          "output_type": "stream",
          "text": [
            "/usr/local/lib/python3.6/dist-packages/sklearn/model_selection/_search.py:823: FutureWarning: The parameter 'iid' is deprecated in 0.22 and will be removed in 0.24.\n",
            "  \"removed in 0.24.\", FutureWarning\n"
          ],
          "name": "stderr"
        },
        {
          "output_type": "stream",
          "text": [
            "[15:46:52] WARNING: /workspace/src/objective/regression_obj.cu:152: reg:linear is now deprecated in favor of reg:squarederror.\n"
          ],
          "name": "stdout"
        },
        {
          "output_type": "execute_result",
          "data": {
            "text/plain": [
              "({'max_depth': 8, 'min_child_weight': 5}, 0.8771554744897427)"
            ]
          },
          "metadata": {
            "tags": []
          },
          "execution_count": 218
        }
      ]
    },
    {
      "cell_type": "code",
      "metadata": {
        "id": "FlvvSo7rSyL1",
        "colab_type": "code",
        "colab": {
          "base_uri": "https://localhost:8080/",
          "height": 339
        },
        "outputId": "33a27952-fa5b-4da5-f222-5b7cde730229"
      },
      "source": [
        "param_test2b = {\n",
        " 'min_child_weight':[6,7,8,9]\n",
        "}\n",
        "gsearch2b = GridSearchCV(estimator = xgb.XGBRegressor(max_depth=8), \n",
        " param_grid = param_test2b,n_jobs=4,iid=False, cv=5)\n",
        "gsearch2b.fit(X_train,y_train)"
      ],
      "execution_count": null,
      "outputs": [
        {
          "output_type": "stream",
          "text": [
            "/usr/local/lib/python3.6/dist-packages/sklearn/model_selection/_search.py:823: FutureWarning: The parameter 'iid' is deprecated in 0.22 and will be removed in 0.24.\n",
            "  \"removed in 0.24.\", FutureWarning\n"
          ],
          "name": "stderr"
        },
        {
          "output_type": "stream",
          "text": [
            "[15:47:44] WARNING: /workspace/src/objective/regression_obj.cu:152: reg:linear is now deprecated in favor of reg:squarederror.\n"
          ],
          "name": "stdout"
        },
        {
          "output_type": "execute_result",
          "data": {
            "text/plain": [
              "GridSearchCV(cv=5, error_score=nan,\n",
              "             estimator=XGBRegressor(base_score=0.5, booster='gbtree',\n",
              "                                    colsample_bylevel=1, colsample_bynode=1,\n",
              "                                    colsample_bytree=1, gamma=0,\n",
              "                                    importance_type='gain', learning_rate=0.1,\n",
              "                                    max_delta_step=0, max_depth=8,\n",
              "                                    min_child_weight=1, missing=None,\n",
              "                                    n_estimators=100, n_jobs=1, nthread=None,\n",
              "                                    objective='reg:linear', random_state=0,\n",
              "                                    reg_alpha=0, reg_lambda=1,\n",
              "                                    scale_pos_weight=1, seed=None, silent=None,\n",
              "                                    subsample=1, verbosity=1),\n",
              "             iid=False, n_jobs=4, param_grid={'min_child_weight': [6, 7, 8, 9]},\n",
              "             pre_dispatch='2*n_jobs', refit=True, return_train_score=False,\n",
              "             scoring=None, verbose=0)"
            ]
          },
          "metadata": {
            "tags": []
          },
          "execution_count": 219
        }
      ]
    },
    {
      "cell_type": "code",
      "metadata": {
        "id": "HKFmh0PfTWwi",
        "colab_type": "code",
        "colab": {
          "base_uri": "https://localhost:8080/",
          "height": 34
        },
        "outputId": "8c4d57b8-587d-435c-e2cb-24dbf969876d"
      },
      "source": [
        "gsearch2b.best_params_, gsearch2b.best_score_\n"
      ],
      "execution_count": null,
      "outputs": [
        {
          "output_type": "execute_result",
          "data": {
            "text/plain": [
              "({'min_child_weight': 6}, 0.8770623027510143)"
            ]
          },
          "metadata": {
            "tags": []
          },
          "execution_count": 220
        }
      ]
    },
    {
      "cell_type": "code",
      "metadata": {
        "id": "a0vNDQstVEPK",
        "colab_type": "code",
        "colab": {
          "base_uri": "https://localhost:8080/",
          "height": 104
        },
        "outputId": "7d2d5678-b5ab-42b6-8b36-6ccd6fa4c317"
      },
      "source": [
        "param_test3 = {\n",
        " 'gamma':[i/10.0 for i in range(0,5)]\n",
        "}\n",
        "gsearch3 = GridSearchCV(estimator = xgb.XGBRegressor(max_depth=8,min_child_weight=5), \n",
        " param_grid = param_test3,n_jobs=4,iid=False, cv=5)\n",
        "gsearch3.fit(X_train,y_train)\n",
        "gsearch3.best_params_, gsearch3.best_score_"
      ],
      "execution_count": null,
      "outputs": [
        {
          "output_type": "stream",
          "text": [
            "/usr/local/lib/python3.6/dist-packages/sklearn/model_selection/_search.py:823: FutureWarning: The parameter 'iid' is deprecated in 0.22 and will be removed in 0.24.\n",
            "  \"removed in 0.24.\", FutureWarning\n"
          ],
          "name": "stderr"
        },
        {
          "output_type": "stream",
          "text": [
            "[15:48:32] WARNING: /workspace/src/objective/regression_obj.cu:152: reg:linear is now deprecated in favor of reg:squarederror.\n"
          ],
          "name": "stdout"
        },
        {
          "output_type": "execute_result",
          "data": {
            "text/plain": [
              "({'gamma': 0.0}, 0.8771554744897427)"
            ]
          },
          "metadata": {
            "tags": []
          },
          "execution_count": 221
        }
      ]
    },
    {
      "cell_type": "code",
      "metadata": {
        "id": "oP_86DdBU6L-",
        "colab_type": "code",
        "colab": {}
      },
      "source": [
        "max_depth=8\n",
        "mmin_child_weight=5\n",
        "gamma=0.0"
      ],
      "execution_count": null,
      "outputs": []
    },
    {
      "cell_type": "code",
      "metadata": {
        "id": "3DecgQSkYhWc",
        "colab_type": "code",
        "colab": {
          "base_uri": "https://localhost:8080/",
          "height": 104
        },
        "outputId": "dbb9a9b0-ef30-4658-98d7-c228f043f43e"
      },
      "source": [
        "param_test4 = {\n",
        " 'subsample':[i/10.0 for i in range(6,10)],\n",
        " 'colsample_bytree':[i/10.0 for i in range(6,10)]\n",
        "}\n",
        "gsearch4 = GridSearchCV(estimator = xgb.XGBRegressor(max_depth=8,min_child_weight=5), \n",
        " param_grid = param_test4, n_jobs=4,iid=False, cv=5)\n",
        "gsearch4.fit(X_train,y_train)\n",
        "gsearch4.best_params_, gsearch4.best_score_\n"
      ],
      "execution_count": null,
      "outputs": [
        {
          "output_type": "stream",
          "text": [
            "/usr/local/lib/python3.6/dist-packages/sklearn/model_selection/_search.py:823: FutureWarning: The parameter 'iid' is deprecated in 0.22 and will be removed in 0.24.\n",
            "  \"removed in 0.24.\", FutureWarning\n"
          ],
          "name": "stderr"
        },
        {
          "output_type": "stream",
          "text": [
            "[15:50:17] WARNING: /workspace/src/objective/regression_obj.cu:152: reg:linear is now deprecated in favor of reg:squarederror.\n"
          ],
          "name": "stdout"
        },
        {
          "output_type": "execute_result",
          "data": {
            "text/plain": [
              "({'colsample_bytree': 0.9, 'subsample': 0.8}, 0.8794654658519081)"
            ]
          },
          "metadata": {
            "tags": []
          },
          "execution_count": 223
        }
      ]
    },
    {
      "cell_type": "code",
      "metadata": {
        "id": "ppthGwyWY857",
        "colab_type": "code",
        "colab": {
          "base_uri": "https://localhost:8080/",
          "height": 104
        },
        "outputId": "9cb05291-b362-487c-d060-060097aa5d67"
      },
      "source": [
        "param_test5 = {\n",
        " 'subsample':[i/100.0 for i in range(85,100,5)],\n",
        " 'colsample_bytree':[i/100.0 for i in range(75,90,5)]\n",
        "}\n",
        "gsearch5 = GridSearchCV(estimator = xgb.XGBRegressor(max_depth=9,min_child_weight=6), \n",
        " param_grid = param_test5, n_jobs=4,iid=False, cv=5)\n",
        "gsearch5.fit(X_train,y_train)\n",
        "gsearch5.best_params_, gsearch5.best_score_\n"
      ],
      "execution_count": null,
      "outputs": [
        {
          "output_type": "stream",
          "text": [
            "/usr/local/lib/python3.6/dist-packages/sklearn/model_selection/_search.py:823: FutureWarning: The parameter 'iid' is deprecated in 0.22 and will be removed in 0.24.\n",
            "  \"removed in 0.24.\", FutureWarning\n"
          ],
          "name": "stderr"
        },
        {
          "output_type": "stream",
          "text": [
            "[15:51:17] WARNING: /workspace/src/objective/regression_obj.cu:152: reg:linear is now deprecated in favor of reg:squarederror.\n"
          ],
          "name": "stdout"
        },
        {
          "output_type": "execute_result",
          "data": {
            "text/plain": [
              "({'colsample_bytree': 0.85, 'subsample': 0.85}, 0.8788863191319815)"
            ]
          },
          "metadata": {
            "tags": []
          },
          "execution_count": 224
        }
      ]
    },
    {
      "cell_type": "code",
      "metadata": {
        "id": "pVSCaRCZZ4wc",
        "colab_type": "code",
        "colab": {
          "base_uri": "https://localhost:8080/",
          "height": 104
        },
        "outputId": "15e48d36-53de-43a7-c167-18f5e35557b0"
      },
      "source": [
        "param_test6 = {\n",
        " 'reg_alpha':[0.01,0.05,0.02,0.001]\n",
        "}\n",
        "gsearch6 = GridSearchCV(estimator = xgb.XGBRegressor(max_depth=8,min_child_weight=5,colsample_bytree=0.9,subsample=0.8), \n",
        " param_grid = param_test6,n_jobs=4,iid=False, cv=5)\n",
        "gsearch6.fit(X_train,y_train)\n",
        "gsearch6.best_params_, gsearch6.best_score_"
      ],
      "execution_count": null,
      "outputs": [
        {
          "output_type": "stream",
          "text": [
            "/usr/local/lib/python3.6/dist-packages/sklearn/model_selection/_search.py:823: FutureWarning: The parameter 'iid' is deprecated in 0.22 and will be removed in 0.24.\n",
            "  \"removed in 0.24.\", FutureWarning\n"
          ],
          "name": "stderr"
        },
        {
          "output_type": "stream",
          "text": [
            "[15:52:34] WARNING: /workspace/src/objective/regression_obj.cu:152: reg:linear is now deprecated in favor of reg:squarederror.\n"
          ],
          "name": "stdout"
        },
        {
          "output_type": "execute_result",
          "data": {
            "text/plain": [
              "({'reg_alpha': 0.05}, 0.8797588097182854)"
            ]
          },
          "metadata": {
            "tags": []
          },
          "execution_count": 225
        }
      ]
    },
    {
      "cell_type": "code",
      "metadata": {
        "id": "7_or2j-ljhyY",
        "colab_type": "code",
        "colab": {
          "base_uri": "https://localhost:8080/",
          "height": 441
        },
        "outputId": "54d6e880-e056-49d7-9daf-d96f70975d64"
      },
      "source": [
        "param_test7 = {\n",
        " 'n_estimators':[100,500,1000,1500,2000]\n",
        "}\n",
        "gsearch7 = GridSearchCV(estimator = xgb.XGBRegressor(max_depth=9,min_child_weight=6,colsample_bytree=0.85,subsample=0.95), \n",
        " param_grid = param_test7,n_jobs=4,iid=False, cv=5)\n",
        "gsearch7.fit(X_train,y_train)\n",
        "gsearch7.best_params_, gsearch7.best_score_"
      ],
      "execution_count": null,
      "outputs": [
        {
          "output_type": "stream",
          "text": [
            "/usr/local/lib/python3.6/dist-packages/sklearn/model_selection/_search.py:823: FutureWarning: The parameter 'iid' is deprecated in 0.22 and will be removed in 0.24.\n",
            "  \"removed in 0.24.\", FutureWarning\n"
          ],
          "name": "stderr"
        },
        {
          "output_type": "stream",
          "text": [
            "[09:33:38] WARNING: /workspace/src/objective/regression_obj.cu:152: reg:linear is now deprecated in favor of reg:squarederror.\n"
          ],
          "name": "stdout"
        },
        {
          "output_type": "error",
          "ename": "KeyboardInterrupt",
          "evalue": "ignored",
          "traceback": [
            "\u001b[0;31m---------------------------------------------------------------------------\u001b[0m",
            "\u001b[0;31mKeyboardInterrupt\u001b[0m                         Traceback (most recent call last)",
            "\u001b[0;32m<ipython-input-105-d0c7a60dd4c9>\u001b[0m in \u001b[0;36m<module>\u001b[0;34m()\u001b[0m\n\u001b[1;32m      4\u001b[0m gsearch7 = GridSearchCV(estimator = xgb.XGBRegressor(max_depth=7,min_child_weight=3,gamma=0.0,colsample_bytree=0.95,subsample=0.9,learning_rate=0.051), \n\u001b[1;32m      5\u001b[0m  param_grid = param_test7,n_jobs=4,iid=False, cv=5)\n\u001b[0;32m----> 6\u001b[0;31m \u001b[0mgsearch7\u001b[0m\u001b[0;34m.\u001b[0m\u001b[0mfit\u001b[0m\u001b[0;34m(\u001b[0m\u001b[0mX_train\u001b[0m\u001b[0;34m,\u001b[0m\u001b[0my_train\u001b[0m\u001b[0;34m)\u001b[0m\u001b[0;34m\u001b[0m\u001b[0;34m\u001b[0m\u001b[0m\n\u001b[0m\u001b[1;32m      7\u001b[0m \u001b[0mgsearch7\u001b[0m\u001b[0;34m.\u001b[0m\u001b[0mbest_params_\u001b[0m\u001b[0;34m,\u001b[0m \u001b[0mgsearch7\u001b[0m\u001b[0;34m.\u001b[0m\u001b[0mbest_score_\u001b[0m\u001b[0;34m\u001b[0m\u001b[0;34m\u001b[0m\u001b[0m\n",
            "\u001b[0;32m/usr/local/lib/python3.6/dist-packages/sklearn/model_selection/_search.py\u001b[0m in \u001b[0;36mfit\u001b[0;34m(self, X, y, groups, **fit_params)\u001b[0m\n\u001b[1;32m    737\u001b[0m             \u001b[0mrefit_start_time\u001b[0m \u001b[0;34m=\u001b[0m \u001b[0mtime\u001b[0m\u001b[0;34m.\u001b[0m\u001b[0mtime\u001b[0m\u001b[0;34m(\u001b[0m\u001b[0;34m)\u001b[0m\u001b[0;34m\u001b[0m\u001b[0;34m\u001b[0m\u001b[0m\n\u001b[1;32m    738\u001b[0m             \u001b[0;32mif\u001b[0m \u001b[0my\u001b[0m \u001b[0;32mis\u001b[0m \u001b[0;32mnot\u001b[0m \u001b[0;32mNone\u001b[0m\u001b[0;34m:\u001b[0m\u001b[0;34m\u001b[0m\u001b[0;34m\u001b[0m\u001b[0m\n\u001b[0;32m--> 739\u001b[0;31m                 \u001b[0mself\u001b[0m\u001b[0;34m.\u001b[0m\u001b[0mbest_estimator_\u001b[0m\u001b[0;34m.\u001b[0m\u001b[0mfit\u001b[0m\u001b[0;34m(\u001b[0m\u001b[0mX\u001b[0m\u001b[0;34m,\u001b[0m \u001b[0my\u001b[0m\u001b[0;34m,\u001b[0m \u001b[0;34m**\u001b[0m\u001b[0mfit_params\u001b[0m\u001b[0;34m)\u001b[0m\u001b[0;34m\u001b[0m\u001b[0;34m\u001b[0m\u001b[0m\n\u001b[0m\u001b[1;32m    740\u001b[0m             \u001b[0;32melse\u001b[0m\u001b[0;34m:\u001b[0m\u001b[0;34m\u001b[0m\u001b[0;34m\u001b[0m\u001b[0m\n\u001b[1;32m    741\u001b[0m                 \u001b[0mself\u001b[0m\u001b[0;34m.\u001b[0m\u001b[0mbest_estimator_\u001b[0m\u001b[0;34m.\u001b[0m\u001b[0mfit\u001b[0m\u001b[0;34m(\u001b[0m\u001b[0mX\u001b[0m\u001b[0;34m,\u001b[0m \u001b[0;34m**\u001b[0m\u001b[0mfit_params\u001b[0m\u001b[0;34m)\u001b[0m\u001b[0;34m\u001b[0m\u001b[0;34m\u001b[0m\u001b[0m\n",
            "\u001b[0;32m/usr/local/lib/python3.6/dist-packages/xgboost/sklearn.py\u001b[0m in \u001b[0;36mfit\u001b[0;34m(self, X, y, sample_weight, eval_set, eval_metric, early_stopping_rounds, verbose, xgb_model, sample_weight_eval_set, callbacks)\u001b[0m\n\u001b[1;32m    394\u001b[0m                               \u001b[0mevals_result\u001b[0m\u001b[0;34m=\u001b[0m\u001b[0mevals_result\u001b[0m\u001b[0;34m,\u001b[0m \u001b[0mobj\u001b[0m\u001b[0;34m=\u001b[0m\u001b[0mobj\u001b[0m\u001b[0;34m,\u001b[0m \u001b[0mfeval\u001b[0m\u001b[0;34m=\u001b[0m\u001b[0mfeval\u001b[0m\u001b[0;34m,\u001b[0m\u001b[0;34m\u001b[0m\u001b[0;34m\u001b[0m\u001b[0m\n\u001b[1;32m    395\u001b[0m                               \u001b[0mverbose_eval\u001b[0m\u001b[0;34m=\u001b[0m\u001b[0mverbose\u001b[0m\u001b[0;34m,\u001b[0m \u001b[0mxgb_model\u001b[0m\u001b[0;34m=\u001b[0m\u001b[0mxgb_model\u001b[0m\u001b[0;34m,\u001b[0m\u001b[0;34m\u001b[0m\u001b[0;34m\u001b[0m\u001b[0m\n\u001b[0;32m--> 396\u001b[0;31m                               callbacks=callbacks)\n\u001b[0m\u001b[1;32m    397\u001b[0m \u001b[0;34m\u001b[0m\u001b[0m\n\u001b[1;32m    398\u001b[0m         \u001b[0;32mif\u001b[0m \u001b[0mevals_result\u001b[0m\u001b[0;34m:\u001b[0m\u001b[0;34m\u001b[0m\u001b[0;34m\u001b[0m\u001b[0m\n",
            "\u001b[0;32m/usr/local/lib/python3.6/dist-packages/xgboost/training.py\u001b[0m in \u001b[0;36mtrain\u001b[0;34m(params, dtrain, num_boost_round, evals, obj, feval, maximize, early_stopping_rounds, evals_result, verbose_eval, xgb_model, callbacks, learning_rates)\u001b[0m\n\u001b[1;32m    214\u001b[0m                            \u001b[0mevals\u001b[0m\u001b[0;34m=\u001b[0m\u001b[0mevals\u001b[0m\u001b[0;34m,\u001b[0m\u001b[0;34m\u001b[0m\u001b[0;34m\u001b[0m\u001b[0m\n\u001b[1;32m    215\u001b[0m                            \u001b[0mobj\u001b[0m\u001b[0;34m=\u001b[0m\u001b[0mobj\u001b[0m\u001b[0;34m,\u001b[0m \u001b[0mfeval\u001b[0m\u001b[0;34m=\u001b[0m\u001b[0mfeval\u001b[0m\u001b[0;34m,\u001b[0m\u001b[0;34m\u001b[0m\u001b[0;34m\u001b[0m\u001b[0m\n\u001b[0;32m--> 216\u001b[0;31m                            xgb_model=xgb_model, callbacks=callbacks)\n\u001b[0m\u001b[1;32m    217\u001b[0m \u001b[0;34m\u001b[0m\u001b[0m\n\u001b[1;32m    218\u001b[0m \u001b[0;34m\u001b[0m\u001b[0m\n",
            "\u001b[0;32m/usr/local/lib/python3.6/dist-packages/xgboost/training.py\u001b[0m in \u001b[0;36m_train_internal\u001b[0;34m(params, dtrain, num_boost_round, evals, obj, feval, xgb_model, callbacks)\u001b[0m\n\u001b[1;32m     72\u001b[0m         \u001b[0;31m# Skip the first update if it is a recovery step.\u001b[0m\u001b[0;34m\u001b[0m\u001b[0;34m\u001b[0m\u001b[0;34m\u001b[0m\u001b[0m\n\u001b[1;32m     73\u001b[0m         \u001b[0;32mif\u001b[0m \u001b[0mversion\u001b[0m \u001b[0;34m%\u001b[0m \u001b[0;36m2\u001b[0m \u001b[0;34m==\u001b[0m \u001b[0;36m0\u001b[0m\u001b[0;34m:\u001b[0m\u001b[0;34m\u001b[0m\u001b[0;34m\u001b[0m\u001b[0m\n\u001b[0;32m---> 74\u001b[0;31m             \u001b[0mbst\u001b[0m\u001b[0;34m.\u001b[0m\u001b[0mupdate\u001b[0m\u001b[0;34m(\u001b[0m\u001b[0mdtrain\u001b[0m\u001b[0;34m,\u001b[0m \u001b[0mi\u001b[0m\u001b[0;34m,\u001b[0m \u001b[0mobj\u001b[0m\u001b[0;34m)\u001b[0m\u001b[0;34m\u001b[0m\u001b[0;34m\u001b[0m\u001b[0m\n\u001b[0m\u001b[1;32m     75\u001b[0m             \u001b[0mbst\u001b[0m\u001b[0;34m.\u001b[0m\u001b[0msave_rabit_checkpoint\u001b[0m\u001b[0;34m(\u001b[0m\u001b[0;34m)\u001b[0m\u001b[0;34m\u001b[0m\u001b[0;34m\u001b[0m\u001b[0m\n\u001b[1;32m     76\u001b[0m             \u001b[0mversion\u001b[0m \u001b[0;34m+=\u001b[0m \u001b[0;36m1\u001b[0m\u001b[0;34m\u001b[0m\u001b[0;34m\u001b[0m\u001b[0m\n",
            "\u001b[0;32m/usr/local/lib/python3.6/dist-packages/xgboost/core.py\u001b[0m in \u001b[0;36mupdate\u001b[0;34m(self, dtrain, iteration, fobj)\u001b[0m\n\u001b[1;32m   1107\u001b[0m         \u001b[0;32mif\u001b[0m \u001b[0mfobj\u001b[0m \u001b[0;32mis\u001b[0m \u001b[0;32mNone\u001b[0m\u001b[0;34m:\u001b[0m\u001b[0;34m\u001b[0m\u001b[0;34m\u001b[0m\u001b[0m\n\u001b[1;32m   1108\u001b[0m             _check_call(_LIB.XGBoosterUpdateOneIter(self.handle, ctypes.c_int(iteration),\n\u001b[0;32m-> 1109\u001b[0;31m                                                     dtrain.handle))\n\u001b[0m\u001b[1;32m   1110\u001b[0m         \u001b[0;32melse\u001b[0m\u001b[0;34m:\u001b[0m\u001b[0;34m\u001b[0m\u001b[0;34m\u001b[0m\u001b[0m\n\u001b[1;32m   1111\u001b[0m             \u001b[0mpred\u001b[0m \u001b[0;34m=\u001b[0m \u001b[0mself\u001b[0m\u001b[0;34m.\u001b[0m\u001b[0mpredict\u001b[0m\u001b[0;34m(\u001b[0m\u001b[0mdtrain\u001b[0m\u001b[0;34m)\u001b[0m\u001b[0;34m\u001b[0m\u001b[0;34m\u001b[0m\u001b[0m\n",
            "\u001b[0;31mKeyboardInterrupt\u001b[0m: "
          ]
        }
      ]
    },
    {
      "cell_type": "code",
      "metadata": {
        "id": "ZxinhC6KaVjo",
        "colab_type": "code",
        "colab": {}
      },
      "source": [
        "xgbr= xgb.XGBRegressor(max_depth=8,min_child_weight=5,colsample_bytree=0.9,subsample=0.8,reg_alpha=0.05)"
      ],
      "execution_count": null,
      "outputs": []
    },
    {
      "cell_type": "code",
      "metadata": {
        "id": "g3BIKctNoUfp",
        "colab_type": "code",
        "colab": {}
      },
      "source": [
        "xgbr=xgb.XGBRegressor(base_score=0.5, booster='gbtree', colsample_bylevel=1,\n",
        "             colsample_bynode=1, colsample_bytree=0.7, gamma=0.2,\n",
        "             importance_type='gain', learning_rate=0.2, max_delta_step=0,\n",
        "             max_depth=4, min_child_weight=5, missing=None, n_estimators=200,\n",
        "             n_jobs=1, nthread=None, num_boost_round=25, objective='reg:linear',\n",
        "             random_state=0, reg_alpha=0, reg_lambda=1, scale_pos_weight=1,\n",
        "             seed=None, silent=None, subsample=1, verbosity=1)"
      ],
      "execution_count": null,
      "outputs": []
    },
    {
      "cell_type": "code",
      "metadata": {
        "id": "BMKDGeRD6_Ib",
        "colab_type": "code",
        "colab": {}
      },
      "source": [
        "y=abs(y)"
      ],
      "execution_count": null,
      "outputs": []
    },
    {
      "cell_type": "code",
      "metadata": {
        "id": "LMr9xSqePZ9G",
        "colab_type": "code",
        "colab": {
          "base_uri": "https://localhost:8080/",
          "height": 50
        },
        "outputId": "77bf9774-c61d-4e6b-8ced-a4e9c306cd50"
      },
      "source": [
        "xgbr.fit(X_train,y_train)\n",
        "y=xgbr.predict(X_test)\n",
        "#y=abs(y)\n",
        "from sklearn.metrics import mean_squared_error\n",
        "print('RMSLE:', sqrt(mean_squared_error(y_test, y)))"
      ],
      "execution_count": null,
      "outputs": [
        {
          "output_type": "stream",
          "text": [
            "[16:05:13] WARNING: /workspace/src/objective/regression_obj.cu:152: reg:linear is now deprecated in favor of reg:squarederror.\n",
            "RMSLE: 787.2574537446001\n"
          ],
          "name": "stdout"
        }
      ]
    },
    {
      "cell_type": "code",
      "metadata": {
        "id": "8P2jyPMAPfDr",
        "colab_type": "code",
        "colab": {
          "base_uri": "https://localhost:8080/",
          "height": 34
        },
        "outputId": "73aaf95d-3d10-4cc7-bdd0-5745503a02f3"
      },
      "source": [
        "from sklearn.metrics import mean_squared_log_error\n",
        "print('RMSLE:', 100-mean_squared_log_error(y_test, y))"
      ],
      "execution_count": null,
      "outputs": [
        {
          "output_type": "stream",
          "text": [
            "RMSLE: 99.91328933657921\n"
          ],
          "name": "stdout"
        }
      ]
    },
    {
      "cell_type": "code",
      "metadata": {
        "id": "gtZX9usLlHus",
        "colab_type": "code",
        "colab": {
          "base_uri": "https://localhost:8080/",
          "height": 312
        },
        "outputId": "3a735446-23c1-40cf-e5c7-9a5d85f45139"
      },
      "source": [
        "from xgboost import plot_importance\n",
        "plot_importance(xgbr)"
      ],
      "execution_count": null,
      "outputs": [
        {
          "output_type": "execute_result",
          "data": {
            "text/plain": [
              "<matplotlib.axes._subplots.AxesSubplot at 0x7fe45bfd8f60>"
            ]
          },
          "metadata": {
            "tags": []
          },
          "execution_count": 228
        },
        {
          "output_type": "display_data",
          "data": {
            "image/png": "[encoded data removed]",
            "text/plain": [
              "<Figure size 432x288 with 1 Axes>"
            ]
          },
          "metadata": {
            "tags": [],
            "needs_background": "light"
          }
        }
      ]
    },
    {
      "cell_type": "code",
      "metadata": {
        "id": "oDPv6bAN6bps",
        "colab_type": "code",
        "colab": {
          "base_uri": "https://localhost:8080/",
          "height": 826
        },
        "outputId": "54d55e02-be6f-40a1-8467-c7e122a2fcef"
      },
      "source": [
        "from matplotlib.pyplot import figure\n",
        "figure(figsize=(14,14))\n",
        "plt.scatter(range(len(y)),y,label='predicted',c='r')\n",
        "plt.scatter(range(len(y_test)),y_test,label='Actual',c='g')"
      ],
      "execution_count": null,
      "outputs": [
        {
          "output_type": "execute_result",
          "data": {
            "text/plain": [
              "<matplotlib.collections.PathCollection at 0x7fe45bea1ef0>"
            ]
          },
          "metadata": {
            "tags": []
          },
          "execution_count": 229
        },
        {
          "output_type": "display_data",
          "data": {
            "image/png": "[encoded data removed]",
            "text/plain": [
              "<Figure size 1008x1008 with 1 Axes>"
            ]
          },
          "metadata": {
            "tags": [],
            "needs_background": "light"
          }
        }
      ]
    },
    {
      "cell_type": "code",
      "metadata": {
        "id": "U0t4Rgh0Q2k-",
        "colab_type": "code",
        "colab": {}
      },
      "source": [
        "u=0\n",
        "for x in y:\n",
        "  if x<0:\n",
        "    print(u)\n",
        "  u+=1"
      ],
      "execution_count": null,
      "outputs": []
    },
    {
      "cell_type": "code",
      "metadata": {
        "id": "SW1sRb-XRqOz",
        "colab_type": "code",
        "colab": {
          "base_uri": "https://localhost:8080/",
          "height": 34
        },
        "outputId": "4e989e47-580b-42be-b5ba-18a69445b602"
      },
      "source": [
        "y_test[965]"
      ],
      "execution_count": null,
      "outputs": [
        {
          "output_type": "execute_result",
          "data": {
            "text/plain": [
              "261"
            ]
          },
          "metadata": {
            "tags": []
          },
          "execution_count": 135
        }
      ]
    },
    {
      "cell_type": "code",
      "metadata": {
        "id": "hK_OzJzZFC4K",
        "colab_type": "code",
        "colab": {
          "base_uri": "https://localhost:8080/",
          "height": 34
        },
        "outputId": "3a380438-451c-4e9f-9f59-787c232efc0d"
      },
      "source": [
        "y[295]"
      ],
      "execution_count": null,
      "outputs": [
        {
          "output_type": "execute_result",
          "data": {
            "text/plain": [
              "772.9155"
            ]
          },
          "metadata": {
            "tags": []
          },
          "execution_count": 136
        }
      ]
    },
    {
      "cell_type": "code",
      "metadata": {
        "id": "4KsBo9DURzLn",
        "colab_type": "code",
        "colab": {
          "base_uri": "https://localhost:8080/",
          "height": 235
        },
        "outputId": "003a8498-e108-4fe1-8fa6-92a34abc92bb"
      },
      "source": [
        "X_test.iloc[965,:]"
      ],
      "execution_count": null,
      "outputs": [
        {
          "output_type": "execute_result",
          "data": {
            "text/plain": [
              "State_of_Country       6.0\n",
              "Market_Category      216.0\n",
              "Product_Category      17.0\n",
              "Demand                 0.0\n",
              "High_Cap_Price       488.0\n",
              "month                  8.0\n",
              "day                    6.0\n",
              "year                2009.0\n",
              "weekday                3.0\n",
              "quarter                3.0\n",
              "is_weekend             0.0\n",
              "grade_coded            2.0\n",
              "Name: 7776, dtype: float64"
            ]
          },
          "metadata": {
            "tags": []
          },
          "execution_count": 137
        }
      ]
    },
    {
      "cell_type": "code",
      "metadata": {
        "id": "fs1jLM_LQFHU",
        "colab_type": "code",
        "colab": {
          "base_uri": "https://localhost:8080/",
          "height": 358
        },
        "outputId": "27becb76-0446-4883-d2d2-4f5329971f08"
      },
      "source": [
        "p\n",
        "plt.show()\n"
      ],
      "execution_count": null,
      "outputs": [
        {
          "output_type": "display_data",
          "data": {
            "image/png": "[encoded data removed]",
            "text/plain": [
              "<Figure size 600x400 with 1 Axes>"
            ]
          },
          "metadata": {
            "tags": []
          }
        }
      ]
    },
    {
      "cell_type": "code",
      "metadata": {
        "id": "z_-T5EpbS6m6",
        "colab_type": "code",
        "colab": {}
      },
      "source": [
        "y=abs(y)"
      ],
      "execution_count": null,
      "outputs": []
    },
    {
      "cell_type": "code",
      "metadata": {
        "id": "JnTsID9Q5wza",
        "colab_type": "code",
        "colab": {
          "base_uri": "https://localhost:8080/",
          "height": 101
        },
        "outputId": "d29892f4-c47c-47e3-c115-f0727ef47d0f"
      },
      "source": [
        "X_train.columns"
      ],
      "execution_count": null,
      "outputs": [
        {
          "output_type": "execute_result",
          "data": {
            "text/plain": [
              "Index(['Demand', 'High_Cap_Price', 'month', 'day', 'year', 'weekday',\n",
              "       'day_m_y', 'quarter', 'is_weekend', 'weekofyear', 'dayofyear',\n",
              "       'grade_coded', 'Market_product', 'State_of_Countrycoded',\n",
              "       'Market_Categorycoded', 'Product_Categorycoded', 'prod_quar'],\n",
              "      dtype='object')"
            ]
          },
          "metadata": {
            "tags": []
          },
          "execution_count": 166
        }
      ]
    },
    {
      "cell_type": "code",
      "metadata": {
        "id": "-4gwKs8T50k0",
        "colab_type": "code",
        "colab": {}
      },
      "source": [
        "Datatest = Datatest.reindex(columns= X_train.columns.to_list())"
      ],
      "execution_count": null,
      "outputs": []
    },
    {
      "cell_type": "code",
      "metadata": {
        "id": "sRayiTwFT4pI",
        "colab_type": "code",
        "colab": {}
      },
      "source": [
        "out=xgbr.predict(Datatest)"
      ],
      "execution_count": null,
      "outputs": []
    },
    {
      "cell_type": "code",
      "metadata": {
        "id": "GCObEpbUk1IK",
        "colab_type": "code",
        "colab": {}
      },
      "source": [
        "u=0\n",
        "for x in out:\n",
        "  if x<0:\n",
        "    print(u)\n",
        "    out[u]=0\n",
        "  u+=1"
      ],
      "execution_count": null,
      "outputs": []
    },
    {
      "cell_type": "code",
      "metadata": {
        "id": "nXm1IcYlKsN0",
        "colab_type": "code",
        "colab": {}
      },
      "source": [
        "out[740]=np.mean(out)"
      ],
      "execution_count": null,
      "outputs": []
    },
    {
      "cell_type": "code",
      "metadata": {
        "id": "itKd0UKok-L1",
        "colab_type": "code",
        "colab": {}
      },
      "source": [
        "out[2755]=np.mean(out)\n",
        "#out[5632]=np.mean(out)"
      ],
      "execution_count": null,
      "outputs": []
    },
    {
      "cell_type": "code",
      "metadata": {
        "id": "IixBf6YMpVL7",
        "colab_type": "code",
        "colab": {
          "base_uri": "https://localhost:8080/",
          "height": 34
        },
        "outputId": "94aaf31d-b82c-4ca0-f8c9-29302a44d2fc"
      },
      "source": [
        "np.where(dftest['High_Cap_Price']==1)"
      ],
      "execution_count": null,
      "outputs": [
        {
          "output_type": "execute_result",
          "data": {
            "text/plain": [
              "(array([3127]),)"
            ]
          },
          "metadata": {
            "tags": []
          },
          "execution_count": 162
        }
      ]
    },
    {
      "cell_type": "code",
      "metadata": {
        "id": "lLzJc3QloJdF",
        "colab_type": "code",
        "colab": {}
      },
      "source": [
        ""
      ],
      "execution_count": null,
      "outputs": []
    },
    {
      "cell_type": "code",
      "metadata": {
        "id": "xc93-gKpVdqk",
        "colab_type": "code",
        "colab": {}
      },
      "source": [
        "out=abs(out)"
      ],
      "execution_count": null,
      "outputs": []
    },
    {
      "cell_type": "code",
      "metadata": {
        "id": "ej8O3vgKWBDz",
        "colab_type": "code",
        "colab": {}
      },
      "source": [
        "dataf=pd.DataFrame({\n",
        "    'Item_Id':dftest['Item_Id'],\n",
        "    'Low_Cap_Price':out\n",
        "})"
      ],
      "execution_count": null,
      "outputs": []
    },
    {
      "cell_type": "code",
      "metadata": {
        "id": "7ObgVJV4WVDZ",
        "colab_type": "code",
        "colab": {}
      },
      "source": [
        "dataf.to_csv('lowest_price_sub.csv',index=False)"
      ],
      "execution_count": null,
      "outputs": []
    }
  ]
}